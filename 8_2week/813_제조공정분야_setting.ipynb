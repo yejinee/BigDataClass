{
 "cells": [
  {
   "cell_type": "code",
   "execution_count": 1,
   "id": "8dff060b-d16d-4173-87d1-28521433892a",
   "metadata": {},
   "outputs": [
    {
     "name": "stdout",
     "output_type": "stream",
     "text": [
      "# packages in environment at C:\\Users\\admin\\anaconda3:\n",
      "#\n",
      "# Name                    Version                   Build  Channel\n"
     ]
    }
   ],
   "source": [
    "!conda list opencv-python"
   ]
  },
  {
   "cell_type": "code",
   "execution_count": 2,
   "id": "df586d81-3500-4aed-993e-f3258ba1b152",
   "metadata": {},
   "outputs": [
    {
     "name": "stdout",
     "output_type": "stream",
     "text": [
      "Collecting opencv-python\n",
      "  Downloading opencv_python-4.5.3.56-cp38-cp38-win_amd64.whl (34.9 MB)\n",
      "Requirement already satisfied: numpy>=1.17.3 in c:\\users\\admin\\anaconda3\\lib\\site-packages (from opencv-python) (1.20.3)\n",
      "Installing collected packages: opencv-python\n",
      "Successfully installed opencv-python-4.5.3.56\n"
     ]
    }
   ],
   "source": [
    "!pip install opencv-python"
   ]
  },
  {
   "cell_type": "markdown",
   "id": "2f787f66-d0f2-4656-818f-61ce75eae1d2",
   "metadata": {},
   "source": [
    "# 실습 환경 준비"
   ]
  },
  {
   "cell_type": "code",
   "execution_count": 3,
   "id": "5c450f74-7172-4d2e-a7ce-60c4b3ca8b15",
   "metadata": {},
   "outputs": [],
   "source": [
    "import cv2\n",
    "import os\n",
    "import glob\n",
    "import shutil\n",
    "import random\n",
    "import string\n",
    "import numpy as np\n",
    "import pandas as pd"
   ]
  },
  {
   "cell_type": "code",
   "execution_count": 4,
   "id": "93ee31b5-90fd-4e06-8c23-93af8ad3b792",
   "metadata": {},
   "outputs": [],
   "source": [
    "PATH_DEFECT = 'dataset/Defect_images/'\n",
    "PATH_MASK = 'dataset/Mask_images/'\n",
    "PATH_NODEFECT = 'dataset/NODefect_images/'"
   ]
  },
  {
   "cell_type": "markdown",
   "id": "9a8a0ee9-8113-4e27-bc28-86559952e7ed",
   "metadata": {},
   "source": [
    "### Dataset 불러오기"
   ]
  },
  {
   "cell_type": "code",
   "execution_count": 13,
   "id": "adb61e88-45d3-43bf-9259-cc00643b6c73",
   "metadata": {},
   "outputs": [],
   "source": [
    "defect_list = glob.glob(PATH_DEFECT + '*.png')\n",
    "mask_list = glob.glob(PATH_MASK + '*.png')\n",
    "pass_list = glob.glob(PATH_NODEFECT + '*/*.png')\n",
    "# defect_list[0]\n",
    "# Match defect-mask pairs\n",
    "new_defect_list = list()\n",
    "new_mask_list = list()\n",
    "for defect in defect_list:\n",
    "    num = defect.split('\\\\')[-1].split('_')[0]\n",
    "    for mask in mask_list:\n",
    "        num_mask = mask.split('\\\\')[-1].split('_')[0]\n",
    "        if num == num_mask:\n",
    "            new_defect_list.append(defect)\n",
    "            new_mask_list.append(mask)\n",
    "            break\n",
    "defect_list = new_defect_list\n",
    "mask_list = new_mask_list"
   ]
  },
  {
   "cell_type": "code",
   "execution_count": 11,
   "id": "bba32028-4e22-444a-8699-54390af8ffea",
   "metadata": {},
   "outputs": [
    {
     "data": {
      "text/plain": [
       "(105, 105)"
      ]
     },
     "execution_count": 11,
     "metadata": {},
     "output_type": "execute_result"
    }
   ],
   "source": [
    "len(defect_list), len(mask_list)"
   ]
  },
  {
   "cell_type": "code",
   "execution_count": 14,
   "id": "d772410e-0279-41a6-95e5-7f88a19cfa45",
   "metadata": {},
   "outputs": [
    {
     "data": {
      "text/plain": [
       "'dataset/NODefect_images\\\\2306881-210020u\\\\0001_000_05.png'"
      ]
     },
     "execution_count": 14,
     "metadata": {},
     "output_type": "execute_result"
    }
   ],
   "source": [
    "pass_list[0]"
   ]
  },
  {
   "cell_type": "markdown",
   "id": "a0205ca0-542c-497f-b1a1-a8aeeddbbaeb",
   "metadata": {},
   "source": [
    "### 첫 발송 데이터 생성"
   ]
  },
  {
   "cell_type": "code",
   "execution_count": 19,
   "id": "a96d939a-a18e-4cd6-8d4b-6e0b7c018ebf",
   "metadata": {},
   "outputs": [],
   "source": [
    "if os.path.exists('dataset/1') is False:\n",
    "    os.mkdir('dataset/1')\n",
    "for file_name in pass_list + defect_list:\n",
    "#     print(file_name)\n",
    "    if random.randint(0, 9) < 2:\n",
    "        barcode = ''.join(random.choices(string.ascii_letters + string.digits, k=16))\n",
    "#         print(barcode)\n",
    "        shutil.copy2(file_name, 'dataset/1/' + barcode + '.png')"
   ]
  },
  {
   "cell_type": "markdown",
   "id": "71c5d17d-660f-44cc-84bd-637421bdf085",
   "metadata": {},
   "source": [
    "### 두번째 발송 데이터 생성"
   ]
  },
  {
   "cell_type": "code",
   "execution_count": null,
   "id": "97ec9f4b-f2d2-497f-a682-b72abba2ebbe",
   "metadata": {},
   "outputs": [],
   "source": [
    "if os.path.exists('dataset/2') is False:\n",
    "    os.mkdir('dataset/2')\n",
    "if os.path.exists('dataset/2/OK') is False:\n",
    "    os.mkdir('dataset/2/OK')\n",
    "if os.path.exists('dataset/2/FAIL') is False:\n",
    "    os.mkdir('dataset/2/FAIL')\n",
    "idx = 0\n",
    "for file_name in pass_list:\n",
    "    img = cv2.imread(file_name)\n",
    "    height, width, _ = img.shape\n",
    "    step = height // 2\n",
    "#     print(\"1=> \", step, height, width, width // step) \n",
    "    for i in range(width // step):\n",
    "        w = i * step\n",
    "#         print(\"2=> \", i, height, width, width // step, w)  \n",
    "        if w < width - height and random.randint(0, 9) < 2:\n",
    "#             print(\"3=> \", i, step, \"시작값=>\", w)\n",
    "            patch = img[:, w:w+height, :]\n",
    "            cv2.imwrite('dataset/2/OK/%04d.png'%idx, patch)\n",
    "            idx += 1\n",
    "\n",
    "patch_list = list()\n",
    "for item in zip(defect_list, mask_list):\n",
    "    defect, mask = item\n",
    "    img_d = cv2.imread(defect)\n",
    "    img_m = cv2.imread(mask)\n",
    "    height, width, _ = img_d.shape\n",
    "    step = height // 2\n",
    "    for i in range(width // step):\n",
    "        w = i * step\n",
    "        if w < width - height:\n",
    "            patch = img_d[:, w:w+height, :]\n",
    "            patch_d = img_m[:, w:w+height, :]\n",
    "            if patch_d.sum() > 0:\n",
    "                patch_list.append(patch)\n",
    "random.shuffle(patch_list)\n",
    "patch_list_fraction = patch_list[:len(patch_list)//3]\n",
    "for idx, patch in enumerate(patch_list_fraction):\n",
    "    cv2.imwrite('dataset/2/FAIL/%04d.png'% idx, patch)"
   ]
  },
  {
   "cell_type": "markdown",
   "id": "ae75c8f0-97e9-43a0-9cf7-68f208ae54e5",
   "metadata": {},
   "source": [
    "### 세번째 발송 데이터 생성"
   ]
  },
  {
   "cell_type": "code",
   "execution_count": 51,
   "id": "eb2d7208-2b72-47d7-9733-55642a08a703",
   "metadata": {},
   "outputs": [],
   "source": [
    "if os.path.exists('dataset/3') is False:\n",
    "    os.mkdir('dataset/3')\n",
    "if os.path.exists('dataset/3/OK') is False:\n",
    "    os.mkdir('dataset/3/OK')\n",
    "if os.path.exists('dataset/3/FAIL') is False:\n",
    "    os.mkdir('dataset/3/FAIL')\n",
    "if os.path.exists('dataset/3/MASK') is False:\n",
    "    os.mkdir('dataset/3/MASK')\n",
    "idx = 0\n",
    "for file_name in pass_list:\n",
    "    img = cv2.imread(file_name)\n",
    "    height, width, _ = img.shape\n",
    "    step = height // 2\n",
    "    for i in range(width // step):\n",
    "        w = i * step\n",
    "        if w < width - height and random.randint(0, 9) < 3:\n",
    "            patch = img[:, w:w+height, :]\n",
    "            cv2.imwrite('dataset/3/OK/%04d.png'%idx, patch)\n",
    "            idx += 1\n",
    "\n",
    "patch_pair_list = list()\n",
    "for item in zip(defect_list, mask_list):\n",
    "    defect, mask = item\n",
    "    img_d = cv2.imread(defect)\n",
    "    img_m = cv2.imread(mask)\n",
    "    \n",
    "    height, width, _ = img_d.shape\n",
    "    step = height // 2\n",
    "    for i in range(width // step):\n",
    "        w = i * step\n",
    "        if w < width - height:\n",
    "            patch = img_d[:, w:w+height, :]\n",
    "            patch_m = img_m[:, w:w+height, :]\n",
    "            if patch_m.sum() > 0:\n",
    "                patch_pair_list.append((patch, patch_m))\n",
    "random.shuffle(patch_pair_list)\n",
    "for idx, pair in enumerate(patch_pair_list):\n",
    "    patch, patch_m = pair\n",
    "    cv2.imwrite('dataset/3/FAIL/%04d.png' % idx, patch)\n",
    "    cv2.imwrite('dataset/3/MASK/%04d.png'% idx, patch_m)"
   ]
  },
  {
   "cell_type": "markdown",
   "id": "3eb73bc8-bf7b-4e38-b819-4ea9f8e68596",
   "metadata": {},
   "source": [
    "### 실전 데이터 생성"
   ]
  },
  {
   "cell_type": "code",
   "execution_count": 52,
   "id": "fcba5b8a-c434-45ed-abf4-00cb0fa4a4e2",
   "metadata": {},
   "outputs": [],
   "source": [
    "if os.path.exists('data/') is False:\n",
    "    os.mkdir('data')\n",
    "if os.path.exists('tfrecords/') is False:\n",
    "    os.mkdir('tfrecords')\n",
    "if os.path.exists('model/') is False:\n",
    "    os.mkdir('model')\n",
    "if os.path.exists('data/input_data/') is False:\n",
    "    os.mkdir('data/input_data')\n",
    "if os.path.exists('data/output_csv/') is False:\n",
    "    os.mkdir('data/output_csv')\n",
    "\n",
    "idx = 0\n",
    "for file_name in pass_list:\n",
    "    img = cv2.imread(file_name)\n",
    "    height, width, _ = img.shape\n",
    "    step = height // 2\n",
    "    for i in range(width // step):\n",
    "        w = i * step\n",
    "        if w < width - height and random.randint(0, 9) < 5:\n",
    "            patch = img[:, w:w+height, :]\n",
    "            cv2.imwrite('data/input_data/ok_%04d.png'%idx, patch)\n",
    "            idx += 1\n",
    "\n",
    "patch_pair_list = list()\n",
    "for item in zip(defect_list, mask_list):\n",
    "    defect, mask = item\n",
    "    img_d = cv2.imread(defect)\n",
    "    img_m = cv2.imread(mask)\n",
    "    \n",
    "    height, width, _ = img_d.shape\n",
    "    step = height // 2\n",
    "    for i in range(width // step):\n",
    "        w = i * step\n",
    "        if w < width - height:\n",
    "            patch = img_d[:, w:w+height, :]\n",
    "            patch_m = img_m[:, w:w+height, :]\n",
    "            if patch_m.sum() > 0:\n",
    "                patch_pair_list.append((patch, patch_m))\n",
    "random.shuffle(patch_pair_list)\n",
    "for idx, pair in enumerate(patch_pair_list):\n",
    "    patch, patch_m = pair\n",
    "    cv2.imwrite('data/input_data/fail_%04d.png' % idx, patch)\n",
    "#     cv2.imwrite('dataset/3/MASK/%04d.png'% idx, patch_m)"
   ]
  },
  {
   "cell_type": "code",
   "execution_count": 64,
   "id": "d29967ac-e9ea-45c5-af7d-01140b96fc66",
   "metadata": {},
   "outputs": [
    {
     "data": {
      "text/plain": [
       "(105, 105, 2)"
      ]
     },
     "execution_count": 64,
     "metadata": {},
     "output_type": "execute_result"
    }
   ],
   "source": [
    "len(defect_list), len(mask_list), len(patch_pair_list[0])"
   ]
  },
  {
   "cell_type": "code",
   "execution_count": 65,
   "id": "afc1c453-d251-4872-aedd-5f676c6706d4",
   "metadata": {},
   "outputs": [
    {
     "data": {
      "text/plain": [
       "'dataset/Defect_images\\\\0001_002_00.png'"
      ]
     },
     "execution_count": 65,
     "metadata": {},
     "output_type": "execute_result"
    }
   ],
   "source": [
    "defect_list[0]"
   ]
  },
  {
   "cell_type": "code",
   "execution_count": null,
   "id": "5124c454-e417-4c3c-af5c-eb962d4260c3",
   "metadata": {},
   "outputs": [],
   "source": []
  }
 ],
 "metadata": {
  "kernelspec": {
   "display_name": "Python 3",
   "language": "python",
   "name": "python3"
  },
  "language_info": {
   "codemirror_mode": {
    "name": "ipython",
    "version": 3
   },
   "file_extension": ".py",
   "mimetype": "text/x-python",
   "name": "python",
   "nbconvert_exporter": "python",
   "pygments_lexer": "ipython3",
   "version": "3.8.8"
  }
 },
 "nbformat": 4,
 "nbformat_minor": 5
}
