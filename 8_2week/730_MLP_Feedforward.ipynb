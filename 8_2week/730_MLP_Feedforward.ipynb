{
 "cells": [
  {
   "cell_type": "markdown",
   "source": [
    "# 멀티 퍼셉트론 순방향 패스"
   ],
   "metadata": {}
  },
  {
   "cell_type": "code",
   "execution_count": 1,
   "source": [
    "import numpy as np"
   ],
   "outputs": [],
   "metadata": {}
  },
  {
   "cell_type": "code",
   "execution_count": 2,
   "source": [
    "# 활성화 함수 : 시그모이드\r\n",
    "def actf(x):\r\n",
    "    return 1 / ( 1 + np.exp(-x))"
   ],
   "outputs": [],
   "metadata": {}
  },
  {
   "cell_type": "code",
   "execution_count": 3,
   "source": [
    "# 시그모이드 함수의 미분치\r\n",
    "def actf_deriv(x):\r\n",
    "    return x * ( 1 - x)"
   ],
   "outputs": [],
   "metadata": {}
  },
  {
   "cell_type": "code",
   "execution_count": 4,
   "source": [
    "# 입력유닛 개수, 은닉유닛 개수, 출력유닛 개수\r\n",
    "inputs, hiddens, outputs = 2, 2, 1\r\n",
    "learning_rate = 0.2"
   ],
   "outputs": [],
   "metadata": {}
  },
  {
   "cell_type": "code",
   "execution_count": 5,
   "source": [
    "# 학습 샘플 과 정답 : XOR\r\n",
    "X = np.array([[0,0], [0,1], [1,0], [1,1]])\r\n",
    "T = np.array([[0], [1], [1], [0]])\r\n",
    "\r\n",
    "# 훈련 데이터\r\n",
    "W1 = np.array([[0.10, 0.20], [0.30, 0.40]])\r\n",
    "W2 = np.array([[0.50], [0.60]])\r\n",
    "B1 = np.array([0.1, 0.2])\r\n",
    "B2 = np.array([0.3])"
   ],
   "outputs": [],
   "metadata": {}
  },
  {
   "cell_type": "code",
   "execution_count": 6,
   "source": [
    "# 순방향 전파 계산\r\n",
    "def predict(x):\r\n",
    "    layer0 = x # 입력을 layer0에 대입\r\n",
    "    Z1 = np.dot(layer0, W1) + B1 # 입력값에 대해 aiffine function계산 : 행렬곱 계산 한다.\r\n",
    "    layer1 = actf(Z1) # 활성화 함수 (시그모이드) 계산\r\n",
    "    Z2 = np.dot(layer1, W2) + B2 # layer1에 대해 aiffine function계산 : 행렬곱 계산 한다.\r\n",
    "    layer2 = actf(Z2) # 활성화 함수 (시그모이드) 계산\r\n",
    "    return layer0, layer1, layer2\r\n"
   ],
   "outputs": [],
   "metadata": {}
  },
  {
   "cell_type": "code",
   "execution_count": 9,
   "source": [
    "def test():\r\n",
    "    for x, y in zip(X, T):\r\n",
    "        x = np.reshape(x, (1, -1))\r\n",
    "        layer0 , layer1, layer2 = predict(x)\r\n",
    "        print(x, y, layer2, actf_deriv(layer2))"
   ],
   "outputs": [],
   "metadata": {}
  },
  {
   "cell_type": "code",
   "execution_count": 10,
   "source": [
    "test()"
   ],
   "outputs": [
    {
     "output_type": "stream",
     "name": "stdout",
     "text": [
      "[[0 0]] [0] [[0.70938314]] [[0.2061587]]\n",
      "[[0 1]] [1] [[0.72844306]] [[0.19781377]]\n",
      "[[1 0]] [1] [[0.71791234]] [[0.20251421]]\n",
      "[[1 1]] [0] [[0.73598705]] [[0.19431011]]\n"
     ]
    }
   ],
   "metadata": {}
  }
 ],
 "metadata": {
  "kernelspec": {
   "display_name": "Python 3",
   "language": "python",
   "name": "python3"
  },
  "language_info": {
   "codemirror_mode": {
    "name": "ipython",
    "version": 3
   },
   "file_extension": ".py",
   "mimetype": "text/x-python",
   "name": "python",
   "nbconvert_exporter": "python",
   "pygments_lexer": "ipython3",
   "version": "3.7.10"
  }
 },
 "nbformat": 4,
 "nbformat_minor": 5
}