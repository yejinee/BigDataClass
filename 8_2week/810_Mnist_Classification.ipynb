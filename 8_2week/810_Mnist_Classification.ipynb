{
  "nbformat": 4,
  "nbformat_minor": 0,
  "metadata": {
    "colab": {
      "name": "mnist_classification.ipynb",
      "provenance": []
    },
    "kernelspec": {
      "name": "python3",
      "display_name": "Python 3"
    },
    "language_info": {
      "name": "python"
    },
    "accelerator": "GPU"
  },
  "cells": [
    {
      "cell_type": "markdown",
      "metadata": {
        "id": "0qSZXAC6ZFzi"
      },
      "source": [
        "# Mnist Classification"
      ]
    },
    {
      "cell_type": "code",
      "metadata": {
        "id": "Xa22x-ySZRsa"
      },
      "source": [
        "import tensorflow as tf\n",
        "import numpy as np"
      ],
      "execution_count": 1,
      "outputs": []
    },
    {
      "cell_type": "markdown",
      "metadata": {
        "id": "f157eRb0lduS"
      },
      "source": [
        "### 케라스 내장 데이터셋\n",
        "- boston_housing : 보스톤 주택 가격\n",
        "- cifar10 : 이미지 분류\n",
        "- cifar100 : 이미지 분류\n",
        "- mnist : 손글씨\n",
        "- fashio_mnist : 의류 이미지 데이터\n",
        "- imdb : 영화 데이터 (평가글)\n",
        "- reuters : 뉴스 토픽"
      ]
    },
    {
      "cell_type": "code",
      "metadata": {
        "id": "lzBgGA-xlb1b"
      },
      "source": [
        "mnist = tf.keras.datasets.mnist"
      ],
      "execution_count": 2,
      "outputs": []
    },
    {
      "cell_type": "code",
      "metadata": {
        "colab": {
          "base_uri": "https://localhost:8080/"
        },
        "id": "S2Dj_B25mRw4",
        "outputId": "d0fe9b42-3ef9-4146-91b9-074f215583a4"
      },
      "source": [
        "print(type(mnist))"
      ],
      "execution_count": 3,
      "outputs": [
        {
          "output_type": "stream",
          "text": [
            "<class 'module'>\n"
          ],
          "name": "stdout"
        }
      ]
    },
    {
      "cell_type": "code",
      "metadata": {
        "colab": {
          "base_uri": "https://localhost:8080/"
        },
        "id": "0ufDK1idmV99",
        "outputId": "9ebd53fd-1a0e-4ebf-9894-c396a960a4cc"
      },
      "source": [
        "(x_train, y_train), (x_test, y_test) = mnist.load_data()\n",
        "print('train set: ', x_train.shape, y_train.shape)\n",
        "print('test set: ', x_test.shape, y_test.shape)"
      ],
      "execution_count": 4,
      "outputs": [
        {
          "output_type": "stream",
          "text": [
            "Downloading data from https://storage.googleapis.com/tensorflow/tf-keras-datasets/mnist.npz\n",
            "11493376/11490434 [==============================] - 0s 0us/step\n",
            "train set:  (60000, 28, 28) (60000,)\n",
            "test set:  (10000, 28, 28) (10000,)\n"
          ],
          "name": "stdout"
        }
      ]
    },
    {
      "cell_type": "code",
      "metadata": {
        "colab": {
          "base_uri": "https://localhost:8080/",
          "height": 371
        },
        "id": "Y-d44ylFnCoz",
        "outputId": "9718f627-79c6-45ae-e932-70a675a08c71"
      },
      "source": [
        "# 데이터 시각화\n",
        "import matplotlib.pyplot as plt\n",
        "fig, axes = plt.subplots(3, 5)\n",
        "fig.set_size_inches(8, 5)\n",
        "\n",
        "for i in range(15):\n",
        "  ax = axes[i//5, i%5]\n",
        "  ax.imshow(x_train[i], cmap='gray')\n",
        "  ax.axis('off')\n",
        "  ax.set_title(str(y_train[i]))\n",
        "\n",
        "plt.tight_layout()\n",
        "plt.show()\n"
      ],
      "execution_count": 5,
      "outputs": [
        {
          "output_type": "display_data",
          "data": {
            "image/png": "[encoded data removed]",
            "text/plain": [
              "<Figure size 576x360 with 15 Axes>"
            ]
          },
          "metadata": {
            "tags": [],
            "needs_background": "light"
          }
        }
      ]
    },
    {
      "cell_type": "code",
      "metadata": {
        "colab": {
          "base_uri": "https://localhost:8080/"
        },
        "id": "KeIKgKJNooEp",
        "outputId": "0183b6ae-f8e1-4385-9d86-fa5444f35db5"
      },
      "source": [
        "# 데이처 전처리\n",
        "x_train[0, 10:15, 10:15]"
      ],
      "execution_count": 6,
      "outputs": [
        {
          "output_type": "execute_result",
          "data": {
            "text/plain": [
              "array([[  1, 154, 253,  90,   0],\n",
              "       [  0, 139, 253, 190,   2],\n",
              "       [  0,  11, 190, 253,  70],\n",
              "       [  0,   0,  35, 241, 225],\n",
              "       [  0,   0,   0,  81, 240]], dtype=uint8)"
            ]
          },
          "metadata": {
            "tags": []
          },
          "execution_count": 6
        }
      ]
    },
    {
      "cell_type": "code",
      "metadata": {
        "colab": {
          "base_uri": "https://localhost:8080/"
        },
        "id": "2CoRj6UEo80H",
        "outputId": "604d2eb2-699c-4935-a279-ac1276ab316b"
      },
      "source": [
        "# 픽셀 값의 최소 / 최대 값 확인\n",
        "print(f'정규화 전 최소값: {x_train.min()}, 최대값: {x_train.max()}')"
      ],
      "execution_count": 7,
      "outputs": [
        {
          "output_type": "stream",
          "text": [
            "정규화 전 최소값: 0, 최대값: 255\n"
          ],
          "name": "stdout"
        }
      ]
    },
    {
      "cell_type": "code",
      "metadata": {
        "id": "3IwoREhkpgtG"
      },
      "source": [
        "# 데이터 정규화\n",
        "x_train = x_train / x_train.max()"
      ],
      "execution_count": 8,
      "outputs": []
    },
    {
      "cell_type": "code",
      "metadata": {
        "colab": {
          "base_uri": "https://localhost:8080/"
        },
        "id": "j16GBnKdp_js",
        "outputId": "f3810c03-1d8b-48c8-8e06-4b331da98072"
      },
      "source": [
        "print(f'정규화 후 최소값: {x_train.min()}, 최대값: {x_train.max()}')"
      ],
      "execution_count": 9,
      "outputs": [
        {
          "output_type": "stream",
          "text": [
            "정규화 후 최소값: 0.0, 최대값: 1.0\n"
          ],
          "name": "stdout"
        }
      ]
    },
    {
      "cell_type": "code",
      "metadata": {
        "id": "HG6a9A-YqDKG"
      },
      "source": [
        "x_test = x_test / x_test.max()"
      ],
      "execution_count": 10,
      "outputs": []
    },
    {
      "cell_type": "code",
      "metadata": {
        "colab": {
          "base_uri": "https://localhost:8080/"
        },
        "id": "MTeGyxtnqfl1",
        "outputId": "d8460e54-e939-4a87-9023-05c3294814e3"
      },
      "source": [
        "x_train[0, 10:15, 10:15]"
      ],
      "execution_count": 11,
      "outputs": [
        {
          "output_type": "execute_result",
          "data": {
            "text/plain": [
              "array([[0.00392157, 0.60392157, 0.99215686, 0.35294118, 0.        ],\n",
              "       [0.        , 0.54509804, 0.99215686, 0.74509804, 0.00784314],\n",
              "       [0.        , 0.04313725, 0.74509804, 0.99215686, 0.2745098 ],\n",
              "       [0.        , 0.        , 0.1372549 , 0.94509804, 0.88235294],\n",
              "       [0.        , 0.        , 0.        , 0.31764706, 0.94117647]])"
            ]
          },
          "metadata": {
            "tags": []
          },
          "execution_count": 11
        }
      ]
    },
    {
      "cell_type": "code",
      "metadata": {
        "colab": {
          "base_uri": "https://localhost:8080/"
        },
        "id": "qb21aLvMqmPm",
        "outputId": "a5f572a0-d31d-4a6c-d335-b5c005513bfc"
      },
      "source": [
        "# Flatten 레이어\n",
        "print(f'변경전 shape {x_train.shape}')\n",
        "print(f'1D로 shape 변경 후 {x_train.reshape(60000, -1).shape}')"
      ],
      "execution_count": 12,
      "outputs": [
        {
          "output_type": "stream",
          "text": [
            "변경전 shape (60000, 28, 28)\n",
            "1D로 shape 변경 후 (60000, 784)\n"
          ],
          "name": "stdout"
        }
      ]
    },
    {
      "cell_type": "code",
      "metadata": {
        "colab": {
          "base_uri": "https://localhost:8080/"
        },
        "id": "COxRDweSrPze",
        "outputId": "5e91b008-ed38-4ed9-f510-87356f3e2910"
      },
      "source": [
        "print(f'Flatten 적용 후 : {tf.keras.layers.Flatten()(x_train).shape}')"
      ],
      "execution_count": 13,
      "outputs": [
        {
          "output_type": "stream",
          "text": [
            "Flatten 적용 후 : (60000, 784)\n"
          ],
          "name": "stdout"
        }
      ]
    },
    {
      "cell_type": "code",
      "metadata": {
        "colab": {
          "base_uri": "https://localhost:8080/"
        },
        "id": "Z5vHLez7ruVe",
        "outputId": "24bd4586-a86b-467b-88a8-3aff412553dd"
      },
      "source": [
        "# 활성화 함수\n",
        "tf.keras.layers.Dense(units=128, activation='relu')"
      ],
      "execution_count": 14,
      "outputs": [
        {
          "output_type": "execute_result",
          "data": {
            "text/plain": [
              "<tensorflow.python.keras.layers.core.Dense at 0x7f47e488a4d0>"
            ]
          },
          "metadata": {
            "tags": []
          },
          "execution_count": 14
        }
      ]
    },
    {
      "cell_type": "code",
      "metadata": {
        "id": "qEzn5cbGsJqM"
      },
      "source": [
        "model = tf.keras.models.Sequential([\n",
        "                             tf.keras.layers.Dense(128),\n",
        "                             tf.keras.layers.Activation('relu')\n",
        "                             ])"
      ],
      "execution_count": 15,
      "outputs": []
    },
    {
      "cell_type": "code",
      "metadata": {
        "id": "hSyBZlETtG8p"
      },
      "source": [
        "# 입출력\n",
        "model = tf.keras.Sequential([\n",
        "                                   tf.keras.layers.Flatten(input_shape=(28, 28)),\n",
        "                                   tf.keras.layers.Dense(256, activation='relu'),\n",
        "                                   tf.keras.layers.Dense(64, activation='relu'),\n",
        "                                   tf.keras.layers.Dense(32, activation='relu'),\n",
        "                                   tf.keras.layers.Dense(16, activation='relu'),\n",
        "                                   # 마지막 출력 노드 = 10 (분류 갯수)\n",
        "                                   tf.keras.layers.Dense(10, activation='softmax'),\n",
        "                                   ])"
      ],
      "execution_count": 16,
      "outputs": []
    },
    {
      "cell_type": "code",
      "metadata": {
        "colab": {
          "base_uri": "https://localhost:8080/"
        },
        "id": "y75t4Y5luwDV",
        "outputId": "619ab8bc-a848-4be0-94ea-367ef63e1be8"
      },
      "source": [
        "# 마지막 출력층 노드 = 1 인경우, sigmoid\n",
        "tf.keras.layers.Dense(1, activation='sigmoid')\n",
        "\n",
        "# 마지막 출력층 노드 = 10 인경우, softmax\n",
        "tf.keras.layers.Dense(10, activation='softmax')\n"
      ],
      "execution_count": 17,
      "outputs": [
        {
          "output_type": "execute_result",
          "data": {
            "text/plain": [
              "<tensorflow.python.keras.layers.core.Dense at 0x7f47e489ea10>"
            ]
          },
          "metadata": {
            "tags": []
          },
          "execution_count": 17
        }
      ]
    },
    {
      "cell_type": "code",
      "metadata": {
        "id": "3R7V9Yelvljp"
      },
      "source": [
        "# 손실함수\n",
        "# 마지막 출력층 노드 = 1 인경우\n",
        "model.compile(loss = 'binary_crossentropy')\n",
        "\n",
        "# 마지막 출력층 노드 = 10 인경우, 원 핫 벡터인경우 [0., 1., 0, .....]\n",
        "model.compile(loss = 'categorical_crossentropy')\n",
        "\n",
        "# 마지막 출력층 노드 = 10 인경우, 원 핫 벡터 아닌경우\n",
        "model.compile(loss = 'sparse_categorical_crossentropy')\n"
      ],
      "execution_count": 18,
      "outputs": []
    },
    {
      "cell_type": "code",
      "metadata": {
        "colab": {
          "base_uri": "https://localhost:8080/"
        },
        "id": "H3v7h9n8wR6T",
        "outputId": "0bf4b0cc-05e8-4586-d838-b86900754e3f"
      },
      "source": [
        "# 옵티마이저\n",
        "adam = tf.keras.optimizers.Adam(lr=0.001)\n",
        "model.compile(optimizer=adam)\n",
        "\n",
        "# 문자열 지정\n",
        "model.compile(optimizer='adam')"
      ],
      "execution_count": 19,
      "outputs": [
        {
          "output_type": "stream",
          "text": [
            "/usr/local/lib/python3.7/dist-packages/tensorflow/python/keras/optimizer_v2/optimizer_v2.py:375: UserWarning: The `lr` argument is deprecated, use `learning_rate` instead.\n",
            "  \"The `lr` argument is deprecated, use `learning_rate` instead.\")\n"
          ],
          "name": "stderr"
        }
      ]
    },
    {
      "cell_type": "code",
      "metadata": {
        "id": "A1qadwBZxR2v"
      },
      "source": [
        "# 평가지표\n",
        "acc = tf.keras.metrics.SparseCategoricalAccuracy()\n",
        "model.compile(optimizer='adam', loss='sparse_categorical_crossentropy', metrics=[acc])\n",
        "\n",
        "# 문자열 지정\n",
        "model.compile(optimizer='adam', loss='sparse_categorical_crossentropy', metrics=['accuracy'])"
      ],
      "execution_count": 20,
      "outputs": []
    },
    {
      "cell_type": "code",
      "metadata": {
        "colab": {
          "base_uri": "https://localhost:8080/"
        },
        "id": "TBcHP4K-06ZV",
        "outputId": "9c10ad83-6650-4a60-a01f-38b4f77e5d6d"
      },
      "source": [
        "print(y_train[1])"
      ],
      "execution_count": 21,
      "outputs": [
        {
          "output_type": "stream",
          "text": [
            "0\n"
          ],
          "name": "stdout"
        }
      ]
    },
    {
      "cell_type": "code",
      "metadata": {
        "colab": {
          "base_uri": "https://localhost:8080/"
        },
        "id": "Q5yJ38N-0MRs",
        "outputId": "a33c0efc-d302-46ff-92de-4176f381d014"
      },
      "source": [
        "# 훈력\n",
        "model.fit(x_train, y_train, \n",
        "          # 검증 셋 지정\n",
        "          validation_data=(x_test, y_test),\n",
        "          epochs=10,\n",
        "          )"
      ],
      "execution_count": 22,
      "outputs": [
        {
          "output_type": "stream",
          "text": [
            "Epoch 1/10\n",
            "1875/1875 [==============================] - 8s 3ms/step - loss: 0.2526 - accuracy: 0.9233 - val_loss: 0.1215 - val_accuracy: 0.9625\n",
            "Epoch 2/10\n",
            "1875/1875 [==============================] - 5s 3ms/step - loss: 0.1027 - accuracy: 0.9692 - val_loss: 0.0913 - val_accuracy: 0.9731\n",
            "Epoch 3/10\n",
            "1875/1875 [==============================] - 5s 3ms/step - loss: 0.0713 - accuracy: 0.9782 - val_loss: 0.0975 - val_accuracy: 0.9725\n",
            "Epoch 4/10\n",
            "1875/1875 [==============================] - 5s 2ms/step - loss: 0.0556 - accuracy: 0.9825 - val_loss: 0.0734 - val_accuracy: 0.9777\n",
            "Epoch 5/10\n",
            "1875/1875 [==============================] - 4s 2ms/step - loss: 0.0445 - accuracy: 0.9859 - val_loss: 0.0830 - val_accuracy: 0.9764\n",
            "Epoch 6/10\n",
            "1875/1875 [==============================] - 4s 2ms/step - loss: 0.0370 - accuracy: 0.9880 - val_loss: 0.0863 - val_accuracy: 0.9755\n",
            "Epoch 7/10\n",
            "1875/1875 [==============================] - 4s 2ms/step - loss: 0.0297 - accuracy: 0.9907 - val_loss: 0.0806 - val_accuracy: 0.9785\n",
            "Epoch 8/10\n",
            "1875/1875 [==============================] - 4s 2ms/step - loss: 0.0289 - accuracy: 0.9912 - val_loss: 0.0905 - val_accuracy: 0.9782\n",
            "Epoch 9/10\n",
            "1875/1875 [==============================] - 5s 2ms/step - loss: 0.0240 - accuracy: 0.9924 - val_loss: 0.0837 - val_accuracy: 0.9795\n",
            "Epoch 10/10\n",
            "1875/1875 [==============================] - 4s 2ms/step - loss: 0.0220 - accuracy: 0.9930 - val_loss: 0.1014 - val_accuracy: 0.9747\n"
          ],
          "name": "stdout"
        },
        {
          "output_type": "execute_result",
          "data": {
            "text/plain": [
              "<tensorflow.python.keras.callbacks.History at 0x7f47460fb610>"
            ]
          },
          "metadata": {
            "tags": []
          },
          "execution_count": 22
        }
      ]
    },
    {
      "cell_type": "code",
      "metadata": {
        "colab": {
          "base_uri": "https://localhost:8080/"
        },
        "id": "1_QU0of31L7M",
        "outputId": "94a1b5b6-e0ad-493e-9aaf-9f554300218a"
      },
      "source": [
        "# 검증, 평가\n",
        "test_loss, test_acc = model.evaluate(x_test, y_test)\n",
        "print('검증셋 정확도: ', test_acc, test_loss)"
      ],
      "execution_count": 24,
      "outputs": [
        {
          "output_type": "stream",
          "text": [
            "313/313 [==============================] - 1s 2ms/step - loss: 0.1014 - accuracy: 0.9747\n",
            "검증셋 정확도:  0.9746999740600586 0.10139895975589752\n"
          ],
          "name": "stdout"
        }
      ]
    },
    {
      "cell_type": "code",
      "metadata": {
        "id": "xS1dEahF19YU"
      },
      "source": [
        "# 예측\n",
        "predictions = model.predict(x_test)"
      ],
      "execution_count": 25,
      "outputs": []
    },
    {
      "cell_type": "code",
      "metadata": {
        "colab": {
          "base_uri": "https://localhost:8080/"
        },
        "id": "XKg8GwBH3Evk",
        "outputId": "097dfe57-81e8-4cde-ef46-33b2e5b18418"
      },
      "source": [
        "predictions.shape"
      ],
      "execution_count": 26,
      "outputs": [
        {
          "output_type": "execute_result",
          "data": {
            "text/plain": [
              "(10000, 10)"
            ]
          },
          "metadata": {
            "tags": []
          },
          "execution_count": 26
        }
      ]
    },
    {
      "cell_type": "code",
      "metadata": {
        "colab": {
          "base_uri": "https://localhost:8080/"
        },
        "id": "-4iG-btv3I8S",
        "outputId": "e2651172-0c84-4855-a603-ee5f83726721"
      },
      "source": [
        "print(predictions[0])"
      ],
      "execution_count": 30,
      "outputs": [
        {
          "output_type": "stream",
          "text": [
            "[9.6180649e-08 5.6575209e-07 5.1794973e-07 4.8647036e-07 2.5018218e-07\n",
            " 1.0787917e-08 4.6756957e-14 9.9995804e-01 2.1876849e-07 3.9871738e-05]\n"
          ],
          "name": "stdout"
        }
      ]
    },
    {
      "cell_type": "code",
      "metadata": {
        "colab": {
          "base_uri": "https://localhost:8080/"
        },
        "id": "77kUdIE23PU-",
        "outputId": "229ffb70-1be4-428c-f920-f894319e1247"
      },
      "source": [
        "print(np.argmax(predictions[0]))"
      ],
      "execution_count": 31,
      "outputs": [
        {
          "output_type": "stream",
          "text": [
            "7\n"
          ],
          "name": "stdout"
        }
      ]
    },
    {
      "cell_type": "code",
      "metadata": {
        "colab": {
          "base_uri": "https://localhost:8080/"
        },
        "id": "NqiR6_4C4CDr",
        "outputId": "6a345a2e-090b-4576-b02d-2be26f1d76e8"
      },
      "source": [
        "print(np.argmax(predictions[:10], axis = 1))"
      ],
      "execution_count": 34,
      "outputs": [
        {
          "output_type": "stream",
          "text": [
            "[7 2 1 0 4 1 8 9 5 9]\n"
          ],
          "name": "stdout"
        }
      ]
    },
    {
      "cell_type": "code",
      "metadata": {
        "colab": {
          "base_uri": "https://localhost:8080/",
          "height": 572
        },
        "id": "MbAgXbMK4RLx",
        "outputId": "677ba7d2-e79e-40ff-b977-087661c2e1f0"
      },
      "source": [
        "# 예측 결과 시각화\n",
        "import matplotlib.pyplot as plt\n",
        "\n",
        "def get_one_result(idx):\n",
        "  img, y_true, y_pred, confidence = x_test[idx], y_test[idx], np.argmax(predictions[idx]), 100*np.max(predictions[idx])\n",
        "  return img, y_true, y_pred, confidence\n",
        "\n",
        "fig, axes = plt.subplots(3, 5)\n",
        "fig.set_size_inches(12, 10)\n",
        "\n",
        "for i in range(15):\n",
        "  ax = axes[i//5, i%5]\n",
        "  img, y_true, y_pred, confidence = get_one_result(i)\n",
        "  ax.imshow(img, cmap='gray')\n",
        "  ax.set_xticks([])\n",
        "  ax.set_yticks([])\n",
        "  ax.set_title(f'True: {y_true}')\n",
        "  ax.set_xlabel(f'Prediction: {y_pred} \\n Confidence: ({confidence:.2f} %)')\n",
        "plt.tight_layout\n",
        "plt.show()\n"
      ],
      "execution_count": 38,
      "outputs": [
        {
          "output_type": "display_data",
          "data": {
            "image/png": "[encoded data removed]",
            "text/plain": [
              "<Figure size 864x720 with 15 Axes>"
            ]
          },
          "metadata": {
            "tags": []
          }
        }
      ]
    },
    {
      "cell_type": "code",
      "metadata": {
        "id": "0P2RyGid6I6T"
      },
      "source": [
        ""
      ],
      "execution_count": null,
      "outputs": []
    }
  ]
}