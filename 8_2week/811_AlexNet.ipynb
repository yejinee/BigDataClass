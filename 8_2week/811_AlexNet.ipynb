{
  "nbformat": 4,
  "nbformat_minor": 0,
  "metadata": {
    "colab": {
      "name": "AlexNet.ipynb",
      "provenance": []
    },
    "kernelspec": {
      "name": "python3",
      "display_name": "Python 3"
    },
    "language_info": {
      "name": "python"
    },
    "accelerator": "GPU"
  },
  "cells": [
    {
      "cell_type": "code",
      "metadata": {
        "id": "QqU5pzFh9f3V"
      },
      "source": [
        "import tensorflow as tf\n",
        "import matplotlib.pyplot as plt\n",
        "from tensorflow.keras import datasets, layers, models, losses\n",
        "\n",
        "(x_train, y_train), (x_test, y_test) = datasets.mnist.load_data()\n",
        "x_train = tf.pad(x_train, [[0, 0], [2, 2], [2, 2]])/255\n",
        "x_test = tf.pad(x_test, [[0, 0], [2, 2], [2, 2]])/255\n",
        "x_train = tf.expand_dims(x_train, axis=3, name=None)\n",
        "x_test = tf.expand_dims(x_test, axis=3, name=None)\n",
        "x_train = tf.repeat(x_train, 3, axis=3)\n",
        "x_test = tf.repeat(x_test, 3, axis=3)\n",
        "\n",
        "x_val = x_train[-2000:,:,:,:]\n",
        "y_val = y_train[-2000:]\n",
        "x_train = x_train[:-2000:,:,:,]\n",
        "y_train = y_train[:-2000]"
      ],
      "execution_count": 2,
      "outputs": []
    },
    {
      "cell_type": "code",
      "metadata": {
        "colab": {
          "base_uri": "https://localhost:8080/"
        },
        "id": "8xFStWMR9mgs",
        "outputId": "367cf118-e16a-483d-ad9f-f019ee646038"
      },
      "source": [
        "model = models.Sequential()\n",
        "model.add(layers.experimental.preprocessing.Resizing(224, 224, interpolation='bilinear', input_shape=x_train.shape[1:]))\n",
        "model.add(layers.Conv2D(96, 11, strides=4, padding='same'))\n",
        "model.add(layers.Lambda(tf.nn.local_response_normalization))\n",
        "model.add(layers.Activation('relu'))\n",
        "model.add(layers.MaxPooling2D(3, strides=2))\n",
        "model.add(layers.Conv2D(256, 5, strides=4, padding='same'))\n",
        "model.add(layers.Lambda(tf.nn.local_response_normalization))\n",
        "model.add(layers.Activation('relu'))\n",
        "model.add(layers.MaxPooling2D(3, strides=2))\n",
        "model.add(layers.Conv2D(384, 3, strides=4, padding='same'))\n",
        "model.add(layers.Activation('relu'))\n",
        "model.add(layers.Conv2D(384, 3, strides=4, padding='same'))\n",
        "model.add(layers.Activation('relu'))\n",
        "model.add(layers.Conv2D(256, 3, strides=4, padding='same'))\n",
        "model.add(layers.Activation('relu'))\n",
        "model.add(layers.Flatten())\n",
        "model.add(layers.Dense(4096, activation='relu'))\n",
        "model.add(layers.Dropout(0.5))\n",
        "model.add(layers.Dense(4096, activation='relu'))\n",
        "model.add(layers.Dropout(0.5))\n",
        "model.add(layers.Dense(10, activation='softmax'))\n",
        "\n",
        "model.summary()"
      ],
      "execution_count": 3,
      "outputs": [
        {
          "output_type": "stream",
          "text": [
            "Model: \"sequential\"\n",
            "_________________________________________________________________\n",
            "Layer (type)                 Output Shape              Param #   \n",
            "=================================================================\n",
            "resizing (Resizing)          (None, 224, 224, 3)       0         \n",
            "_________________________________________________________________\n",
            "conv2d (Conv2D)              (None, 56, 56, 96)        34944     \n",
            "_________________________________________________________________\n",
            "lambda (Lambda)              (None, 56, 56, 96)        0         \n",
            "_________________________________________________________________\n",
            "activation (Activation)      (None, 56, 56, 96)        0         \n",
            "_________________________________________________________________\n",
            "max_pooling2d (MaxPooling2D) (None, 27, 27, 96)        0         \n",
            "_________________________________________________________________\n",
            "conv2d_1 (Conv2D)            (None, 7, 7, 256)         614656    \n",
            "_________________________________________________________________\n",
            "lambda_1 (Lambda)            (None, 7, 7, 256)         0         \n",
            "_________________________________________________________________\n",
            "activation_1 (Activation)    (None, 7, 7, 256)         0         \n",
            "_________________________________________________________________\n",
            "max_pooling2d_1 (MaxPooling2 (None, 3, 3, 256)         0         \n",
            "_________________________________________________________________\n",
            "conv2d_2 (Conv2D)            (None, 1, 1, 384)         885120    \n",
            "_________________________________________________________________\n",
            "activation_2 (Activation)    (None, 1, 1, 384)         0         \n",
            "_________________________________________________________________\n",
            "conv2d_3 (Conv2D)            (None, 1, 1, 384)         1327488   \n",
            "_________________________________________________________________\n",
            "activation_3 (Activation)    (None, 1, 1, 384)         0         \n",
            "_________________________________________________________________\n",
            "conv2d_4 (Conv2D)            (None, 1, 1, 256)         884992    \n",
            "_________________________________________________________________\n",
            "activation_4 (Activation)    (None, 1, 1, 256)         0         \n",
            "_________________________________________________________________\n",
            "flatten (Flatten)            (None, 256)               0         \n",
            "_________________________________________________________________\n",
            "dense (Dense)                (None, 4096)              1052672   \n",
            "_________________________________________________________________\n",
            "dropout (Dropout)            (None, 4096)              0         \n",
            "_________________________________________________________________\n",
            "dense_1 (Dense)              (None, 4096)              16781312  \n",
            "_________________________________________________________________\n",
            "dropout_1 (Dropout)          (None, 4096)              0         \n",
            "_________________________________________________________________\n",
            "dense_2 (Dense)              (None, 10)                40970     \n",
            "=================================================================\n",
            "Total params: 21,622,154\n",
            "Trainable params: 21,622,154\n",
            "Non-trainable params: 0\n",
            "_________________________________________________________________\n"
          ],
          "name": "stdout"
        }
      ]
    },
    {
      "cell_type": "code",
      "metadata": {
        "id": "kSOF5Lp_Dhw-"
      },
      "source": [
        "model.compile(optimizer='adam', loss=losses.sparse_categorical_crossentropy, metrics=['accuracy'])"
      ],
      "execution_count": 4,
      "outputs": []
    },
    {
      "cell_type": "code",
      "metadata": {
        "colab": {
          "base_uri": "https://localhost:8080/"
        },
        "id": "qnqHhrFYERMA",
        "outputId": "16605116-c5cd-4aed-9b76-2cd19a950271"
      },
      "source": [
        "model.fit(x_train, y_train, batch_size=64, epochs=40, validation_data=(x_val, y_val))"
      ],
      "execution_count": null,
      "outputs": [
        {
          "output_type": "stream",
          "text": [
            "Epoch 1/40\n",
            "907/907 [==============================] - 138s 118ms/step - loss: 0.4115 - accuracy: 0.8546 - val_loss: 0.1137 - val_accuracy: 0.9735\n",
            "Epoch 2/40\n",
            "907/907 [==============================] - 107s 118ms/step - loss: 0.0984 - accuracy: 0.9750 - val_loss: 0.0675 - val_accuracy: 0.9840\n",
            "Epoch 3/40\n",
            "907/907 [==============================] - 107s 118ms/step - loss: 0.0742 - accuracy: 0.9812 - val_loss: 0.0650 - val_accuracy: 0.9870\n",
            "Epoch 4/40\n",
            "907/907 [==============================] - 107s 118ms/step - loss: 0.0598 - accuracy: 0.9856 - val_loss: 0.0496 - val_accuracy: 0.9905\n",
            "Epoch 5/40\n",
            "907/907 [==============================] - 107s 118ms/step - loss: 0.0521 - accuracy: 0.9868 - val_loss: 0.0569 - val_accuracy: 0.9890\n",
            "Epoch 6/40\n",
            "907/907 [==============================] - 107s 118ms/step - loss: 0.0517 - accuracy: 0.9878 - val_loss: 0.0471 - val_accuracy: 0.9935\n",
            "Epoch 7/40\n",
            "907/907 [==============================] - 107s 117ms/step - loss: 0.0378 - accuracy: 0.9905 - val_loss: 0.0641 - val_accuracy: 0.9905\n",
            "Epoch 8/40\n",
            "907/907 [==============================] - 107s 118ms/step - loss: 0.0340 - accuracy: 0.9914 - val_loss: 0.0422 - val_accuracy: 0.9910\n",
            "Epoch 9/40\n",
            "907/907 [==============================] - 107s 117ms/step - loss: 0.0281 - accuracy: 0.9930 - val_loss: 0.0563 - val_accuracy: 0.9940\n",
            "Epoch 10/40\n",
            "907/907 [==============================] - 107s 118ms/step - loss: 0.0278 - accuracy: 0.9934 - val_loss: 0.0505 - val_accuracy: 0.9865\n",
            "Epoch 11/40\n",
            "907/907 [==============================] - 107s 118ms/step - loss: 0.0279 - accuracy: 0.9933 - val_loss: 0.0710 - val_accuracy: 0.9870\n",
            "Epoch 12/40\n",
            "907/907 [==============================] - 107s 118ms/step - loss: 0.0222 - accuracy: 0.9947 - val_loss: 0.0480 - val_accuracy: 0.9940\n",
            "Epoch 13/40\n",
            "907/907 [==============================] - 107s 118ms/step - loss: 0.0265 - accuracy: 0.9938 - val_loss: 0.0461 - val_accuracy: 0.9940\n",
            "Epoch 14/40\n",
            "907/907 [==============================] - 107s 118ms/step - loss: 0.0203 - accuracy: 0.9953 - val_loss: 0.0626 - val_accuracy: 0.9920\n",
            "Epoch 15/40\n",
            "907/907 [==============================] - 107s 118ms/step - loss: 0.0189 - accuracy: 0.9956 - val_loss: 0.0446 - val_accuracy: 0.9945\n",
            "Epoch 16/40\n",
            "907/907 [==============================] - 107s 118ms/step - loss: 0.0159 - accuracy: 0.9962 - val_loss: 0.0522 - val_accuracy: 0.9915\n",
            "Epoch 17/40\n",
            "907/907 [==============================] - 107s 118ms/step - loss: 0.0229 - accuracy: 0.9950 - val_loss: 0.0374 - val_accuracy: 0.9950\n",
            "Epoch 18/40\n",
            "907/907 [==============================] - 107s 118ms/step - loss: 0.0113 - accuracy: 0.9974 - val_loss: 0.0551 - val_accuracy: 0.9945\n",
            "Epoch 19/40\n",
            "907/907 [==============================] - 107s 118ms/step - loss: 0.0166 - accuracy: 0.9964 - val_loss: 0.0521 - val_accuracy: 0.9930\n",
            "Epoch 20/40\n",
            "907/907 [==============================] - 107s 118ms/step - loss: 0.0145 - accuracy: 0.9967 - val_loss: 0.0750 - val_accuracy: 0.9890\n",
            "Epoch 21/40\n",
            "907/907 [==============================] - 107s 118ms/step - loss: 0.0160 - accuracy: 0.9966 - val_loss: 0.0829 - val_accuracy: 0.9910\n",
            "Epoch 22/40\n",
            "649/907 [====================>.........] - ETA: 30s - loss: 0.0190 - accuracy: 0.9960"
          ],
          "name": "stdout"
        }
      ]
    },
    {
      "cell_type": "code",
      "metadata": {
        "id": "rfow0UxFEf-E"
      },
      "source": [
        "fig, axs = plt.subplots(2, 1, figsize=(15, 15))\n",
        "axs[0].plot(history.history['loss'])\n",
        "axs[0].plot(history.history['val_loss'])\n",
        "axs[0].title.set_text('Training Loss vs Validation Loss')\n",
        "axs[0].legend(['Train', 'Val'])\n",
        "axs[1].plot(history.history['accuracy'])\n",
        "axs[1].plot(history.history['val_accuracy'])\n",
        "axs[1].title.set_text('Training Accuracy vs Validation Accuracy')\n",
        "axs[1].legend(['Train', 'Val'])\n",
        "plt.show()"
      ],
      "execution_count": null,
      "outputs": []
    },
    {
      "cell_type": "code",
      "metadata": {
        "id": "CnnJlcR5EqvL"
      },
      "source": [
        "model.evaluate(x_test, y_test)"
      ],
      "execution_count": null,
      "outputs": []
    }
  ]
}