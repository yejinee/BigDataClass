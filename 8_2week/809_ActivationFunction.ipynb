{
 "cells": [
  {
   "cell_type": "markdown",
   "source": [
    "# Activation Functions\r\n",
    "- DeepLearning Network에서 Node에 들어오는 값들을 곧바로 다음 Layer로 전달하지 X\r\n",
    "- => 비선형 함수를 통과 시켜 전달함!\r\n",
    "<br>\r\n",
    "\r\n",
    "</br>\r\n",
    "\r\n",
    "### ✔ 비선형 함수를 이용하는 이유?\r\n",
    "- 선형함수를 사용할 시에 층을 깊게 하는 의미가 줄어들기 때문"
   ],
   "metadata": {
    "tags": []
   }
  },
  {
   "cell_type": "code",
   "execution_count": 4,
   "source": [
    "tf.__version__"
   ],
   "outputs": [
    {
     "output_type": "execute_result",
     "data": {
      "text/plain": [
       "'2.1.0'"
      ]
     },
     "metadata": {},
     "execution_count": 4
    }
   ],
   "metadata": {}
  },
  {
   "cell_type": "code",
   "execution_count": 7,
   "source": [
    "import tensorflow as tf\r\n",
    "# from tensorflow.math import exp, maximum\r\n",
    "from tensorflow.keras.layers import Activation"
   ],
   "outputs": [],
   "metadata": {}
  },
  {
   "cell_type": "code",
   "execution_count": 14,
   "source": [
    "tf.random.set_seed(10)\r\n",
    "x = tf.random.normal(shape=(1, 5))\r\n",
    "\r\n",
    "sigmoid = Activation('sigmoid')\r\n",
    "tanh = Activation('tanh')\r\n",
    "relu = Activation('relu')\r\n",
    "\r\n",
    "# forwad propagation(tensorflow)\r\n",
    "y_sigmoid_tf = sigmoid(x)\r\n",
    "y_tanh_tf = tanh(x)\r\n",
    "y_relu_tf = relu(x)\r\n",
    "\r\n",
    "print('x: {}\\n{}'.format(x.shape, x.numpy()))\r\n",
    "print('sigmoid(Tensorflow): {}\\n{}'.format(y_sigmoid_tf.shape, y_sigmoid_tf.numpy()))\r\n",
    "print('tanh(Tensorflow): {}\\n{}'.format(y_tanh_tf.shape, y_tanh_tf.numpy()))\r\n",
    "print('relu(Tensorflow): {}\\n{}'.format(y_relu_tf.shape, y_relu_tf.numpy()))"
   ],
   "outputs": [
    {
     "output_type": "stream",
     "name": "stdout",
     "text": [
      "x: (1, 5)\n",
      "[[-0.8757808   0.3356369  -0.35219625 -0.30314562 -0.03882965]]\n",
      "sigmoid(Tensorflow): (1, 5)\n",
      "[[0.29405284 0.5831303  0.41284993 0.42478868 0.49029383]]\n",
      "tanh(Tensorflow): (1, 5)\n",
      "[[-0.70429933  0.32357663 -0.33832183 -0.29418862 -0.03881015]]\n",
      "relu(Tensorflow): (1, 5)\n",
      "[[0.        0.3356369 0.        0.        0.       ]]\n"
     ]
    }
   ],
   "metadata": {}
  },
  {
   "cell_type": "code",
   "execution_count": 16,
   "source": [
    "# forwad propagation(manual)\r\n",
    "y_sigmoid_man = 1 / (1+tf.math.exp(-x))\r\n",
    "y_tanh_man = (tf.math.exp(x) - tf.math.exp(-x)) / (tf.math.exp(x) + tf.math.exp(-x))\r\n",
    "y_relu_man = tf.math.maximum(x, 0)\r\n",
    "\r\n",
    "print('x: {}\\n{}'.format(x.shape, x.numpy()))\r\n",
    "print('sigmoid(manual): {}\\n{}'.format(y_sigmoid_man.shape, y_sigmoid_man.numpy()))\r\n",
    "print('tanh(manual): {}\\n{}'.format(y_tanh_man.shape, y_tanh_man.numpy()))\r\n",
    "print('relu(manual): {}\\n{}'.format(y_relu_man.shape, y_relu_man.numpy()))"
   ],
   "outputs": [
    {
     "output_type": "stream",
     "name": "stdout",
     "text": [
      "x: (1, 5)\n",
      "[[-0.8757808   0.3356369  -0.35219625 -0.30314562 -0.03882965]]\n",
      "sigmoid(manual): (1, 5)\n",
      "[[0.29405284 0.5831303  0.41284993 0.42478868 0.49029383]]\n",
      "tanh(manual): (1, 5)\n",
      "[[-0.70429933  0.32357663 -0.33832183 -0.29418865 -0.03881014]]\n",
      "relu(manual): (1, 5)\n",
      "[[0.        0.3356369 0.        0.        0.       ]]\n"
     ]
    }
   ],
   "metadata": {}
  },
  {
   "cell_type": "code",
   "execution_count": 9,
   "source": [
    "# Activation in Dense Layer\r\n",
    "from tensorflow.keras.layers import Dense\r\n",
    "tf.random.set_seed(10)\r\n",
    "x = tf.random.normal(shape=(1, 5))\r\n",
    "\r\n",
    "# imp. Artifical neurons\r\n",
    "dense_sigmoid = Dense(units=1, activation='sigmoid')\r\n",
    "dense_tanh = Dense(units=1, activation='tanh')\r\n",
    "dense_relu = Dense(units=1, activation='relu')\r\n",
    "\r\n",
    "# forward propagation\r\n",
    "y_sigmoid = dense_sigmoid(x)\r\n",
    "y_tanh = dense_tanh(x)\r\n",
    "y_relu = dense_relu(x)\r\n",
    "\r\n",
    "print('AN with sigmoid: {}\\n{}'.format(y_sigmoid.shape, y_sigmoid.numpy()))\r\n",
    "print('AN with thah: {}\\n{}'.format(y_tanh.shape, y_tanh.numpy()))\r\n",
    "print('AN with relu: {}\\n{}'.format(y_relu.shape, y_relu.numpy()))"
   ],
   "outputs": [
    {
     "output_type": "stream",
     "name": "stdout",
     "text": [
      "AN with sigmoid: (1, 1)\n",
      "[[0.498436]]\n",
      "AN with thah: (1, 1)\n",
      "[[0.32123712]]\n",
      "AN with relu: (1, 1)\n",
      "[[0.]]\n"
     ]
    }
   ],
   "metadata": {}
  },
  {
   "cell_type": "code",
   "execution_count": 11,
   "source": [
    "# forward propagation(manual)\r\n",
    "W, b = dense_sigmoid.get_weights()\r\n",
    "z = tf.linalg.matmul(x, W) + b\r\n",
    "a = 1 / (1 + tf.exp(-z))\r\n",
    "\r\n",
    "print('Activation value(Tensorflow): {}\\n{}'.format(y_sigmoid.shape, y_sigmoid.numpy()))\r\n",
    "print('Activation value(Manual): {}\\n{}'.format(a.shape, a.numpy()))"
   ],
   "outputs": [
    {
     "output_type": "stream",
     "name": "stdout",
     "text": [
      "Activation value(Tensorflow): (1, 1)\n",
      "[[0.498436]]\n",
      "Activation value(Manual): (1, 1)\n",
      "[[0.498436]]\n"
     ]
    }
   ],
   "metadata": {}
  },
  {
   "cell_type": "code",
   "execution_count": 17,
   "source": [
    "# Minibatches, Shapes of Dense Layers\r\n",
    "N, n_features = 8, 10\r\n",
    "tf.random.set_seed(10)\r\n",
    "x = tf.random.normal(shape=(N, n_features))\r\n",
    "\r\n",
    "dense = Dense(units=1, activation='relu')\r\n",
    "y = dense(x)\r\n",
    "W, b = dense.get_weights()\r\n",
    "\r\n",
    "print('Shape of x: ', x.shape)\r\n",
    "print('Shape of W: ', W.shape)\r\n",
    "print('Shape of b: ', b.shape)"
   ],
   "outputs": [
    {
     "output_type": "stream",
     "name": "stdout",
     "text": [
      "Shape of x:  (8, 10)\n",
      "Shape of W:  (10, 1)\n",
      "Shape of b:  (1,)\n"
     ]
    }
   ],
   "metadata": {}
  },
  {
   "cell_type": "code",
   "execution_count": 18,
   "source": [
    "# Output Calculations\r\n",
    "N, n_features = 8, 10\r\n",
    "tf.random.set_seed(10)\r\n",
    "x = tf.random.normal(shape=(N, n_features))\r\n",
    "\r\n",
    "dense = Dense(units=1, activation='sigmoid')\r\n",
    "y_tf = dense(x)\r\n",
    "W, b = dense.get_weights()\r\n",
    "\r\n",
    "y_man = tf.linalg.matmul(x, W) + b\r\n",
    "y_man = 1 / (1+tf.math.exp(-y_man))\r\n",
    "\r\n",
    "print('Output(Tensorflow): {}\\n{}\\n'.format(y_tf.shape, y_tf.numpy()))\r\n",
    "print('Output(Manual): {}\\n{}\\n'.format(y_man.shape, y_man.numpy()))"
   ],
   "outputs": [
    {
     "output_type": "stream",
     "name": "stdout",
     "text": [
      "Output(Tensorflow): (8, 1)\n",
      "[[0.46854383]\n",
      " [0.5895974 ]\n",
      " [0.10466997]\n",
      " [0.8744324 ]\n",
      " [0.7818612 ]\n",
      " [0.47610277]\n",
      " [0.33888915]\n",
      " [0.7424137 ]]\n",
      "\n",
      "Output(Manual): (8, 1)\n",
      "[[0.46854383]\n",
      " [0.5895974 ]\n",
      " [0.10466997]\n",
      " [0.8744324 ]\n",
      " [0.7818612 ]\n",
      " [0.47610277]\n",
      " [0.33888915]\n",
      " [0.7424137 ]]\n",
      "\n"
     ]
    }
   ],
   "metadata": {}
  }
 ],
 "metadata": {
  "kernelspec": {
   "display_name": "Python 3",
   "language": "python",
   "name": "python3"
  },
  "language_info": {
   "codemirror_mode": {
    "name": "ipython",
    "version": 3
   },
   "file_extension": ".py",
   "mimetype": "text/x-python",
   "name": "python",
   "nbconvert_exporter": "python",
   "pygments_lexer": "ipython3",
   "version": "3.7.10"
  }
 },
 "nbformat": 4,
 "nbformat_minor": 5
}