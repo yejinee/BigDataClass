{
 "cells": [
  {
   "cell_type": "markdown",
   "metadata": {},
   "source": [
    "# TensorFlow 2.0"
   ]
  },
  {
   "cell_type": "code",
   "execution_count": 1,
   "metadata": {},
   "outputs": [],
   "source": [
    "import os\n",
    "from glob import glob\n",
    "from datetime import datetime\n",
    "\n",
    "import numpy as np\n",
    "\n",
    "import tensorflow as tf\n",
    "from tensorflow.keras import layers\n",
    "\n",
    "from tensorflow.keras import datasets \n",
    "\n",
    "import matplotlib.pyplot as plt\n",
    "\n",
    "%matplotlib inline"
   ]
  },
  {
   "cell_type": "markdown",
   "metadata": {},
   "source": [
    "## Hyperparameter Tunning"
   ]
  },
  {
   "cell_type": "code",
   "execution_count": 2,
   "metadata": {},
   "outputs": [],
   "source": [
    "num_epochs = 20\n",
    "batch_size = 32\n",
    "\n",
    "learning_rate = 0.001\n",
    "\n",
    "dropout_rate = 0.5\n",
    "\n",
    "input_shape = (32, 32, 3)\n",
    "num_classes = 10"
   ]
  },
  {
   "cell_type": "markdown",
   "metadata": {},
   "source": [
    "## Build Model"
   ]
  },
  {
   "cell_type": "code",
   "execution_count": 3,
   "metadata": {},
   "outputs": [],
   "source": [
    "inputs = layers.Input(input_shape)\n",
    "\n",
    "net = layers.Conv2D(32, (3, 3), padding='SAME')(inputs)\n",
    "net = layers.Activation('relu')(net)\n",
    "net = layers.Conv2D(32, (3, 3), padding='SAME')(net)\n",
    "net = layers.Activation('relu')(net)\n",
    "net = layers.MaxPooling2D(pool_size=(2, 2))(net)\n",
    "net = layers.Dropout(dropout_rate)(net)\n",
    "\n",
    "net = layers.Conv2D(64, (3, 3), padding='SAME')(net)\n",
    "net = layers.Activation('relu')(net)\n",
    "net = layers.Conv2D(64, (3, 3), padding='SAME')(net)\n",
    "net = layers.Activation('relu')(net)\n",
    "net = layers.MaxPooling2D(pool_size=(2, 2))(net)\n",
    "net = layers.Dropout(dropout_rate)(net)\n",
    "\n",
    "net = layers.Flatten()(net)\n",
    "net = layers.Dense(512)(net)\n",
    "net = layers.Activation('relu')(net)\n",
    "net = layers.Dropout(dropout_rate)(net)\n",
    "net = layers.Dense(num_classes)(net)\n",
    "net = layers.Activation('softmax')(net)\n",
    "\n",
    "model = tf.keras.Model(inputs=inputs, outputs=net, name='Basic_CNN')"
   ]
  },
  {
   "cell_type": "code",
   "execution_count": 4,
   "metadata": {},
   "outputs": [],
   "source": [
    "# Model is the full model w/o custom layers\n",
    "model.compile(optimizer=tf.keras.optimizers.Adam(learning_rate),  # Optimization\n",
    "              loss='sparse_categorical_crossentropy',  # Loss Function \n",
    "              metrics=['accuracy'])  # Metrics / Accuracy"
   ]
  },
  {
   "cell_type": "markdown",
   "metadata": {},
   "source": [
    "# Data Preprocess"
   ]
  },
  {
   "cell_type": "code",
   "execution_count": 5,
   "metadata": {},
   "outputs": [],
   "source": [
    "train_paths = glob('dataset/cifar/train/*.png')[:1000]\n",
    "test_paths = glob('dataset/cifar/test/*.png')[:1000]"
   ]
  },
  {
   "cell_type": "code",
   "execution_count": 6,
   "metadata": {},
   "outputs": [
    {
     "data": {
      "text/plain": [
       "1000"
      ]
     },
     "execution_count": 6,
     "metadata": {},
     "output_type": "execute_result"
    }
   ],
   "source": [
    "len(train_paths)"
   ]
  },
  {
   "cell_type": "code",
   "execution_count": 7,
   "metadata": {},
   "outputs": [],
   "source": [
    "def get_class_name(path):\n",
    "    return path.split('_')[-1].replace('.png', '')"
   ]
  },
  {
   "cell_type": "code",
   "execution_count": 8,
   "metadata": {},
   "outputs": [],
   "source": [
    "train_labels = [get_class_name(path) for path in train_paths]\n",
    "class_names = np.unique(train_labels)"
   ]
  },
  {
   "cell_type": "code",
   "execution_count": 9,
   "metadata": {},
   "outputs": [],
   "source": [
    "def get_label(path):\n",
    "    fname = tf.strings.split(path, '_')[-1]\n",
    "    lbl_name = tf.strings.regex_replace(fname, '.png', '')\n",
    "    onehot = tf.cast(lbl_name == class_names, tf.uint8)\n",
    "    return tf.argmax(onehot)  # 이번에는 onehot이 아닌 label 번호로"
   ]
  },
  {
   "cell_type": "code",
   "execution_count": 10,
   "metadata": {},
   "outputs": [],
   "source": [
    "def load_image_label(path):\n",
    "    gfile = tf.io.read_file(path)\n",
    "    image = tf.io.decode_image(gfile)\n",
    "    image = tf.cast(image, tf.float32) / 255.  # rescale\n",
    "    \n",
    "    label = get_label(path)\n",
    "    return image, label"
   ]
  },
  {
   "cell_type": "code",
   "execution_count": 11,
   "metadata": {},
   "outputs": [],
   "source": [
    "def image_preprocess(image, label):\n",
    "    image = tf.image.random_flip_up_down(image)\n",
    "    image = tf.image.random_flip_left_right(image)\n",
    "    return image, label"
   ]
  },
  {
   "cell_type": "code",
   "execution_count": 12,
   "metadata": {},
   "outputs": [],
   "source": [
    "AUTOTUNE = tf.data.experimental.AUTOTUNE"
   ]
  },
  {
   "cell_type": "code",
   "execution_count": 13,
   "metadata": {},
   "outputs": [
    {
     "name": "stdout",
     "output_type": "stream",
     "text": [
      "WARNING:tensorflow:AutoGraph could not transform <function get_label at 0x0000029BF859CEE0> and will run it as-is.\n",
      "Please report this to the TensorFlow team. When filing the bug, set the verbosity to 10 (on Linux, `export AUTOGRAPH_VERBOSITY=10`) and attach the full output.\n",
      "Cause: module 'gast' has no attribute 'Index'\n",
      "To silence this warning, decorate the function with @tf.autograph.experimental.do_not_convert\n",
      "WARNING: AutoGraph could not transform <function get_label at 0x0000029BF859CEE0> and will run it as-is.\n",
      "Please report this to the TensorFlow team. When filing the bug, set the verbosity to 10 (on Linux, `export AUTOGRAPH_VERBOSITY=10`) and attach the full output.\n",
      "Cause: module 'gast' has no attribute 'Index'\n",
      "To silence this warning, decorate the function with @tf.autograph.experimental.do_not_convert\n"
     ]
    }
   ],
   "source": [
    "train_dataset = tf.data.Dataset.from_tensor_slices(train_paths)\n",
    "train_dataset = train_dataset.map(load_image_label, num_parallel_calls=AUTOTUNE)\n",
    "train_dataset = train_dataset.map(image_preprocess, num_parallel_calls=AUTOTUNE)\n",
    "train_dataset = train_dataset.batch(batch_size)\n",
    "train_dataset = train_dataset.shuffle(buffer_size=len(train_paths))\n",
    "train_dataset = train_dataset.repeat()"
   ]
  },
  {
   "cell_type": "code",
   "execution_count": 14,
   "metadata": {},
   "outputs": [],
   "source": [
    "test_dataset = tf.data.Dataset.from_tensor_slices(test_paths)\n",
    "test_dataset = test_dataset.map(load_image_label, num_parallel_calls=AUTOTUNE)\n",
    "test_dataset = test_dataset.batch(batch_size)\n",
    "test_dataset = test_dataset.repeat()"
   ]
  },
  {
   "cell_type": "markdown",
   "metadata": {},
   "source": [
    "# Checkpoint"
   ]
  },
  {
   "cell_type": "code",
   "execution_count": 15,
   "metadata": {},
   "outputs": [],
   "source": [
    "save_path = 'checkpoints'"
   ]
  },
  {
   "cell_type": "code",
   "execution_count": 17,
   "metadata": {},
   "outputs": [],
   "source": [
    "checkpoint = tf.keras.callbacks.ModelCheckpoint(save_path, monitor='val_accuracy', verbose=1,\n",
    "                                               save_best_only=True, mode='max')\n",
    "# 콜백 객체 생성 및 scheduler 함수 적용\n",
    "def scheduler(epoch, lr):\n",
    "  tf.print(f'learning_rate: {lr:.5f}')\n",
    "  # 첫 5 에포크 동안 유지\n",
    "  if epoch < 5:\n",
    "    return lr\n",
    "  else:\n",
    "    # 학습률 감소 적용\n",
    "    return lr * tf.math.exp(-0.1)\n",
    "lr_scheduler = tf.keras.callbacks.LearningRateScheduler(scheduler)"
   ]
  },
  {
   "cell_type": "markdown",
   "metadata": {},
   "source": [
    "## Training"
   ]
  },
  {
   "cell_type": "code",
   "execution_count": 18,
   "metadata": {},
   "outputs": [
    {
     "name": "stdout",
     "output_type": "stream",
     "text": [
      "WARNING:tensorflow:From <ipython-input-18-1edab5f48078>:4: Model.fit_generator (from tensorflow.python.keras.engine.training) is deprecated and will be removed in a future version.\n",
      "Instructions for updating:\n",
      "Please use Model.fit, which supports generators.\n",
      "learning_rate: 0.00100\n",
      "Epoch 1/20\n",
      "31/31 [==============================] - ETA: 0s - loss: 2.3058 - accuracy: 0.1023\n",
      "Epoch 00001: val_accuracy improved from -inf to 0.11996, saving model to checkpoints\n",
      "WARNING:tensorflow:From C:\\Users\\admin\\anaconda3\\lib\\site-packages\\tensorflow\\python\\training\\tracking\\tracking.py:111: Model.state_updates (from tensorflow.python.keras.engine.training) is deprecated and will be removed in a future version.\n",
      "Instructions for updating:\n",
      "This property should not be used in TensorFlow 2.0, as updates are applied automatically.\n",
      "WARNING:tensorflow:From C:\\Users\\admin\\anaconda3\\lib\\site-packages\\tensorflow\\python\\training\\tracking\\tracking.py:111: Layer.updates (from tensorflow.python.keras.engine.base_layer) is deprecated and will be removed in a future version.\n",
      "Instructions for updating:\n",
      "This property should not be used in TensorFlow 2.0, as updates are applied automatically.\n",
      "INFO:tensorflow:Assets written to: checkpoints\\assets\n",
      "31/31 [==============================] - 7s 213ms/step - loss: 2.3058 - accuracy: 0.1023 - val_loss: 2.2940 - val_accuracy: 0.1200\n",
      "learning_rate: 0.00100\n",
      "Epoch 2/20\n",
      "31/31 [==============================] - ETA: 0s - loss: 2.2726 - accuracy: 0.1167 ETA: 0s - loss: 2.2780 - accu\n",
      "Epoch 00002: val_accuracy improved from 0.11996 to 0.12198, saving model to checkpoints\n",
      "INFO:tensorflow:Assets written to: checkpoints\\assets\n",
      "31/31 [==============================] - 7s 219ms/step - loss: 2.2726 - accuracy: 0.1167 - val_loss: 2.2265 - val_accuracy: 0.1220\n",
      "learning_rate: 0.00100\n",
      "Epoch 3/20\n",
      "31/31 [==============================] - ETA: 0s - loss: 2.1966 - accuracy: 0.1815\n",
      "Epoch 00003: val_accuracy improved from 0.12198 to 0.23085, saving model to checkpoints\n",
      "INFO:tensorflow:Assets written to: checkpoints\\assets\n",
      "31/31 [==============================] - 13s 404ms/step - loss: 2.1966 - accuracy: 0.1815 - val_loss: 2.0902 - val_accuracy: 0.2308\n",
      "learning_rate: 0.00100\n",
      "Epoch 4/20\n",
      "31/31 [==============================] - ETA: 0s - loss: 2.1713 - accuracy: 0.2002\n",
      "Epoch 00004: val_accuracy did not improve from 0.23085\n",
      "31/31 [==============================] - 4s 127ms/step - loss: 2.1713 - accuracy: 0.2002 - val_loss: 2.0730 - val_accuracy: 0.2117\n",
      "learning_rate: 0.00100\n",
      "Epoch 5/20\n",
      "31/31 [==============================] - ETA: 0s - loss: 2.1197 - accuracy: 0.1973\n",
      "Epoch 00005: val_accuracy did not improve from 0.23085\n",
      "31/31 [==============================] - 4s 132ms/step - loss: 2.1197 - accuracy: 0.1973 - val_loss: 2.0623 - val_accuracy: 0.2117\n",
      "learning_rate: 0.00100\n",
      "Epoch 6/20\n",
      "31/31 [==============================] - ETA: 0s - loss: 2.0573 - accuracy: 0.2169\n",
      "Epoch 00006: val_accuracy improved from 0.23085 to 0.25504, saving model to checkpoints\n",
      "INFO:tensorflow:Assets written to: checkpoints\\assets\n",
      "31/31 [==============================] - 7s 211ms/step - loss: 2.0573 - accuracy: 0.2169 - val_loss: 1.9981 - val_accuracy: 0.2550\n",
      "learning_rate: 0.00090\n",
      "Epoch 7/20\n",
      "31/31 [==============================] - ETA: 0s - loss: 1.9763 - accuracy: 0.2510\n",
      "Epoch 00007: val_accuracy improved from 0.25504 to 0.27621, saving model to checkpoints\n",
      "INFO:tensorflow:Assets written to: checkpoints\\assets\n",
      "31/31 [==============================] - 7s 236ms/step - loss: 1.9763 - accuracy: 0.2510 - val_loss: 1.9775 - val_accuracy: 0.2762\n",
      "learning_rate: 0.00082\n",
      "Epoch 8/20\n",
      "31/31 [==============================] - ETA: 0s - loss: 1.8992 - accuracy: 0.3079\n",
      "Epoch 00008: val_accuracy improved from 0.27621 to 0.29234, saving model to checkpoints\n",
      "INFO:tensorflow:Assets written to: checkpoints\\assets\n",
      "31/31 [==============================] - 7s 221ms/step - loss: 1.8992 - accuracy: 0.3079 - val_loss: 1.9354 - val_accuracy: 0.2923\n",
      "learning_rate: 0.00074\n",
      "Epoch 9/20\n",
      "31/31 [==============================] - ETA: 0s - loss: 1.9458 - accuracy: 0.2779\n",
      "Epoch 00009: val_accuracy did not improve from 0.29234\n",
      "31/31 [==============================] - 3s 110ms/step - loss: 1.9458 - accuracy: 0.2779 - val_loss: 1.9695 - val_accuracy: 0.2671\n",
      "learning_rate: 0.00067\n",
      "Epoch 10/20\n",
      "31/31 [==============================] - ETA: 0s - loss: 1.8438 - accuracy: 0.2944\n",
      "Epoch 00010: val_accuracy improved from 0.29234 to 0.31754, saving model to checkpoints\n",
      "INFO:tensorflow:Assets written to: checkpoints\\assets\n",
      "31/31 [==============================] - 6s 202ms/step - loss: 1.8438 - accuracy: 0.2944 - val_loss: 1.8789 - val_accuracy: 0.3175\n",
      "learning_rate: 0.00061\n",
      "Epoch 11/20\n",
      "31/31 [==============================] - ETA: 0s - loss: 1.8793 - accuracy: 0.2881\n",
      "Epoch 00011: val_accuracy did not improve from 0.31754\n",
      "31/31 [==============================] - 3s 109ms/step - loss: 1.8793 - accuracy: 0.2881 - val_loss: 1.9053 - val_accuracy: 0.2873\n",
      "learning_rate: 0.00055\n",
      "Epoch 12/20\n",
      "31/31 [==============================] - ETA: 0s - loss: 1.8105 - accuracy: 0.3165\n",
      "Epoch 00012: val_accuracy improved from 0.31754 to 0.32661, saving model to checkpoints\n",
      "INFO:tensorflow:Assets written to: checkpoints\\assets\n",
      "31/31 [==============================] - 6s 194ms/step - loss: 1.8105 - accuracy: 0.3165 - val_loss: 1.8401 - val_accuracy: 0.3266\n",
      "learning_rate: 0.00050\n",
      "Epoch 13/20\n",
      "31/31 [==============================] - ETA: 0s - loss: 1.7981 - accuracy: 0.3378\n",
      "Epoch 00013: val_accuracy did not improve from 0.32661\n",
      "31/31 [==============================] - 4s 117ms/step - loss: 1.7981 - accuracy: 0.3378 - val_loss: 1.8383 - val_accuracy: 0.3266\n",
      "learning_rate: 0.00045\n",
      "Epoch 14/20\n",
      "31/31 [==============================] - ETA: 0s - loss: 1.7722 - accuracy: 0.3233\n",
      "Epoch 00014: val_accuracy did not improve from 0.32661\n",
      "31/31 [==============================] - 3s 107ms/step - loss: 1.7722 - accuracy: 0.3233 - val_loss: 1.8281 - val_accuracy: 0.3246\n",
      "learning_rate: 0.00041\n",
      "Epoch 15/20\n",
      "31/31 [==============================] - ETA: 0s - loss: 1.7702 - accuracy: 0.3264\n",
      "Epoch 00015: val_accuracy improved from 0.32661 to 0.32964, saving model to checkpoints\n",
      "INFO:tensorflow:Assets written to: checkpoints\\assets\n",
      "31/31 [==============================] - 6s 181ms/step - loss: 1.7702 - accuracy: 0.3264 - val_loss: 1.8358 - val_accuracy: 0.3296\n",
      "learning_rate: 0.00037\n",
      "Epoch 16/20\n",
      "31/31 [==============================] - ETA: 0s - loss: 1.7289 - accuracy: 0.3409\n",
      "Epoch 00016: val_accuracy improved from 0.32964 to 0.36996, saving model to checkpoints\n",
      "INFO:tensorflow:Assets written to: checkpoints\\assets\n",
      "31/31 [==============================] - 6s 181ms/step - loss: 1.7289 - accuracy: 0.3409 - val_loss: 1.7739 - val_accuracy: 0.3700\n",
      "learning_rate: 0.00033\n",
      "Epoch 17/20\n",
      "31/31 [==============================] - ETA: 0s - loss: 1.6946 - accuracy: 0.3686\n",
      "Epoch 00017: val_accuracy did not improve from 0.36996\n",
      "31/31 [==============================] - 3s 99ms/step - loss: 1.6946 - accuracy: 0.3686 - val_loss: 1.7790 - val_accuracy: 0.3558\n",
      "learning_rate: 0.00030\n",
      "Epoch 18/20\n",
      "31/31 [==============================] - ETA: 0s - loss: 1.6882 - accuracy: 0.3619\n",
      "Epoch 00018: val_accuracy did not improve from 0.36996\n",
      "31/31 [==============================] - 3s 100ms/step - loss: 1.6882 - accuracy: 0.3619 - val_loss: 1.8431 - val_accuracy: 0.3347\n",
      "learning_rate: 0.00027\n",
      "Epoch 19/20\n",
      "31/31 [==============================] - ETA: 0s - loss: 1.6738 - accuracy: 0.3761\n",
      "Epoch 00019: val_accuracy did not improve from 0.36996\n",
      "31/31 [==============================] - 3s 94ms/step - loss: 1.6738 - accuracy: 0.3761 - val_loss: 1.7369 - val_accuracy: 0.3619\n",
      "learning_rate: 0.00025\n",
      "Epoch 20/20\n",
      "31/31 [==============================] - ETA: 0s - loss: 1.6780 - accuracy: 0.3800\n",
      "Epoch 00020: val_accuracy improved from 0.36996 to 0.38911, saving model to checkpoints\n",
      "INFO:tensorflow:Assets written to: checkpoints\\assets\n",
      "31/31 [==============================] - 6s 179ms/step - loss: 1.6780 - accuracy: 0.3800 - val_loss: 1.7132 - val_accuracy: 0.3891\n"
     ]
    },
    {
     "data": {
      "text/plain": [
       "<tensorflow.python.keras.callbacks.History at 0x29bfa45d670>"
      ]
     },
     "execution_count": 18,
     "metadata": {},
     "output_type": "execute_result"
    }
   ],
   "source": [
    "steps_per_epoch = len(train_paths) // batch_size\n",
    "validation_steps = len(test_paths) // batch_size\n",
    "\n",
    "model.fit_generator(\n",
    "    train_dataset,\n",
    "    steps_per_epoch=steps_per_epoch,\n",
    "    validation_data=test_dataset,\n",
    "    validation_steps=validation_steps,\n",
    "    epochs=num_epochs,\n",
    "    callbacks=[checkpoint, lr_scheduler]\n",
    ")"
   ]
  },
  {
   "cell_type": "markdown",
   "metadata": {},
   "source": [
    "https://www.tensorflow.org/tensorboard/r2/image_summaries#setup"
   ]
  }
 ],
 "metadata": {
  "kernelspec": {
   "display_name": "Python 3",
   "language": "python",
   "name": "python3"
  },
  "language_info": {
   "codemirror_mode": {
    "name": "ipython",
    "version": 3
   },
   "file_extension": ".py",
   "mimetype": "text/x-python",
   "name": "python",
   "nbconvert_exporter": "python",
   "pygments_lexer": "ipython3",
   "version": "3.8.8"
  }
 },
 "nbformat": 4,
 "nbformat_minor": 4
}
