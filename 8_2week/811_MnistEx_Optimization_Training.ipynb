{
 "cells": [
  {
   "cell_type": "markdown",
   "metadata": {
    "colab_type": "text",
    "id": "NIqKhqKSpofm"
   },
   "source": [
    "# Optimization & Training (Beginner)"
   ]
  },
  {
   "cell_type": "markdown",
   "metadata": {
    "colab_type": "text",
    "id": "cCscPZ4upofn"
   },
   "source": [
    "- tf와 layers 패키지 불러오기"
   ]
  },
  {
   "cell_type": "code",
   "execution_count": 1,
   "metadata": {
    "colab": {},
    "colab_type": "code",
    "id": "DADj-qM7pofn"
   },
   "outputs": [],
   "source": [
    "import tensorflow as tf\n",
    "from tensorflow.keras import layers\n",
    "\n",
    "from tensorflow.keras import datasets"
   ]
  },
  {
   "cell_type": "markdown",
   "metadata": {
    "colab_type": "text",
    "id": "7F3Aodj0pofq"
   },
   "source": [
    "## 학습 과정 돌아보기"
   ]
  },
  {
   "cell_type": "markdown",
   "metadata": {
    "colab_type": "text",
    "id": "YZj7EFWupofr"
   },
   "source": [
    "![image.png](attachment:image.png)"
   ]
  },
  {
   "cell_type": "markdown",
   "metadata": {
    "colab_type": "text",
    "id": "C3gZcSJRpofr"
   },
   "source": [
    "# Prepare MNIST Datset"
   ]
  },
  {
   "cell_type": "code",
   "execution_count": 2,
   "metadata": {
    "colab": {},
    "colab_type": "code",
    "id": "VrFEzLafpofs"
   },
   "outputs": [],
   "source": [
    "(train_x, train_y), (test_x, test_y) = datasets.mnist.load_data()"
   ]
  },
  {
   "cell_type": "markdown",
   "metadata": {
    "colab_type": "text",
    "id": "cTzdSi5xpofu"
   },
   "source": [
    "## Build Model"
   ]
  },
  {
   "cell_type": "markdown",
   "metadata": {
    "colab_type": "text",
    "id": "DGig9NhRpofv"
   },
   "source": [
    "![image.png](attachment:image.png)"
   ]
  },
  {
   "cell_type": "code",
   "execution_count": 3,
   "metadata": {
    "colab": {},
    "colab_type": "code",
    "id": "v9kS6Pyjpofv"
   },
   "outputs": [],
   "source": [
    "inputs = layers.Input((28, 28, 1))\n",
    "net = layers.Conv2D(32, (3, 3), padding='SAME')(inputs)\n",
    "net = layers.Activation('relu')(net)\n",
    "net = layers.Conv2D(32, (3, 3), padding='SAME')(net)\n",
    "net = layers.Activation('relu')(net)\n",
    "net = layers.MaxPooling2D(pool_size=(2, 2))(net)\n",
    "net = layers.Dropout(0.25)(net)\n",
    "\n",
    "net = layers.Conv2D(64, (3, 3), padding='SAME')(net)\n",
    "net = layers.Activation('relu')(net)\n",
    "net = layers.Conv2D(64, (3, 3), padding='SAME')(net)\n",
    "net = layers.Activation('relu')(net)\n",
    "net = layers.MaxPooling2D(pool_size=(2, 2))(net)\n",
    "net = layers.Dropout(0.25)(net)\n",
    "\n",
    "net = layers.Flatten()(net)\n",
    "net = layers.Dense(512)(net)\n",
    "net = layers.Activation('relu')(net)\n",
    "net = layers.Dropout(0.5)(net)\n",
    "net = layers.Dense(10)(net)  # num_classes\n",
    "net = layers.Activation('softmax')(net)\n",
    "\n",
    "model = tf.keras.Model(inputs=inputs, outputs=net, name='Basic_CNN')"
   ]
  },
  {
   "cell_type": "markdown",
   "metadata": {
    "colab_type": "text",
    "id": "hzgpp4C8pofx"
   },
   "source": [
    "# Optimization  \n",
    "모델을 학습하기 전 설정 "
   ]
  },
  {
   "cell_type": "markdown",
   "metadata": {
    "colab_type": "text",
    "id": "rBsA8qGBpofy"
   },
   "source": [
    "- Loss Function  \n",
    "- Optimization  \n",
    "- Metrics"
   ]
  },
  {
   "cell_type": "markdown",
   "metadata": {
    "colab_type": "text",
    "id": "N-R-LZ2Lpofy"
   },
   "source": [
    "# Loss Function  \n",
    "Loss Function 방법 확인"
   ]
  },
  {
   "cell_type": "markdown",
   "metadata": {
    "colab_type": "text",
    "id": "nixQ1dkDpofy"
   },
   "source": [
    "### Categorical vs Binary"
   ]
  },
  {
   "cell_type": "code",
   "execution_count": 4,
   "metadata": {
    "colab": {},
    "colab_type": "code",
    "id": "1NgHa41xpofz"
   },
   "outputs": [],
   "source": [
    "loss = 'binary_crossentropy'\n",
    "loss = 'categorical_crossentropy'"
   ]
  },
  {
   "cell_type": "markdown",
   "metadata": {
    "colab_type": "text",
    "id": "xLjsWauBpof1"
   },
   "source": [
    "### sparse_categorical_crossentropy vs categorical_crossentropy"
   ]
  },
  {
   "cell_type": "code",
   "execution_count": 5,
   "metadata": {
    "colab": {},
    "colab_type": "code",
    "id": "_AVAcDG4pof1"
   },
   "outputs": [],
   "source": [
    "loss_fun = tf.keras.losses.sparse_categorical_crossentropy"
   ]
  },
  {
   "cell_type": "code",
   "execution_count": 6,
   "metadata": {
    "colab": {},
    "colab_type": "code",
    "id": "hg8onzUspof4"
   },
   "outputs": [
    {
     "data": {
      "text/plain": [
       "<function tensorflow.python.keras.losses.categorical_crossentropy(y_true, y_pred, from_logits=False, label_smoothing=0)>"
      ]
     },
     "execution_count": 6,
     "metadata": {},
     "output_type": "execute_result"
    }
   ],
   "source": [
    "tf.keras.losses.categorical_crossentropy"
   ]
  },
  {
   "cell_type": "code",
   "execution_count": 7,
   "metadata": {
    "colab": {},
    "colab_type": "code",
    "id": "87qwlJs_pof6"
   },
   "outputs": [
    {
     "data": {
      "text/plain": [
       "<function tensorflow.python.keras.losses.binary_crossentropy(y_true, y_pred, from_logits=False, label_smoothing=0)>"
      ]
     },
     "execution_count": 7,
     "metadata": {},
     "output_type": "execute_result"
    }
   ],
   "source": [
    "tf.keras.losses.binary_crossentropy"
   ]
  },
  {
   "cell_type": "markdown",
   "metadata": {
    "colab_type": "text",
    "id": "XEW0BdU5pof8"
   },
   "source": [
    "# Metrics  \n",
    "\n",
    "모델을 평가하는 방법"
   ]
  },
  {
   "cell_type": "markdown",
   "metadata": {
    "colab_type": "text",
    "id": "QRKcuCHlpof8"
   },
   "source": [
    "accuracy를 이름으로 넣는 방법"
   ]
  },
  {
   "cell_type": "code",
   "execution_count": 10,
   "metadata": {
    "colab": {},
    "colab_type": "code",
    "id": "45XUWou1pof8"
   },
   "outputs": [],
   "source": [
    "metrics = ['accuracy']"
   ]
  },
  {
   "cell_type": "markdown",
   "metadata": {
    "colab_type": "text",
    "id": "F-sgznOmpof-"
   },
   "source": [
    "tf.keras.metrics."
   ]
  },
  {
   "cell_type": "code",
   "execution_count": 9,
   "metadata": {
    "colab": {},
    "colab_type": "code",
    "id": "wB7bGi3upof_"
   },
   "outputs": [],
   "source": [
    "metrics = [tf.keras.metrics.Accuracy()]"
   ]
  },
  {
   "cell_type": "markdown",
   "metadata": {
    "colab_type": "text",
    "id": "XBw2BVUhpogB"
   },
   "source": [
    "## Compile  \n",
    "Optimizer 적용"
   ]
  },
  {
   "cell_type": "markdown",
   "metadata": {
    "colab_type": "text",
    "id": "XKhU3v6SpogB"
   },
   "source": [
    "- 'sgd'\n",
    "- 'rmsprop'\n",
    "- 'adam'"
   ]
  },
  {
   "cell_type": "code",
   "execution_count": 11,
   "metadata": {
    "colab": {},
    "colab_type": "code",
    "id": "de39_2sgpogC"
   },
   "outputs": [],
   "source": [
    "optm = tf.keras.optimizers.Adam()"
   ]
  },
  {
   "cell_type": "markdown",
   "metadata": {
    "colab_type": "text",
    "id": "PsXQhaWTpogD"
   },
   "source": [
    "- tf.keras.optimizers.SGD()  \n",
    "- tf.keras.optimizers.RMSprop()    \n",
    "- tf.keras.optimizers.Adam()  "
   ]
  },
  {
   "cell_type": "code",
   "execution_count": 12,
   "metadata": {
    "colab": {},
    "colab_type": "code",
    "id": "0AIDO9HUpogD"
   },
   "outputs": [],
   "source": [
    "model.compile(optimizer='adam',\n",
    "             loss='sparse_categorical_crossentropy',\n",
    "             metrics=['accuracy'])"
   ]
  },
  {
   "cell_type": "code",
   "execution_count": null,
   "metadata": {
    "colab": {},
    "colab_type": "code",
    "id": "FKKmmIi8pogF"
   },
   "outputs": [],
   "source": []
  },
  {
   "cell_type": "markdown",
   "metadata": {
    "colab_type": "text",
    "id": "W0uMRFI7pogG"
   },
   "source": [
    "# Prepare Dataset  \n",
    "학습에 사용할 데이터셋 준비"
   ]
  },
  {
   "cell_type": "markdown",
   "metadata": {
    "colab_type": "text",
    "id": "2JvROA5hpogG"
   },
   "source": [
    "shape 확인"
   ]
  },
  {
   "cell_type": "code",
   "execution_count": 13,
   "metadata": {
    "colab": {},
    "colab_type": "code",
    "id": "N4xSKIu8pogH"
   },
   "outputs": [
    {
     "data": {
      "text/plain": [
       "((60000, 28, 28), (60000,))"
      ]
     },
     "execution_count": 13,
     "metadata": {},
     "output_type": "execute_result"
    }
   ],
   "source": [
    "train_x.shape, train_y.shape"
   ]
  },
  {
   "cell_type": "code",
   "execution_count": 14,
   "metadata": {
    "colab": {},
    "colab_type": "code",
    "id": "sphASjK7pogI"
   },
   "outputs": [
    {
     "data": {
      "text/plain": [
       "((10000, 28, 28), (10000,))"
      ]
     },
     "execution_count": 14,
     "metadata": {},
     "output_type": "execute_result"
    }
   ],
   "source": [
    "test_x.shape, test_y.shape"
   ]
  },
  {
   "cell_type": "markdown",
   "metadata": {
    "colab_type": "text",
    "id": "u0SWIGedpogJ"
   },
   "source": [
    "차원 수 늘리기"
   ]
  },
  {
   "cell_type": "code",
   "execution_count": 15,
   "metadata": {
    "colab": {},
    "colab_type": "code",
    "id": "7BS9N0LfpogK"
   },
   "outputs": [],
   "source": [
    "import numpy as np"
   ]
  },
  {
   "cell_type": "code",
   "execution_count": 16,
   "metadata": {
    "colab": {},
    "colab_type": "code",
    "id": "lKBMpYw0pogM"
   },
   "outputs": [
    {
     "data": {
      "text/plain": [
       "(60000, 28, 28, 1)"
      ]
     },
     "execution_count": 16,
     "metadata": {},
     "output_type": "execute_result"
    }
   ],
   "source": [
    "np.expand_dims(train_x, -1).shape"
   ]
  },
  {
   "cell_type": "code",
   "execution_count": 17,
   "metadata": {
    "colab": {},
    "colab_type": "code",
    "id": "W4pRvVe0pogN"
   },
   "outputs": [
    {
     "data": {
      "text/plain": [
       "TensorShape([60000, 28, 28, 1])"
      ]
     },
     "execution_count": 17,
     "metadata": {},
     "output_type": "execute_result"
    }
   ],
   "source": [
    "tf.expand_dims(train_x, -1).shape"
   ]
  },
  {
   "cell_type": "code",
   "execution_count": 18,
   "metadata": {
    "colab": {},
    "colab_type": "code",
    "id": "iki9SHIOpogO"
   },
   "outputs": [],
   "source": [
    "train_x = train_x[..., tf.newaxis]\n",
    "test_x = test_x[..., tf.newaxis]"
   ]
  },
  {
   "cell_type": "markdown",
   "metadata": {
    "colab_type": "text",
    "id": "EF-yJa3_pogQ"
   },
   "source": [
    "차원 수 잘 늘었는지 확인"
   ]
  },
  {
   "cell_type": "code",
   "execution_count": 19,
   "metadata": {
    "colab": {},
    "colab_type": "code",
    "id": "a8XkT4qupogQ"
   },
   "outputs": [
    {
     "data": {
      "text/plain": [
       "((60000, 28, 28, 1), (10000, 28, 28, 1))"
      ]
     },
     "execution_count": 19,
     "metadata": {},
     "output_type": "execute_result"
    }
   ],
   "source": [
    "train_x.shape, test_x.shape"
   ]
  },
  {
   "cell_type": "markdown",
   "metadata": {
    "colab_type": "text",
    "id": "LJSUDrd9pogU"
   },
   "source": [
    "Rescaling"
   ]
  },
  {
   "cell_type": "code",
   "execution_count": 20,
   "metadata": {
    "colab": {},
    "colab_type": "code",
    "id": "z42D39REpogU"
   },
   "outputs": [
    {
     "data": {
      "text/plain": [
       "(0, 255)"
      ]
     },
     "execution_count": 20,
     "metadata": {},
     "output_type": "execute_result"
    }
   ],
   "source": [
    "np.min(train_x), np.max(train_x)"
   ]
  },
  {
   "cell_type": "code",
   "execution_count": 21,
   "metadata": {
    "colab": {},
    "colab_type": "code",
    "id": "X-ghCmVCpogX"
   },
   "outputs": [],
   "source": [
    "train_x = train_x / 255.\n",
    "test_x = test_x / 255."
   ]
  },
  {
   "cell_type": "code",
   "execution_count": 22,
   "metadata": {
    "colab": {},
    "colab_type": "code",
    "id": "rt3-X6DzpogY"
   },
   "outputs": [
    {
     "data": {
      "text/plain": [
       "(0.0, 1.0)"
      ]
     },
     "execution_count": 22,
     "metadata": {},
     "output_type": "execute_result"
    }
   ],
   "source": [
    "np.min(train_x), np.max(train_x)"
   ]
  },
  {
   "cell_type": "markdown",
   "metadata": {
    "colab_type": "text",
    "id": "esBKh00VpogZ"
   },
   "source": [
    "# Training  \n",
    "본격적으로 학습 들어가기"
   ]
  },
  {
   "cell_type": "markdown",
   "metadata": {
    "colab_type": "text",
    "id": "8SP1sV0mpoga"
   },
   "source": [
    "학습용 Hyperparameter 설정\n",
    "\n",
    "- num_epochs\n",
    "- batch_size"
   ]
  },
  {
   "cell_type": "code",
   "execution_count": 23,
   "metadata": {
    "colab": {},
    "colab_type": "code",
    "id": "nei2YcPfpoga"
   },
   "outputs": [],
   "source": [
    "num_epochs = 1\n",
    "batch_size = 32"
   ]
  },
  {
   "cell_type": "markdown",
   "metadata": {
    "colab_type": "text",
    "id": "9oQRXYTipogb"
   },
   "source": [
    "- model.fit"
   ]
  },
  {
   "cell_type": "code",
   "execution_count": 24,
   "metadata": {
    "colab": {},
    "colab_type": "code",
    "id": "nduE3zDwpogc"
   },
   "outputs": [
    {
     "name": "stdout",
     "output_type": "stream",
     "text": [
      "1875/1875 [==============================] - 116s 62ms/step - loss: 0.1468 - accuracy: 0.9531\n"
     ]
    },
    {
     "data": {
      "text/plain": [
       "<tensorflow.python.keras.callbacks.History at 0x127aa6f0ac0>"
      ]
     },
     "execution_count": 24,
     "metadata": {},
     "output_type": "execute_result"
    }
   ],
   "source": [
    "model.fit(train_x, train_y, batch_size=batch_size, shuffle=True, epochs=num_epochs)"
   ]
  },
  {
   "cell_type": "markdown",
   "metadata": {
    "colab_type": "text",
    "id": "gf1QEFw2pogd"
   },
   "source": [
    "# Check History  \n",
    "학습 과정(History) 결과 확인"
   ]
  },
  {
   "cell_type": "code",
   "execution_count": 26,
   "metadata": {
    "colab": {},
    "colab_type": "code",
    "id": "5SN9Nschpogd"
   },
   "outputs": [
    {
     "name": "stdout",
     "output_type": "stream",
     "text": [
      "1875/1875 [==============================] - 133s 71ms/step - loss: 0.0574 - accuracy: 0.9830s - loss: 0.0575 - accuracy: \n"
     ]
    }
   ],
   "source": [
    "history = model.fit(train_x, train_y, batch_size=batch_size, shuffle=True, epochs=num_epochs)"
   ]
  },
  {
   "cell_type": "code",
   "execution_count": null,
   "metadata": {},
   "outputs": [],
   "source": [
    "history.history['loss']"
   ]
  },
  {
   "cell_type": "markdown",
   "metadata": {},
   "source": [
    "![LeNet5](https://miro.medium.com/max/1064/0*u-yUNdr5JhIDgmYs)"
   ]
  },
  {
   "cell_type": "code",
   "execution_count": 32,
   "metadata": {},
   "outputs": [
    {
     "name": "stdout",
     "output_type": "stream",
     "text": [
      "Model: \"sequential_1\"\n",
      "_________________________________________________________________\n",
      "Layer (type)                 Output Shape              Param #   \n",
      "=================================================================\n",
      "conv2d_7 (Conv2D)            (None, 28, 28, 6)         156       \n",
      "_________________________________________________________________\n",
      "average_pooling2d_2 (Average (None, 14, 14, 6)         0         \n",
      "_________________________________________________________________\n",
      "activation_8 (Activation)    (None, 14, 14, 6)         0         \n",
      "_________________________________________________________________\n",
      "conv2d_8 (Conv2D)            (None, 10, 10, 15)        2265      \n",
      "_________________________________________________________________\n",
      "average_pooling2d_3 (Average (None, 5, 5, 15)          0         \n",
      "_________________________________________________________________\n",
      "activation_9 (Activation)    (None, 5, 5, 15)          0         \n",
      "_________________________________________________________________\n",
      "conv2d_9 (Conv2D)            (None, 1, 1, 120)         45120     \n",
      "_________________________________________________________________\n",
      "flatten_2 (Flatten)          (None, 120)               0         \n",
      "_________________________________________________________________\n",
      "dense_4 (Dense)              (None, 84)                10164     \n",
      "_________________________________________________________________\n",
      "dense_5 (Dense)              (None, 10)                850       \n",
      "=================================================================\n",
      "Total params: 58,555\n",
      "Trainable params: 58,555\n",
      "Non-trainable params: 0\n",
      "_________________________________________________________________\n",
      "Epoch 1/40\n",
      "907/907 [==============================] - 16s 17ms/step - loss: 1.4516 - accuracy: 0.4719 - val_loss: 0.3598 - val_accuracy: 0.9060\n",
      "Epoch 2/40\n",
      "907/907 [==============================] - 14s 16ms/step - loss: 0.3870 - accuracy: 0.8773 - val_loss: 0.2382 - val_accuracy: 0.9350\n",
      "Epoch 3/40\n",
      "907/907 [==============================] - 12s 14ms/step - loss: 0.2998 - accuracy: 0.9045 - val_loss: 0.2112 - val_accuracy: 0.9345\n",
      "Epoch 4/40\n",
      "907/907 [==============================] - 12s 13ms/step - loss: 0.2533 - accuracy: 0.9207 - val_loss: 0.1479 - val_accuracy: 0.9595\n",
      "Epoch 5/40\n",
      "907/907 [==============================] - 11s 12ms/step - loss: 0.2246 - accuracy: 0.9290 - val_loss: 0.1315 - val_accuracy: 0.9640\n",
      "Epoch 6/40\n",
      "907/907 [==============================] - 10s 11ms/step - loss: 0.2001 - accuracy: 0.9373 - val_loss: 0.1261 - val_accuracy: 0.9665\n",
      "Epoch 7/40\n",
      "907/907 [==============================] - 11s 12ms/step - loss: 0.1847 - accuracy: 0.9417 - val_loss: 0.1123 - val_accuracy: 0.9695\n",
      "Epoch 8/40\n",
      "907/907 [==============================] - 10s 12ms/step - loss: 0.1777 - accuracy: 0.9437 - val_loss: 0.1282 - val_accuracy: 0.9655\n",
      "Epoch 9/40\n",
      "907/907 [==============================] - 10s 12ms/step - loss: 0.1630 - accuracy: 0.9482 - val_loss: 0.1035 - val_accuracy: 0.9705\n",
      "Epoch 10/40\n",
      "907/907 [==============================] - 11s 12ms/step - loss: 0.1536 - accuracy: 0.9512 - val_loss: 0.1171 - val_accuracy: 0.9680\n",
      "Epoch 11/40\n",
      "907/907 [==============================] - 11s 12ms/step - loss: 0.1426 - accuracy: 0.9549 - val_loss: 0.1123 - val_accuracy: 0.9720\n",
      "Epoch 12/40\n",
      "907/907 [==============================] - 11s 12ms/step - loss: 0.1389 - accuracy: 0.9550 - val_loss: 0.1084 - val_accuracy: 0.9715\n",
      "Epoch 13/40\n",
      "907/907 [==============================] - 10s 11ms/step - loss: 0.1309 - accuracy: 0.9582 - val_loss: 0.0860 - val_accuracy: 0.9775\n",
      "Epoch 14/40\n",
      "907/907 [==============================] - 10s 11ms/step - loss: 0.1247 - accuracy: 0.9600 - val_loss: 0.0979 - val_accuracy: 0.9755\n",
      "Epoch 15/40\n",
      "907/907 [==============================] - 11s 12ms/step - loss: 0.1200 - accuracy: 0.9616 - val_loss: 0.0927 - val_accuracy: 0.9760\n",
      "Epoch 16/40\n",
      "907/907 [==============================] - 11s 12ms/step - loss: 0.1153 - accuracy: 0.9624 - val_loss: 0.1048 - val_accuracy: 0.9740\n",
      "Epoch 17/40\n",
      "907/907 [==============================] - 11s 12ms/step - loss: 0.1132 - accuracy: 0.9643 - val_loss: 0.0970 - val_accuracy: 0.9755\n",
      "Epoch 18/40\n",
      "907/907 [==============================] - 11s 12ms/step - loss: 0.1090 - accuracy: 0.9653 - val_loss: 0.1008 - val_accuracy: 0.9760\n",
      "Epoch 19/40\n",
      "907/907 [==============================] - 11s 12ms/step - loss: 0.1042 - accuracy: 0.9669 - val_loss: 0.0895 - val_accuracy: 0.9775\n",
      "Epoch 20/40\n",
      "907/907 [==============================] - 11s 12ms/step - loss: 0.0994 - accuracy: 0.9680 - val_loss: 0.0871 - val_accuracy: 0.9790\n",
      "Epoch 21/40\n",
      "907/907 [==============================] - 11s 12ms/step - loss: 0.0983 - accuracy: 0.9684 - val_loss: 0.0842 - val_accuracy: 0.9810\n",
      "Epoch 22/40\n",
      "907/907 [==============================] - 11s 12ms/step - loss: 0.0963 - accuracy: 0.9696 - val_loss: 0.0761 - val_accuracy: 0.9800\n",
      "Epoch 23/40\n",
      "907/907 [==============================] - 12s 14ms/step - loss: 0.0954 - accuracy: 0.9690 - val_loss: 0.0794 - val_accuracy: 0.9805\n",
      "Epoch 24/40\n",
      "907/907 [==============================] - 12s 13ms/step - loss: 0.0896 - accuracy: 0.9718 - val_loss: 0.0767 - val_accuracy: 0.9770\n",
      "Epoch 25/40\n",
      "907/907 [==============================] - 11s 12ms/step - loss: 0.0869 - accuracy: 0.9721 - val_loss: 0.0728 - val_accuracy: 0.9825\n",
      "Epoch 26/40\n",
      "907/907 [==============================] - 12s 13ms/step - loss: 0.0840 - accuracy: 0.9730 - val_loss: 0.0816 - val_accuracy: 0.9795\n",
      "Epoch 27/40\n",
      "907/907 [==============================] - 11s 12ms/step - loss: 0.0852 - accuracy: 0.9723 - val_loss: 0.0700 - val_accuracy: 0.9845\n",
      "Epoch 28/40\n",
      "907/907 [==============================] - 10s 11ms/step - loss: 0.0839 - accuracy: 0.9727 - val_loss: 0.0771 - val_accuracy: 0.9830\n",
      "Epoch 29/40\n",
      "907/907 [==============================] - 10s 11ms/step - loss: 0.0789 - accuracy: 0.9747 - val_loss: 0.0743 - val_accuracy: 0.9825\n",
      "Epoch 30/40\n",
      "907/907 [==============================] - 10s 11ms/step - loss: 0.0779 - accuracy: 0.9751 - val_loss: 0.0716 - val_accuracy: 0.9840\n",
      "Epoch 31/40\n",
      "907/907 [==============================] - 13s 14ms/step - loss: 0.0764 - accuracy: 0.9755 - val_loss: 0.0880 - val_accuracy: 0.9790\n",
      "Epoch 32/40\n",
      "907/907 [==============================] - 13s 14ms/step - loss: 0.0750 - accuracy: 0.9757 - val_loss: 0.0756 - val_accuracy: 0.9830\n",
      "Epoch 33/40\n",
      "907/907 [==============================] - 10s 11ms/step - loss: 0.0724 - accuracy: 0.9768 - val_loss: 0.0576 - val_accuracy: 0.9885\n",
      "Epoch 34/40\n",
      "907/907 [==============================] - 10s 11ms/step - loss: 0.0724 - accuracy: 0.9769 - val_loss: 0.0666 - val_accuracy: 0.9845\n",
      "Epoch 35/40\n",
      "907/907 [==============================] - 10s 11ms/step - loss: 0.0702 - accuracy: 0.9774 - val_loss: 0.0717 - val_accuracy: 0.9860\n",
      "Epoch 36/40\n",
      "907/907 [==============================] - 12s 14ms/step - loss: 0.0694 - accuracy: 0.9769 - val_loss: 0.0763 - val_accuracy: 0.9785\n",
      "Epoch 37/40\n",
      "907/907 [==============================] - 10s 11ms/step - loss: 0.0668 - accuracy: 0.9785 - val_loss: 0.0832 - val_accuracy: 0.9795\n",
      "Epoch 38/40\n",
      "907/907 [==============================] - 9s 10ms/step - loss: 0.0673 - accuracy: 0.9782 - val_loss: 0.0629 - val_accuracy: 0.9865\n",
      "Epoch 39/40\n",
      "907/907 [==============================] - 12s 14ms/step - loss: 0.0658 - accuracy: 0.9788 - val_loss: 0.0670 - val_accuracy: 0.9840\n",
      "Epoch 40/40\n",
      "907/907 [==============================] - 12s 13ms/step - loss: 0.0622 - accuracy: 0.9794 - val_loss: 0.0703 - val_accuracy: 0.9845\n"
     ]
    }
   ],
   "source": [
    "import tensorflow as tf\n",
    "import matplotlib.pyplot as plt\n",
    "from tensorflow.keras import datasets, layers, models, losses\n",
    "\n",
    "(x_train, y_train), (x_test, y_test) = datasets.mnist.load_data()\n",
    "x_train = tf.pad(x_train, [[0, 0], [2, 2], [2, 2]])/255\n",
    "x_test = tf.pad(x_test, [[0, 0], [2, 2], [2, 2]])/255\n",
    "x_train.shape, x_test.shape\n",
    "\n",
    "x_train = tf.expand_dims(x_train, axis=3, name=None)\n",
    "x_test = tf.expand_dims(x_test, axis=3, name=None)\n",
    "x_train.shape, x_test.shape\n",
    "\n",
    "x_val = x_train[-2000:,:,:,:]\n",
    "y_val = y_train[-2000:]\n",
    "x_train = x_train[:-2000:,:,:,]\n",
    "y_train = y_train[:-2000]\n",
    "\n",
    "model = models.Sequential()\n",
    "model.add(layers.Conv2D(6, 5, activation='tanh', input_shape=x_train.shape[1:]))\n",
    "model.add(layers.AveragePooling2D(2))\n",
    "model.add(layers.Activation('sigmoid'))\n",
    "model.add(layers.Conv2D(15, 5, activation='tanh'))\n",
    "model.add(layers.AveragePooling2D(2))\n",
    "model.add(layers.Activation('sigmoid'))\n",
    "model.add(layers.Conv2D(120, 5, activation='tanh'))\n",
    "model.add(layers.Flatten())\n",
    "model.add(layers.Dense(84, activation='tanh'))\n",
    "model.add(layers.Dense(10, activation='softmax'))\n",
    "model.summary()\n",
    "\n",
    "model.compile(optimizer='adam', loss=losses.sparse_categorical_crossentropy, metrics=['accuracy'])\n",
    "history = model.fit(x_train, y_train, batch_size=64, epochs=40, validation_data=(x_val, y_val))"
   ]
  },
  {
   "cell_type": "code",
   "execution_count": null,
   "metadata": {},
   "outputs": [],
   "source": [
    "fig, axs = plt.subplots(2, 1, figsize=(15, 15))\n",
    "axs[0].plot(history.history['loss'])\n",
    "axs[0].plot(history.history['val_loss'])\n",
    "axs[0].title.set_text('Training Loss vs Validation Loss')\n",
    "axs[0].legend(['Train', 'Val'])\n",
    "axs[1].plot(history.history['accuracy'])\n",
    "axs[1].plot(history.history['val_accuracy'])\n",
    "axs[1].title.set_text('Training Accuracy vs Validation Accuracy')\n",
    "axs[1].legend(['Train', 'Val'])\n",
    "plt.show()"
   ]
  },
  {
   "cell_type": "code",
   "execution_count": null,
   "metadata": {},
   "outputs": [],
   "source": [
    "model.evaluate(x_test, y_test)"
   ]
  },
  {
   "cell_type": "markdown",
   "metadata": {},
   "source": [
    "![AlexNet](https://miro.medium.com/max/1400/0*hhd-belzmau_TMcF.png)"
   ]
  },
  {
   "cell_type": "code",
   "execution_count": 29,
   "metadata": {},
   "outputs": [
    {
     "data": {
      "text/plain": [
       "TensorShape([32, 32, 1])"
      ]
     },
     "execution_count": 29,
     "metadata": {},
     "output_type": "execute_result"
    }
   ],
   "source": []
  },
  {
   "cell_type": "code",
   "execution_count": null,
   "metadata": {},
   "outputs": [],
   "source": []
  }
 ],
 "metadata": {
  "colab": {
   "name": "2-06. Optimization _ Training (Keras) [before].ipynb",
   "provenance": []
  },
  "kernelspec": {
   "display_name": "Python 3",
   "language": "python",
   "name": "python3"
  },
  "language_info": {
   "codemirror_mode": {
    "name": "ipython",
    "version": 3
   },
   "file_extension": ".py",
   "mimetype": "text/x-python",
   "name": "python",
   "nbconvert_exporter": "python",
   "pygments_lexer": "ipython3",
   "version": "3.8.8"
  }
 },
 "nbformat": 4,
 "nbformat_minor": 4
}
