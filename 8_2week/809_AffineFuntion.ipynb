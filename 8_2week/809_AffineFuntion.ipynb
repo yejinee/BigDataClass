{
 "cells": [
  {
   "cell_type": "markdown",
   "id": "3f4019b7-ba5d-40c1-a124-a878a0a0ad63",
   "metadata": {},
   "source": [
    "# Affine Functions with 1 Feature"
   ]
  },
  {
   "cell_type": "code",
   "execution_count": 2,
   "id": "026864ef-ac6b-4412-bc13-0770073d9f75",
   "metadata": {},
   "outputs": [],
   "source": [
    "import tensorflow as tf\n",
    "from tensorflow.keras.layers import Dense"
   ]
  },
  {
   "cell_type": "code",
   "execution_count": 10,
   "id": "c006c885-4021-4873-95f1-91d3e1ec1e66",
   "metadata": {},
   "outputs": [
    {
     "name": "stdout",
     "output_type": "stream",
     "text": [
      "<class 'tensorflow.python.framework.ops.EagerTensor'>\n",
      "[[-1.3742678]] [0.] [[-13.742678]]\n"
     ]
    }
   ],
   "source": [
    "x = tf.constant([[10.]]) # Input setting (input -> matrix)\n",
    "print(type(x))\n",
    "dense = Dense(units=1, activation='linear') # imp. an affine function\n",
    "#dense.get_weights() # error\n",
    "y_tf = dense(x) # forward propagation + params initialization z = xw + b\n",
    "W, b = dense.get_weights()\n",
    "print(W, b, y_tf.numpy())"
   ]
  },
  {
   "cell_type": "code",
   "execution_count": 14,
   "id": "2c5b0da2-2f48-4879-8205-091686eb78db",
   "metadata": {},
   "outputs": [
    {
     "name": "stdout",
     "output_type": "stream",
     "text": [
      "<class 'numpy.ndarray'> <class 'numpy.ndarray'>\n"
     ]
    },
    {
     "data": {
      "text/plain": [
       "<tf.Tensor: shape=(1, 1), dtype=float32, numpy=array([[-13.742678]], dtype=float32)>"
      ]
     },
     "execution_count": 14,
     "metadata": {},
     "output_type": "execute_result"
    }
   ],
   "source": [
    "print(type(W), type(b))\n",
    "y_tf"
   ]
  },
  {
   "cell_type": "code",
   "execution_count": 13,
   "id": "c6d56f9f-0fe3-4d30-a61f-3f7fd08c0d11",
   "metadata": {},
   "outputs": [
    {
     "name": "stdout",
     "output_type": "stream",
     "text": [
      "=======Input / Weight / Biase===========\n",
      "x: (1, 1)\n",
      "[[10.]]\n",
      "\n",
      "W: (1, 1)\n",
      "[[-1.3742678]]\n",
      "\n",
      "b: (1,)\n",
      "[0.]\n",
      "\n",
      "===== output =======\n",
      "y(Tensorflow): (1, 1)\n",
      "[[-13.742678]]\n",
      "\n",
      "y(Manual): (1, 1)\n",
      "[[-13.742678]]\n",
      "\n"
     ]
    }
   ],
   "source": [
    "y_man = tf.linalg.matmul(x, W) + b\n",
    "\n",
    "print('=======Input / Weight / Biase===========')\n",
    "print('x: {}\\n{}\\n'.format(x.shape, x.numpy()))\n",
    "print('W: {}\\n{}\\n'.format(W.shape, W))\n",
    "print('b: {}\\n{}\\n'.format(b.shape, b))\n",
    "\n",
    "print('===== output =======')\n",
    "print('y(Tensorflow): {}\\n{}\\n'.format(y_tf.shape, y_tf.numpy()))\n",
    "print('y(Manual): {}\\n{}\\n'.format(y_man.shape, y_man.numpy()))"
   ]
  },
  {
   "cell_type": "code",
   "execution_count": 17,
   "id": "b17536b5-68fa-489a-8f97-e262a6796ace",
   "metadata": {},
   "outputs": [
    {
     "name": "stdout",
     "output_type": "stream",
     "text": [
      "W: (1, 1)\n",
      "[[10.]]\n",
      "\n",
      "b: (1,)\n",
      "[20.]\n",
      "\n"
     ]
    }
   ],
   "source": [
    "# Params Intialzation\n",
    "from tensorflow.keras.initializers import Constant\n",
    "# weight / bias setting\n",
    "W, b = (tf.constant(10.), tf.constant(20.))\n",
    "w_init, b_init = Constant(10.), Constant(20.)\n",
    "\n",
    "dense = Dense(units=1, activation='linear', \n",
    "              kernel_initializer=w_init, \n",
    "              bias_initializer=b_init)\n",
    "y_tf = dense(x)\n",
    "W, b = dense.get_weights()\n",
    "\n",
    "print('W: {}\\n{}\\n'.format(W.shape, W))\n",
    "print('b: {}\\n{}\\n'.format(b.shape, b))"
   ]
  },
  {
   "cell_type": "code",
   "execution_count": 19,
   "id": "9fd0703f-14a9-4068-a7fc-96b76a09244b",
   "metadata": {},
   "outputs": [
    {
     "name": "stdout",
     "output_type": "stream",
     "text": [
      "[[120.]]\n"
     ]
    }
   ],
   "source": [
    "print(y_tf.numpy()) # 10 * 10 + 20"
   ]
  },
  {
   "cell_type": "markdown",
   "id": "8bf16619-7e47-4004-87c1-1a608e2d974e",
   "metadata": {},
   "source": [
    "# Affine Functions with n Feature"
   ]
  },
  {
   "cell_type": "code",
   "execution_count": 20,
   "id": "4ce60e5f-522b-4783-82cf-9d1de19e8820",
   "metadata": {},
   "outputs": [],
   "source": [
    "import tensorflow as tf\n",
    "from tensorflow.keras.layers import Dense\n",
    "\n",
    "tf.random.set_seed(10)\n",
    "x = tf.random.uniform(shape=(1, 10), minval=0, maxval=10)\n",
    "dense = Dense(units=1)"
   ]
  },
  {
   "cell_type": "code",
   "execution_count": 21,
   "id": "2832d7e1-d7ac-47b2-adab-e2e0782216ec",
   "metadata": {},
   "outputs": [
    {
     "data": {
      "text/plain": [
       "array([[6.4415097 , 8.082472  , 8.976547  , 6.3689017 , 6.270969  ,\n",
       "        9.936013  , 0.23594856, 0.36683917, 5.8605776 , 5.7403145 ]],\n",
       "      dtype=float32)"
      ]
     },
     "execution_count": 21,
     "metadata": {},
     "output_type": "execute_result"
    }
   ],
   "source": [
    "x.numpy()"
   ]
  },
  {
   "cell_type": "code",
   "execution_count": 22,
   "id": "7c1f19d4-4ffa-47b8-98bb-83bfd8bf1f7e",
   "metadata": {},
   "outputs": [],
   "source": [
    "y_tf = dense(x)\n",
    "W, b = dense.get_weights()\n",
    "y_man = tf.linalg.matmul(x, W) + b"
   ]
  },
  {
   "cell_type": "code",
   "execution_count": 23,
   "id": "07085f8c-a219-47dd-b7a7-d5ffbefa4707",
   "metadata": {},
   "outputs": [
    {
     "name": "stdout",
     "output_type": "stream",
     "text": [
      "=======Input / Weight / Biase===========\n",
      "x: (1, 10)\n",
      "[[6.4415097  8.082472   8.976547   6.3689017  6.270969   9.936013\n",
      "  0.23594856 0.36683917 5.8605776  5.7403145 ]]\n",
      "\n",
      "W: (10, 1)\n",
      "[[ 0.08091772]\n",
      " [-0.10844558]\n",
      " [-0.5296768 ]\n",
      " [ 0.30087596]\n",
      " [-0.18808389]\n",
      " [ 0.29202002]\n",
      " [-0.39361012]\n",
      " [ 0.09546101]\n",
      " [-0.4453573 ]\n",
      " [ 0.6689041 ]]\n",
      "\n",
      "b: (1,)\n",
      "[0.]\n",
      "\n",
      "===== output =======\n",
      "y(Tensorflow): (1, 1)\n",
      "[[-0.29983306]]\n",
      "\n",
      "y(Manual): (1, 1)\n",
      "[[-0.29983306]]\n",
      "\n"
     ]
    }
   ],
   "source": [
    "print('=======Input / Weight / Biase===========')\n",
    "print('x: {}\\n{}\\n'.format(x.shape, x.numpy()))\n",
    "print('W: {}\\n{}\\n'.format(W.shape, W))\n",
    "print('b: {}\\n{}\\n'.format(b.shape, b))\n",
    "\n",
    "print('===== output =======')\n",
    "print('y(Tensorflow): {}\\n{}\\n'.format(y_tf.shape, y_tf.numpy()))\n",
    "print('y(Manual): {}\\n{}\\n'.format(y_man.shape, y_man.numpy()))"
   ]
  },
  {
   "cell_type": "code",
   "execution_count": null,
   "id": "7c555fd5-c305-4d93-a50d-3bec59d36fa2",
   "metadata": {},
   "outputs": [],
   "source": []
  }
 ],
 "metadata": {
  "kernelspec": {
   "display_name": "Python 3",
   "language": "python",
   "name": "python3"
  },
  "language_info": {
   "codemirror_mode": {
    "name": "ipython",
    "version": 3
   },
   "file_extension": ".py",
   "mimetype": "text/x-python",
   "name": "python",
   "nbconvert_exporter": "python",
   "pygments_lexer": "ipython3",
   "version": "3.7.10"
  }
 },
 "nbformat": 4,
 "nbformat_minor": 5
}
