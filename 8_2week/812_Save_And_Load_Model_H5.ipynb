{
 "cells": [
  {
   "cell_type": "markdown",
   "metadata": {},
   "source": [
    "# TensorFlow 2.0"
   ]
  },
  {
   "cell_type": "code",
   "execution_count": 1,
   "metadata": {},
   "outputs": [],
   "source": [
    "import os\n",
    "from glob import glob\n",
    "from datetime import datetime\n",
    "\n",
    "import numpy as np\n",
    "\n",
    "import tensorflow as tf\n",
    "from tensorflow.keras import layers\n",
    "\n",
    "from tensorflow.keras import datasets \n",
    "\n",
    "import matplotlib.pyplot as plt\n",
    "\n",
    "%load_ext tensorboard\n",
    "%matplotlib inline"
   ]
  },
  {
   "cell_type": "markdown",
   "metadata": {},
   "source": [
    "## Hyperparameter Tunning"
   ]
  },
  {
   "cell_type": "code",
   "execution_count": 2,
   "metadata": {},
   "outputs": [],
   "source": [
    "num_epochs = 5\n",
    "batch_size = 32\n",
    "\n",
    "learning_rate = 0.001\n",
    "\n",
    "dropout_rate = 0.5\n",
    "\n",
    "input_shape = (32, 32, 3)\n",
    "num_classes = 10"
   ]
  },
  {
   "cell_type": "markdown",
   "metadata": {},
   "source": [
    "## Build Model"
   ]
  },
  {
   "cell_type": "code",
   "execution_count": 3,
   "metadata": {},
   "outputs": [],
   "source": [
    "inputs = layers.Input(input_shape)\n",
    "\n",
    "net = layers.Conv2D(32, (3, 3), padding='SAME')(inputs)\n",
    "net = layers.Activation('relu')(net)\n",
    "net = layers.Conv2D(32, (3, 3), padding='SAME')(net)\n",
    "net = layers.Activation('relu')(net)\n",
    "net = layers.MaxPooling2D(pool_size=(2, 2))(net)\n",
    "net = layers.Dropout(dropout_rate)(net)\n",
    "\n",
    "net = layers.Conv2D(64, (3, 3), padding='SAME')(net)\n",
    "net = layers.Activation('relu')(net)\n",
    "net = layers.Conv2D(64, (3, 3), padding='SAME')(net)\n",
    "net = layers.Activation('relu')(net)\n",
    "net = layers.MaxPooling2D(pool_size=(2, 2))(net)\n",
    "net = layers.Dropout(dropout_rate)(net)\n",
    "\n",
    "net = layers.Flatten()(net)\n",
    "net = layers.Dense(512)(net)\n",
    "net = layers.Activation('relu')(net)\n",
    "net = layers.Dropout(dropout_rate)(net)\n",
    "net = layers.Dense(num_classes)(net)\n",
    "net = layers.Activation('softmax')(net)\n",
    "\n",
    "model = tf.keras.Model(inputs=inputs, outputs=net, name='Basic_CNN')"
   ]
  },
  {
   "cell_type": "code",
   "execution_count": 4,
   "metadata": {},
   "outputs": [],
   "source": [
    "# Model is the full model w/o custom layers\n",
    "model.compile(optimizer=tf.keras.optimizers.Adam(learning_rate),  # Optimization\n",
    "              loss='sparse_categorical_crossentropy',  # Loss Function \n",
    "              metrics=['accuracy'])  # Metrics / Accuracy"
   ]
  },
  {
   "cell_type": "markdown",
   "metadata": {},
   "source": [
    "# Data Preprocess"
   ]
  },
  {
   "cell_type": "code",
   "execution_count": 5,
   "metadata": {},
   "outputs": [],
   "source": [
    "train_paths = glob('dataset/cifar/train/*.png')[:100]\n",
    "test_paths = glob('dataset/cifar/test/*.png')[:100]"
   ]
  },
  {
   "cell_type": "code",
   "execution_count": 6,
   "metadata": {},
   "outputs": [],
   "source": [
    "def get_class_name(path):\n",
    "    return path.split('_')[-1].replace('.png', '')"
   ]
  },
  {
   "cell_type": "code",
   "execution_count": 7,
   "metadata": {},
   "outputs": [],
   "source": [
    "train_labels = [get_class_name(path) for path in train_paths]\n",
    "class_names = np.unique(train_labels)"
   ]
  },
  {
   "cell_type": "code",
   "execution_count": 8,
   "metadata": {},
   "outputs": [],
   "source": [
    "def get_label(path):\n",
    "    fname = tf.strings.split(path, '_')[-1]\n",
    "    lbl_name = tf.strings.regex_replace(fname, '.png', '')\n",
    "    onehot = tf.cast(lbl_name == class_names, tf.uint8)\n",
    "    return tf.argmax(onehot)  # 이번에는 onehot이 아닌 label 번호로"
   ]
  },
  {
   "cell_type": "code",
   "execution_count": 9,
   "metadata": {},
   "outputs": [],
   "source": [
    "def load_image_label(path):\n",
    "    gfile = tf.io.read_file(path)\n",
    "    image = tf.io.decode_image(gfile)\n",
    "    image = tf.cast(image, tf.float32) / 255.  # rescale\n",
    "    \n",
    "    label = get_label(path)\n",
    "    return image, label"
   ]
  },
  {
   "cell_type": "code",
   "execution_count": 10,
   "metadata": {},
   "outputs": [],
   "source": [
    "def image_preprocess(image, label):\n",
    "    image = tf.image.random_flip_up_down(image)\n",
    "    image = tf.image.random_flip_left_right(image)\n",
    "    return image, label"
   ]
  },
  {
   "cell_type": "code",
   "execution_count": 11,
   "metadata": {},
   "outputs": [],
   "source": [
    "AUTOTUNE = tf.data.experimental.AUTOTUNE"
   ]
  },
  {
   "cell_type": "code",
   "execution_count": 12,
   "metadata": {},
   "outputs": [
    {
     "name": "stdout",
     "output_type": "stream",
     "text": [
      "WARNING:tensorflow:AutoGraph could not transform <function get_label at 0x000001EFA1EBB5E0> and will run it as-is.\n",
      "Please report this to the TensorFlow team. When filing the bug, set the verbosity to 10 (on Linux, `export AUTOGRAPH_VERBOSITY=10`) and attach the full output.\n",
      "Cause: module 'gast' has no attribute 'Index'\n",
      "To silence this warning, decorate the function with @tf.autograph.experimental.do_not_convert\n",
      "WARNING: AutoGraph could not transform <function get_label at 0x000001EFA1EBB5E0> and will run it as-is.\n",
      "Please report this to the TensorFlow team. When filing the bug, set the verbosity to 10 (on Linux, `export AUTOGRAPH_VERBOSITY=10`) and attach the full output.\n",
      "Cause: module 'gast' has no attribute 'Index'\n",
      "To silence this warning, decorate the function with @tf.autograph.experimental.do_not_convert\n"
     ]
    }
   ],
   "source": [
    "train_dataset = tf.data.Dataset.from_tensor_slices(train_paths)\n",
    "train_dataset = train_dataset.map(load_image_label, num_parallel_calls=AUTOTUNE)\n",
    "train_dataset = train_dataset.map(image_preprocess, num_parallel_calls=AUTOTUNE)\n",
    "train_dataset = train_dataset.batch(batch_size)\n",
    "train_dataset = train_dataset.shuffle(buffer_size=len(train_paths))\n",
    "train_dataset = train_dataset.repeat()"
   ]
  },
  {
   "cell_type": "code",
   "execution_count": 13,
   "metadata": {},
   "outputs": [],
   "source": [
    "test_dataset = tf.data.Dataset.from_tensor_slices(test_paths)\n",
    "test_dataset = test_dataset.map(load_image_label, num_parallel_calls=AUTOTUNE)\n",
    "test_dataset = test_dataset.batch(batch_size)\n",
    "test_dataset = test_dataset.repeat()"
   ]
  },
  {
   "cell_type": "markdown",
   "metadata": {},
   "source": [
    "## Training"
   ]
  },
  {
   "cell_type": "markdown",
   "metadata": {},
   "source": [
    "http://localhost:6006"
   ]
  },
  {
   "cell_type": "code",
   "execution_count": 14,
   "metadata": {},
   "outputs": [
    {
     "name": "stdout",
     "output_type": "stream",
     "text": [
      "WARNING:tensorflow:From <ipython-input-14-ace97a0ab232>:4: Model.fit_generator (from tensorflow.python.keras.engine.training) is deprecated and will be removed in a future version.\n",
      "Instructions for updating:\n",
      "Please use Model.fit, which supports generators.\n",
      "Epoch 1/5\n",
      "3/3 [==============================] - 0s 122ms/step - loss: 2.3859 - accuracy: 0.0294 - val_loss: 2.3010 - val_accuracy: 0.1771\n",
      "Epoch 2/5\n",
      "3/3 [==============================] - 0s 118ms/step - loss: 2.2946 - accuracy: 0.1146 - val_loss: 2.3007 - val_accuracy: 0.1771\n",
      "Epoch 3/5\n",
      "3/3 [==============================] - 0s 117ms/step - loss: 2.3020 - accuracy: 0.1029 - val_loss: 2.3089 - val_accuracy: 0.1042\n",
      "Epoch 4/5\n",
      "3/3 [==============================] - 0s 86ms/step - loss: 2.2648 - accuracy: 0.1471 - val_loss: 2.3282 - val_accuracy: 0.0729\n",
      "Epoch 5/5\n",
      "3/3 [==============================] - 0s 82ms/step - loss: 2.3121 - accuracy: 0.0588 - val_loss: 2.3774 - val_accuracy: 0.0729\n"
     ]
    }
   ],
   "source": [
    "steps_per_epoch = len(train_paths) // batch_size\n",
    "validation_steps = len(test_paths) // batch_size\n",
    "\n",
    "history = model.fit_generator(\n",
    "    train_dataset,\n",
    "    steps_per_epoch=steps_per_epoch,\n",
    "    validation_data=test_dataset,\n",
    "    validation_steps=validation_steps,\n",
    "    epochs=num_epochs\n",
    ")"
   ]
  },
  {
   "cell_type": "markdown",
   "metadata": {},
   "source": [
    "# Load Checkpoint"
   ]
  },
  {
   "cell_type": "code",
   "execution_count": null,
   "metadata": {},
   "outputs": [],
   "source": [
    "model.load_weights('checkpoints')"
   ]
  },
  {
   "cell_type": "markdown",
   "metadata": {},
   "source": [
    "# Saving Model"
   ]
  },
  {
   "cell_type": "code",
   "execution_count": 16,
   "metadata": {},
   "outputs": [],
   "source": [
    "save_path = 'mymodel.h5'"
   ]
  },
  {
   "cell_type": "code",
   "execution_count": 17,
   "metadata": {},
   "outputs": [],
   "source": [
    "model.save(save_path, include_optimizer=True)"
   ]
  },
  {
   "cell_type": "code",
   "execution_count": 18,
   "metadata": {},
   "outputs": [],
   "source": [
    "model_ = tf.keras.models.load_model('mymodel.h5')"
   ]
  },
  {
   "cell_type": "code",
   "execution_count": null,
   "metadata": {},
   "outputs": [],
   "source": []
  },
  {
   "cell_type": "markdown",
   "metadata": {},
   "source": [
    "# Saving Model - 2"
   ]
  },
  {
   "cell_type": "code",
   "execution_count": 19,
   "metadata": {},
   "outputs": [],
   "source": [
    "model.save_weights('model_weights.h5')"
   ]
  },
  {
   "cell_type": "code",
   "execution_count": 20,
   "metadata": {},
   "outputs": [],
   "source": [
    "with open('model_architecture.json','w') as f:\n",
    "    f.write(model.to_json())"
   ]
  },
  {
   "cell_type": "markdown",
   "metadata": {},
   "source": [
    "# model.h5 들여다보기"
   ]
  },
  {
   "cell_type": "code",
   "execution_count": 21,
   "metadata": {},
   "outputs": [],
   "source": [
    "import h5py"
   ]
  },
  {
   "cell_type": "code",
   "execution_count": 22,
   "metadata": {},
   "outputs": [],
   "source": [
    "model_file = h5py.File('mymodel.h5', 'r+')"
   ]
  },
  {
   "cell_type": "code",
   "execution_count": 23,
   "metadata": {},
   "outputs": [
    {
     "data": {
      "text/plain": [
       "<KeysViewHDF5 ['model_weights', 'optimizer_weights']>"
      ]
     },
     "execution_count": 23,
     "metadata": {},
     "output_type": "execute_result"
    }
   ],
   "source": [
    "model_file.keys()"
   ]
  },
  {
   "cell_type": "code",
   "execution_count": 24,
   "metadata": {},
   "outputs": [
    {
     "data": {
      "text/plain": [
       "<KeysViewHDF5 ['activation', 'activation_1', 'activation_2', 'activation_3', 'activation_4', 'activation_5', 'conv2d', 'conv2d_1', 'conv2d_2', 'conv2d_3', 'dense', 'dense_1', 'dropout', 'dropout_1', 'dropout_2', 'flatten', 'input_1', 'max_pooling2d', 'max_pooling2d_1']>"
      ]
     },
     "execution_count": 24,
     "metadata": {},
     "output_type": "execute_result"
    }
   ],
   "source": [
    "model_file['model_weights'].keys()"
   ]
  },
  {
   "cell_type": "code",
   "execution_count": 25,
   "metadata": {},
   "outputs": [
    {
     "data": {
      "text/plain": [
       "<KeysViewHDF5 ['bias:0', 'kernel:0']>"
      ]
     },
     "execution_count": 25,
     "metadata": {},
     "output_type": "execute_result"
    }
   ],
   "source": [
    "model_file['model_weights']['conv2d']['conv2d'].keys()"
   ]
  },
  {
   "cell_type": "code",
   "execution_count": 26,
   "metadata": {},
   "outputs": [
    {
     "data": {
      "text/plain": [
       "<HDF5 dataset \"kernel:0\": shape (3, 3, 3, 32), type \"<f4\">"
      ]
     },
     "execution_count": 26,
     "metadata": {},
     "output_type": "execute_result"
    }
   ],
   "source": [
    "model_file['model_weights']['conv2d']['conv2d']['kernel:0']"
   ]
  },
  {
   "cell_type": "code",
   "execution_count": 27,
   "metadata": {},
   "outputs": [
    {
     "data": {
      "text/plain": [
       "array([[[[ 1.29264649e-02, -7.43630752e-02, -1.15566693e-01,\n",
       "           1.15833052e-01, -1.01491444e-01,  5.43681085e-02,\n",
       "          -1.22614704e-01, -1.06557727e-01,  6.41910136e-02,\n",
       "           5.55084348e-02, -1.34538695e-01, -3.74212712e-02,\n",
       "           1.83644164e-02,  8.79505724e-02,  3.56111601e-02,\n",
       "           5.53667210e-02, -4.82676737e-03,  2.04892107e-03,\n",
       "          -8.92910734e-02,  1.36247113e-01, -5.26835024e-02,\n",
       "           1.19112907e-02,  4.24701832e-02,  5.10574728e-02,\n",
       "          -9.26299021e-02, -2.83396617e-02,  1.74181145e-02,\n",
       "          -1.38688296e-01,  3.59615907e-02, -1.12014927e-01,\n",
       "           5.48468642e-02, -1.04599237e-01],\n",
       "         [ 1.00609608e-01,  6.19837381e-02,  3.40131000e-02,\n",
       "           5.79758435e-02,  1.93704944e-02,  2.95441896e-02,\n",
       "           1.58071723e-02, -2.45018303e-02, -2.92502996e-02,\n",
       "           5.15227532e-03,  6.97738677e-02, -1.34020731e-01,\n",
       "           1.05090886e-01, -1.09662063e-01,  8.80536959e-02,\n",
       "           3.67647745e-02,  1.25078529e-01,  9.60216671e-02,\n",
       "           1.02531224e-01,  8.43438357e-02, -7.54054487e-02,\n",
       "           5.89900874e-02,  9.66187343e-02,  3.93971475e-03,\n",
       "           3.33499946e-02, -2.93436982e-02,  1.03973307e-01,\n",
       "          -2.73940135e-02,  1.15048699e-01,  1.14481948e-01,\n",
       "          -1.25994518e-01, -1.36720076e-01],\n",
       "         [-1.24911755e-01,  2.19040718e-02, -6.98201135e-02,\n",
       "          -2.37775352e-02, -5.03048785e-02,  6.42879084e-02,\n",
       "           1.14536002e-01, -1.62586868e-02, -2.93960655e-03,\n",
       "           5.98631091e-02,  8.78829360e-02,  1.30361617e-01,\n",
       "          -3.83467376e-02, -6.51992932e-02, -6.77142665e-02,\n",
       "          -4.67050672e-02,  1.11951016e-01,  1.04998961e-01,\n",
       "           3.98507118e-02,  7.60176405e-02, -1.40822813e-01,\n",
       "           4.70416620e-02, -7.98988193e-02, -3.19615752e-02,\n",
       "           3.59679312e-02, -5.89459427e-02, -1.24947894e-02,\n",
       "          -1.20887034e-01, -3.12538743e-02, -5.81036285e-02,\n",
       "          -1.21596009e-01,  5.80941215e-02]],\n",
       "\n",
       "        [[-1.21187843e-01, -9.86092389e-02,  9.39667150e-02,\n",
       "           6.44828081e-02, -5.32498136e-02, -1.21109806e-01,\n",
       "          -4.98266965e-02, -9.15872753e-02, -6.50576651e-02,\n",
       "          -2.45196689e-02, -8.07291642e-03, -6.14778586e-02,\n",
       "           1.30154178e-01, -1.42368197e-01, -2.35486533e-02,\n",
       "          -9.79011506e-02, -7.69233629e-02,  9.89697725e-02,\n",
       "           4.52814177e-02, -5.42767607e-02, -1.26333117e-01,\n",
       "          -2.46782321e-02,  3.79347615e-02, -7.00403377e-02,\n",
       "           6.50088713e-02, -1.06183797e-01,  1.29766703e-01,\n",
       "           6.23840988e-02,  1.27136827e-01,  7.06794709e-02,\n",
       "          -1.24363281e-01, -1.19494326e-01],\n",
       "         [ 1.25128329e-01, -1.16835132e-01, -3.00328545e-02,\n",
       "          -5.24026453e-02,  2.46702395e-02, -6.67773327e-03,\n",
       "          -2.50051115e-02,  6.38520420e-02,  1.21570379e-01,\n",
       "           1.19741350e-01,  6.77929819e-02, -4.21627536e-02,\n",
       "           4.15163636e-02, -1.38655365e-01, -3.91442478e-02,\n",
       "          -5.52484877e-02, -6.23649098e-02,  4.35919166e-02,\n",
       "          -1.11107484e-01,  6.97567835e-02,  4.33024205e-02,\n",
       "          -1.12505592e-02,  6.89314902e-02, -3.08905263e-02,\n",
       "          -2.79177236e-03,  5.80317639e-02,  1.19569656e-02,\n",
       "          -7.56586418e-02, -1.33761287e-01, -8.19734484e-02,\n",
       "           1.22565381e-01, -2.65458748e-02],\n",
       "         [-1.00735486e-01,  1.27738014e-01,  2.28263382e-02,\n",
       "          -8.46517012e-02, -1.03117168e-01, -3.48437577e-02,\n",
       "          -8.81660432e-02,  6.20797910e-02, -1.15206771e-01,\n",
       "          -8.19648057e-02, -4.94865254e-02, -2.02539098e-02,\n",
       "           1.19043484e-01,  2.33052131e-02,  3.33377011e-02,\n",
       "           9.88527536e-02, -4.84019704e-02,  5.71086220e-02,\n",
       "           2.84504145e-02, -1.14185654e-01, -1.20066732e-01,\n",
       "          -1.24306984e-01, -9.64920223e-02,  1.15463704e-01,\n",
       "           4.51318584e-02,  1.50762554e-02,  8.01104605e-02,\n",
       "           2.45025400e-02,  1.21518098e-01,  7.99619257e-02,\n",
       "           1.88291504e-03, -4.33361419e-02]],\n",
       "\n",
       "        [[-1.37229068e-02, -8.21734145e-02,  5.50060309e-02,\n",
       "           4.54642810e-02,  7.14112744e-02,  1.02973774e-01,\n",
       "          -1.09254949e-01, -1.24797694e-01, -1.09615982e-01,\n",
       "          -4.28965837e-02, -1.33294716e-01,  2.80781873e-02,\n",
       "          -1.02813385e-01,  1.04119584e-01, -2.65912451e-02,\n",
       "          -2.05759518e-03,  1.10576138e-01, -1.01869144e-01,\n",
       "           4.27111462e-02,  7.05240527e-03,  7.51383528e-02,\n",
       "           3.33350562e-02, -4.70608100e-02, -5.16620465e-02,\n",
       "          -1.36041135e-01,  1.29519226e-02, -5.52184023e-02,\n",
       "          -6.90052360e-02,  5.89284040e-02, -1.06188217e-02,\n",
       "          -1.44712860e-02, -1.14468046e-01],\n",
       "         [ 9.70691722e-03, -8.98643583e-02, -4.09298800e-02,\n",
       "           2.68186610e-02, -1.24222696e-01, -3.86384293e-03,\n",
       "           1.38306051e-01,  4.67395857e-02,  4.51193601e-02,\n",
       "          -1.09628811e-01, -3.57544944e-02, -4.13886718e-02,\n",
       "           1.07332788e-01,  6.47379830e-02,  3.24425101e-02,\n",
       "          -1.41382860e-02, -4.85512204e-02, -5.66390045e-02,\n",
       "           8.43959674e-02, -3.50825004e-02, -5.87112568e-02,\n",
       "           7.83220828e-02, -3.08932085e-02, -7.88905397e-02,\n",
       "           3.69332992e-02, -9.24652740e-02,  9.68158916e-02,\n",
       "           5.44028655e-02,  3.63338515e-02,  3.74216139e-02,\n",
       "          -1.34481147e-01,  7.24790171e-02],\n",
       "         [ 2.24601850e-02,  6.26994856e-03, -1.81855727e-02,\n",
       "          -1.88661972e-03, -8.19215477e-02, -1.32158801e-01,\n",
       "          -6.55659586e-02,  1.21200696e-01,  1.38170533e-02,\n",
       "           9.47191864e-02,  8.19490030e-02, -9.86987874e-02,\n",
       "           1.23605043e-01, -2.53232215e-02, -1.18878566e-01,\n",
       "           7.93801770e-02, -5.58089688e-02,  2.19240263e-02,\n",
       "          -5.53295277e-02,  6.72799051e-02,  2.06747036e-02,\n",
       "          -5.98392375e-02,  1.00598358e-01, -1.27740819e-02,\n",
       "           1.06525503e-01, -1.71090290e-02, -1.01157010e-01,\n",
       "          -6.62200451e-02,  1.17443159e-01,  5.89296557e-02,\n",
       "           1.34675890e-01,  8.77346173e-02]]],\n",
       "\n",
       "\n",
       "       [[[ 9.45846066e-02, -8.53027254e-02, -9.17154178e-02,\n",
       "           9.87660736e-02,  7.73676187e-02,  9.29567218e-03,\n",
       "           6.11278825e-02, -1.26992375e-01,  9.92280915e-02,\n",
       "          -1.11449704e-01, -6.75387979e-02,  8.51018131e-02,\n",
       "          -1.14670135e-01, -1.25467867e-01, -1.33708969e-01,\n",
       "           5.91741353e-02, -1.11719090e-02, -4.05023210e-02,\n",
       "           8.23881775e-02, -8.11266229e-02, -6.20943122e-02,\n",
       "           2.58885138e-02,  1.23232119e-02,  9.10886303e-02,\n",
       "          -2.68130098e-03, -2.80323252e-02, -3.58604826e-02,\n",
       "           3.45191658e-02, -5.20688035e-02, -8.05509910e-02,\n",
       "           4.63342890e-02, -1.26064599e-01],\n",
       "         [-1.48673346e-02,  1.25142336e-02, -1.00916974e-01,\n",
       "          -1.22955501e-01,  1.33907169e-01,  3.91083360e-02,\n",
       "          -1.33431673e-01, -1.06022246e-01, -7.57898837e-02,\n",
       "          -1.02739342e-01,  1.27064988e-01,  6.82650581e-02,\n",
       "          -1.26509428e-01, -1.19099349e-01, -4.34732996e-02,\n",
       "           1.11578554e-01, -1.82762817e-02, -5.96220568e-02,\n",
       "          -3.22333239e-02, -1.07008055e-01,  1.08565345e-01,\n",
       "           6.05511069e-02, -1.10987365e-01, -4.62659337e-02,\n",
       "           9.58106741e-02, -1.40542731e-01,  5.79067208e-02,\n",
       "          -1.16794802e-01,  2.00221036e-02,  1.06884107e-01,\n",
       "          -1.07327975e-01,  3.05854436e-02],\n",
       "         [ 7.98449144e-02,  6.73059821e-02,  7.84516782e-02,\n",
       "           3.73873822e-02, -1.32882237e-01,  2.84784753e-02,\n",
       "          -3.71871479e-02,  4.86215129e-02, -1.03019178e-02,\n",
       "          -9.60502625e-02,  1.03609785e-01, -1.72002055e-02,\n",
       "          -1.10024415e-01,  9.54601914e-02, -5.66715971e-02,\n",
       "           7.00260848e-02, -1.28693551e-01,  1.12604715e-01,\n",
       "           8.26693624e-02,  4.08522561e-02, -7.09445998e-02,\n",
       "           1.92168467e-02,  5.81353679e-02, -4.38930318e-02,\n",
       "          -5.72007485e-02,  6.47565499e-02,  5.42933494e-03,\n",
       "           1.25570476e-01,  9.11141336e-02,  2.74122953e-02,\n",
       "           3.74707729e-02, -6.42504469e-02]],\n",
       "\n",
       "        [[-9.84194428e-02,  7.50522763e-02,  5.19264676e-03,\n",
       "          -9.69671905e-02,  5.61045296e-03, -3.35784405e-02,\n",
       "           4.28518914e-02,  1.31116301e-01, -9.58305001e-02,\n",
       "          -2.84318663e-02, -5.44774123e-02, -9.43390206e-02,\n",
       "          -1.10520788e-01, -6.89390823e-02,  3.52975130e-02,\n",
       "          -9.13202390e-02, -7.50232562e-02, -6.69742376e-02,\n",
       "           1.24176905e-01, -2.14292221e-02,  1.21932469e-01,\n",
       "          -1.32055044e-01, -8.21743011e-02,  1.29764885e-01,\n",
       "           9.91559029e-02,  2.58762427e-02, -9.59114358e-02,\n",
       "          -3.14447917e-02, -8.30812380e-02, -1.06079705e-01,\n",
       "          -6.52485937e-02, -1.04824722e-01],\n",
       "         [-6.29574284e-02, -1.08087063e-01, -1.28739059e-01,\n",
       "           5.73595315e-02,  2.41582020e-05,  9.94896591e-02,\n",
       "          -1.98533256e-02, -1.38458505e-01,  2.51988191e-02,\n",
       "          -1.21670023e-01, -7.91739523e-02, -1.31847739e-01,\n",
       "          -1.26882061e-01,  3.76145244e-02, -1.13745436e-01,\n",
       "          -1.10688843e-01,  3.56038054e-03,  3.14854719e-02,\n",
       "           3.90181020e-02, -4.57866974e-02,  5.38379662e-02,\n",
       "           2.51237620e-02,  1.02912866e-01, -1.11526661e-01,\n",
       "          -6.78743050e-02, -8.53095278e-02, -5.34879491e-02,\n",
       "           3.19486000e-02, -9.43609178e-02,  3.66080850e-02,\n",
       "          -6.26817495e-02,  7.79683813e-02],\n",
       "         [-2.69283447e-02,  8.50690603e-02, -2.12040432e-02,\n",
       "           7.54954368e-02,  6.23635314e-02,  8.96689594e-02,\n",
       "          -1.86728239e-02, -6.66662678e-02,  2.92019658e-02,\n",
       "           1.35997355e-01, -1.14515141e-01,  6.21870672e-03,\n",
       "           5.02025150e-02,  1.94692481e-02, -1.22701161e-01,\n",
       "          -5.87852784e-02, -6.75019994e-02, -2.54056007e-02,\n",
       "          -6.37179911e-02, -1.49267949e-02, -1.01038285e-01,\n",
       "           1.01095974e-01,  8.36282745e-02,  6.47310317e-02,\n",
       "           1.48553541e-02, -3.90664972e-02,  1.43126147e-02,\n",
       "           6.87587038e-02,  1.14379153e-01, -4.18696553e-02,\n",
       "           3.33004370e-02,  1.09625995e-01]],\n",
       "\n",
       "        [[-3.18378508e-02,  7.14132637e-02, -8.06226805e-02,\n",
       "           9.97723565e-02, -2.72338167e-02,  4.37220782e-02,\n",
       "           1.69972945e-02, -1.31262198e-01, -1.36718854e-01,\n",
       "          -8.53539556e-02, -4.50209342e-02,  1.12036288e-01,\n",
       "          -1.22934848e-01, -5.06233014e-02,  6.98559433e-02,\n",
       "           7.64981657e-02, -1.19940810e-01, -5.74312471e-02,\n",
       "          -8.51240456e-02, -1.19440123e-01, -9.91297141e-03,\n",
       "           5.02451099e-02,  1.07276052e-01, -9.25427377e-02,\n",
       "          -1.35004461e-01,  5.32238036e-02,  4.48014028e-02,\n",
       "           7.29587972e-02,  1.18095279e-01, -4.24615778e-02,\n",
       "          -1.27745911e-01,  8.80595595e-02],\n",
       "         [-5.30767301e-03,  3.60092074e-02, -1.35807067e-01,\n",
       "          -8.68039057e-02,  8.80000666e-02, -1.27542377e-01,\n",
       "           6.63219690e-02, -1.25474617e-01, -4.03672308e-02,\n",
       "           5.41635929e-03, -4.08845656e-02,  5.73818833e-02,\n",
       "           1.14029162e-01,  1.54595366e-02, -1.17994785e-01,\n",
       "          -2.55461466e-02,  1.19791120e-01,  1.29001439e-01,\n",
       "           1.16793208e-01,  7.22608417e-02,  1.20893769e-01,\n",
       "          -2.42605936e-02,  1.07627124e-01, -8.44819099e-02,\n",
       "           7.73289800e-02,  3.11229634e-03,  2.22139098e-02,\n",
       "           1.14518344e-01,  6.48521120e-03, -5.66835664e-02,\n",
       "          -6.69394508e-02, -9.91047546e-02],\n",
       "         [ 7.83920288e-02, -1.15611434e-01,  4.59637493e-02,\n",
       "          -1.86397657e-02, -2.24069282e-02,  3.58481742e-02,\n",
       "           1.72622446e-02,  6.68251216e-02, -3.93318348e-02,\n",
       "          -2.91554313e-02, -5.41696586e-02,  4.20739874e-02,\n",
       "           1.28560767e-01,  2.00956669e-02, -7.28066638e-02,\n",
       "           4.60056104e-02, -1.00960016e-01,  6.20796941e-02,\n",
       "          -4.56747971e-02, -6.40068874e-02, -1.76722649e-02,\n",
       "           8.26581270e-02, -8.18616822e-02, -5.29932752e-02,\n",
       "           9.09162238e-02,  6.70927763e-02, -1.24070264e-01,\n",
       "           1.19230554e-01, -7.71726966e-02,  1.24981776e-01,\n",
       "           1.10340618e-01, -8.47558491e-03]]],\n",
       "\n",
       "\n",
       "       [[[-1.11061700e-01, -9.96718369e-03, -6.15977831e-02,\n",
       "          -6.57535940e-02,  6.44338802e-02, -1.31704822e-01,\n",
       "           1.13909259e-01,  1.53468242e-02, -8.70023370e-02,\n",
       "          -1.23926729e-01, -6.74015880e-02, -6.83874963e-03,\n",
       "          -8.17614943e-02,  1.17666602e-01, -9.79859531e-02,\n",
       "          -4.46715299e-03,  5.82133010e-02,  1.16252162e-01,\n",
       "          -1.12568466e-02,  5.51130623e-02,  5.36576100e-02,\n",
       "          -8.24191421e-02, -1.80102400e-02, -6.09261617e-02,\n",
       "          -3.62321362e-02, -1.04726449e-01,  9.09780189e-02,\n",
       "           2.12876741e-02, -6.20076954e-02, -9.78697166e-02,\n",
       "          -8.53342116e-02,  5.29634394e-02],\n",
       "         [ 4.21704277e-02,  9.98196751e-02,  9.81482491e-02,\n",
       "          -3.37686986e-02, -1.11229166e-01,  7.37979868e-03,\n",
       "          -7.47333542e-02,  9.68844220e-02,  1.02538886e-02,\n",
       "           1.65425725e-02, -2.73593999e-02,  7.77886882e-02,\n",
       "           1.36196399e-02, -1.30474538e-01,  1.28847554e-01,\n",
       "          -1.24066524e-01, -1.15721576e-01, -3.53923962e-02,\n",
       "           1.13723557e-02,  6.02802709e-02,  1.27301708e-01,\n",
       "           1.09393233e-02, -9.64896455e-02, -6.40531331e-02,\n",
       "           6.07715324e-02,  2.74771824e-02,  1.24567576e-01,\n",
       "           1.03567578e-01,  5.73312007e-02,  2.43575126e-02,\n",
       "           8.08944553e-02,  1.05662465e-01],\n",
       "         [ 1.65078603e-02, -9.03157741e-02,  2.21122652e-02,\n",
       "          -1.26149669e-01,  1.12512685e-01,  9.04865097e-03,\n",
       "          -1.08154409e-01, -1.35750741e-01,  7.13991076e-02,\n",
       "          -3.02783977e-02, -1.32059664e-01,  1.03395313e-01,\n",
       "           1.27729386e-01, -1.04565941e-01,  7.19251111e-02,\n",
       "          -7.61236623e-02,  1.43639361e-02,  1.26113757e-01,\n",
       "           3.46529782e-02, -3.59164551e-02, -9.58669409e-02,\n",
       "           1.12776838e-01,  1.08297832e-01,  7.45975226e-02,\n",
       "          -5.70522882e-02,  4.02885452e-02,  8.98679569e-02,\n",
       "           3.49126719e-02,  9.06826034e-02, -8.97642970e-03,\n",
       "           1.09928116e-01, -5.78629784e-02]],\n",
       "\n",
       "        [[ 1.22255981e-01, -1.31834611e-01,  1.38851637e-02,\n",
       "          -6.97041452e-02, -8.17417726e-02, -8.72679725e-02,\n",
       "          -1.21697895e-01, -4.04101145e-03,  1.14745408e-01,\n",
       "           9.44309384e-02,  6.97416365e-02,  8.91536102e-02,\n",
       "          -1.60548147e-02,  9.91722196e-02,  2.36989129e-02,\n",
       "           1.12592205e-01, -8.43415558e-02, -8.04497674e-03,\n",
       "           3.58860344e-02, -5.48291802e-02, -6.65507466e-02,\n",
       "          -7.53057823e-02,  9.83457044e-02, -8.72329697e-02,\n",
       "          -1.93458609e-02,  1.18804805e-01,  1.24297954e-01,\n",
       "           5.29848319e-03, -6.81379512e-02,  1.17035005e-02,\n",
       "          -6.24569803e-02,  7.21302703e-02],\n",
       "         [-1.24264643e-01,  1.17581278e-01, -5.66476397e-02,\n",
       "           6.79116398e-02, -1.14507593e-01, -8.89704898e-02,\n",
       "          -7.90639147e-02, -1.12025067e-02,  4.39312086e-02,\n",
       "          -3.19941295e-03,  2.94589363e-02, -4.85625714e-02,\n",
       "          -1.37622952e-01,  5.04813641e-02,  3.50070558e-02,\n",
       "           8.64634141e-02,  1.67661738e-02, -6.00620955e-02,\n",
       "          -6.10526390e-02, -7.22498968e-02,  1.19125843e-01,\n",
       "          -9.13595334e-02, -4.63085882e-02,  7.15588331e-02,\n",
       "          -8.67549628e-02,  4.05874737e-02, -6.70199543e-02,\n",
       "           4.06676754e-02, -9.07127652e-03, -7.28223324e-02,\n",
       "           6.84942901e-02, -6.60767779e-03],\n",
       "         [-1.21766508e-01, -1.04390606e-01, -7.22473636e-02,\n",
       "          -1.29686669e-01, -5.22225834e-02, -1.22845523e-01,\n",
       "          -1.34369195e-01, -9.43344459e-02,  5.60733564e-02,\n",
       "           1.06211573e-01, -3.08607966e-02, -2.60968111e-03,\n",
       "          -9.54805687e-02, -1.32652923e-01, -7.46804150e-03,\n",
       "           2.45937016e-02, -1.03587747e-01, -2.59154215e-02,\n",
       "           8.05848762e-02, -1.21993110e-01, -4.94428799e-02,\n",
       "          -1.04925543e-01, -2.43146680e-02,  1.26761377e-01,\n",
       "           9.67144594e-02,  2.99159735e-02,  3.17513198e-02,\n",
       "           1.23837978e-01, -4.13682610e-02, -1.38441861e-01,\n",
       "          -3.97781953e-02, -1.96635034e-02]],\n",
       "\n",
       "        [[ 1.30665660e-01, -7.43450746e-02,  4.75566126e-02,\n",
       "          -6.40784800e-02,  3.83865684e-02, -7.71274120e-02,\n",
       "          -1.37859434e-01,  7.51049668e-02, -4.61157151e-02,\n",
       "           4.12113778e-02,  5.66859357e-03,  9.78378505e-02,\n",
       "          -6.40337989e-02, -8.97947922e-02, -8.25548917e-02,\n",
       "           1.20712377e-01,  9.35560018e-02,  1.35606825e-01,\n",
       "           1.22040167e-01,  4.19940427e-02, -2.01312173e-02,\n",
       "           1.18416995e-01,  9.40901935e-02,  7.73350075e-02,\n",
       "          -8.72740149e-02,  1.21897481e-01, -2.03288626e-02,\n",
       "          -7.06432611e-02,  3.72111425e-02,  8.16553757e-02,\n",
       "           1.33543238e-01,  2.35313196e-02],\n",
       "         [-7.50258788e-02,  7.25442097e-02,  3.37284841e-02,\n",
       "          -1.40901178e-01,  6.68208301e-02, -1.27909839e-01,\n",
       "          -5.74218407e-02,  9.34408829e-02, -9.55776051e-02,\n",
       "          -9.76670235e-02, -1.07482381e-01, -3.77984755e-02,\n",
       "           9.77405086e-02, -5.10379449e-02, -1.30305365e-01,\n",
       "          -9.25780088e-02,  1.05273733e-02,  3.34202200e-02,\n",
       "          -2.32138522e-02, -6.75894842e-02, -7.91550949e-02,\n",
       "           1.15190759e-01,  1.17235169e-01, -3.78547236e-02,\n",
       "           2.22948026e-02,  4.13194522e-02, -6.67585582e-02,\n",
       "          -9.87488031e-02, -8.40061530e-02,  1.09227404e-01,\n",
       "          -3.32817920e-02,  8.87444690e-02],\n",
       "         [-5.51949218e-02, -4.15394492e-02, -2.99768504e-02,\n",
       "           1.05733737e-01, -1.21896245e-01,  1.01477560e-02,\n",
       "           1.29735410e-01,  1.06960982e-01, -4.21744287e-02,\n",
       "          -7.34964460e-02, -4.48490307e-02, -5.72820343e-02,\n",
       "          -1.17998801e-01, -2.40073167e-02,  1.10324703e-01,\n",
       "           5.04359864e-02, -1.33640870e-01,  1.02723157e-02,\n",
       "          -7.85830393e-02, -2.38144631e-03,  1.46824941e-02,\n",
       "           4.99469936e-02, -1.35746300e-01,  4.29169647e-02,\n",
       "          -4.13665436e-02, -4.33246903e-02,  1.10876441e-01,\n",
       "          -8.53834078e-02, -1.20921224e-01, -1.01547077e-01,\n",
       "          -1.04436964e-01, -3.67483385e-02]]]], dtype=float32)"
      ]
     },
     "execution_count": 27,
     "metadata": {},
     "output_type": "execute_result"
    }
   ],
   "source": [
    "np.array(model_file['model_weights']['conv2d']['conv2d']['kernel:0'])"
   ]
  },
  {
   "cell_type": "code",
   "execution_count": null,
   "metadata": {},
   "outputs": [],
   "source": []
  }
 ],
 "metadata": {
  "kernelspec": {
   "display_name": "Python 3",
   "language": "python",
   "name": "python3"
  },
  "language_info": {
   "codemirror_mode": {
    "name": "ipython",
    "version": 3
   },
   "file_extension": ".py",
   "mimetype": "text/x-python",
   "name": "python",
   "nbconvert_exporter": "python",
   "pygments_lexer": "ipython3",
   "version": "3.8.8"
  }
 },
 "nbformat": 4,
 "nbformat_minor": 4
}
