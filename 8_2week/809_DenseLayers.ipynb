{
 "cells": [
  {
   "cell_type": "markdown",
   "source": [
    "# Dense Layers\r\n",
    "- 해당 Layer가 오기 직전의 Input과 후의 Output을 완전 연결 계층으로 만듬\r\n",
    "- Dense Layer를 사용해 감소된 차원의 Feature Map들만 Input으로 해 Output과 완전연결 계층 생성해 효율적 학습 가능\r\n",
    "\r\n",
    "## ✔ Dense Layer의 필요성\r\n",
    "- Image가 고해상도인 경우 parameter가 급증\r\n",
    "- Spatial Feature가 직렬화로 무시됌\r\n"
   ],
   "metadata": {}
  },
  {
   "cell_type": "code",
   "execution_count": null,
   "source": [
    "# Shape of Dense Layers\r\n",
    "import tensorflow as tf\r\n",
    "from tensorflow.keras.layers import Dense\r\n",
    "import warnings\r\n",
    "warnings.filterwarnings('ignore')"
   ],
   "outputs": [],
   "metadata": {}
  },
  {
   "cell_type": "code",
   "execution_count": 4,
   "source": [
    "N, n_feature = 1, 10\r\n",
    "tf.random.set_seed(10)\r\n",
    "x = tf.random.normal(shape=(N, n_feature))\r\n",
    "\r\n",
    "n_neuron = 3\r\n",
    "dense = Dense(units=n_neuron, activation='sigmoid')\r\n",
    "y = dense(x)\r\n",
    "\r\n",
    "W, b = dense.get_weights()\r\n",
    "print('===== Input / Weight / Bias =====')\r\n",
    "print('x: ', x.shape)\r\n",
    "print('W: ', W.shape)\r\n",
    "print('b: ', b.shape)\r\n",
    "print('y: ', y.shape)"
   ],
   "outputs": [
    {
     "output_type": "stream",
     "name": "stdout",
     "text": [
      "===== Input / Weight / Bias =====\n",
      "x:  (1, 10)\n",
      "W:  (10, 3)\n",
      "b:  (3,)\n",
      "y:  (1, 3)\n"
     ]
    }
   ],
   "metadata": {}
  },
  {
   "cell_type": "code",
   "execution_count": 5,
   "source": [
    "N, n_feature = 3, 10\r\n",
    "tf.random.set_seed(10)\r\n",
    "x = tf.random.normal(shape=(N, n_feature))\r\n",
    "\r\n",
    "n_neuron = 3\r\n",
    "dense = Dense(units=n_neuron, activation='sigmoid')\r\n",
    "y = dense(x)\r\n",
    "\r\n",
    "W, b = dense.get_weights()\r\n",
    "print('===== Input / Weight / Bias =====')\r\n",
    "print('x: ', x.shape)\r\n",
    "print('W: ', W.shape)\r\n",
    "print('b: ', b.shape)\r\n",
    "print('y: ', y.shape)"
   ],
   "outputs": [
    {
     "output_type": "stream",
     "name": "stdout",
     "text": [
      "===== Input / Weight / Bias =====\n",
      "x:  (3, 10)\n",
      "W:  (10, 3)\n",
      "b:  (3,)\n",
      "y:  (3, 3)\n"
     ]
    }
   ],
   "metadata": {}
  },
  {
   "cell_type": "code",
   "execution_count": 6,
   "source": [
    "# Output Calculations\r\n",
    "import numpy as np\r\n",
    "N, n_feature = 4, 10\r\n",
    "tf.random.set_seed(10)\r\n",
    "x = tf.random.normal(shape=(N, n_feature))\r\n",
    "\r\n",
    "n_neuron = 3\r\n",
    "dense = Dense(units=n_neuron, activation='sigmoid')\r\n",
    "y_tf = dense(x)\r\n",
    "print('y(Tensorflow): \\n', y_tf.numpy())\r\n",
    "\r\n",
    "W, b = dense.get_weights()\r\n",
    "\r\n",
    "# calculate with matrix multiplication\r\n",
    "z = tf.linalg.matmul(x, W) + b\r\n",
    "y_man = 1 / (1+tf.math.exp(-z))\r\n",
    "print('y(with matrix multiplocation: \\n)', y_man.numpy())\r\n",
    "\r\n",
    "# calculate with dot products\r\n",
    "y_man_vec = np.zeros(shape=(N, n_neuron))\r\n",
    "for x_idx in range(N):\r\n",
    "    x_ = x[x_idx]\r\n",
    "    for nu_idx in range(n_neuron):\r\n",
    "        w, b_ = W[:, nu_idx], b[nu_idx]\r\n",
    "        z = tf.reduce_sum(x_ * w) + b_\r\n",
    "        a = 1 / (1+np.exp(-z))\r\n",
    "        y_man_vec[x_idx, nu_idx] = a\r\n",
    "print('y(with dot product): \\n', y_man_vec)"
   ],
   "outputs": [
    {
     "output_type": "stream",
     "name": "stdout",
     "text": [
      "y(Tensorflow): \n",
      " [[0.8874107  0.28992724 0.35931098]\n",
      " [0.7775674  0.6703928  0.20458944]\n",
      " [0.42813158 0.61795133 0.4594186 ]\n",
      " [0.8721554  0.18618418 0.49994683]]\n",
      "y(with matrix multiplocation: \n",
      ") [[0.8874107  0.28992724 0.35931098]\n",
      " [0.7775674  0.6703928  0.20458944]\n",
      " [0.42813158 0.61795133 0.4594186 ]\n",
      " [0.8721554  0.18618418 0.49994683]]\n",
      "ERROR! Session/line number was not unique in database. History logging moved to new session 582\n",
      "y(with dot product): \n",
      " [[0.8874107  0.28992724 0.35931102]\n",
      " [0.7775674  0.67039285 0.20458942]\n",
      " [0.4281316  0.61795133 0.45941861]\n",
      " [0.87215541 0.18618418 0.49994681]]\n"
     ]
    }
   ],
   "metadata": {}
  },
  {
   "cell_type": "markdown",
   "source": [
    "# Model Implementation"
   ],
   "metadata": {}
  },
  {
   "cell_type": "code",
   "execution_count": 7,
   "source": [
    "# Model Implementation with Sequential Method\r\n",
    "from tensorflow.keras.layers import Dense\r\n",
    "from tensorflow.keras.models import Sequential"
   ],
   "outputs": [],
   "metadata": {}
  },
  {
   "cell_type": "code",
   "execution_count": 8,
   "source": [
    "model = Sequential()\r\n",
    "model.add(Dense(units=10, activation='sigmoid'))\r\n",
    "model.add(Dense(units=20, activation='sigmoid'))"
   ],
   "outputs": [
    {
     "output_type": "stream",
     "name": "stdout",
     "text": [
      "ERROR! Session/line number was not unique in database. History logging moved to new session 583\n"
     ]
    }
   ],
   "metadata": {}
  },
  {
   "cell_type": "code",
   "execution_count": 10,
   "source": [
    "n_neurons = [3, 4, 5, 6]\r\n",
    "\r\n",
    "model = list()\r\n",
    "for n_neuron in n_neurons:\r\n",
    "    model.append(Dense(units=n_neuron, activation='sigmoid'))\r\n",
    "    \r\n",
    "model = Sequential()\r\n",
    "for n_neuron in n_neurons:\r\n",
    "    model.add(Dense(units=n_neuron, activation='sigmoid'))\r\n",
    "    \r\n",
    "# 기본적으로 리스트나 시퀀셜을 사용하는 것은 비슷 \r\n",
    "# Sequential class 이용 하면 부가 기능 지원"
   ],
   "outputs": [],
   "metadata": {}
  },
  {
   "cell_type": "code",
   "execution_count": 12,
   "source": [
    "# Model Implementation with Model-subclassing\r\n",
    "from tensorflow.keras.layers import Dense\r\n",
    "from tensorflow.keras.models import Model"
   ],
   "outputs": [],
   "metadata": {}
  },
  {
   "cell_type": "code",
   "execution_count": 13,
   "source": [
    "class TestModel(Model):\r\n",
    "    def __init__(self):\r\n",
    "        super(TestModel, self).__init__() # 상위 클래스 Model을 초기화 작업 호출\r\n",
    "        self.dense1 = Dense(units=10, activation='sigmoid')\r\n",
    "        self.dense2 = Dense(units=20, activation='sigmoid')\r\n",
    "\r\n",
    "model = TestModel()\r\n",
    "print(model.dense1)\r\n",
    "print(model.dense2)"
   ],
   "outputs": [
    {
     "output_type": "stream",
     "name": "stdout",
     "text": [
      "<tensorflow.python.keras.layers.core.Dense object at 0x000001B96B5FD0C8>\n",
      "<tensorflow.python.keras.layers.core.Dense object at 0x000001B96BDADD08>\n"
     ]
    }
   ],
   "metadata": {}
  },
  {
   "cell_type": "code",
   "execution_count": 15,
   "source": [
    "# Forward Propagation of Models\r\n",
    "from tensorflow.keras.layers import Dense\r\n",
    "from tensorflow.keras.models import Model\r\n",
    "from tensorflow.keras.models import Sequential"
   ],
   "outputs": [
    {
     "output_type": "stream",
     "name": "stdout",
     "text": [
      "ERROR! Session/line number was not unique in database. History logging moved to new session 585\n"
     ]
    }
   ],
   "metadata": {}
  },
  {
   "cell_type": "code",
   "execution_count": 17,
   "source": [
    "tf.random.set_seed(10)\r\n",
    "X = tf.random.normal(shape=(4, 10))\r\n",
    "\r\n",
    "# sequential method\r\n",
    "model = Sequential()\r\n",
    "model.add(Dense(units=10, activation='sigmoid'))\r\n",
    "model.add(Dense(units=20, activation='sigmoid'))\r\n",
    "\r\n",
    "Y = model(X) # 요 시점 W, b 초기화가 됨. (기본은 랜덤)\r\n",
    "print(Y.numpy())\r\n",
    "\r\n",
    "# Model-subclassing\r\n",
    "class TestModel(Model):\r\n",
    "    def __init__(self):\r\n",
    "        super(TestModel, self).__init__()\r\n",
    "        self.dense1 = Dense(units=10, activation='sigmoid')\r\n",
    "        self.dense2 = Dense(units=20, activation='sigmoid')\r\n",
    "\r\n",
    "    def call(self, x):\r\n",
    "        x = self.dense1(x)\r\n",
    "        x = self.dense2(x)\r\n",
    "        return x\r\n",
    "\r\n",
    "model = TestModel()\r\n",
    "Y = model(X) # 요 시점 W, b 초기화가 됨. (기본은 랜덤)\r\n",
    "print(Y.numpy())"
   ],
   "outputs": [
    {
     "output_type": "stream",
     "name": "stdout",
     "text": [
      "[[0.55650467 0.5736378  0.5630582  0.38230422 0.58008534 0.46750382\n",
      "  0.5453265  0.57239604 0.577736   0.5092679  0.63902617 0.41740972\n",
      "  0.49596012 0.48987812 0.3786818  0.6252993  0.507673   0.5675629\n",
      "  0.44154426 0.5643339 ]\n",
      " [0.542635   0.5824134  0.55322725 0.4182083  0.45012072 0.46044162\n",
      "  0.5349409  0.5653203  0.50379336 0.5493765  0.6248533  0.48017088\n",
      "  0.4684742  0.448952   0.44587278 0.58404434 0.40546963 0.5525067\n",
      "  0.48883933 0.53214234]\n",
      " [0.55147415 0.54305255 0.5955269  0.39230987 0.49052256 0.47776744\n",
      "  0.5909605  0.6016277  0.5510731  0.53855234 0.6518259  0.36644483\n",
      "  0.46875128 0.42796102 0.42704156 0.62905306 0.47941467 0.5476874\n",
      "  0.45441562 0.5198266 ]\n",
      " [0.5501883  0.6035677  0.543347   0.37710547 0.553181   0.46198443\n",
      "  0.5360454  0.57856405 0.59026885 0.4992652  0.66410637 0.46451893\n",
      "  0.47575763 0.51785564 0.3944179  0.58145726 0.4373687  0.54021823\n",
      "  0.46061313 0.6211433 ]]\n",
      "[[0.4081323  0.42172372 0.41616654 0.6124194  0.5208273  0.4728814\n",
      "  0.45194685 0.55067974 0.48239452 0.5269487  0.34257016 0.5678826\n",
      "  0.53683674 0.4511606  0.57737255 0.37457487 0.50302655 0.47585037\n",
      "  0.4644284  0.48717836]\n",
      " [0.39427665 0.42261705 0.4263922  0.6321028  0.58425653 0.41423166\n",
      "  0.4553509  0.5650285  0.47298375 0.5716204  0.37920338 0.5789773\n",
      "  0.55008554 0.46743047 0.62787014 0.38443872 0.4465076  0.44824988\n",
      "  0.44269797 0.4882121 ]\n",
      " [0.4318702  0.4313522  0.42389897 0.6220153  0.53737754 0.4032365\n",
      "  0.4418381  0.59052485 0.54286927 0.5861168  0.36018    0.567988\n",
      "  0.5985896  0.50855976 0.6440172  0.35895768 0.51136065 0.4251622\n",
      "  0.46972218 0.45307997]\n",
      " [0.34408414 0.41604784 0.3780035  0.6310612  0.550605   0.49759394\n",
      "  0.40622115 0.53566176 0.40989125 0.5805914  0.30071312 0.6019247\n",
      "  0.46417212 0.38576797 0.57098013 0.35501042 0.47410986 0.41021484\n",
      "  0.43562746 0.4727015 ]]\n"
     ]
    }
   ],
   "metadata": {}
  },
  {
   "cell_type": "code",
   "execution_count": null,
   "source": [],
   "outputs": [],
   "metadata": {}
  }
 ],
 "metadata": {
  "kernelspec": {
   "name": "python3",
   "display_name": "Python 3.8.8 64-bit ('base': conda)"
  },
  "language_info": {
   "codemirror_mode": {
    "name": "ipython",
    "version": 3
   },
   "file_extension": ".py",
   "mimetype": "text/x-python",
   "name": "python",
   "nbconvert_exporter": "python",
   "pygments_lexer": "ipython3",
   "version": "3.8.8"
  },
  "interpreter": {
   "hash": "40aad76b6a08bf7c66d35880b5b9359a81633cf2405343e85202dcb9ce476e47"
  }
 },
 "nbformat": 4,
 "nbformat_minor": 5
}