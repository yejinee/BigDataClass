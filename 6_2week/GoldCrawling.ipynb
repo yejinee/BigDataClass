{
 "cells": [
  {
   "cell_type": "markdown",
   "metadata": {},
   "source": [
    "# 한국 금거래소 크롤링"
   ]
  },
  {
   "cell_type": "code",
   "execution_count": 1,
   "metadata": {},
   "outputs": [],
   "source": [
    "import pandas as pd\n",
    "from selenium import webdriver\n",
    "from bs4 import BeautifulSoup\n",
    "import time"
   ]
  },
  {
   "cell_type": "code",
   "execution_count": 2,
   "metadata": {},
   "outputs": [],
   "source": [
    "browser = webdriver.Chrome('C:/Users/admin/realproject/chromedriver.exe')\n",
    "url = 'https://www.koreagoldx.co.kr/main/html.php?agencyCode=&htmid=goods/gold_list.html'\n",
    "browser.get(url)"
   ]
  },
  {
   "cell_type": "code",
   "execution_count": 3,
   "metadata": {},
   "outputs": [],
   "source": [
    "allbtn=\"#contents > div.sub_content > div > div.service_cont > div.clear > ul.graph_dt_buttons > li:nth-child(6) > label\"\n",
    "abtn=browser.find_element_by_css_selector(allbtn)\n",
    "abtn.click()"
   ]
  },
  {
   "cell_type": "markdown",
   "metadata": {},
   "source": [
    "### 한개 페이지만 추출 & 페이지 이동"
   ]
  },
  {
   "cell_type": "code",
   "execution_count": 4,
   "metadata": {},
   "outputs": [],
   "source": [
    "dataset=browser.find_element_by_class_name(\"tabulator-tableHolder\")"
   ]
  },
  {
   "cell_type": "code",
   "execution_count": 49,
   "metadata": {},
   "outputs": [],
   "source": [
    "alist=dataset.text.split('\\n')"
   ]
  },
  {
   "cell_type": "code",
   "execution_count": 50,
   "metadata": {},
   "outputs": [
    {
     "data": {
      "text/plain": [
       "'2021.06.11293,000272,000195,900151,000'"
      ]
     },
     "execution_count": 50,
     "metadata": {},
     "output_type": "execute_result"
    }
   ],
   "source": [
    "alist[0]"
   ]
  },
  {
   "cell_type": "code",
   "execution_count": 49,
   "metadata": {},
   "outputs": [],
   "source": [
    "#example-table > div.tabulator-footer > span > button:nth-child(4)\n",
    "nextbtn = browser.find_element_by_css_selector('#example-table > div.tabulator-footer > span > button:nth-child(4)')"
   ]
  },
  {
   "cell_type": "code",
   "execution_count": 50,
   "metadata": {},
   "outputs": [],
   "source": [
    "nextbtn.click()"
   ]
  },
  {
   "cell_type": "markdown",
   "metadata": {},
   "source": [
    "## 전체 페이지 크롤링하기 \n",
    "< 페이지마다 반복 >  \n",
    "1. 페이지의 TABLE읽어오기\n",
    "2. NEXT버튼 누르기\n",
    "\n",
    "### 방법1\n",
    "- 이렇게 읽으면 텍스트 형식으로 읽어져서 데이터들을 분리하는 데 힘듬 "
   ]
  },
  {
   "cell_type": "code",
   "execution_count": 5,
   "metadata": {},
   "outputs": [],
   "source": [
    "import numpy as np"
   ]
  },
  {
   "cell_type": "code",
   "execution_count": 6,
   "metadata": {},
   "outputs": [],
   "source": [
    "pagenum=269"
   ]
  },
  {
   "cell_type": "code",
   "execution_count": 7,
   "metadata": {},
   "outputs": [],
   "source": [
    "alllist=[]\n",
    "for btn in range(pagenum+1):\n",
    "    dataset=browser.find_element_by_class_name(\"tabulator-table\")\n",
    "    nextbtn = browser.find_element_by_css_selector('#example-table > div.tabulator-footer > span > button:nth-child(4)')\n",
    "    nextbtn.click()\n",
    "    time.sleep(1)\n",
    "    alist=dataset.text.split('\\n')\n",
    "    alllist.append(alist)"
   ]
  },
  {
   "cell_type": "code",
   "execution_count": 76,
   "metadata": {},
   "outputs": [],
   "source": [
    "arr=sum(alllist, []) #alllist를 n*1의 배열로 만들어주기"
   ]
  },
  {
   "cell_type": "code",
   "execution_count": 116,
   "metadata": {},
   "outputs": [
    {
     "data": {
      "text/plain": [
       "['2021.05.25293000273000196600151600',\n",
       " '2021.05.24295000274000197300152100',\n",
       " '2021.05.22295000274000197300152100',\n",
       " '2021.05.21293000273500197000151800',\n",
       " '2021.05.20295000273500197000151800',\n",
       " '2021.05.19293000272500196200151300',\n",
       " '2021.05.18293000272500196200151300',\n",
       " '2021.05.17292000272000195900151000',\n",
       " '2021.05.15289000268000193000148800',\n",
       " '2021.05.14288000267000192300148200']"
      ]
     },
     "execution_count": 116,
     "metadata": {},
     "output_type": "execute_result"
    }
   ],
   "source": [
    "arr[:10]"
   ]
  },
  {
   "cell_type": "code",
   "execution_count": 78,
   "metadata": {},
   "outputs": [
    {
     "data": {
      "text/html": [
       "<div>\n",
       "<style scoped>\n",
       "    .dataframe tbody tr th:only-of-type {\n",
       "        vertical-align: middle;\n",
       "    }\n",
       "\n",
       "    .dataframe tbody tr th {\n",
       "        vertical-align: top;\n",
       "    }\n",
       "\n",
       "    .dataframe thead th {\n",
       "        text-align: right;\n",
       "    }\n",
       "</style>\n",
       "<table border=\"1\" class=\"dataframe\">\n",
       "  <thead>\n",
       "    <tr style=\"text-align: right;\">\n",
       "      <th></th>\n",
       "      <th>date</th>\n",
       "      <th>buy</th>\n",
       "      <th>sell_24k</th>\n",
       "      <th>sell_18k</th>\n",
       "      <th>sell_14k</th>\n",
       "    </tr>\n",
       "  </thead>\n",
       "  <tbody>\n",
       "  </tbody>\n",
       "</table>\n",
       "</div>"
      ],
      "text/plain": [
       "Empty DataFrame\n",
       "Columns: [date, buy, sell_24k, sell_18k, sell_14k]\n",
       "Index: []"
      ]
     },
     "execution_count": 78,
     "metadata": {},
     "output_type": "execute_result"
    }
   ],
   "source": [
    "golddf=pd.DataFrame(columns=['date','buy','sell_24k','sell_18k','sell_14k'])\n",
    "golddf"
   ]
  },
  {
   "cell_type": "code",
   "execution_count": 79,
   "metadata": {},
   "outputs": [],
   "source": [
    "from datetime import datetime\n",
    "# DATAFRAME에 데이터 저장해주기\n",
    "for i in range(len(arr)):\n",
    "    arr[i]=arr[i].replace(',',\"\")\n",
    "    day=datetime.strptime(arr[i][:10], '%Y.%m.%d')\n",
    "    golddf=golddf.append({'date': day ,'buy': int(arr[i][10:16]), 'sell_24k':int(arr[i][16:22]), 'sell_18k':int(arr[i][22:28]) , 'sell_14k': int(arr[i][28:])}, ignore_index=True  )"
   ]
  },
  {
   "cell_type": "code",
   "execution_count": 95,
   "metadata": {},
   "outputs": [],
   "source": [
    "golddf[['buy','sell_24k','sell_18k','sell_14k']] = golddf[['buy','sell_24k','sell_18k','sell_14k']].astype('int')"
   ]
  },
  {
   "cell_type": "code",
   "execution_count": 101,
   "metadata": {},
   "outputs": [
    {
     "name": "stdout",
     "output_type": "stream",
     "text": [
      "<class 'pandas.core.frame.DataFrame'>\n",
      "RangeIndex: 4035 entries, 0 to 4034\n",
      "Data columns (total 5 columns):\n",
      "date        4035 non-null datetime64[ns]\n",
      "buy         4035 non-null int32\n",
      "sell_24k    4035 non-null int32\n",
      "sell_18k    4035 non-null int32\n",
      "sell_14k    4035 non-null int32\n",
      "dtypes: datetime64[ns](1), int32(4)\n",
      "memory usage: 94.7 KB\n"
     ]
    }
   ],
   "source": [
    "golddf.info()"
   ]
  },
  {
   "cell_type": "code",
   "execution_count": 114,
   "metadata": {},
   "outputs": [
    {
     "data": {
      "text/html": [
       "<div>\n",
       "<style scoped>\n",
       "    .dataframe tbody tr th:only-of-type {\n",
       "        vertical-align: middle;\n",
       "    }\n",
       "\n",
       "    .dataframe tbody tr th {\n",
       "        vertical-align: top;\n",
       "    }\n",
       "\n",
       "    .dataframe thead th {\n",
       "        text-align: right;\n",
       "    }\n",
       "</style>\n",
       "<table border=\"1\" class=\"dataframe\">\n",
       "  <thead>\n",
       "    <tr style=\"text-align: right;\">\n",
       "      <th></th>\n",
       "      <th>date</th>\n",
       "      <th>buy</th>\n",
       "      <th>sell_24k</th>\n",
       "      <th>sell_18k</th>\n",
       "      <th>sell_14k</th>\n",
       "    </tr>\n",
       "  </thead>\n",
       "  <tbody>\n",
       "    <tr>\n",
       "      <td>4025</td>\n",
       "      <td>2008-03-24</td>\n",
       "      <td>122210</td>\n",
       "      <td>946007</td>\n",
       "      <td>804561</td>\n",
       "      <td>35</td>\n",
       "    </tr>\n",
       "    <tr>\n",
       "      <td>4026</td>\n",
       "      <td>2008-03-21</td>\n",
       "      <td>123420</td>\n",
       "      <td>957007</td>\n",
       "      <td>895261</td>\n",
       "      <td>745</td>\n",
       "    </tr>\n",
       "    <tr>\n",
       "      <td>4027</td>\n",
       "      <td>2008-03-20</td>\n",
       "      <td>125620</td>\n",
       "      <td>977008</td>\n",
       "      <td>60263</td>\n",
       "      <td>36</td>\n",
       "    </tr>\n",
       "    <tr>\n",
       "      <td>4028</td>\n",
       "      <td>2008-03-19</td>\n",
       "      <td>131780</td>\n",
       "      <td>103300</td>\n",
       "      <td>852226</td>\n",
       "      <td>6649</td>\n",
       "    </tr>\n",
       "    <tr>\n",
       "      <td>4029</td>\n",
       "      <td>2008-03-18</td>\n",
       "      <td>136840</td>\n",
       "      <td>106400</td>\n",
       "      <td>877806</td>\n",
       "      <td>8649</td>\n",
       "    </tr>\n",
       "    <tr>\n",
       "      <td>4030</td>\n",
       "      <td>2008-03-17</td>\n",
       "      <td>138050</td>\n",
       "      <td>107500</td>\n",
       "      <td>886876</td>\n",
       "      <td>9359</td>\n",
       "    </tr>\n",
       "    <tr>\n",
       "      <td>4031</td>\n",
       "      <td>2008-03-15</td>\n",
       "      <td>133650</td>\n",
       "      <td>106000</td>\n",
       "      <td>874506</td>\n",
       "      <td>8391</td>\n",
       "    </tr>\n",
       "    <tr>\n",
       "      <td>4032</td>\n",
       "      <td>2008-03-14</td>\n",
       "      <td>130020</td>\n",
       "      <td>102000</td>\n",
       "      <td>841506</td>\n",
       "      <td>5810</td>\n",
       "    </tr>\n",
       "    <tr>\n",
       "      <td>4033</td>\n",
       "      <td>2008-03-13</td>\n",
       "      <td>128370</td>\n",
       "      <td>100500</td>\n",
       "      <td>829126</td>\n",
       "      <td>4842</td>\n",
       "    </tr>\n",
       "    <tr>\n",
       "      <td>4034</td>\n",
       "      <td>2008-03-12</td>\n",
       "      <td>125180</td>\n",
       "      <td>976008</td>\n",
       "      <td>52062</td>\n",
       "      <td>971</td>\n",
       "    </tr>\n",
       "  </tbody>\n",
       "</table>\n",
       "</div>"
      ],
      "text/plain": [
       "           date     buy  sell_24k  sell_18k  sell_14k\n",
       "4025 2008-03-24  122210    946007    804561        35\n",
       "4026 2008-03-21  123420    957007    895261       745\n",
       "4027 2008-03-20  125620    977008     60263        36\n",
       "4028 2008-03-19  131780    103300    852226      6649\n",
       "4029 2008-03-18  136840    106400    877806      8649\n",
       "4030 2008-03-17  138050    107500    886876      9359\n",
       "4031 2008-03-15  133650    106000    874506      8391\n",
       "4032 2008-03-14  130020    102000    841506      5810\n",
       "4033 2008-03-13  128370    100500    829126      4842\n",
       "4034 2008-03-12  125180    976008     52062       971"
      ]
     },
     "execution_count": 114,
     "metadata": {},
     "output_type": "execute_result"
    }
   ],
   "source": [
    "golddf.tail(10)"
   ]
  },
  {
   "cell_type": "code",
   "execution_count": 103,
   "metadata": {},
   "outputs": [
    {
     "data": {
      "text/html": [
       "<div>\n",
       "<style scoped>\n",
       "    .dataframe tbody tr th:only-of-type {\n",
       "        vertical-align: middle;\n",
       "    }\n",
       "\n",
       "    .dataframe tbody tr th {\n",
       "        vertical-align: top;\n",
       "    }\n",
       "\n",
       "    .dataframe thead th {\n",
       "        text-align: right;\n",
       "    }\n",
       "</style>\n",
       "<table border=\"1\" class=\"dataframe\">\n",
       "  <thead>\n",
       "    <tr style=\"text-align: right;\">\n",
       "      <th></th>\n",
       "      <th>date</th>\n",
       "      <th>buy</th>\n",
       "      <th>sell_24k</th>\n",
       "      <th>sell_18k</th>\n",
       "      <th>sell_14k</th>\n",
       "    </tr>\n",
       "  </thead>\n",
       "  <tbody>\n",
       "    <tr>\n",
       "      <td>0</td>\n",
       "      <td>2021-05-25</td>\n",
       "      <td>293000</td>\n",
       "      <td>273000</td>\n",
       "      <td>196600</td>\n",
       "      <td>151600</td>\n",
       "    </tr>\n",
       "    <tr>\n",
       "      <td>1</td>\n",
       "      <td>2021-05-24</td>\n",
       "      <td>295000</td>\n",
       "      <td>274000</td>\n",
       "      <td>197300</td>\n",
       "      <td>152100</td>\n",
       "    </tr>\n",
       "    <tr>\n",
       "      <td>2</td>\n",
       "      <td>2021-05-22</td>\n",
       "      <td>295000</td>\n",
       "      <td>274000</td>\n",
       "      <td>197300</td>\n",
       "      <td>152100</td>\n",
       "    </tr>\n",
       "    <tr>\n",
       "      <td>3</td>\n",
       "      <td>2021-05-21</td>\n",
       "      <td>293000</td>\n",
       "      <td>273500</td>\n",
       "      <td>197000</td>\n",
       "      <td>151800</td>\n",
       "    </tr>\n",
       "    <tr>\n",
       "      <td>4</td>\n",
       "      <td>2021-05-20</td>\n",
       "      <td>295000</td>\n",
       "      <td>273500</td>\n",
       "      <td>197000</td>\n",
       "      <td>151800</td>\n",
       "    </tr>\n",
       "  </tbody>\n",
       "</table>\n",
       "</div>"
      ],
      "text/plain": [
       "        date     buy  sell_24k  sell_18k  sell_14k\n",
       "0 2021-05-25  293000    273000    196600    151600\n",
       "1 2021-05-24  295000    274000    197300    152100\n",
       "2 2021-05-22  295000    274000    197300    152100\n",
       "3 2021-05-21  293000    273500    197000    151800\n",
       "4 2021-05-20  295000    273500    197000    151800"
      ]
     },
     "execution_count": 103,
     "metadata": {},
     "output_type": "execute_result"
    }
   ],
   "source": [
    "golddf.head(5)"
   ]
  },
  {
   "cell_type": "markdown",
   "metadata": {},
   "source": [
    "## 방법 2"
   ]
  },
  {
   "cell_type": "code",
   "execution_count": 125,
   "metadata": {},
   "outputs": [],
   "source": [
    "browser = webdriver.Chrome('C:/Users/admin/realproject/chromedriver.exe')\n",
    "url = 'https://www.koreagoldx.co.kr/main/html.php?agencyCode=&htmid=goods/gold_list.html'\n",
    "browser.get(url)"
   ]
  },
  {
   "cell_type": "code",
   "execution_count": 126,
   "metadata": {},
   "outputs": [],
   "source": [
    "allbtn=\"#contents > div.sub_content > div > div.service_cont > div.clear > ul.graph_dt_buttons > li:nth-child(6) > label\"\n",
    "abtn=browser.find_element_by_css_selector(allbtn)\n",
    "abtn.click()"
   ]
  },
  {
   "cell_type": "code",
   "execution_count": 127,
   "metadata": {},
   "outputs": [],
   "source": [
    "html = browser.page_source"
   ]
  },
  {
   "cell_type": "code",
   "execution_count": 128,
   "metadata": {},
   "outputs": [],
   "source": [
    "soup = BeautifulSoup(html, 'html.parser')"
   ]
  },
  {
   "cell_type": "code",
   "execution_count": 129,
   "metadata": {},
   "outputs": [],
   "source": [
    "pagelen=269"
   ]
  },
  {
   "cell_type": "code",
   "execution_count": 130,
   "metadata": {},
   "outputs": [],
   "source": [
    "gold = []\n",
    "for j in range(pagelen+1):\n",
    "        gold_list = soup.select('div.tabulator-cell')\n",
    "        lg = [gold_list[i].text for i in range(len(gold_list))] \n",
    "        gold.append(lg)\n",
    "        nextbtn = browser.find_element_by_css_selector('#example-table > div.tabulator-footer > span > button:nth-child(4)')\n",
    "        nextbtn.click()\n",
    "        time.sleep(1)\n",
    "        html = browser.page_source\n",
    "        soup = BeautifulSoup(html, 'html.parser')"
   ]
  },
  {
   "cell_type": "code",
   "execution_count": 171,
   "metadata": {},
   "outputs": [],
   "source": [
    "temp=sum(gold,[])"
   ]
  },
  {
   "cell_type": "code",
   "execution_count": 172,
   "metadata": {},
   "outputs": [],
   "source": [
    "real=np.array(temp).reshape(-1,5)"
   ]
  },
  {
   "cell_type": "code",
   "execution_count": 173,
   "metadata": {},
   "outputs": [],
   "source": [
    "df=pd.DataFrame(real,columns=['date','buy','sell_24k','sell_18k','sell_14k'])"
   ]
  },
  {
   "cell_type": "code",
   "execution_count": 174,
   "metadata": {},
   "outputs": [
    {
     "data": {
      "text/html": [
       "<div>\n",
       "<style scoped>\n",
       "    .dataframe tbody tr th:only-of-type {\n",
       "        vertical-align: middle;\n",
       "    }\n",
       "\n",
       "    .dataframe tbody tr th {\n",
       "        vertical-align: top;\n",
       "    }\n",
       "\n",
       "    .dataframe thead th {\n",
       "        text-align: right;\n",
       "    }\n",
       "</style>\n",
       "<table border=\"1\" class=\"dataframe\">\n",
       "  <thead>\n",
       "    <tr style=\"text-align: right;\">\n",
       "      <th></th>\n",
       "      <th>date</th>\n",
       "      <th>buy</th>\n",
       "      <th>sell_24k</th>\n",
       "      <th>sell_18k</th>\n",
       "      <th>sell_14k</th>\n",
       "    </tr>\n",
       "  </thead>\n",
       "  <tbody>\n",
       "    <tr>\n",
       "      <td>0</td>\n",
       "      <td>2021.06.11</td>\n",
       "      <td>293,000</td>\n",
       "      <td>272,000</td>\n",
       "      <td>195,900</td>\n",
       "      <td>151,000</td>\n",
       "    </tr>\n",
       "    <tr>\n",
       "      <td>1</td>\n",
       "      <td>2021.06.10</td>\n",
       "      <td>292,000</td>\n",
       "      <td>272,000</td>\n",
       "      <td>195,900</td>\n",
       "      <td>151,000</td>\n",
       "    </tr>\n",
       "    <tr>\n",
       "      <td>2</td>\n",
       "      <td>2021.06.09</td>\n",
       "      <td>293,000</td>\n",
       "      <td>272,500</td>\n",
       "      <td>196,200</td>\n",
       "      <td>151,300</td>\n",
       "    </tr>\n",
       "    <tr>\n",
       "      <td>3</td>\n",
       "      <td>2021.06.08</td>\n",
       "      <td>293,000</td>\n",
       "      <td>274,000</td>\n",
       "      <td>197,300</td>\n",
       "      <td>152,100</td>\n",
       "    </tr>\n",
       "    <tr>\n",
       "      <td>4</td>\n",
       "      <td>2021.06.07</td>\n",
       "      <td>292,000</td>\n",
       "      <td>273,500</td>\n",
       "      <td>197,000</td>\n",
       "      <td>151,800</td>\n",
       "    </tr>\n",
       "  </tbody>\n",
       "</table>\n",
       "</div>"
      ],
      "text/plain": [
       "         date      buy sell_24k sell_18k sell_14k\n",
       "0  2021.06.11  293,000  272,000  195,900  151,000\n",
       "1  2021.06.10  292,000  272,000  195,900  151,000\n",
       "2  2021.06.09  293,000  272,500  196,200  151,300\n",
       "3  2021.06.08  293,000  274,000  197,300  152,100\n",
       "4  2021.06.07  292,000  273,500  197,000  151,800"
      ]
     },
     "execution_count": 174,
     "metadata": {},
     "output_type": "execute_result"
    }
   ],
   "source": [
    "df.head()"
   ]
  },
  {
   "cell_type": "markdown",
   "metadata": {},
   "source": [
    "#### 현재 전부 다 object형식이므로 date: 날짜, 나머지는 int로 바꿔줘야함"
   ]
  },
  {
   "cell_type": "code",
   "execution_count": 175,
   "metadata": {},
   "outputs": [
    {
     "name": "stdout",
     "output_type": "stream",
     "text": [
      "<class 'pandas.core.frame.DataFrame'>\n",
      "RangeIndex: 4040 entries, 0 to 4039\n",
      "Data columns (total 5 columns):\n",
      "date        4040 non-null object\n",
      "buy         4040 non-null object\n",
      "sell_24k    4040 non-null object\n",
      "sell_18k    4040 non-null object\n",
      "sell_14k    4040 non-null object\n",
      "dtypes: object(5)\n",
      "memory usage: 157.9+ KB\n"
     ]
    }
   ],
   "source": [
    "df.info()"
   ]
  },
  {
   "cell_type": "code",
   "execution_count": 176,
   "metadata": {},
   "outputs": [],
   "source": [
    "# , 제거\n",
    "removecomma=lambda x: x.replace(',','')"
   ]
  },
  {
   "cell_type": "code",
   "execution_count": 177,
   "metadata": {},
   "outputs": [],
   "source": [
    "df[['buy','sell_24k','sell_18k','sell_14k']] = df[['buy','sell_24k','sell_18k','sell_14k']].applymap(removecomma)"
   ]
  },
  {
   "cell_type": "code",
   "execution_count": 178,
   "metadata": {},
   "outputs": [
    {
     "data": {
      "text/html": [
       "<div>\n",
       "<style scoped>\n",
       "    .dataframe tbody tr th:only-of-type {\n",
       "        vertical-align: middle;\n",
       "    }\n",
       "\n",
       "    .dataframe tbody tr th {\n",
       "        vertical-align: top;\n",
       "    }\n",
       "\n",
       "    .dataframe thead th {\n",
       "        text-align: right;\n",
       "    }\n",
       "</style>\n",
       "<table border=\"1\" class=\"dataframe\">\n",
       "  <thead>\n",
       "    <tr style=\"text-align: right;\">\n",
       "      <th></th>\n",
       "      <th>date</th>\n",
       "      <th>buy</th>\n",
       "      <th>sell_24k</th>\n",
       "      <th>sell_18k</th>\n",
       "      <th>sell_14k</th>\n",
       "    </tr>\n",
       "  </thead>\n",
       "  <tbody>\n",
       "    <tr>\n",
       "      <td>0</td>\n",
       "      <td>2021.06.11</td>\n",
       "      <td>293000</td>\n",
       "      <td>272000</td>\n",
       "      <td>195900</td>\n",
       "      <td>151000</td>\n",
       "    </tr>\n",
       "    <tr>\n",
       "      <td>1</td>\n",
       "      <td>2021.06.10</td>\n",
       "      <td>292000</td>\n",
       "      <td>272000</td>\n",
       "      <td>195900</td>\n",
       "      <td>151000</td>\n",
       "    </tr>\n",
       "    <tr>\n",
       "      <td>2</td>\n",
       "      <td>2021.06.09</td>\n",
       "      <td>293000</td>\n",
       "      <td>272500</td>\n",
       "      <td>196200</td>\n",
       "      <td>151300</td>\n",
       "    </tr>\n",
       "    <tr>\n",
       "      <td>3</td>\n",
       "      <td>2021.06.08</td>\n",
       "      <td>293000</td>\n",
       "      <td>274000</td>\n",
       "      <td>197300</td>\n",
       "      <td>152100</td>\n",
       "    </tr>\n",
       "    <tr>\n",
       "      <td>4</td>\n",
       "      <td>2021.06.07</td>\n",
       "      <td>292000</td>\n",
       "      <td>273500</td>\n",
       "      <td>197000</td>\n",
       "      <td>151800</td>\n",
       "    </tr>\n",
       "  </tbody>\n",
       "</table>\n",
       "</div>"
      ],
      "text/plain": [
       "         date     buy sell_24k sell_18k sell_14k\n",
       "0  2021.06.11  293000   272000   195900   151000\n",
       "1  2021.06.10  292000   272000   195900   151000\n",
       "2  2021.06.09  293000   272500   196200   151300\n",
       "3  2021.06.08  293000   274000   197300   152100\n",
       "4  2021.06.07  292000   273500   197000   151800"
      ]
     },
     "execution_count": 178,
     "metadata": {},
     "output_type": "execute_result"
    }
   ],
   "source": [
    "df.head()"
   ]
  },
  {
   "cell_type": "code",
   "execution_count": 179,
   "metadata": {},
   "outputs": [],
   "source": [
    "# int형으로 바꿔주기\n",
    "df[['buy','sell_24k','sell_18k','sell_14k']] = df[['buy','sell_24k','sell_18k','sell_14k']].astype('int')"
   ]
  },
  {
   "cell_type": "code",
   "execution_count": 180,
   "metadata": {},
   "outputs": [
    {
     "name": "stdout",
     "output_type": "stream",
     "text": [
      "<class 'pandas.core.frame.DataFrame'>\n",
      "RangeIndex: 4040 entries, 0 to 4039\n",
      "Data columns (total 5 columns):\n",
      "date        4040 non-null object\n",
      "buy         4040 non-null int32\n",
      "sell_24k    4040 non-null int32\n",
      "sell_18k    4040 non-null int32\n",
      "sell_14k    4040 non-null int32\n",
      "dtypes: int32(4), object(1)\n",
      "memory usage: 94.8+ KB\n"
     ]
    }
   ],
   "source": [
    "df.info() # int32로 바뀐거 볼 수 있음"
   ]
  },
  {
   "cell_type": "markdown",
   "metadata": {},
   "source": [
    "#### date 바꾸기"
   ]
  },
  {
   "cell_type": "code",
   "execution_count": 185,
   "metadata": {},
   "outputs": [],
   "source": [
    "df['date'] = [datetime.strptime(date, '%Y.%m.%d') for date in df['date']]"
   ]
  },
  {
   "cell_type": "code",
   "execution_count": 186,
   "metadata": {},
   "outputs": [
    {
     "name": "stdout",
     "output_type": "stream",
     "text": [
      "<class 'pandas.core.frame.DataFrame'>\n",
      "RangeIndex: 4040 entries, 0 to 4039\n",
      "Data columns (total 5 columns):\n",
      "date        4040 non-null datetime64[ns]\n",
      "buy         4040 non-null int32\n",
      "sell_24k    4040 non-null int32\n",
      "sell_18k    4040 non-null int32\n",
      "sell_14k    4040 non-null int32\n",
      "dtypes: datetime64[ns](1), int32(4)\n",
      "memory usage: 94.8 KB\n"
     ]
    }
   ],
   "source": [
    "df.info()"
   ]
  },
  {
   "cell_type": "markdown",
   "metadata": {},
   "source": [
    "## 시각화"
   ]
  },
  {
   "cell_type": "code",
   "execution_count": 187,
   "metadata": {},
   "outputs": [],
   "source": [
    "import matplotlib.pyplot as plt"
   ]
  },
  {
   "cell_type": "code",
   "execution_count": 188,
   "metadata": {},
   "outputs": [
    {
     "data": {
      "text/plain": [
       "0       272000\n",
       "1       272000\n",
       "2       272500\n",
       "3       274000\n",
       "4       273500\n",
       "         ...  \n",
       "4035    107500\n",
       "4036    106000\n",
       "4037    102000\n",
       "4038    100500\n",
       "4039     97600\n",
       "Name: sell_24k, Length: 4040, dtype: int32"
      ]
     },
     "execution_count": 188,
     "metadata": {},
     "output_type": "execute_result"
    }
   ],
   "source": [
    "df['sell_24k']"
   ]
  },
  {
   "cell_type": "code",
   "execution_count": 189,
   "metadata": {},
   "outputs": [
    {
     "data": {
      "image/png": "[encoded data removed]",
      "text/plain": [
       "<Figure size 864x432 with 1 Axes>"
      ]
     },
     "metadata": {
      "needs_background": "light"
     },
     "output_type": "display_data"
    }
   ],
   "source": [
    "fig, ax = plt.subplots(figsize = (12,6))\n",
    "\n",
    "ax.plot(df.date, df['buy'])\n",
    "ax.plot(df.date, df['sell_24k'])\n",
    "plt.show()"
   ]
  }
 ],
 "metadata": {
  "kernelspec": {
   "display_name": "Python 3",
   "language": "python",
   "name": "python3"
  },
  "language_info": {
   "codemirror_mode": {
    "name": "ipython",
    "version": 3
   },
   "file_extension": ".py",
   "mimetype": "text/x-python",
   "name": "python",
   "nbconvert_exporter": "python",
   "pygments_lexer": "ipython3",
   "version": "3.7.4"
  }
 },
 "nbformat": 4,
 "nbformat_minor": 4
}
