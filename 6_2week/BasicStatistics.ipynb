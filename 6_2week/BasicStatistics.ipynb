{
 "cells": [
  {
   "cell_type": "markdown",
   "metadata": {},
   "source": [
    "# 표본평균의 분포 (Sampling Distribution)"
   ]
  },
  {
   "cell_type": "code",
   "execution_count": 1,
   "metadata": {},
   "outputs": [],
   "source": [
    "import numpy as np\n",
    "import matplotlib.pyplot as plt\n",
    "import seaborn as sns"
   ]
  },
  {
   "cell_type": "markdown",
   "metadata": {},
   "source": [
    "## 중심 극한 정리\n",
    "- 임의의 모집단 가정 : {1,2,3,4,5,6,7,8,9}\n",
    "- 표본크기 5인 복원추출 실시"
   ]
  },
  {
   "cell_type": "code",
   "execution_count": 2,
   "metadata": {},
   "outputs": [],
   "source": [
    "para=[num for num in range(1,10)]"
   ]
  },
  {
   "cell_type": "code",
   "execution_count": 3,
   "metadata": {},
   "outputs": [
    {
     "data": {
      "text/plain": [
       "[1, 2, 3, 4, 5, 6, 7, 8, 9]"
      ]
     },
     "execution_count": 3,
     "metadata": {},
     "output_type": "execute_result"
    }
   ],
   "source": [
    "para"
   ]
  },
  {
   "cell_type": "code",
   "execution_count": 4,
   "metadata": {},
   "outputs": [
    {
     "data": {
      "text/plain": [
       "array([5, 1, 2, 1, 2])"
      ]
     },
     "execution_count": 4,
     "metadata": {},
     "output_type": "execute_result"
    }
   ],
   "source": [
    "np.random.seed(10)\n",
    "np.random.choice(para,5,replace=True) # 1~9까지의 수를 복원추출"
   ]
  },
  {
   "cell_type": "code",
   "execution_count": 10,
   "metadata": {},
   "outputs": [],
   "source": [
    "sample5=np.zeros((100,5))  #5개씩 100번 추출 "
   ]
  },
  {
   "cell_type": "code",
   "execution_count": 6,
   "metadata": {},
   "outputs": [],
   "source": [
    "np.random.seed(10)\n",
    "for i in range(100):\n",
    "    sample5[i]=np.random.choice(para,5,replace=True)"
   ]
  },
  {
   "cell_type": "code",
   "execution_count": 7,
   "metadata": {},
   "outputs": [
    {
     "data": {
      "text/plain": [
       "array([[5., 1., 2., 1., 2.],\n",
       "       [9., 1., 9., 7., 5.],\n",
       "       [4., 1., 5., 7., 9.],\n",
       "       [2., 9., 5., 2., 4.],\n",
       "       [7., 6., 4., 7., 2.]])"
      ]
     },
     "execution_count": 7,
     "metadata": {},
     "output_type": "execute_result"
    }
   ],
   "source": [
    "sample5[:5,:] # 100회의 샘플링"
   ]
  },
  {
   "cell_type": "code",
   "execution_count": 8,
   "metadata": {},
   "outputs": [],
   "source": [
    "sample_mean5=np.mean(sample5,axis=1)"
   ]
  },
  {
   "cell_type": "code",
   "execution_count": 9,
   "metadata": {},
   "outputs": [
    {
     "data": {
      "text/plain": [
       "array([2.2, 6.2, 5.2, 4.4, 5.2, 6.4, 5.6, 5.2, 5.8, 6.2, 7.6, 3.6, 5.8,\n",
       "       3.4, 3.4, 2.8, 1.8, 2.2, 4.6, 3.8, 5. , 4.8, 7.6, 4.8, 7.8, 4.4,\n",
       "       4.2, 5.4, 4.4, 5.6, 3.2, 8. , 4. , 5. , 5.6, 3.4, 5.8, 5.2, 5.8,\n",
       "       5.4, 3.4, 4.4, 3. , 5.4, 3.2, 5.6, 3.2, 5.2, 6.4, 2.2, 3.2, 5.6,\n",
       "       4.2, 2.4, 4.6, 5.8, 4.8, 5.4, 3.4, 6. , 5.8, 4.6, 5.2, 5.4, 4.2,\n",
       "       5.2, 4.2, 6.6, 4.2, 3. , 3. , 7.4, 6.8, 5. , 6.4, 6.2, 3.8, 7.2,\n",
       "       5.8, 4.2, 3.2, 4.6, 5.6, 4.8, 7. , 5.6, 6. , 5.4, 3.8, 2.6, 5. ,\n",
       "       5.4, 3. , 6.8, 5.6, 4.8, 3.8, 4.8, 5.8, 5.4])"
      ]
     },
     "execution_count": 9,
     "metadata": {},
     "output_type": "execute_result"
    }
   ],
   "source": [
    "sample_mean5"
   ]
  },
  {
   "cell_type": "code",
   "execution_count": 18,
   "metadata": {},
   "outputs": [],
   "source": [
    "sample30=np.zeros((100,30)) # 30개씩 100의 0생성"
   ]
  },
  {
   "cell_type": "code",
   "execution_count": 19,
   "metadata": {},
   "outputs": [],
   "source": [
    "np.random.seed(10)\n",
    "for i in range(100):\n",
    "    sample30[i]=np.random.choice(para,30,replace=True)\n",
    "samplemean30=np.mean(sample30,axis=1)"
   ]
  },
  {
   "cell_type": "code",
   "execution_count": 21,
   "metadata": {},
   "outputs": [],
   "source": [
    "sample_mean=np.hstack((sample_mean5[:,np.newaxis],\n",
    "                      samplemean30[:,np.newaxis]\n",
    "                      ))"
   ]
  },
  {
   "cell_type": "code",
   "execution_count": 23,
   "metadata": {},
   "outputs": [
    {
     "name": "stderr",
     "output_type": "stream",
     "text": [
      "C:\\Users\\admin\\Anaconda3\\lib\\site-packages\\seaborn\\distributions.py:2557: FutureWarning: `distplot` is a deprecated function and will be removed in a future version. Please adapt your code to use either `displot` (a figure-level function with similar flexibility) or `histplot` (an axes-level function for histograms).\n",
      "  warnings.warn(msg, FutureWarning)\n",
      "C:\\Users\\admin\\Anaconda3\\lib\\site-packages\\seaborn\\distributions.py:2557: FutureWarning: `distplot` is a deprecated function and will be removed in a future version. Please adapt your code to use either `displot` (a figure-level function with similar flexibility) or `histplot` (an axes-level function for histograms).\n",
      "  warnings.warn(msg, FutureWarning)\n"
     ]
    },
    {
     "data": {
      "text/plain": [
       "<function matplotlib.pyplot.legend(*args, **kwargs)>"
      ]
     },
     "execution_count": 23,
     "metadata": {},
     "output_type": "execute_result"
    },
    {
     "data": {
      "image/png": "[encoded data removed]",
      "text/plain": [
       "<Figure size 432x288 with 1 Axes>"
      ]
     },
     "metadata": {
      "needs_background": "light"
     },
     "output_type": "display_data"
    }
   ],
   "source": [
    "sns.distplot(sample_mean[:,np.newaxis,0], label='n=5')\n",
    "sns.distplot(sample_mean[:,np.newaxis,1], label='n=30')\n",
    "plt.legend"
   ]
  },
  {
   "cell_type": "markdown",
   "metadata": {},
   "source": [
    "### 결과 도출\n",
    "- 표본이 커질수록 정규분포에 조금 더 가까운 형태임을 알 수 있음 \n",
    "- 표준오차가 작아짐 {(sigma / root(n))이므로 n이 커질수록 값이 작아짐 }"
   ]
  },
  {
   "cell_type": "markdown",
   "metadata": {},
   "source": [
    "## 모평균 & 모표준편차"
   ]
  },
  {
   "cell_type": "code",
   "execution_count": 24,
   "metadata": {},
   "outputs": [],
   "source": [
    "# 모집단에 대한 평균과 표준편차\n",
    "mu=np.mean(para)\n",
    "sigma=np.std(para)"
   ]
  },
  {
   "cell_type": "code",
   "execution_count": 25,
   "metadata": {},
   "outputs": [
    {
     "name": "stdout",
     "output_type": "stream",
     "text": [
      "5.0\n"
     ]
    }
   ],
   "source": [
    "print(mu)"
   ]
  },
  {
   "cell_type": "code",
   "execution_count": 26,
   "metadata": {},
   "outputs": [
    {
     "name": "stdout",
     "output_type": "stream",
     "text": [
      "2.581988897471611\n"
     ]
    }
   ],
   "source": [
    "print(sigma)"
   ]
  },
  {
   "cell_type": "markdown",
   "metadata": {},
   "source": [
    "### 표본평균의 평균"
   ]
  },
  {
   "cell_type": "code",
   "execution_count": 27,
   "metadata": {},
   "outputs": [
    {
     "data": {
      "text/plain": [
       "array([2.2, 6.2, 5.2, 4.4, 5.2, 6.4, 5.6, 5.2, 5.8, 6.2, 7.6, 3.6, 5.8,\n",
       "       3.4, 3.4, 2.8, 1.8, 2.2, 4.6, 3.8, 5. , 4.8, 7.6, 4.8, 7.8, 4.4,\n",
       "       4.2, 5.4, 4.4, 5.6, 3.2, 8. , 4. , 5. , 5.6, 3.4, 5.8, 5.2, 5.8,\n",
       "       5.4, 3.4, 4.4, 3. , 5.4, 3.2, 5.6, 3.2, 5.2, 6.4, 2.2, 3.2, 5.6,\n",
       "       4.2, 2.4, 4.6, 5.8, 4.8, 5.4, 3.4, 6. , 5.8, 4.6, 5.2, 5.4, 4.2,\n",
       "       5.2, 4.2, 6.6, 4.2, 3. , 3. , 7.4, 6.8, 5. , 6.4, 6.2, 3.8, 7.2,\n",
       "       5.8, 4.2, 3.2, 4.6, 5.6, 4.8, 7. , 5.6, 6. , 5.4, 3.8, 2.6, 5. ,\n",
       "       5.4, 3. , 6.8, 5.6, 4.8, 3.8, 4.8, 5.8, 5.4])"
      ]
     },
     "execution_count": 27,
     "metadata": {},
     "output_type": "execute_result"
    }
   ],
   "source": [
    "sample_mean5"
   ]
  },
  {
   "cell_type": "markdown",
   "metadata": {},
   "source": [
    "## 표본표준편차"
   ]
  },
  {
   "cell_type": "markdown",
   "metadata": {},
   "source": [
    "#### 표본의 크기가 5"
   ]
  },
  {
   "cell_type": "code",
   "execution_count": 28,
   "metadata": {},
   "outputs": [
    {
     "data": {
      "text/plain": [
       "1.8864646464646462"
      ]
     },
     "execution_count": 28,
     "metadata": {},
     "output_type": "execute_result"
    }
   ],
   "source": [
    "np.sum((sample_mean5-mu)**2)/(sample_mean5.size-1) # 표본 분산"
   ]
  },
  {
   "cell_type": "code",
   "execution_count": 30,
   "metadata": {},
   "outputs": [
    {
     "data": {
      "text/plain": [
       "1.3734863109855322"
      ]
     },
     "execution_count": 30,
     "metadata": {},
     "output_type": "execute_result"
    }
   ],
   "source": [
    "np.sqrt(np.sum((sample_mean5-mu)**2)/(sample_mean5.size-1)) # 표본 표준편차"
   ]
  },
  {
   "cell_type": "code",
   "execution_count": 31,
   "metadata": {},
   "outputs": [
    {
     "data": {
      "text/plain": [
       "1.1547005383792515"
      ]
     },
     "execution_count": 31,
     "metadata": {},
     "output_type": "execute_result"
    }
   ],
   "source": [
    "# 표준 오차\n",
    "sigma/np.sqrt(5)"
   ]
  },
  {
   "cell_type": "markdown",
   "metadata": {},
   "source": [
    "#### 표본의 크기가 30"
   ]
  },
  {
   "cell_type": "code",
   "execution_count": 34,
   "metadata": {},
   "outputs": [
    {
     "data": {
      "text/plain": [
       "0.28517396184062854"
      ]
     },
     "execution_count": 34,
     "metadata": {},
     "output_type": "execute_result"
    }
   ],
   "source": [
    "np.sum((samplemean30-mu)**2)/(samplemean30.size-1) # 표본 분산"
   ]
  },
  {
   "cell_type": "code",
   "execution_count": 33,
   "metadata": {},
   "outputs": [
    {
     "data": {
      "text/plain": [
       "0.5340168179380014"
      ]
     },
     "execution_count": 33,
     "metadata": {},
     "output_type": "execute_result"
    }
   ],
   "source": [
    "np.sqrt(np.sum((samplemean30-mu)**2)/(samplemean30.size-1)) # 표본 표준편차"
   ]
  },
  {
   "cell_type": "code",
   "execution_count": 35,
   "metadata": {},
   "outputs": [
    {
     "data": {
      "text/plain": [
       "0.4714045207910317"
      ]
     },
     "execution_count": 35,
     "metadata": {},
     "output_type": "execute_result"
    }
   ],
   "source": [
    "# 표준 오차\n",
    "sigma/np.sqrt(30)"
   ]
  },
  {
   "cell_type": "markdown",
   "metadata": {},
   "source": [
    "#### 결과\n",
    "표본의 크기가 커질수록 표준오차와 표본표준편차의 차이가 작아짐"
   ]
  },
  {
   "cell_type": "markdown",
   "metadata": {},
   "source": [
    "### 표본의 크기가 100개일때 , 표본표준편차 구하고 표준오차와 비교하기"
   ]
  },
  {
   "cell_type": "code",
   "execution_count": 36,
   "metadata": {},
   "outputs": [],
   "source": [
    "sample100=np.zeros((100,100)) # 30개씩 100의 0생성"
   ]
  },
  {
   "cell_type": "code",
   "execution_count": 37,
   "metadata": {},
   "outputs": [],
   "source": [
    "np.random.seed(10)\n",
    "for i in range(100):\n",
    "    sample100[i]=np.random.choice(para,100,replace=True)\n",
    "samplemean100=np.mean(sample100,axis=1)"
   ]
  },
  {
   "cell_type": "code",
   "execution_count": 38,
   "metadata": {},
   "outputs": [
    {
     "data": {
      "text/plain": [
       "array([4.57, 5.27, 4.37, 5.21, 4.95, 5.32, 5.  , 5.4 , 4.86, 4.94, 4.85,\n",
       "       4.58, 5.08, 4.91, 5.26, 4.77, 4.86, 5.34, 4.88, 4.84, 4.84, 4.72,\n",
       "       5.23, 5.18, 5.02, 4.41, 5.15, 5.  , 5.11, 4.45, 4.92, 5.01, 5.3 ,\n",
       "       5.04, 4.98, 4.9 , 4.52, 4.68, 4.99, 5.23, 5.43, 4.68, 5.11, 5.08,\n",
       "       4.98, 5.15, 4.86, 4.82, 4.66, 5.37, 4.9 , 4.99, 4.75, 4.76, 4.79,\n",
       "       4.95, 5.25, 5.24, 4.51, 5.31, 4.84, 5.09, 4.76, 4.88, 4.91, 4.71,\n",
       "       4.97, 4.62, 5.39, 4.84, 5.21, 5.11, 5.04, 4.86, 5.06, 4.75, 5.1 ,\n",
       "       5.15, 4.9 , 5.13, 4.97, 4.75, 4.72, 5.17, 4.98, 4.76, 4.81, 5.01,\n",
       "       5.05, 4.49, 4.83, 5.11, 4.76, 5.32, 4.64, 4.95, 5.16, 5.31, 4.7 ,\n",
       "       5.13])"
      ]
     },
     "execution_count": 38,
     "metadata": {},
     "output_type": "execute_result"
    }
   ],
   "source": [
    "samplemean100"
   ]
  },
  {
   "cell_type": "code",
   "execution_count": 39,
   "metadata": {},
   "outputs": [
    {
     "data": {
      "text/plain": [
       "0.06004545454545455"
      ]
     },
     "execution_count": 39,
     "metadata": {},
     "output_type": "execute_result"
    }
   ],
   "source": [
    "np.sum((samplemean100-mu)**2)/(samplemean100.size-1) # 표본 분산"
   ]
  },
  {
   "cell_type": "code",
   "execution_count": 40,
   "metadata": {},
   "outputs": [
    {
     "data": {
      "text/plain": [
       "0.24504174041467822"
      ]
     },
     "execution_count": 40,
     "metadata": {},
     "output_type": "execute_result"
    }
   ],
   "source": [
    "np.sqrt(np.sum((samplemean100-mu)**2)/(samplemean100.size-1)) # 표본 표준편차"
   ]
  },
  {
   "cell_type": "code",
   "execution_count": 41,
   "metadata": {},
   "outputs": [
    {
     "data": {
      "text/plain": [
       "0.2581988897471611"
      ]
     },
     "execution_count": 41,
     "metadata": {},
     "output_type": "execute_result"
    }
   ],
   "source": [
    "# 표준 오차\n",
    "sigma/np.sqrt(100)"
   ]
  },
  {
   "cell_type": "code",
   "execution_count": null,
   "metadata": {},
   "outputs": [],
   "source": []
  }
 ],
 "metadata": {
  "kernelspec": {
   "display_name": "Python 3",
   "language": "python",
   "name": "python3"
  },
  "language_info": {
   "codemirror_mode": {
    "name": "ipython",
    "version": 3
   },
   "file_extension": ".py",
   "mimetype": "text/x-python",
   "name": "python",
   "nbconvert_exporter": "python",
   "pygments_lexer": "ipython3",
   "version": "3.7.4"
  }
 },
 "nbformat": 4,
 "nbformat_minor": 4
}
