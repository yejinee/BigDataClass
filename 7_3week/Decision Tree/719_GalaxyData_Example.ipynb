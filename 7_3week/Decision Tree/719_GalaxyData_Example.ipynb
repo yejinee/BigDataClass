{
    "cells": [
        {
            "cell_type": "markdown",
            "source": [
                "# Galaxy Dataset 분석 & 모델링\r\n",
                "- Decision Tree Modeling\r\n",
                "- Dataset 설명\r\n",
                "    - samsung 갤럭시 제품 판매 dataset\r\n"
            ],
            "metadata": {}
        },
        {
            "cell_type": "markdown",
            "source": [
                "## STEP1. 모듈 & DATASET "
            ],
            "metadata": {}
        },
        {
            "cell_type": "code",
            "execution_count": 1,
            "source": [
                "import pandas as pd\r\n",
                "import numpy as np\r\n",
                "import matplotlib.pyplot as plt\r\n",
                "import seaborn as sns"
            ],
            "outputs": [],
            "metadata": {}
        },
        {
            "cell_type": "code",
            "execution_count": 2,
            "source": [
                "data = pd.read_csv('./galaxy.csv')"
            ],
            "outputs": [],
            "metadata": {}
        },
        {
            "cell_type": "markdown",
            "source": [
                "## Step 2. EDA 및 데이터 기초 통계 분석"
            ],
            "metadata": {}
        },
        {
            "cell_type": "code",
            "execution_count": 3,
            "source": [
                "data.shape"
            ],
            "outputs": [
                {
                    "output_type": "execute_result",
                    "data": {
                        "text/plain": [
                            "(1485, 9)"
                        ]
                    },
                    "metadata": {},
                    "execution_count": 3
                }
            ],
            "metadata": {}
        },
        {
            "cell_type": "code",
            "execution_count": 4,
            "source": [
                "data.head(3)"
            ],
            "outputs": [
                {
                    "output_type": "execute_result",
                    "data": {
                        "text/plain": [
                            "   BuyItNow  startprice carrier  color   productline         noDescription  \\\n",
                            "0         0      199.99    None  White     Galaxy_S9  contains description   \n",
                            "1         0      235.00    None    NaN  Galaxy_Note9  contains description   \n",
                            "2         0      199.99     NaN    NaN       Unknown        no description   \n",
                            "\n",
                            "   charCountDescription  upperCaseDescription  sold  \n",
                            "0                     0                     0     1  \n",
                            "1                     0                     0     0  \n",
                            "2                   100                     2     0  "
                        ],
                        "text/html": [
                            "<div>\n",
                            "<style scoped>\n",
                            "    .dataframe tbody tr th:only-of-type {\n",
                            "        vertical-align: middle;\n",
                            "    }\n",
                            "\n",
                            "    .dataframe tbody tr th {\n",
                            "        vertical-align: top;\n",
                            "    }\n",
                            "\n",
                            "    .dataframe thead th {\n",
                            "        text-align: right;\n",
                            "    }\n",
                            "</style>\n",
                            "<table border=\"1\" class=\"dataframe\">\n",
                            "  <thead>\n",
                            "    <tr style=\"text-align: right;\">\n",
                            "      <th></th>\n",
                            "      <th>BuyItNow</th>\n",
                            "      <th>startprice</th>\n",
                            "      <th>carrier</th>\n",
                            "      <th>color</th>\n",
                            "      <th>productline</th>\n",
                            "      <th>noDescription</th>\n",
                            "      <th>charCountDescription</th>\n",
                            "      <th>upperCaseDescription</th>\n",
                            "      <th>sold</th>\n",
                            "    </tr>\n",
                            "  </thead>\n",
                            "  <tbody>\n",
                            "    <tr>\n",
                            "      <th>0</th>\n",
                            "      <td>0</td>\n",
                            "      <td>199.99</td>\n",
                            "      <td>None</td>\n",
                            "      <td>White</td>\n",
                            "      <td>Galaxy_S9</td>\n",
                            "      <td>contains description</td>\n",
                            "      <td>0</td>\n",
                            "      <td>0</td>\n",
                            "      <td>1</td>\n",
                            "    </tr>\n",
                            "    <tr>\n",
                            "      <th>1</th>\n",
                            "      <td>0</td>\n",
                            "      <td>235.00</td>\n",
                            "      <td>None</td>\n",
                            "      <td>NaN</td>\n",
                            "      <td>Galaxy_Note9</td>\n",
                            "      <td>contains description</td>\n",
                            "      <td>0</td>\n",
                            "      <td>0</td>\n",
                            "      <td>0</td>\n",
                            "    </tr>\n",
                            "    <tr>\n",
                            "      <th>2</th>\n",
                            "      <td>0</td>\n",
                            "      <td>199.99</td>\n",
                            "      <td>NaN</td>\n",
                            "      <td>NaN</td>\n",
                            "      <td>Unknown</td>\n",
                            "      <td>no description</td>\n",
                            "      <td>100</td>\n",
                            "      <td>2</td>\n",
                            "      <td>0</td>\n",
                            "    </tr>\n",
                            "  </tbody>\n",
                            "</table>\n",
                            "</div>"
                        ]
                    },
                    "metadata": {},
                    "execution_count": 4
                }
            ],
            "metadata": {}
        },
        {
            "cell_type": "code",
            "execution_count": 5,
            "source": [
                "data.info()"
            ],
            "outputs": [
                {
                    "output_type": "stream",
                    "name": "stdout",
                    "text": [
                        "<class 'pandas.core.frame.DataFrame'>\n",
                        "RangeIndex: 1485 entries, 0 to 1484\n",
                        "Data columns (total 9 columns):\n",
                        " #   Column                Non-Null Count  Dtype  \n",
                        "---  ------                --------------  -----  \n",
                        " 0   BuyItNow              1485 non-null   int64  \n",
                        " 1   startprice            1485 non-null   float64\n",
                        " 2   carrier               1179 non-null   object \n",
                        " 3   color                 892 non-null    object \n",
                        " 4   productline           1485 non-null   object \n",
                        " 5   noDescription         1485 non-null   object \n",
                        " 6   charCountDescription  1485 non-null   int64  \n",
                        " 7   upperCaseDescription  1485 non-null   int64  \n",
                        " 8   sold                  1485 non-null   int64  \n",
                        "dtypes: float64(1), int64(4), object(4)\n",
                        "memory usage: 104.5+ KB\n"
                    ]
                }
            ],
            "metadata": {}
        },
        {
            "cell_type": "code",
            "execution_count": 6,
            "source": [
                "data.describe()"
            ],
            "outputs": [
                {
                    "output_type": "execute_result",
                    "data": {
                        "text/plain": [
                            "          BuyItNow   startprice  charCountDescription  upperCaseDescription  \\\n",
                            "count  1485.000000  1485.000000           1485.000000           1485.000000   \n",
                            "mean      0.449158   216.844162             31.184512              2.863300   \n",
                            "std       0.497576   172.893308             41.744518              9.418585   \n",
                            "min       0.000000     0.010000              0.000000              0.000000   \n",
                            "25%       0.000000    80.000000              0.000000              0.000000   \n",
                            "50%       0.000000   198.000000              0.000000              0.000000   \n",
                            "75%       1.000000   310.000000             79.000000              2.000000   \n",
                            "max       1.000000   999.000000            111.000000             81.000000   \n",
                            "\n",
                            "              sold  \n",
                            "count  1485.000000  \n",
                            "mean      0.461953  \n",
                            "std       0.498718  \n",
                            "min       0.000000  \n",
                            "25%       0.000000  \n",
                            "50%       0.000000  \n",
                            "75%       1.000000  \n",
                            "max       1.000000  "
                        ],
                        "text/html": [
                            "<div>\n",
                            "<style scoped>\n",
                            "    .dataframe tbody tr th:only-of-type {\n",
                            "        vertical-align: middle;\n",
                            "    }\n",
                            "\n",
                            "    .dataframe tbody tr th {\n",
                            "        vertical-align: top;\n",
                            "    }\n",
                            "\n",
                            "    .dataframe thead th {\n",
                            "        text-align: right;\n",
                            "    }\n",
                            "</style>\n",
                            "<table border=\"1\" class=\"dataframe\">\n",
                            "  <thead>\n",
                            "    <tr style=\"text-align: right;\">\n",
                            "      <th></th>\n",
                            "      <th>BuyItNow</th>\n",
                            "      <th>startprice</th>\n",
                            "      <th>charCountDescription</th>\n",
                            "      <th>upperCaseDescription</th>\n",
                            "      <th>sold</th>\n",
                            "    </tr>\n",
                            "  </thead>\n",
                            "  <tbody>\n",
                            "    <tr>\n",
                            "      <th>count</th>\n",
                            "      <td>1485.000000</td>\n",
                            "      <td>1485.000000</td>\n",
                            "      <td>1485.000000</td>\n",
                            "      <td>1485.000000</td>\n",
                            "      <td>1485.000000</td>\n",
                            "    </tr>\n",
                            "    <tr>\n",
                            "      <th>mean</th>\n",
                            "      <td>0.449158</td>\n",
                            "      <td>216.844162</td>\n",
                            "      <td>31.184512</td>\n",
                            "      <td>2.863300</td>\n",
                            "      <td>0.461953</td>\n",
                            "    </tr>\n",
                            "    <tr>\n",
                            "      <th>std</th>\n",
                            "      <td>0.497576</td>\n",
                            "      <td>172.893308</td>\n",
                            "      <td>41.744518</td>\n",
                            "      <td>9.418585</td>\n",
                            "      <td>0.498718</td>\n",
                            "    </tr>\n",
                            "    <tr>\n",
                            "      <th>min</th>\n",
                            "      <td>0.000000</td>\n",
                            "      <td>0.010000</td>\n",
                            "      <td>0.000000</td>\n",
                            "      <td>0.000000</td>\n",
                            "      <td>0.000000</td>\n",
                            "    </tr>\n",
                            "    <tr>\n",
                            "      <th>25%</th>\n",
                            "      <td>0.000000</td>\n",
                            "      <td>80.000000</td>\n",
                            "      <td>0.000000</td>\n",
                            "      <td>0.000000</td>\n",
                            "      <td>0.000000</td>\n",
                            "    </tr>\n",
                            "    <tr>\n",
                            "      <th>50%</th>\n",
                            "      <td>0.000000</td>\n",
                            "      <td>198.000000</td>\n",
                            "      <td>0.000000</td>\n",
                            "      <td>0.000000</td>\n",
                            "      <td>0.000000</td>\n",
                            "    </tr>\n",
                            "    <tr>\n",
                            "      <th>75%</th>\n",
                            "      <td>1.000000</td>\n",
                            "      <td>310.000000</td>\n",
                            "      <td>79.000000</td>\n",
                            "      <td>2.000000</td>\n",
                            "      <td>1.000000</td>\n",
                            "    </tr>\n",
                            "    <tr>\n",
                            "      <th>max</th>\n",
                            "      <td>1.000000</td>\n",
                            "      <td>999.000000</td>\n",
                            "      <td>111.000000</td>\n",
                            "      <td>81.000000</td>\n",
                            "      <td>1.000000</td>\n",
                            "    </tr>\n",
                            "  </tbody>\n",
                            "</table>\n",
                            "</div>"
                        ]
                    },
                    "metadata": {},
                    "execution_count": 6
                }
            ],
            "metadata": {}
        },
        {
            "cell_type": "code",
            "execution_count": 7,
            "source": [
                "sns.distplot(data['startprice'])"
            ],
            "outputs": [
                {
                    "output_type": "stream",
                    "name": "stderr",
                    "text": [
                        "C:\\ProgramData\\Anaconda3\\lib\\site-packages\\seaborn\\distributions.py:2557: FutureWarning: `distplot` is a deprecated function and will be removed in a future version. Please adapt your code to use either `displot` (a figure-level function with similar flexibility) or `histplot` (an axes-level function for histograms).\n",
                        "  warnings.warn(msg, FutureWarning)\n"
                    ]
                },
                {
                    "output_type": "execute_result",
                    "data": {
                        "text/plain": [
                            "<AxesSubplot:xlabel='startprice', ylabel='Density'>"
                        ]
                    },
                    "metadata": {},
                    "execution_count": 7
                },
                {
                    "output_type": "display_data",
                    "data": {
                        "text/plain": [
                            "<Figure size 432x288 with 1 Axes>"
                        ],
                        "image/png": "[encoded data removed]"
                    },
                    "metadata": {
                        "needs_background": "light"
                    }
                }
            ],
            "metadata": {}
        },
        {
            "cell_type": "code",
            "execution_count": 8,
            "source": [
                "sns.distplot(data['charCountDescription'])"
            ],
            "outputs": [
                {
                    "output_type": "stream",
                    "name": "stderr",
                    "text": [
                        "C:\\ProgramData\\Anaconda3\\lib\\site-packages\\seaborn\\distributions.py:2557: FutureWarning: `distplot` is a deprecated function and will be removed in a future version. Please adapt your code to use either `displot` (a figure-level function with similar flexibility) or `histplot` (an axes-level function for histograms).\n",
                        "  warnings.warn(msg, FutureWarning)\n"
                    ]
                },
                {
                    "output_type": "execute_result",
                    "data": {
                        "text/plain": [
                            "<AxesSubplot:xlabel='charCountDescription', ylabel='Density'>"
                        ]
                    },
                    "metadata": {},
                    "execution_count": 8
                },
                {
                    "output_type": "display_data",
                    "data": {
                        "text/plain": [
                            "<Figure size 432x288 with 1 Axes>"
                        ],
                        "image/png": "[encoded data removed]"
                    },
                    "metadata": {
                        "needs_background": "light"
                    }
                }
            ],
            "metadata": {}
        },
        {
            "cell_type": "code",
            "execution_count": 10,
            "source": [
                "plt.figure(figsize=(20, 10))\r\n",
                "sns.boxplot(x='productline', y='startprice', data=data)"
            ],
            "outputs": [
                {
                    "output_type": "execute_result",
                    "data": {
                        "text/plain": [
                            "<AxesSubplot:xlabel='productline', ylabel='startprice'>"
                        ]
                    },
                    "metadata": {},
                    "execution_count": 10
                },
                {
                    "output_type": "display_data",
                    "data": {
                        "text/plain": [
                            "<Figure size 1440x720 with 1 Axes>"
                        ],
                        "image/png": "[encoded data removed]"
                    },
                    "metadata": {
                        "needs_background": "light"
                    }
                }
            ],
            "metadata": {}
        },
        {
            "cell_type": "markdown",
            "source": [
                "## STEP3. Missing value 처리"
            ],
            "metadata": {}
        },
        {
            "cell_type": "code",
            "execution_count": 11,
            "source": [
                "data.isna().sum() / len(data)"
            ],
            "outputs": [
                {
                    "output_type": "execute_result",
                    "data": {
                        "text/plain": [
                            "BuyItNow                0.000000\n",
                            "startprice              0.000000\n",
                            "carrier                 0.206061\n",
                            "color                   0.399327\n",
                            "productline             0.000000\n",
                            "noDescription           0.000000\n",
                            "charCountDescription    0.000000\n",
                            "upperCaseDescription    0.000000\n",
                            "sold                    0.000000\n",
                            "dtype: float64"
                        ]
                    },
                    "metadata": {},
                    "execution_count": 11
                }
            ],
            "metadata": {}
        },
        {
            "cell_type": "code",
            "execution_count": 12,
            "source": [
                "data.head()"
            ],
            "outputs": [
                {
                    "output_type": "execute_result",
                    "data": {
                        "text/plain": [
                            "   BuyItNow  startprice carrier       color   productline  \\\n",
                            "0         0      199.99    None       White     Galaxy_S9   \n",
                            "1         0      235.00    None         NaN  Galaxy_Note9   \n",
                            "2         0      199.99     NaN         NaN       Unknown   \n",
                            "3         1      175.00    AT&T  Space Gray  Galaxy_Note9   \n",
                            "4         1      100.00    None  Space Gray     Galaxy_S8   \n",
                            "\n",
                            "          noDescription  charCountDescription  upperCaseDescription  sold  \n",
                            "0  contains description                     0                     0     1  \n",
                            "1  contains description                     0                     0     0  \n",
                            "2        no description                   100                     2     0  \n",
                            "3  contains description                     0                     0     1  \n",
                            "4  contains description                     0                     0     1  "
                        ],
                        "text/html": [
                            "<div>\n",
                            "<style scoped>\n",
                            "    .dataframe tbody tr th:only-of-type {\n",
                            "        vertical-align: middle;\n",
                            "    }\n",
                            "\n",
                            "    .dataframe tbody tr th {\n",
                            "        vertical-align: top;\n",
                            "    }\n",
                            "\n",
                            "    .dataframe thead th {\n",
                            "        text-align: right;\n",
                            "    }\n",
                            "</style>\n",
                            "<table border=\"1\" class=\"dataframe\">\n",
                            "  <thead>\n",
                            "    <tr style=\"text-align: right;\">\n",
                            "      <th></th>\n",
                            "      <th>BuyItNow</th>\n",
                            "      <th>startprice</th>\n",
                            "      <th>carrier</th>\n",
                            "      <th>color</th>\n",
                            "      <th>productline</th>\n",
                            "      <th>noDescription</th>\n",
                            "      <th>charCountDescription</th>\n",
                            "      <th>upperCaseDescription</th>\n",
                            "      <th>sold</th>\n",
                            "    </tr>\n",
                            "  </thead>\n",
                            "  <tbody>\n",
                            "    <tr>\n",
                            "      <th>0</th>\n",
                            "      <td>0</td>\n",
                            "      <td>199.99</td>\n",
                            "      <td>None</td>\n",
                            "      <td>White</td>\n",
                            "      <td>Galaxy_S9</td>\n",
                            "      <td>contains description</td>\n",
                            "      <td>0</td>\n",
                            "      <td>0</td>\n",
                            "      <td>1</td>\n",
                            "    </tr>\n",
                            "    <tr>\n",
                            "      <th>1</th>\n",
                            "      <td>0</td>\n",
                            "      <td>235.00</td>\n",
                            "      <td>None</td>\n",
                            "      <td>NaN</td>\n",
                            "      <td>Galaxy_Note9</td>\n",
                            "      <td>contains description</td>\n",
                            "      <td>0</td>\n",
                            "      <td>0</td>\n",
                            "      <td>0</td>\n",
                            "    </tr>\n",
                            "    <tr>\n",
                            "      <th>2</th>\n",
                            "      <td>0</td>\n",
                            "      <td>199.99</td>\n",
                            "      <td>NaN</td>\n",
                            "      <td>NaN</td>\n",
                            "      <td>Unknown</td>\n",
                            "      <td>no description</td>\n",
                            "      <td>100</td>\n",
                            "      <td>2</td>\n",
                            "      <td>0</td>\n",
                            "    </tr>\n",
                            "    <tr>\n",
                            "      <th>3</th>\n",
                            "      <td>1</td>\n",
                            "      <td>175.00</td>\n",
                            "      <td>AT&amp;T</td>\n",
                            "      <td>Space Gray</td>\n",
                            "      <td>Galaxy_Note9</td>\n",
                            "      <td>contains description</td>\n",
                            "      <td>0</td>\n",
                            "      <td>0</td>\n",
                            "      <td>1</td>\n",
                            "    </tr>\n",
                            "    <tr>\n",
                            "      <th>4</th>\n",
                            "      <td>1</td>\n",
                            "      <td>100.00</td>\n",
                            "      <td>None</td>\n",
                            "      <td>Space Gray</td>\n",
                            "      <td>Galaxy_S8</td>\n",
                            "      <td>contains description</td>\n",
                            "      <td>0</td>\n",
                            "      <td>0</td>\n",
                            "      <td>1</td>\n",
                            "    </tr>\n",
                            "  </tbody>\n",
                            "</table>\n",
                            "</div>"
                        ]
                    },
                    "metadata": {},
                    "execution_count": 12
                }
            ],
            "metadata": {}
        },
        {
            "cell_type": "code",
            "execution_count": 13,
            "source": [
                "data = data.fillna('Unknown')"
            ],
            "outputs": [],
            "metadata": {}
        },
        {
            "cell_type": "code",
            "execution_count": 14,
            "source": [
                "data.head()"
            ],
            "outputs": [
                {
                    "output_type": "execute_result",
                    "data": {
                        "text/plain": [
                            "   BuyItNow  startprice  carrier       color   productline  \\\n",
                            "0         0      199.99     None       White     Galaxy_S9   \n",
                            "1         0      235.00     None     Unknown  Galaxy_Note9   \n",
                            "2         0      199.99  Unknown     Unknown       Unknown   \n",
                            "3         1      175.00     AT&T  Space Gray  Galaxy_Note9   \n",
                            "4         1      100.00     None  Space Gray     Galaxy_S8   \n",
                            "\n",
                            "          noDescription  charCountDescription  upperCaseDescription  sold  \n",
                            "0  contains description                     0                     0     1  \n",
                            "1  contains description                     0                     0     0  \n",
                            "2        no description                   100                     2     0  \n",
                            "3  contains description                     0                     0     1  \n",
                            "4  contains description                     0                     0     1  "
                        ],
                        "text/html": [
                            "<div>\n",
                            "<style scoped>\n",
                            "    .dataframe tbody tr th:only-of-type {\n",
                            "        vertical-align: middle;\n",
                            "    }\n",
                            "\n",
                            "    .dataframe tbody tr th {\n",
                            "        vertical-align: top;\n",
                            "    }\n",
                            "\n",
                            "    .dataframe thead th {\n",
                            "        text-align: right;\n",
                            "    }\n",
                            "</style>\n",
                            "<table border=\"1\" class=\"dataframe\">\n",
                            "  <thead>\n",
                            "    <tr style=\"text-align: right;\">\n",
                            "      <th></th>\n",
                            "      <th>BuyItNow</th>\n",
                            "      <th>startprice</th>\n",
                            "      <th>carrier</th>\n",
                            "      <th>color</th>\n",
                            "      <th>productline</th>\n",
                            "      <th>noDescription</th>\n",
                            "      <th>charCountDescription</th>\n",
                            "      <th>upperCaseDescription</th>\n",
                            "      <th>sold</th>\n",
                            "    </tr>\n",
                            "  </thead>\n",
                            "  <tbody>\n",
                            "    <tr>\n",
                            "      <th>0</th>\n",
                            "      <td>0</td>\n",
                            "      <td>199.99</td>\n",
                            "      <td>None</td>\n",
                            "      <td>White</td>\n",
                            "      <td>Galaxy_S9</td>\n",
                            "      <td>contains description</td>\n",
                            "      <td>0</td>\n",
                            "      <td>0</td>\n",
                            "      <td>1</td>\n",
                            "    </tr>\n",
                            "    <tr>\n",
                            "      <th>1</th>\n",
                            "      <td>0</td>\n",
                            "      <td>235.00</td>\n",
                            "      <td>None</td>\n",
                            "      <td>Unknown</td>\n",
                            "      <td>Galaxy_Note9</td>\n",
                            "      <td>contains description</td>\n",
                            "      <td>0</td>\n",
                            "      <td>0</td>\n",
                            "      <td>0</td>\n",
                            "    </tr>\n",
                            "    <tr>\n",
                            "      <th>2</th>\n",
                            "      <td>0</td>\n",
                            "      <td>199.99</td>\n",
                            "      <td>Unknown</td>\n",
                            "      <td>Unknown</td>\n",
                            "      <td>Unknown</td>\n",
                            "      <td>no description</td>\n",
                            "      <td>100</td>\n",
                            "      <td>2</td>\n",
                            "      <td>0</td>\n",
                            "    </tr>\n",
                            "    <tr>\n",
                            "      <th>3</th>\n",
                            "      <td>1</td>\n",
                            "      <td>175.00</td>\n",
                            "      <td>AT&amp;T</td>\n",
                            "      <td>Space Gray</td>\n",
                            "      <td>Galaxy_Note9</td>\n",
                            "      <td>contains description</td>\n",
                            "      <td>0</td>\n",
                            "      <td>0</td>\n",
                            "      <td>1</td>\n",
                            "    </tr>\n",
                            "    <tr>\n",
                            "      <th>4</th>\n",
                            "      <td>1</td>\n",
                            "      <td>100.00</td>\n",
                            "      <td>None</td>\n",
                            "      <td>Space Gray</td>\n",
                            "      <td>Galaxy_S8</td>\n",
                            "      <td>contains description</td>\n",
                            "      <td>0</td>\n",
                            "      <td>0</td>\n",
                            "      <td>1</td>\n",
                            "    </tr>\n",
                            "  </tbody>\n",
                            "</table>\n",
                            "</div>"
                        ]
                    },
                    "metadata": {},
                    "execution_count": 14
                }
            ],
            "metadata": {}
        },
        {
            "cell_type": "code",
            "execution_count": 15,
            "source": [
                "data['carrier'].value_counts()"
            ],
            "outputs": [
                {
                    "output_type": "execute_result",
                    "data": {
                        "text/plain": [
                            "None               863\n",
                            "Unknown            306\n",
                            "AT&T               177\n",
                            "Verizon             87\n",
                            "Sprint/T-Mobile     52\n",
                            "Name: carrier, dtype: int64"
                        ]
                    },
                    "metadata": {},
                    "execution_count": 15
                }
            ],
            "metadata": {}
        },
        {
            "cell_type": "markdown",
            "source": [
                "## STEP4. 카테고리 변수 처리"
            ],
            "metadata": {}
        },
        {
            "cell_type": "code",
            "execution_count": 16,
            "source": [
                "data[['carrier', 'color', 'productline', 'noDescription']].nunique()"
            ],
            "outputs": [
                {
                    "output_type": "execute_result",
                    "data": {
                        "text/plain": [
                            "carrier          5\n",
                            "color            8\n",
                            "productline      8\n",
                            "noDescription    2\n",
                            "dtype: int64"
                        ]
                    },
                    "metadata": {},
                    "execution_count": 16
                }
            ],
            "metadata": {}
        },
        {
            "cell_type": "code",
            "execution_count": 17,
            "source": [
                "data['carrier'].value_counts()"
            ],
            "outputs": [
                {
                    "output_type": "execute_result",
                    "data": {
                        "text/plain": [
                            "None               863\n",
                            "Unknown            306\n",
                            "AT&T               177\n",
                            "Verizon             87\n",
                            "Sprint/T-Mobile     52\n",
                            "Name: carrier, dtype: int64"
                        ]
                    },
                    "metadata": {},
                    "execution_count": 17
                }
            ],
            "metadata": {}
        },
        {
            "cell_type": "code",
            "execution_count": 18,
            "source": [
                "data['color'].value_counts()"
            ],
            "outputs": [
                {
                    "output_type": "execute_result",
                    "data": {
                        "text/plain": [
                            "Unknown           593\n",
                            "White             328\n",
                            "Midnight Black    274\n",
                            "Space Gray        180\n",
                            "Gold               52\n",
                            "Black              38\n",
                            "Aura Black         19\n",
                            "Prism Black         1\n",
                            "Name: color, dtype: int64"
                        ]
                    },
                    "metadata": {},
                    "execution_count": 18
                }
            ],
            "metadata": {}
        },
        {
            "cell_type": "code",
            "execution_count": 19,
            "source": [
                "data['productline'].value_counts()"
            ],
            "outputs": [
                {
                    "output_type": "execute_result",
                    "data": {
                        "text/plain": [
                            "Galaxy_Note10    351\n",
                            "Galaxy_S8        277\n",
                            "Galaxy_S7        227\n",
                            "Unknown          204\n",
                            "Galaxy_S9        158\n",
                            "Galaxy_Note8     153\n",
                            "Galaxy_Note9     107\n",
                            "Galaxy_S10         8\n",
                            "Name: productline, dtype: int64"
                        ]
                    },
                    "metadata": {},
                    "execution_count": 19
                }
            ],
            "metadata": {}
        },
        {
            "cell_type": "code",
            "execution_count": 20,
            "source": [
                "data['noDescription'].value_counts()"
            ],
            "outputs": [
                {
                    "output_type": "execute_result",
                    "data": {
                        "text/plain": [
                            "contains description    856\n",
                            "no description          629\n",
                            "Name: noDescription, dtype: int64"
                        ]
                    },
                    "metadata": {},
                    "execution_count": 20
                }
            ],
            "metadata": {}
        },
        {
            "cell_type": "code",
            "execution_count": 21,
            "source": [
                "# Black 종류를 하나로 통합\r\n",
                "def black(x):\r\n",
                "    if x == \"Midnight Black\":\r\n",
                "        return \"Black\"\r\n",
                "    elif x == \"Aura Black\":\r\n",
                "        return \"Black\"\r\n",
                "    elif x == \"Prism Black\":\r\n",
                "        return \"Black\"\r\n",
                "    else:\r\n",
                "        return x"
            ],
            "outputs": [],
            "metadata": {}
        },
        {
            "cell_type": "code",
            "execution_count": 22,
            "source": [
                "def black(x):\r\n",
                "    if (x == \"Midnight Black\") | (x == \"Aura Black\") | (x == \"Prism Black\"):\r\n",
                "        return \"Black\"\r\n",
                "    else:\r\n",
                "        return x"
            ],
            "outputs": [],
            "metadata": {}
        },
        {
            "cell_type": "code",
            "execution_count": 23,
            "source": [
                "data['color'].apply(lambda x: black(x))"
            ],
            "outputs": [
                {
                    "output_type": "execute_result",
                    "data": {
                        "text/plain": [
                            "0            White\n",
                            "1          Unknown\n",
                            "2          Unknown\n",
                            "3       Space Gray\n",
                            "4       Space Gray\n",
                            "           ...    \n",
                            "1480       Unknown\n",
                            "1481         Black\n",
                            "1482    Space Gray\n",
                            "1483         Black\n",
                            "1484         Black\n",
                            "Name: color, Length: 1485, dtype: object"
                        ]
                    },
                    "metadata": {},
                    "execution_count": 23
                }
            ],
            "metadata": {}
        },
        {
            "cell_type": "code",
            "execution_count": 25,
            "source": [
                "def black(x):\r\n",
                "    if x in [\"Midnight Black\", \"Aura Black\", \"Prism Black\"]:\r\n",
                "        return \"Black\"\r\n",
                "    else:\r\n",
                "        return x"
            ],
            "outputs": [],
            "metadata": {}
        },
        {
            "cell_type": "code",
            "execution_count": 27,
            "source": [
                "data['color'] = data['color'].apply(lambda x: black(x))"
            ],
            "outputs": [],
            "metadata": {}
        },
        {
            "cell_type": "code",
            "execution_count": 28,
            "source": [
                "data['color'].value_counts()"
            ],
            "outputs": [
                {
                    "output_type": "execute_result",
                    "data": {
                        "text/plain": [
                            "Unknown       593\n",
                            "Black         332\n",
                            "White         328\n",
                            "Space Gray    180\n",
                            "Gold           52\n",
                            "Name: color, dtype: int64"
                        ]
                    },
                    "metadata": {},
                    "execution_count": 28
                }
            ],
            "metadata": {}
        },
        {
            "cell_type": "code",
            "execution_count": 29,
            "source": [
                "data = pd.get_dummies(data, columns = ['carrier', 'color', 'productline', 'noDescription'])"
            ],
            "outputs": [],
            "metadata": {}
        },
        {
            "cell_type": "code",
            "execution_count": 30,
            "source": [
                "data.head(3)"
            ],
            "outputs": [
                {
                    "output_type": "execute_result",
                    "data": {
                        "text/plain": [
                            "   BuyItNow  startprice  charCountDescription  upperCaseDescription  sold  \\\n",
                            "0         0      199.99                     0                     0     1   \n",
                            "1         0      235.00                     0                     0     0   \n",
                            "2         0      199.99                   100                     2     0   \n",
                            "\n",
                            "   carrier_AT&T  carrier_None  carrier_Sprint/T-Mobile  carrier_Unknown  \\\n",
                            "0             0             1                        0                0   \n",
                            "1             0             1                        0                0   \n",
                            "2             0             0                        0                1   \n",
                            "\n",
                            "   carrier_Verizon  ...  productline_Galaxy_Note10  productline_Galaxy_Note8  \\\n",
                            "0                0  ...                          0                         0   \n",
                            "1                0  ...                          0                         0   \n",
                            "2                0  ...                          0                         0   \n",
                            "\n",
                            "   productline_Galaxy_Note9  productline_Galaxy_S10  productline_Galaxy_S7  \\\n",
                            "0                         0                       0                      0   \n",
                            "1                         1                       0                      0   \n",
                            "2                         0                       0                      0   \n",
                            "\n",
                            "   productline_Galaxy_S8  productline_Galaxy_S9  productline_Unknown  \\\n",
                            "0                      0                      1                    0   \n",
                            "1                      0                      0                    0   \n",
                            "2                      0                      0                    1   \n",
                            "\n",
                            "   noDescription_contains description  noDescription_no description  \n",
                            "0                                   1                             0  \n",
                            "1                                   1                             0  \n",
                            "2                                   0                             1  \n",
                            "\n",
                            "[3 rows x 25 columns]"
                        ],
                        "text/html": [
                            "<div>\n",
                            "<style scoped>\n",
                            "    .dataframe tbody tr th:only-of-type {\n",
                            "        vertical-align: middle;\n",
                            "    }\n",
                            "\n",
                            "    .dataframe tbody tr th {\n",
                            "        vertical-align: top;\n",
                            "    }\n",
                            "\n",
                            "    .dataframe thead th {\n",
                            "        text-align: right;\n",
                            "    }\n",
                            "</style>\n",
                            "<table border=\"1\" class=\"dataframe\">\n",
                            "  <thead>\n",
                            "    <tr style=\"text-align: right;\">\n",
                            "      <th></th>\n",
                            "      <th>BuyItNow</th>\n",
                            "      <th>startprice</th>\n",
                            "      <th>charCountDescription</th>\n",
                            "      <th>upperCaseDescription</th>\n",
                            "      <th>sold</th>\n",
                            "      <th>carrier_AT&amp;T</th>\n",
                            "      <th>carrier_None</th>\n",
                            "      <th>carrier_Sprint/T-Mobile</th>\n",
                            "      <th>carrier_Unknown</th>\n",
                            "      <th>carrier_Verizon</th>\n",
                            "      <th>...</th>\n",
                            "      <th>productline_Galaxy_Note10</th>\n",
                            "      <th>productline_Galaxy_Note8</th>\n",
                            "      <th>productline_Galaxy_Note9</th>\n",
                            "      <th>productline_Galaxy_S10</th>\n",
                            "      <th>productline_Galaxy_S7</th>\n",
                            "      <th>productline_Galaxy_S8</th>\n",
                            "      <th>productline_Galaxy_S9</th>\n",
                            "      <th>productline_Unknown</th>\n",
                            "      <th>noDescription_contains description</th>\n",
                            "      <th>noDescription_no description</th>\n",
                            "    </tr>\n",
                            "  </thead>\n",
                            "  <tbody>\n",
                            "    <tr>\n",
                            "      <th>0</th>\n",
                            "      <td>0</td>\n",
                            "      <td>199.99</td>\n",
                            "      <td>0</td>\n",
                            "      <td>0</td>\n",
                            "      <td>1</td>\n",
                            "      <td>0</td>\n",
                            "      <td>1</td>\n",
                            "      <td>0</td>\n",
                            "      <td>0</td>\n",
                            "      <td>0</td>\n",
                            "      <td>...</td>\n",
                            "      <td>0</td>\n",
                            "      <td>0</td>\n",
                            "      <td>0</td>\n",
                            "      <td>0</td>\n",
                            "      <td>0</td>\n",
                            "      <td>0</td>\n",
                            "      <td>1</td>\n",
                            "      <td>0</td>\n",
                            "      <td>1</td>\n",
                            "      <td>0</td>\n",
                            "    </tr>\n",
                            "    <tr>\n",
                            "      <th>1</th>\n",
                            "      <td>0</td>\n",
                            "      <td>235.00</td>\n",
                            "      <td>0</td>\n",
                            "      <td>0</td>\n",
                            "      <td>0</td>\n",
                            "      <td>0</td>\n",
                            "      <td>1</td>\n",
                            "      <td>0</td>\n",
                            "      <td>0</td>\n",
                            "      <td>0</td>\n",
                            "      <td>...</td>\n",
                            "      <td>0</td>\n",
                            "      <td>0</td>\n",
                            "      <td>1</td>\n",
                            "      <td>0</td>\n",
                            "      <td>0</td>\n",
                            "      <td>0</td>\n",
                            "      <td>0</td>\n",
                            "      <td>0</td>\n",
                            "      <td>1</td>\n",
                            "      <td>0</td>\n",
                            "    </tr>\n",
                            "    <tr>\n",
                            "      <th>2</th>\n",
                            "      <td>0</td>\n",
                            "      <td>199.99</td>\n",
                            "      <td>100</td>\n",
                            "      <td>2</td>\n",
                            "      <td>0</td>\n",
                            "      <td>0</td>\n",
                            "      <td>0</td>\n",
                            "      <td>0</td>\n",
                            "      <td>1</td>\n",
                            "      <td>0</td>\n",
                            "      <td>...</td>\n",
                            "      <td>0</td>\n",
                            "      <td>0</td>\n",
                            "      <td>0</td>\n",
                            "      <td>0</td>\n",
                            "      <td>0</td>\n",
                            "      <td>0</td>\n",
                            "      <td>0</td>\n",
                            "      <td>1</td>\n",
                            "      <td>0</td>\n",
                            "      <td>1</td>\n",
                            "    </tr>\n",
                            "  </tbody>\n",
                            "</table>\n",
                            "<p>3 rows × 25 columns</p>\n",
                            "</div>"
                        ]
                    },
                    "metadata": {},
                    "execution_count": 30
                }
            ],
            "metadata": {}
        },
        {
            "cell_type": "markdown",
            "source": [
                "## STEP5. Decision Tree 모델 만들기"
            ],
            "metadata": {}
        },
        {
            "cell_type": "code",
            "execution_count": 31,
            "source": [
                "from sklearn.model_selection import train_test_split\r\n",
                "from sklearn.tree import DecisionTreeClassifier"
            ],
            "outputs": [],
            "metadata": {}
        },
        {
            "cell_type": "code",
            "execution_count": 32,
            "source": [
                "X = data.drop('sold', axis = 1)\r\n",
                "y = data['sold']"
            ],
            "outputs": [],
            "metadata": {}
        },
        {
            "cell_type": "code",
            "execution_count": 33,
            "source": [
                "X_train, X_test, y_train, y_test = train_test_split(X, y, test_size=0.2, random_state=100)"
            ],
            "outputs": [],
            "metadata": {}
        },
        {
            "cell_type": "code",
            "execution_count": 34,
            "source": [
                "model = DecisionTreeClassifier(max_depth=10)"
            ],
            "outputs": [],
            "metadata": {}
        },
        {
            "cell_type": "code",
            "execution_count": 35,
            "source": [
                "model.fit(X_train, y_train)"
            ],
            "outputs": [
                {
                    "output_type": "execute_result",
                    "data": {
                        "text/plain": [
                            "DecisionTreeClassifier(max_depth=10)"
                        ]
                    },
                    "metadata": {},
                    "execution_count": 35
                }
            ],
            "metadata": {}
        },
        {
            "cell_type": "markdown",
            "source": [
                "## STEP6. 예측 / 검증"
            ],
            "metadata": {}
        },
        {
            "cell_type": "code",
            "execution_count": 36,
            "source": [
                "pred = model.predict(X_test)"
            ],
            "outputs": [],
            "metadata": {}
        },
        {
            "cell_type": "code",
            "execution_count": 37,
            "source": [
                "pred"
            ],
            "outputs": [
                {
                    "output_type": "execute_result",
                    "data": {
                        "text/plain": [
                            "array([1, 0, 1, 1, 0, 0, 0, 1, 0, 0, 1, 1, 1, 1, 0, 1, 0, 0, 1, 1, 1, 1,\n",
                            "       1, 1, 0, 0, 0, 0, 0, 0, 0, 1, 1, 0, 0, 0, 0, 1, 0, 1, 0, 0, 1, 1,\n",
                            "       1, 1, 0, 0, 1, 0, 1, 0, 0, 1, 1, 0, 0, 1, 0, 0, 1, 0, 1, 0, 0, 1,\n",
                            "       1, 0, 0, 1, 0, 1, 0, 1, 1, 1, 0, 0, 1, 0, 0, 0, 0, 1, 0, 0, 0, 0,\n",
                            "       0, 1, 1, 0, 0, 1, 1, 0, 0, 1, 0, 0, 0, 1, 1, 0, 0, 0, 0, 0, 1, 0,\n",
                            "       1, 0, 0, 0, 1, 0, 0, 0, 1, 0, 1, 0, 0, 1, 1, 0, 0, 1, 0, 0, 1, 0,\n",
                            "       1, 1, 0, 1, 1, 0, 0, 0, 0, 1, 1, 1, 1, 0, 0, 0, 0, 1, 0, 0, 1, 0,\n",
                            "       0, 0, 1, 0, 0, 1, 0, 0, 0, 0, 1, 0, 0, 0, 1, 1, 1, 0, 0, 0, 1, 1,\n",
                            "       0, 0, 0, 1, 1, 0, 0, 0, 0, 0, 0, 0, 1, 1, 0, 0, 1, 1, 1, 1, 0, 0,\n",
                            "       0, 1, 0, 1, 0, 0, 0, 1, 1, 0, 1, 1, 0, 1, 1, 1, 1, 1, 1, 0, 1, 0,\n",
                            "       0, 0, 0, 0, 1, 0, 1, 1, 0, 1, 0, 1, 1, 1, 1, 1, 0, 1, 0, 0, 0, 1,\n",
                            "       1, 1, 0, 1, 0, 0, 0, 0, 0, 0, 0, 0, 0, 0, 1, 1, 0, 0, 1, 0, 1, 1,\n",
                            "       1, 0, 1, 0, 0, 1, 0, 1, 0, 1, 1, 1, 0, 0, 1, 1, 0, 0, 0, 1, 0, 1,\n",
                            "       0, 0, 0, 1, 0, 0, 0, 1, 0, 1, 0], dtype=int64)"
                        ]
                    },
                    "metadata": {},
                    "execution_count": 37
                }
            ],
            "metadata": {}
        },
        {
            "cell_type": "code",
            "execution_count": 38,
            "source": [
                "y_test"
            ],
            "outputs": [
                {
                    "output_type": "execute_result",
                    "data": {
                        "text/plain": [
                            "258     1\n",
                            "57      0\n",
                            "225     1\n",
                            "704     0\n",
                            "1096    0\n",
                            "       ..\n",
                            "44      0\n",
                            "1399    1\n",
                            "1035    0\n",
                            "259     1\n",
                            "532     1\n",
                            "Name: sold, Length: 297, dtype: int64"
                        ]
                    },
                    "metadata": {},
                    "execution_count": 38
                }
            ],
            "metadata": {}
        },
        {
            "cell_type": "markdown",
            "source": [
                "## STEP7. 평가"
            ],
            "metadata": {}
        },
        {
            "cell_type": "code",
            "execution_count": 39,
            "source": [
                "from sklearn.metrics import accuracy_score, confusion_matrix"
            ],
            "outputs": [],
            "metadata": {}
        },
        {
            "cell_type": "code",
            "execution_count": 40,
            "source": [
                "accuracy_score(y_test, pred)"
            ],
            "outputs": [
                {
                    "output_type": "execute_result",
                    "data": {
                        "text/plain": [
                            "0.8013468013468014"
                        ]
                    },
                    "metadata": {},
                    "execution_count": 40
                }
            ],
            "metadata": {}
        },
        {
            "cell_type": "markdown",
            "source": [
                "## STEP8. 최적의 MaxDepth찾기"
            ],
            "metadata": {}
        },
        {
            "cell_type": "code",
            "execution_count": 44,
            "source": [
                "for i in range(2, 31):\r\n",
                "    model = DecisionTreeClassifier(max_depth=i)\r\n",
                "    model.fit(X_train, y_train)\r\n",
                "    pred = model.predict(X_test)\r\n",
                "    print(\"max_depth= \",i, \" : \", round(accuracy_score(y_test, pred), 3))"
            ],
            "outputs": [
                {
                    "output_type": "stream",
                    "name": "stdout",
                    "text": [
                        "max_depth=  2  :  0.818\n",
                        "max_depth=  3  :  0.832\n",
                        "max_depth=  4  :  0.832\n",
                        "max_depth=  5  :  0.825\n",
                        "max_depth=  6  :  0.808\n",
                        "max_depth=  7  :  0.825\n",
                        "max_depth=  8  :  0.811\n",
                        "max_depth=  9  :  0.811\n",
                        "max_depth=  10  :  0.791\n",
                        "max_depth=  11  :  0.808\n",
                        "max_depth=  12  :  0.771\n",
                        "max_depth=  13  :  0.774\n",
                        "max_depth=  14  :  0.781\n",
                        "max_depth=  15  :  0.764\n",
                        "max_depth=  16  :  0.771\n",
                        "max_depth=  17  :  0.751\n",
                        "max_depth=  18  :  0.758\n",
                        "max_depth=  19  :  0.741\n",
                        "max_depth=  20  :  0.761\n",
                        "max_depth=  21  :  0.737\n",
                        "max_depth=  22  :  0.758\n",
                        "max_depth=  23  :  0.758\n",
                        "max_depth=  24  :  0.758\n",
                        "max_depth=  25  :  0.751\n",
                        "max_depth=  26  :  0.758\n",
                        "max_depth=  27  :  0.751\n",
                        "max_depth=  28  :  0.744\n",
                        "max_depth=  29  :  0.744\n",
                        "max_depth=  30  :  0.758\n"
                    ]
                }
            ],
            "metadata": {}
        },
        {
            "cell_type": "code",
            "execution_count": 47,
            "source": [
                "    model = DecisionTreeClassifier(max_depth=3)\r\n",
                "    model.fit(X_train, y_train)\r\n",
                "    pred = model.predict(X_test)\r\n",
                "    print(round(accuracy_score(y_test, pred), 3))\r\n",
                "    print(confusion_matrix(y_test, pred))"
            ],
            "outputs": [
                {
                    "output_type": "stream",
                    "name": "stdout",
                    "text": [
                        "0.832\n",
                        "[[151  10]\n",
                        " [ 40  96]]\n"
                    ]
                }
            ],
            "metadata": {}
        },
        {
            "cell_type": "markdown",
            "source": [
                "## STEP9. Tree Plot"
            ],
            "metadata": {}
        },
        {
            "cell_type": "code",
            "execution_count": 49,
            "source": [
                "from sklearn.tree import plot_tree"
            ],
            "outputs": [],
            "metadata": {}
        },
        {
            "cell_type": "code",
            "execution_count": 50,
            "source": [
                "plt.figure(figsize=(20, 15))\r\n",
                "plot_tree(model, feature_names=X_train.columns, fontsize=15, label=\"None\")"
            ],
            "outputs": [
                {
                    "output_type": "execute_result",
                    "data": {
                        "text/plain": [
                            "[Text(558.0, 713.475, 'BuyItNow <= 0.5\\n0.497\\n1188\\n[638, 550]'),\n",
                            " Text(279.0, 509.625, 'startprice <= 208.495\\n0.357\\n659\\n[506, 153]'),\n",
                            " Text(139.5, 305.775, 'productline_Galaxy_S9 <= 0.5\\n0.442\\n240\\n[161, 79]'),\n",
                            " Text(69.75, 101.92499999999995, '0.43\\n230\\n[158, 72]'),\n",
                            " Text(209.25, 101.92499999999995, '0.42\\n10\\n[3, 7]'),\n",
                            " Text(418.5, 305.775, 'upperCaseDescription <= 5.5\\n0.291\\n419\\n[345, 74]'),\n",
                            " Text(348.75, 101.92499999999995, '0.319\\n367\\n[294, 73]'),\n",
                            " Text(488.25, 101.92499999999995, '0.038\\n52\\n[51, 1]'),\n",
                            " Text(837.0, 509.625, 'startprice <= 142.475\\n0.375\\n529\\n[132, 397]'),\n",
                            " Text(697.5, 305.775, 'startprice <= 59.995\\n0.216\\n332\\n[41, 291]'),\n",
                            " Text(627.75, 101.92499999999995, '0.108\\n210\\n[12, 198]'),\n",
                            " Text(767.25, 101.92499999999995, '0.362\\n122\\n[29, 93]'),\n",
                            " Text(976.5, 305.775, 'productline_Galaxy_Note10 <= 0.5\\n0.497\\n197\\n[91, 106]'),\n",
                            " Text(906.75, 101.92499999999995, '0.495\\n125\\n[69, 56]'),\n",
                            " Text(1046.25, 101.92499999999995, '0.424\\n72\\n[22, 50]')]"
                        ]
                    },
                    "metadata": {},
                    "execution_count": 50
                },
                {
                    "output_type": "display_data",
                    "data": {
                        "text/plain": [
                            "<Figure size 1440x1080 with 1 Axes>"
                        ],
                        "image/png": "[encoded data removed]"
                    },
                    "metadata": {
                        "needs_background": "light"
                    }
                }
            ],
            "metadata": {}
        }
    ],
    "metadata": {
        "orig_nbformat": 4,
        "language_info": {
            "name": "python"
        }
    },
    "nbformat": 4,
    "nbformat_minor": 2
}