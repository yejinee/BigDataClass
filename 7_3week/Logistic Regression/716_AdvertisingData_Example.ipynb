{
    "cells": [
        {
            "cell_type": "markdown",
            "source": [
                "# Advertising Data 분석\r\n",
                "- Logistic Regression Modeling 예제"
            ],
            "metadata": {}
        },
        {
            "cell_type": "markdown",
            "source": [
                "## STEP1. 모듈 및 Dataset 준비"
            ],
            "metadata": {}
        },
        {
            "cell_type": "code",
            "execution_count": 1,
            "source": [
                "import pandas as pd\r\n",
                "import numpy as np\r\n",
                "import matplotlib.pyplot as plt\r\n",
                "import seaborn as sns"
            ],
            "outputs": [],
            "metadata": {}
        },
        {
            "cell_type": "code",
            "execution_count": 2,
            "source": [
                "data = pd.read_csv(\"./advertising.csv\")"
            ],
            "outputs": [],
            "metadata": {}
        },
        {
            "cell_type": "markdown",
            "source": [
                "## STEP2. EDA 및 기초 통계 분석"
            ],
            "metadata": {}
        },
        {
            "cell_type": "code",
            "execution_count": 3,
            "source": [
                "data.shape"
            ],
            "outputs": [
                {
                    "output_type": "execute_result",
                    "data": {
                        "text/plain": [
                            "(1000, 10)"
                        ]
                    },
                    "metadata": {},
                    "execution_count": 3
                }
            ],
            "metadata": {}
        },
        {
            "cell_type": "code",
            "execution_count": 4,
            "source": [
                "data.head(3)"
            ],
            "outputs": [
                {
                    "output_type": "execute_result",
                    "data": {
                        "text/plain": [
                            "   Daily Time Spent on Site   Age  Area Income  Daily Internet Usage  \\\n",
                            "0                     68.95   NaN     61833.90                256.09   \n",
                            "1                     80.23  31.0     68441.85                193.77   \n",
                            "2                     69.47  26.0     59785.94                236.50   \n",
                            "\n",
                            "                        Ad Topic Line         City  Male     Country  \\\n",
                            "0  Cloned 5thgeneration orchestration  Wrightburgh     0     Tunisia   \n",
                            "1  Monitored national standardization    West Jodi     1       Nauru   \n",
                            "2    Organic bottom-line service-desk     Davidton     0  San Marino   \n",
                            "\n",
                            "         Timestamp  Clicked on Ad  \n",
                            "0   3/27/2016 0:53              0  \n",
                            "1    4/4/2016 1:39              0  \n",
                            "2  3/13/2016 20:35              0  "
                        ],
                        "text/html": [
                            "<div>\n",
                            "<style scoped>\n",
                            "    .dataframe tbody tr th:only-of-type {\n",
                            "        vertical-align: middle;\n",
                            "    }\n",
                            "\n",
                            "    .dataframe tbody tr th {\n",
                            "        vertical-align: top;\n",
                            "    }\n",
                            "\n",
                            "    .dataframe thead th {\n",
                            "        text-align: right;\n",
                            "    }\n",
                            "</style>\n",
                            "<table border=\"1\" class=\"dataframe\">\n",
                            "  <thead>\n",
                            "    <tr style=\"text-align: right;\">\n",
                            "      <th></th>\n",
                            "      <th>Daily Time Spent on Site</th>\n",
                            "      <th>Age</th>\n",
                            "      <th>Area Income</th>\n",
                            "      <th>Daily Internet Usage</th>\n",
                            "      <th>Ad Topic Line</th>\n",
                            "      <th>City</th>\n",
                            "      <th>Male</th>\n",
                            "      <th>Country</th>\n",
                            "      <th>Timestamp</th>\n",
                            "      <th>Clicked on Ad</th>\n",
                            "    </tr>\n",
                            "  </thead>\n",
                            "  <tbody>\n",
                            "    <tr>\n",
                            "      <th>0</th>\n",
                            "      <td>68.95</td>\n",
                            "      <td>NaN</td>\n",
                            "      <td>61833.90</td>\n",
                            "      <td>256.09</td>\n",
                            "      <td>Cloned 5thgeneration orchestration</td>\n",
                            "      <td>Wrightburgh</td>\n",
                            "      <td>0</td>\n",
                            "      <td>Tunisia</td>\n",
                            "      <td>3/27/2016 0:53</td>\n",
                            "      <td>0</td>\n",
                            "    </tr>\n",
                            "    <tr>\n",
                            "      <th>1</th>\n",
                            "      <td>80.23</td>\n",
                            "      <td>31.0</td>\n",
                            "      <td>68441.85</td>\n",
                            "      <td>193.77</td>\n",
                            "      <td>Monitored national standardization</td>\n",
                            "      <td>West Jodi</td>\n",
                            "      <td>1</td>\n",
                            "      <td>Nauru</td>\n",
                            "      <td>4/4/2016 1:39</td>\n",
                            "      <td>0</td>\n",
                            "    </tr>\n",
                            "    <tr>\n",
                            "      <th>2</th>\n",
                            "      <td>69.47</td>\n",
                            "      <td>26.0</td>\n",
                            "      <td>59785.94</td>\n",
                            "      <td>236.50</td>\n",
                            "      <td>Organic bottom-line service-desk</td>\n",
                            "      <td>Davidton</td>\n",
                            "      <td>0</td>\n",
                            "      <td>San Marino</td>\n",
                            "      <td>3/13/2016 20:35</td>\n",
                            "      <td>0</td>\n",
                            "    </tr>\n",
                            "  </tbody>\n",
                            "</table>\n",
                            "</div>"
                        ]
                    },
                    "metadata": {},
                    "execution_count": 4
                }
            ],
            "metadata": {}
        },
        {
            "cell_type": "code",
            "execution_count": 5,
            "source": [
                "data.info()"
            ],
            "outputs": [
                {
                    "output_type": "stream",
                    "name": "stdout",
                    "text": [
                        "<class 'pandas.core.frame.DataFrame'>\n",
                        "RangeIndex: 1000 entries, 0 to 999\n",
                        "Data columns (total 10 columns):\n",
                        " #   Column                    Non-Null Count  Dtype  \n",
                        "---  ------                    --------------  -----  \n",
                        " 0   Daily Time Spent on Site  1000 non-null   float64\n",
                        " 1   Age                       916 non-null    float64\n",
                        " 2   Area Income               1000 non-null   float64\n",
                        " 3   Daily Internet Usage      1000 non-null   float64\n",
                        " 4   Ad Topic Line             1000 non-null   object \n",
                        " 5   City                      1000 non-null   object \n",
                        " 6   Male                      1000 non-null   int64  \n",
                        " 7   Country                   1000 non-null   object \n",
                        " 8   Timestamp                 1000 non-null   object \n",
                        " 9   Clicked on Ad             1000 non-null   int64  \n",
                        "dtypes: float64(4), int64(2), object(4)\n",
                        "memory usage: 78.2+ KB\n"
                    ]
                }
            ],
            "metadata": {}
        },
        {
            "cell_type": "code",
            "execution_count": 7,
            "source": [
                "data.describe()"
            ],
            "outputs": [
                {
                    "output_type": "execute_result",
                    "data": {
                        "text/plain": [
                            "       Daily Time Spent on Site         Age   Area Income  \\\n",
                            "count               1000.000000  916.000000   1000.000000   \n",
                            "mean                  65.000200   36.128821  55000.000080   \n",
                            "std                   15.853615    9.018548  13414.634022   \n",
                            "min                   32.600000   19.000000  13996.500000   \n",
                            "25%                   51.360000   29.000000  47031.802500   \n",
                            "50%                   68.215000   35.000000  57012.300000   \n",
                            "75%                   78.547500   42.000000  65470.635000   \n",
                            "max                   91.430000   61.000000  79484.800000   \n",
                            "\n",
                            "       Daily Internet Usage         Male  Clicked on Ad  \n",
                            "count           1000.000000  1000.000000     1000.00000  \n",
                            "mean             180.000100     0.481000        0.50000  \n",
                            "std               43.902339     0.499889        0.50025  \n",
                            "min              104.780000     0.000000        0.00000  \n",
                            "25%              138.830000     0.000000        0.00000  \n",
                            "50%              183.130000     0.000000        0.50000  \n",
                            "75%              218.792500     1.000000        1.00000  \n",
                            "max              269.960000     1.000000        1.00000  "
                        ],
                        "text/html": [
                            "<div>\n",
                            "<style scoped>\n",
                            "    .dataframe tbody tr th:only-of-type {\n",
                            "        vertical-align: middle;\n",
                            "    }\n",
                            "\n",
                            "    .dataframe tbody tr th {\n",
                            "        vertical-align: top;\n",
                            "    }\n",
                            "\n",
                            "    .dataframe thead th {\n",
                            "        text-align: right;\n",
                            "    }\n",
                            "</style>\n",
                            "<table border=\"1\" class=\"dataframe\">\n",
                            "  <thead>\n",
                            "    <tr style=\"text-align: right;\">\n",
                            "      <th></th>\n",
                            "      <th>Daily Time Spent on Site</th>\n",
                            "      <th>Age</th>\n",
                            "      <th>Area Income</th>\n",
                            "      <th>Daily Internet Usage</th>\n",
                            "      <th>Male</th>\n",
                            "      <th>Clicked on Ad</th>\n",
                            "    </tr>\n",
                            "  </thead>\n",
                            "  <tbody>\n",
                            "    <tr>\n",
                            "      <th>count</th>\n",
                            "      <td>1000.000000</td>\n",
                            "      <td>916.000000</td>\n",
                            "      <td>1000.000000</td>\n",
                            "      <td>1000.000000</td>\n",
                            "      <td>1000.000000</td>\n",
                            "      <td>1000.00000</td>\n",
                            "    </tr>\n",
                            "    <tr>\n",
                            "      <th>mean</th>\n",
                            "      <td>65.000200</td>\n",
                            "      <td>36.128821</td>\n",
                            "      <td>55000.000080</td>\n",
                            "      <td>180.000100</td>\n",
                            "      <td>0.481000</td>\n",
                            "      <td>0.50000</td>\n",
                            "    </tr>\n",
                            "    <tr>\n",
                            "      <th>std</th>\n",
                            "      <td>15.853615</td>\n",
                            "      <td>9.018548</td>\n",
                            "      <td>13414.634022</td>\n",
                            "      <td>43.902339</td>\n",
                            "      <td>0.499889</td>\n",
                            "      <td>0.50025</td>\n",
                            "    </tr>\n",
                            "    <tr>\n",
                            "      <th>min</th>\n",
                            "      <td>32.600000</td>\n",
                            "      <td>19.000000</td>\n",
                            "      <td>13996.500000</td>\n",
                            "      <td>104.780000</td>\n",
                            "      <td>0.000000</td>\n",
                            "      <td>0.00000</td>\n",
                            "    </tr>\n",
                            "    <tr>\n",
                            "      <th>25%</th>\n",
                            "      <td>51.360000</td>\n",
                            "      <td>29.000000</td>\n",
                            "      <td>47031.802500</td>\n",
                            "      <td>138.830000</td>\n",
                            "      <td>0.000000</td>\n",
                            "      <td>0.00000</td>\n",
                            "    </tr>\n",
                            "    <tr>\n",
                            "      <th>50%</th>\n",
                            "      <td>68.215000</td>\n",
                            "      <td>35.000000</td>\n",
                            "      <td>57012.300000</td>\n",
                            "      <td>183.130000</td>\n",
                            "      <td>0.000000</td>\n",
                            "      <td>0.50000</td>\n",
                            "    </tr>\n",
                            "    <tr>\n",
                            "      <th>75%</th>\n",
                            "      <td>78.547500</td>\n",
                            "      <td>42.000000</td>\n",
                            "      <td>65470.635000</td>\n",
                            "      <td>218.792500</td>\n",
                            "      <td>1.000000</td>\n",
                            "      <td>1.00000</td>\n",
                            "    </tr>\n",
                            "    <tr>\n",
                            "      <th>max</th>\n",
                            "      <td>91.430000</td>\n",
                            "      <td>61.000000</td>\n",
                            "      <td>79484.800000</td>\n",
                            "      <td>269.960000</td>\n",
                            "      <td>1.000000</td>\n",
                            "      <td>1.00000</td>\n",
                            "    </tr>\n",
                            "  </tbody>\n",
                            "</table>\n",
                            "</div>"
                        ]
                    },
                    "metadata": {},
                    "execution_count": 7
                }
            ],
            "metadata": {}
        },
        {
            "cell_type": "code",
            "execution_count": 8,
            "source": [
                "sns.displot(data=data['Area Income'])"
            ],
            "outputs": [
                {
                    "output_type": "execute_result",
                    "data": {
                        "text/plain": [
                            "<seaborn.axisgrid.FacetGrid at 0x205f7da7370>"
                        ]
                    },
                    "metadata": {},
                    "execution_count": 8
                },
                {
                    "output_type": "display_data",
                    "data": {
                        "text/plain": [
                            "<Figure size 360x360 with 1 Axes>"
                        ],
                        "image/png": "[encoded data removed]"
                    },
                    "metadata": {
                        "needs_background": "light"
                    }
                }
            ],
            "metadata": {}
        },
        {
            "cell_type": "code",
            "execution_count": 9,
            "source": [
                "sns.displot(data=data['Age'])"
            ],
            "outputs": [
                {
                    "output_type": "execute_result",
                    "data": {
                        "text/plain": [
                            "<seaborn.axisgrid.FacetGrid at 0x205f7c14f70>"
                        ]
                    },
                    "metadata": {},
                    "execution_count": 9
                },
                {
                    "output_type": "display_data",
                    "data": {
                        "text/plain": [
                            "<Figure size 360x360 with 1 Axes>"
                        ],
                        "image/png": "[encoded data removed]"
                    },
                    "metadata": {
                        "needs_background": "light"
                    }
                }
            ],
            "metadata": {}
        },
        {
            "cell_type": "markdown",
            "source": [
                "### 2-1) 텍스트로 된 컬럼 확인"
            ],
            "metadata": {}
        },
        {
            "cell_type": "code",
            "execution_count": 11,
            "source": [
                "data['Country'].nunique()"
            ],
            "outputs": [
                {
                    "output_type": "execute_result",
                    "data": {
                        "text/plain": [
                            "237"
                        ]
                    },
                    "metadata": {},
                    "execution_count": 11
                }
            ],
            "metadata": {}
        },
        {
            "cell_type": "code",
            "execution_count": 12,
            "source": [
                "data['City'].nunique()"
            ],
            "outputs": [
                {
                    "output_type": "execute_result",
                    "data": {
                        "text/plain": [
                            "969"
                        ]
                    },
                    "metadata": {},
                    "execution_count": 12
                }
            ],
            "metadata": {}
        },
        {
            "cell_type": "code",
            "execution_count": 13,
            "source": [
                "data['Ad Topic Line'].nunique()"
            ],
            "outputs": [
                {
                    "output_type": "execute_result",
                    "data": {
                        "text/plain": [
                            "1000"
                        ]
                    },
                    "metadata": {},
                    "execution_count": 13
                }
            ],
            "metadata": {}
        },
        {
            "cell_type": "markdown",
            "source": [
                "### 2-4) Missing  Value 확인 & 처리"
            ],
            "metadata": {}
        },
        {
            "cell_type": "code",
            "execution_count": 15,
            "source": [
                "data.isna().sum() / len(data)"
            ],
            "outputs": [
                {
                    "output_type": "execute_result",
                    "data": {
                        "text/plain": [
                            "Daily Time Spent on Site    0.000\n",
                            "Age                         0.084\n",
                            "Area Income                 0.000\n",
                            "Daily Internet Usage        0.000\n",
                            "Ad Topic Line               0.000\n",
                            "City                        0.000\n",
                            "Male                        0.000\n",
                            "Country                     0.000\n",
                            "Timestamp                   0.000\n",
                            "Clicked on Ad               0.000\n",
                            "dtype: float64"
                        ]
                    },
                    "metadata": {},
                    "execution_count": 15
                }
            ],
            "metadata": {}
        },
        {
            "cell_type": "code",
            "execution_count": 16,
            "source": [
                "data.dropna()"
            ],
            "outputs": [
                {
                    "output_type": "execute_result",
                    "data": {
                        "text/plain": [
                            "     Daily Time Spent on Site   Age  Area Income  Daily Internet Usage  \\\n",
                            "1                       80.23  31.0     68441.85                193.77   \n",
                            "2                       69.47  26.0     59785.94                236.50   \n",
                            "3                       74.15  29.0     54806.18                245.89   \n",
                            "4                       68.37  35.0     73889.99                225.58   \n",
                            "5                       59.99  23.0     59761.56                226.74   \n",
                            "..                        ...   ...          ...                   ...   \n",
                            "995                     72.97  30.0     71384.57                208.58   \n",
                            "996                     51.30  45.0     67782.17                134.42   \n",
                            "997                     51.63  51.0     42415.72                120.37   \n",
                            "998                     55.55  19.0     41920.79                187.95   \n",
                            "999                     45.01  26.0     29875.80                178.35   \n",
                            "\n",
                            "                             Ad Topic Line            City  Male  \\\n",
                            "1       Monitored national standardization       West Jodi     1   \n",
                            "2         Organic bottom-line service-desk        Davidton     0   \n",
                            "3    Triple-buffered reciprocal time-frame  West Terrifurt     1   \n",
                            "4            Robust logistical utilization    South Manuel     0   \n",
                            "5          Sharable client-driven software       Jamieberg     1   \n",
                            "..                                     ...             ...   ...   \n",
                            "995          Fundamental modular algorithm       Duffystad     1   \n",
                            "996        Grass-roots cohesive monitoring     New Darlene     1   \n",
                            "997           Expanded intangible solution   South Jessica     1   \n",
                            "998   Proactive bandwidth-monitored policy     West Steven     0   \n",
                            "999        Virtual 5thgeneration emulation     Ronniemouth     0   \n",
                            "\n",
                            "                    Country        Timestamp  Clicked on Ad  \n",
                            "1                     Nauru    4/4/2016 1:39              0  \n",
                            "2                San Marino  3/13/2016 20:35              0  \n",
                            "3                     Italy   1/10/2016 2:31              0  \n",
                            "4                   Iceland    6/3/2016 3:36              0  \n",
                            "5                    Norway  5/19/2016 14:30              0  \n",
                            "..                      ...              ...            ...  \n",
                            "995                 Lebanon  2/11/2016 21:49              1  \n",
                            "996  Bosnia and Herzegovina   4/22/2016 2:07              1  \n",
                            "997                Mongolia   2/1/2016 17:24              1  \n",
                            "998               Guatemala   3/24/2016 2:35              0  \n",
                            "999                  Brazil   6/3/2016 21:43              1  \n",
                            "\n",
                            "[916 rows x 10 columns]"
                        ],
                        "text/html": [
                            "<div>\n",
                            "<style scoped>\n",
                            "    .dataframe tbody tr th:only-of-type {\n",
                            "        vertical-align: middle;\n",
                            "    }\n",
                            "\n",
                            "    .dataframe tbody tr th {\n",
                            "        vertical-align: top;\n",
                            "    }\n",
                            "\n",
                            "    .dataframe thead th {\n",
                            "        text-align: right;\n",
                            "    }\n",
                            "</style>\n",
                            "<table border=\"1\" class=\"dataframe\">\n",
                            "  <thead>\n",
                            "    <tr style=\"text-align: right;\">\n",
                            "      <th></th>\n",
                            "      <th>Daily Time Spent on Site</th>\n",
                            "      <th>Age</th>\n",
                            "      <th>Area Income</th>\n",
                            "      <th>Daily Internet Usage</th>\n",
                            "      <th>Ad Topic Line</th>\n",
                            "      <th>City</th>\n",
                            "      <th>Male</th>\n",
                            "      <th>Country</th>\n",
                            "      <th>Timestamp</th>\n",
                            "      <th>Clicked on Ad</th>\n",
                            "    </tr>\n",
                            "  </thead>\n",
                            "  <tbody>\n",
                            "    <tr>\n",
                            "      <th>1</th>\n",
                            "      <td>80.23</td>\n",
                            "      <td>31.0</td>\n",
                            "      <td>68441.85</td>\n",
                            "      <td>193.77</td>\n",
                            "      <td>Monitored national standardization</td>\n",
                            "      <td>West Jodi</td>\n",
                            "      <td>1</td>\n",
                            "      <td>Nauru</td>\n",
                            "      <td>4/4/2016 1:39</td>\n",
                            "      <td>0</td>\n",
                            "    </tr>\n",
                            "    <tr>\n",
                            "      <th>2</th>\n",
                            "      <td>69.47</td>\n",
                            "      <td>26.0</td>\n",
                            "      <td>59785.94</td>\n",
                            "      <td>236.50</td>\n",
                            "      <td>Organic bottom-line service-desk</td>\n",
                            "      <td>Davidton</td>\n",
                            "      <td>0</td>\n",
                            "      <td>San Marino</td>\n",
                            "      <td>3/13/2016 20:35</td>\n",
                            "      <td>0</td>\n",
                            "    </tr>\n",
                            "    <tr>\n",
                            "      <th>3</th>\n",
                            "      <td>74.15</td>\n",
                            "      <td>29.0</td>\n",
                            "      <td>54806.18</td>\n",
                            "      <td>245.89</td>\n",
                            "      <td>Triple-buffered reciprocal time-frame</td>\n",
                            "      <td>West Terrifurt</td>\n",
                            "      <td>1</td>\n",
                            "      <td>Italy</td>\n",
                            "      <td>1/10/2016 2:31</td>\n",
                            "      <td>0</td>\n",
                            "    </tr>\n",
                            "    <tr>\n",
                            "      <th>4</th>\n",
                            "      <td>68.37</td>\n",
                            "      <td>35.0</td>\n",
                            "      <td>73889.99</td>\n",
                            "      <td>225.58</td>\n",
                            "      <td>Robust logistical utilization</td>\n",
                            "      <td>South Manuel</td>\n",
                            "      <td>0</td>\n",
                            "      <td>Iceland</td>\n",
                            "      <td>6/3/2016 3:36</td>\n",
                            "      <td>0</td>\n",
                            "    </tr>\n",
                            "    <tr>\n",
                            "      <th>5</th>\n",
                            "      <td>59.99</td>\n",
                            "      <td>23.0</td>\n",
                            "      <td>59761.56</td>\n",
                            "      <td>226.74</td>\n",
                            "      <td>Sharable client-driven software</td>\n",
                            "      <td>Jamieberg</td>\n",
                            "      <td>1</td>\n",
                            "      <td>Norway</td>\n",
                            "      <td>5/19/2016 14:30</td>\n",
                            "      <td>0</td>\n",
                            "    </tr>\n",
                            "    <tr>\n",
                            "      <th>...</th>\n",
                            "      <td>...</td>\n",
                            "      <td>...</td>\n",
                            "      <td>...</td>\n",
                            "      <td>...</td>\n",
                            "      <td>...</td>\n",
                            "      <td>...</td>\n",
                            "      <td>...</td>\n",
                            "      <td>...</td>\n",
                            "      <td>...</td>\n",
                            "      <td>...</td>\n",
                            "    </tr>\n",
                            "    <tr>\n",
                            "      <th>995</th>\n",
                            "      <td>72.97</td>\n",
                            "      <td>30.0</td>\n",
                            "      <td>71384.57</td>\n",
                            "      <td>208.58</td>\n",
                            "      <td>Fundamental modular algorithm</td>\n",
                            "      <td>Duffystad</td>\n",
                            "      <td>1</td>\n",
                            "      <td>Lebanon</td>\n",
                            "      <td>2/11/2016 21:49</td>\n",
                            "      <td>1</td>\n",
                            "    </tr>\n",
                            "    <tr>\n",
                            "      <th>996</th>\n",
                            "      <td>51.30</td>\n",
                            "      <td>45.0</td>\n",
                            "      <td>67782.17</td>\n",
                            "      <td>134.42</td>\n",
                            "      <td>Grass-roots cohesive monitoring</td>\n",
                            "      <td>New Darlene</td>\n",
                            "      <td>1</td>\n",
                            "      <td>Bosnia and Herzegovina</td>\n",
                            "      <td>4/22/2016 2:07</td>\n",
                            "      <td>1</td>\n",
                            "    </tr>\n",
                            "    <tr>\n",
                            "      <th>997</th>\n",
                            "      <td>51.63</td>\n",
                            "      <td>51.0</td>\n",
                            "      <td>42415.72</td>\n",
                            "      <td>120.37</td>\n",
                            "      <td>Expanded intangible solution</td>\n",
                            "      <td>South Jessica</td>\n",
                            "      <td>1</td>\n",
                            "      <td>Mongolia</td>\n",
                            "      <td>2/1/2016 17:24</td>\n",
                            "      <td>1</td>\n",
                            "    </tr>\n",
                            "    <tr>\n",
                            "      <th>998</th>\n",
                            "      <td>55.55</td>\n",
                            "      <td>19.0</td>\n",
                            "      <td>41920.79</td>\n",
                            "      <td>187.95</td>\n",
                            "      <td>Proactive bandwidth-monitored policy</td>\n",
                            "      <td>West Steven</td>\n",
                            "      <td>0</td>\n",
                            "      <td>Guatemala</td>\n",
                            "      <td>3/24/2016 2:35</td>\n",
                            "      <td>0</td>\n",
                            "    </tr>\n",
                            "    <tr>\n",
                            "      <th>999</th>\n",
                            "      <td>45.01</td>\n",
                            "      <td>26.0</td>\n",
                            "      <td>29875.80</td>\n",
                            "      <td>178.35</td>\n",
                            "      <td>Virtual 5thgeneration emulation</td>\n",
                            "      <td>Ronniemouth</td>\n",
                            "      <td>0</td>\n",
                            "      <td>Brazil</td>\n",
                            "      <td>6/3/2016 21:43</td>\n",
                            "      <td>1</td>\n",
                            "    </tr>\n",
                            "  </tbody>\n",
                            "</table>\n",
                            "<p>916 rows × 10 columns</p>\n",
                            "</div>"
                        ]
                    },
                    "metadata": {},
                    "execution_count": 16
                }
            ],
            "metadata": {}
        },
        {
            "cell_type": "code",
            "execution_count": 17,
            "source": [
                "data.drop('Age', axis=1)"
            ],
            "outputs": [
                {
                    "output_type": "execute_result",
                    "data": {
                        "text/plain": [
                            "     Daily Time Spent on Site  Area Income  Daily Internet Usage  \\\n",
                            "0                       68.95     61833.90                256.09   \n",
                            "1                       80.23     68441.85                193.77   \n",
                            "2                       69.47     59785.94                236.50   \n",
                            "3                       74.15     54806.18                245.89   \n",
                            "4                       68.37     73889.99                225.58   \n",
                            "..                        ...          ...                   ...   \n",
                            "995                     72.97     71384.57                208.58   \n",
                            "996                     51.30     67782.17                134.42   \n",
                            "997                     51.63     42415.72                120.37   \n",
                            "998                     55.55     41920.79                187.95   \n",
                            "999                     45.01     29875.80                178.35   \n",
                            "\n",
                            "                             Ad Topic Line            City  Male  \\\n",
                            "0       Cloned 5thgeneration orchestration     Wrightburgh     0   \n",
                            "1       Monitored national standardization       West Jodi     1   \n",
                            "2         Organic bottom-line service-desk        Davidton     0   \n",
                            "3    Triple-buffered reciprocal time-frame  West Terrifurt     1   \n",
                            "4            Robust logistical utilization    South Manuel     0   \n",
                            "..                                     ...             ...   ...   \n",
                            "995          Fundamental modular algorithm       Duffystad     1   \n",
                            "996        Grass-roots cohesive monitoring     New Darlene     1   \n",
                            "997           Expanded intangible solution   South Jessica     1   \n",
                            "998   Proactive bandwidth-monitored policy     West Steven     0   \n",
                            "999        Virtual 5thgeneration emulation     Ronniemouth     0   \n",
                            "\n",
                            "                    Country        Timestamp  Clicked on Ad  \n",
                            "0                   Tunisia   3/27/2016 0:53              0  \n",
                            "1                     Nauru    4/4/2016 1:39              0  \n",
                            "2                San Marino  3/13/2016 20:35              0  \n",
                            "3                     Italy   1/10/2016 2:31              0  \n",
                            "4                   Iceland    6/3/2016 3:36              0  \n",
                            "..                      ...              ...            ...  \n",
                            "995                 Lebanon  2/11/2016 21:49              1  \n",
                            "996  Bosnia and Herzegovina   4/22/2016 2:07              1  \n",
                            "997                Mongolia   2/1/2016 17:24              1  \n",
                            "998               Guatemala   3/24/2016 2:35              0  \n",
                            "999                  Brazil   6/3/2016 21:43              1  \n",
                            "\n",
                            "[1000 rows x 9 columns]"
                        ],
                        "text/html": [
                            "<div>\n",
                            "<style scoped>\n",
                            "    .dataframe tbody tr th:only-of-type {\n",
                            "        vertical-align: middle;\n",
                            "    }\n",
                            "\n",
                            "    .dataframe tbody tr th {\n",
                            "        vertical-align: top;\n",
                            "    }\n",
                            "\n",
                            "    .dataframe thead th {\n",
                            "        text-align: right;\n",
                            "    }\n",
                            "</style>\n",
                            "<table border=\"1\" class=\"dataframe\">\n",
                            "  <thead>\n",
                            "    <tr style=\"text-align: right;\">\n",
                            "      <th></th>\n",
                            "      <th>Daily Time Spent on Site</th>\n",
                            "      <th>Area Income</th>\n",
                            "      <th>Daily Internet Usage</th>\n",
                            "      <th>Ad Topic Line</th>\n",
                            "      <th>City</th>\n",
                            "      <th>Male</th>\n",
                            "      <th>Country</th>\n",
                            "      <th>Timestamp</th>\n",
                            "      <th>Clicked on Ad</th>\n",
                            "    </tr>\n",
                            "  </thead>\n",
                            "  <tbody>\n",
                            "    <tr>\n",
                            "      <th>0</th>\n",
                            "      <td>68.95</td>\n",
                            "      <td>61833.90</td>\n",
                            "      <td>256.09</td>\n",
                            "      <td>Cloned 5thgeneration orchestration</td>\n",
                            "      <td>Wrightburgh</td>\n",
                            "      <td>0</td>\n",
                            "      <td>Tunisia</td>\n",
                            "      <td>3/27/2016 0:53</td>\n",
                            "      <td>0</td>\n",
                            "    </tr>\n",
                            "    <tr>\n",
                            "      <th>1</th>\n",
                            "      <td>80.23</td>\n",
                            "      <td>68441.85</td>\n",
                            "      <td>193.77</td>\n",
                            "      <td>Monitored national standardization</td>\n",
                            "      <td>West Jodi</td>\n",
                            "      <td>1</td>\n",
                            "      <td>Nauru</td>\n",
                            "      <td>4/4/2016 1:39</td>\n",
                            "      <td>0</td>\n",
                            "    </tr>\n",
                            "    <tr>\n",
                            "      <th>2</th>\n",
                            "      <td>69.47</td>\n",
                            "      <td>59785.94</td>\n",
                            "      <td>236.50</td>\n",
                            "      <td>Organic bottom-line service-desk</td>\n",
                            "      <td>Davidton</td>\n",
                            "      <td>0</td>\n",
                            "      <td>San Marino</td>\n",
                            "      <td>3/13/2016 20:35</td>\n",
                            "      <td>0</td>\n",
                            "    </tr>\n",
                            "    <tr>\n",
                            "      <th>3</th>\n",
                            "      <td>74.15</td>\n",
                            "      <td>54806.18</td>\n",
                            "      <td>245.89</td>\n",
                            "      <td>Triple-buffered reciprocal time-frame</td>\n",
                            "      <td>West Terrifurt</td>\n",
                            "      <td>1</td>\n",
                            "      <td>Italy</td>\n",
                            "      <td>1/10/2016 2:31</td>\n",
                            "      <td>0</td>\n",
                            "    </tr>\n",
                            "    <tr>\n",
                            "      <th>4</th>\n",
                            "      <td>68.37</td>\n",
                            "      <td>73889.99</td>\n",
                            "      <td>225.58</td>\n",
                            "      <td>Robust logistical utilization</td>\n",
                            "      <td>South Manuel</td>\n",
                            "      <td>0</td>\n",
                            "      <td>Iceland</td>\n",
                            "      <td>6/3/2016 3:36</td>\n",
                            "      <td>0</td>\n",
                            "    </tr>\n",
                            "    <tr>\n",
                            "      <th>...</th>\n",
                            "      <td>...</td>\n",
                            "      <td>...</td>\n",
                            "      <td>...</td>\n",
                            "      <td>...</td>\n",
                            "      <td>...</td>\n",
                            "      <td>...</td>\n",
                            "      <td>...</td>\n",
                            "      <td>...</td>\n",
                            "      <td>...</td>\n",
                            "    </tr>\n",
                            "    <tr>\n",
                            "      <th>995</th>\n",
                            "      <td>72.97</td>\n",
                            "      <td>71384.57</td>\n",
                            "      <td>208.58</td>\n",
                            "      <td>Fundamental modular algorithm</td>\n",
                            "      <td>Duffystad</td>\n",
                            "      <td>1</td>\n",
                            "      <td>Lebanon</td>\n",
                            "      <td>2/11/2016 21:49</td>\n",
                            "      <td>1</td>\n",
                            "    </tr>\n",
                            "    <tr>\n",
                            "      <th>996</th>\n",
                            "      <td>51.30</td>\n",
                            "      <td>67782.17</td>\n",
                            "      <td>134.42</td>\n",
                            "      <td>Grass-roots cohesive monitoring</td>\n",
                            "      <td>New Darlene</td>\n",
                            "      <td>1</td>\n",
                            "      <td>Bosnia and Herzegovina</td>\n",
                            "      <td>4/22/2016 2:07</td>\n",
                            "      <td>1</td>\n",
                            "    </tr>\n",
                            "    <tr>\n",
                            "      <th>997</th>\n",
                            "      <td>51.63</td>\n",
                            "      <td>42415.72</td>\n",
                            "      <td>120.37</td>\n",
                            "      <td>Expanded intangible solution</td>\n",
                            "      <td>South Jessica</td>\n",
                            "      <td>1</td>\n",
                            "      <td>Mongolia</td>\n",
                            "      <td>2/1/2016 17:24</td>\n",
                            "      <td>1</td>\n",
                            "    </tr>\n",
                            "    <tr>\n",
                            "      <th>998</th>\n",
                            "      <td>55.55</td>\n",
                            "      <td>41920.79</td>\n",
                            "      <td>187.95</td>\n",
                            "      <td>Proactive bandwidth-monitored policy</td>\n",
                            "      <td>West Steven</td>\n",
                            "      <td>0</td>\n",
                            "      <td>Guatemala</td>\n",
                            "      <td>3/24/2016 2:35</td>\n",
                            "      <td>0</td>\n",
                            "    </tr>\n",
                            "    <tr>\n",
                            "      <th>999</th>\n",
                            "      <td>45.01</td>\n",
                            "      <td>29875.80</td>\n",
                            "      <td>178.35</td>\n",
                            "      <td>Virtual 5thgeneration emulation</td>\n",
                            "      <td>Ronniemouth</td>\n",
                            "      <td>0</td>\n",
                            "      <td>Brazil</td>\n",
                            "      <td>6/3/2016 21:43</td>\n",
                            "      <td>1</td>\n",
                            "    </tr>\n",
                            "  </tbody>\n",
                            "</table>\n",
                            "<p>1000 rows × 9 columns</p>\n",
                            "</div>"
                        ]
                    },
                    "metadata": {},
                    "execution_count": 17
                }
            ],
            "metadata": {}
        },
        {
            "cell_type": "code",
            "execution_count": 20,
            "source": [
                "round(data['Age'].mean())"
            ],
            "outputs": [
                {
                    "output_type": "execute_result",
                    "data": {
                        "text/plain": [
                            "36"
                        ]
                    },
                    "metadata": {},
                    "execution_count": 20
                }
            ],
            "metadata": {}
        },
        {
            "cell_type": "code",
            "execution_count": 21,
            "source": [
                "data['Age'].median()"
            ],
            "outputs": [
                {
                    "output_type": "execute_result",
                    "data": {
                        "text/plain": [
                            "35.0"
                        ]
                    },
                    "metadata": {},
                    "execution_count": 21
                }
            ],
            "metadata": {}
        },
        {
            "cell_type": "code",
            "execution_count": 22,
            "source": [
                "data = data.fillna(round(data['Age'].mean()))"
            ],
            "outputs": [],
            "metadata": {}
        },
        {
            "cell_type": "code",
            "execution_count": 23,
            "source": [
                "data.isna().sum()"
            ],
            "outputs": [
                {
                    "output_type": "execute_result",
                    "data": {
                        "text/plain": [
                            "Daily Time Spent on Site    0\n",
                            "Age                         0\n",
                            "Area Income                 0\n",
                            "Daily Internet Usage        0\n",
                            "Ad Topic Line               0\n",
                            "City                        0\n",
                            "Male                        0\n",
                            "Country                     0\n",
                            "Timestamp                   0\n",
                            "Clicked on Ad               0\n",
                            "dtype: int64"
                        ]
                    },
                    "metadata": {},
                    "execution_count": 23
                }
            ],
            "metadata": {}
        },
        {
            "cell_type": "markdown",
            "source": [
                "## STEP3. Train/Test DATA 분리"
            ],
            "metadata": {}
        },
        {
            "cell_type": "code",
            "execution_count": 24,
            "source": [
                "from sklearn.model_selection import train_test_split"
            ],
            "outputs": [],
            "metadata": {}
        },
        {
            "cell_type": "code",
            "execution_count": 25,
            "source": [
                "data.columns"
            ],
            "outputs": [
                {
                    "output_type": "execute_result",
                    "data": {
                        "text/plain": [
                            "Index(['Daily Time Spent on Site', 'Age', 'Area Income',\n",
                            "       'Daily Internet Usage', 'Ad Topic Line', 'City', 'Male', 'Country',\n",
                            "       'Timestamp', 'Clicked on Ad'],\n",
                            "      dtype='object')"
                        ]
                    },
                    "metadata": {},
                    "execution_count": 25
                }
            ],
            "metadata": {}
        },
        {
            "cell_type": "code",
            "execution_count": 26,
            "source": [
                "X = data[['Daily Time Spent on Site', 'Age', 'Area Income', 'Daily Internet Usage', 'Male']]\r\n",
                "y = data['Clicked on Ad']"
            ],
            "outputs": [],
            "metadata": {}
        },
        {
            "cell_type": "code",
            "execution_count": 27,
            "source": [
                "X_train, X_test, y_train, y_test = train_test_split(X, y, test_size=0.2, random_state=20)"
            ],
            "outputs": [],
            "metadata": {}
        },
        {
            "cell_type": "markdown",
            "source": [
                "## STEP4. Logistic Regression Model 생성"
            ],
            "metadata": {}
        },
        {
            "cell_type": "code",
            "execution_count": 28,
            "source": [
                "from sklearn.linear_model import LogisticRegression"
            ],
            "outputs": [],
            "metadata": {}
        },
        {
            "cell_type": "code",
            "execution_count": 29,
            "source": [
                "model = LogisticRegression()"
            ],
            "outputs": [],
            "metadata": {}
        },
        {
            "cell_type": "code",
            "execution_count": 30,
            "source": [
                "model.fit(X_train, y_train)"
            ],
            "outputs": [
                {
                    "output_type": "execute_result",
                    "data": {
                        "text/plain": [
                            "LogisticRegression()"
                        ]
                    },
                    "metadata": {},
                    "execution_count": 30
                }
            ],
            "metadata": {}
        },
        {
            "cell_type": "code",
            "execution_count": 31,
            "source": [
                "model.coef_"
            ],
            "outputs": [
                {
                    "output_type": "execute_result",
                    "data": {
                        "text/plain": [
                            "array([[-6.38762346e-02,  2.72671198e-01, -1.69353437e-05,\n",
                            "        -2.45055858e-02,  1.88139746e-03]])"
                        ]
                    },
                    "metadata": {},
                    "execution_count": 31
                }
            ],
            "metadata": {}
        },
        {
            "cell_type": "markdown",
            "source": [
                "## STEP5. 예측 및 평가"
            ],
            "metadata": {}
        },
        {
            "cell_type": "code",
            "execution_count": 32,
            "source": [
                "pred = model.predict(X_test)"
            ],
            "outputs": [],
            "metadata": {}
        },
        {
            "cell_type": "code",
            "execution_count": 33,
            "source": [
                "pred"
            ],
            "outputs": [
                {
                    "output_type": "execute_result",
                    "data": {
                        "text/plain": [
                            "array([0, 0, 1, 1, 1, 1, 1, 1, 0, 1, 1, 1, 0, 0, 1, 0, 1, 0, 0, 0, 1, 0,\n",
                            "       0, 0, 0, 0, 0, 0, 0, 0, 1, 0, 1, 1, 1, 0, 1, 1, 1, 0, 1, 0, 0, 1,\n",
                            "       1, 0, 0, 0, 0, 0, 1, 1, 0, 0, 0, 1, 1, 0, 0, 1, 0, 1, 0, 1, 0, 0,\n",
                            "       0, 0, 0, 1, 0, 0, 0, 1, 0, 0, 0, 0, 1, 1, 0, 1, 1, 1, 1, 0, 0, 0,\n",
                            "       0, 1, 0, 0, 1, 1, 0, 1, 1, 1, 0, 1, 1, 1, 1, 0, 0, 1, 0, 1, 0, 0,\n",
                            "       1, 1, 1, 1, 0, 0, 1, 1, 0, 0, 1, 1, 0, 0, 0, 1, 0, 1, 0, 1, 1, 1,\n",
                            "       0, 0, 1, 1, 1, 0, 0, 0, 1, 0, 1, 1, 0, 1, 0, 1, 0, 0, 0, 0, 1, 0,\n",
                            "       0, 1, 0, 0, 0, 0, 1, 0, 1, 0, 0, 0, 1, 1, 0, 1, 1, 1, 0, 0, 0, 0,\n",
                            "       1, 1, 1, 0, 1, 0, 1, 1, 0, 0, 0, 0, 1, 1, 1, 1, 0, 0, 1, 0, 0, 0,\n",
                            "       1, 1], dtype=int64)"
                        ]
                    },
                    "metadata": {},
                    "execution_count": 33
                }
            ],
            "metadata": {}
        },
        {
            "cell_type": "code",
            "execution_count": 34,
            "source": [
                "y_test"
            ],
            "outputs": [
                {
                    "output_type": "execute_result",
                    "data": {
                        "text/plain": [
                            "890    0\n",
                            "694    0\n",
                            "798    0\n",
                            "147    1\n",
                            "858    1\n",
                            "      ..\n",
                            "150    0\n",
                            "279    0\n",
                            "544    0\n",
                            "568    0\n",
                            "911    1\n",
                            "Name: Clicked on Ad, Length: 200, dtype: int64"
                        ]
                    },
                    "metadata": {},
                    "execution_count": 34
                }
            ],
            "metadata": {}
        },
        {
            "cell_type": "code",
            "execution_count": 35,
            "source": [
                "from sklearn.metrics import accuracy_score, confusion_matrix"
            ],
            "outputs": [],
            "metadata": {}
        },
        {
            "cell_type": "code",
            "execution_count": 36,
            "source": [
                "accuracy_score(y_test, pred)"
            ],
            "outputs": [
                {
                    "output_type": "execute_result",
                    "data": {
                        "text/plain": [
                            "0.905"
                        ]
                    },
                    "metadata": {},
                    "execution_count": 36
                }
            ],
            "metadata": {}
        },
        {
            "cell_type": "code",
            "execution_count": 37,
            "source": [
                "confusion_matrix(y_test, pred)"
            ],
            "outputs": [
                {
                    "output_type": "execute_result",
                    "data": {
                        "text/plain": [
                            "array([[100,  11],\n",
                            "       [  8,  81]], dtype=int64)"
                        ]
                    },
                    "metadata": {},
                    "execution_count": 37
                }
            ],
            "metadata": {}
        }
    ],
    "metadata": {
        "orig_nbformat": 4,
        "language_info": {
            "name": "python"
        }
    },
    "nbformat": 4,
    "nbformat_minor": 2
}