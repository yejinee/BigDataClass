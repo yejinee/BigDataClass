{
    "cells": [
        {
            "cell_type": "markdown",
            "source": [
                "# Mall_Customer Dataset 분석 & 모델링\r\n",
                "- KMeans Modeling\r\n",
                "- Dataset 설명\r\n",
                "    - 쇼핑몰 고객 정보 dataset"
            ],
            "metadata": {}
        },
        {
            "cell_type": "markdown",
            "source": [
                "## STEP1. 모듈 & DATASET "
            ],
            "metadata": {}
        },
        {
            "cell_type": "code",
            "execution_count": 1,
            "source": [
                "import pandas as pd\r\n",
                "import numpy as np\r\n",
                "import matplotlib.pyplot as plt\r\n",
                "import seaborn as sns"
            ],
            "outputs": [],
            "metadata": {}
        },
        {
            "cell_type": "code",
            "execution_count": 34,
            "source": [
                "data = pd.read_csv(\"./Mall_Customers.csv\", index_col=0)"
            ],
            "outputs": [],
            "metadata": {}
        },
        {
            "cell_type": "markdown",
            "source": [
                "## Step 2. EDA 및 데이터 기초 통계 분석"
            ],
            "metadata": {}
        },
        {
            "cell_type": "code",
            "execution_count": 6,
            "source": [
                "data.shape"
            ],
            "outputs": [
                {
                    "output_type": "execute_result",
                    "data": {
                        "text/plain": [
                            "(200, 5)"
                        ]
                    },
                    "metadata": {},
                    "execution_count": 6
                }
            ],
            "metadata": {}
        },
        {
            "cell_type": "code",
            "execution_count": 35,
            "source": [
                "data.head(2)"
            ],
            "outputs": [
                {
                    "output_type": "execute_result",
                    "data": {
                        "text/plain": [
                            "           Gender  Age  Annual Income (k$)  Spending Score (1-100)\n",
                            "CustomerID                                                        \n",
                            "1            Male   19                  15                      39\n",
                            "2            Male   21                  15                      81"
                        ],
                        "text/html": [
                            "<div>\n",
                            "<style scoped>\n",
                            "    .dataframe tbody tr th:only-of-type {\n",
                            "        vertical-align: middle;\n",
                            "    }\n",
                            "\n",
                            "    .dataframe tbody tr th {\n",
                            "        vertical-align: top;\n",
                            "    }\n",
                            "\n",
                            "    .dataframe thead th {\n",
                            "        text-align: right;\n",
                            "    }\n",
                            "</style>\n",
                            "<table border=\"1\" class=\"dataframe\">\n",
                            "  <thead>\n",
                            "    <tr style=\"text-align: right;\">\n",
                            "      <th></th>\n",
                            "      <th>Gender</th>\n",
                            "      <th>Age</th>\n",
                            "      <th>Annual Income (k$)</th>\n",
                            "      <th>Spending Score (1-100)</th>\n",
                            "    </tr>\n",
                            "    <tr>\n",
                            "      <th>CustomerID</th>\n",
                            "      <th></th>\n",
                            "      <th></th>\n",
                            "      <th></th>\n",
                            "      <th></th>\n",
                            "    </tr>\n",
                            "  </thead>\n",
                            "  <tbody>\n",
                            "    <tr>\n",
                            "      <th>1</th>\n",
                            "      <td>Male</td>\n",
                            "      <td>19</td>\n",
                            "      <td>15</td>\n",
                            "      <td>39</td>\n",
                            "    </tr>\n",
                            "    <tr>\n",
                            "      <th>2</th>\n",
                            "      <td>Male</td>\n",
                            "      <td>21</td>\n",
                            "      <td>15</td>\n",
                            "      <td>81</td>\n",
                            "    </tr>\n",
                            "  </tbody>\n",
                            "</table>\n",
                            "</div>"
                        ]
                    },
                    "metadata": {},
                    "execution_count": 35
                }
            ],
            "metadata": {}
        },
        {
            "cell_type": "code",
            "execution_count": 36,
            "source": [
                "data.info()"
            ],
            "outputs": [
                {
                    "output_type": "stream",
                    "name": "stdout",
                    "text": [
                        "<class 'pandas.core.frame.DataFrame'>\n",
                        "Int64Index: 200 entries, 1 to 200\n",
                        "Data columns (total 4 columns):\n",
                        " #   Column                  Non-Null Count  Dtype \n",
                        "---  ------                  --------------  ----- \n",
                        " 0   Gender                  200 non-null    object\n",
                        " 1   Age                     200 non-null    int64 \n",
                        " 2   Annual Income (k$)      200 non-null    int64 \n",
                        " 3   Spending Score (1-100)  200 non-null    int64 \n",
                        "dtypes: int64(3), object(1)\n",
                        "memory usage: 7.8+ KB\n"
                    ]
                }
            ],
            "metadata": {}
        },
        {
            "cell_type": "code",
            "execution_count": 37,
            "source": [
                "data.describe()"
            ],
            "outputs": [
                {
                    "output_type": "execute_result",
                    "data": {
                        "text/plain": [
                            "              Age  Annual Income (k$)  Spending Score (1-100)\n",
                            "count  200.000000          200.000000              200.000000\n",
                            "mean    38.850000           60.560000               50.200000\n",
                            "std     13.969007           26.264721               25.823522\n",
                            "min     18.000000           15.000000                1.000000\n",
                            "25%     28.750000           41.500000               34.750000\n",
                            "50%     36.000000           61.500000               50.000000\n",
                            "75%     49.000000           78.000000               73.000000\n",
                            "max     70.000000          137.000000               99.000000"
                        ],
                        "text/html": [
                            "<div>\n",
                            "<style scoped>\n",
                            "    .dataframe tbody tr th:only-of-type {\n",
                            "        vertical-align: middle;\n",
                            "    }\n",
                            "\n",
                            "    .dataframe tbody tr th {\n",
                            "        vertical-align: top;\n",
                            "    }\n",
                            "\n",
                            "    .dataframe thead th {\n",
                            "        text-align: right;\n",
                            "    }\n",
                            "</style>\n",
                            "<table border=\"1\" class=\"dataframe\">\n",
                            "  <thead>\n",
                            "    <tr style=\"text-align: right;\">\n",
                            "      <th></th>\n",
                            "      <th>Age</th>\n",
                            "      <th>Annual Income (k$)</th>\n",
                            "      <th>Spending Score (1-100)</th>\n",
                            "    </tr>\n",
                            "  </thead>\n",
                            "  <tbody>\n",
                            "    <tr>\n",
                            "      <th>count</th>\n",
                            "      <td>200.000000</td>\n",
                            "      <td>200.000000</td>\n",
                            "      <td>200.000000</td>\n",
                            "    </tr>\n",
                            "    <tr>\n",
                            "      <th>mean</th>\n",
                            "      <td>38.850000</td>\n",
                            "      <td>60.560000</td>\n",
                            "      <td>50.200000</td>\n",
                            "    </tr>\n",
                            "    <tr>\n",
                            "      <th>std</th>\n",
                            "      <td>13.969007</td>\n",
                            "      <td>26.264721</td>\n",
                            "      <td>25.823522</td>\n",
                            "    </tr>\n",
                            "    <tr>\n",
                            "      <th>min</th>\n",
                            "      <td>18.000000</td>\n",
                            "      <td>15.000000</td>\n",
                            "      <td>1.000000</td>\n",
                            "    </tr>\n",
                            "    <tr>\n",
                            "      <th>25%</th>\n",
                            "      <td>28.750000</td>\n",
                            "      <td>41.500000</td>\n",
                            "      <td>34.750000</td>\n",
                            "    </tr>\n",
                            "    <tr>\n",
                            "      <th>50%</th>\n",
                            "      <td>36.000000</td>\n",
                            "      <td>61.500000</td>\n",
                            "      <td>50.000000</td>\n",
                            "    </tr>\n",
                            "    <tr>\n",
                            "      <th>75%</th>\n",
                            "      <td>49.000000</td>\n",
                            "      <td>78.000000</td>\n",
                            "      <td>73.000000</td>\n",
                            "    </tr>\n",
                            "    <tr>\n",
                            "      <th>max</th>\n",
                            "      <td>70.000000</td>\n",
                            "      <td>137.000000</td>\n",
                            "      <td>99.000000</td>\n",
                            "    </tr>\n",
                            "  </tbody>\n",
                            "</table>\n",
                            "</div>"
                        ]
                    },
                    "metadata": {},
                    "execution_count": 37
                }
            ],
            "metadata": {}
        },
        {
            "cell_type": "code",
            "execution_count": 38,
            "source": [
                "data = pd.get_dummies(data, columns=['Gender'], drop_first = True)"
            ],
            "outputs": [],
            "metadata": {}
        },
        {
            "cell_type": "markdown",
            "source": [
                "## STEP2. KMeans Clustering Modeling"
            ],
            "metadata": {}
        },
        {
            "cell_type": "code",
            "execution_count": 39,
            "source": [
                "from sklearn.cluster import KMeans"
            ],
            "outputs": [],
            "metadata": {}
        },
        {
            "cell_type": "code",
            "execution_count": 40,
            "source": [
                "model = KMeans(n_clusters=3)"
            ],
            "outputs": [],
            "metadata": {}
        },
        {
            "cell_type": "code",
            "execution_count": 41,
            "source": [
                "model.fit(data)"
            ],
            "outputs": [
                {
                    "output_type": "execute_result",
                    "data": {
                        "text/plain": [
                            "KMeans(n_clusters=3)"
                        ]
                    },
                    "metadata": {},
                    "execution_count": 41
                }
            ],
            "metadata": {}
        },
        {
            "cell_type": "code",
            "execution_count": 42,
            "source": [
                "model.labels_"
            ],
            "outputs": [
                {
                    "output_type": "execute_result",
                    "data": {
                        "text/plain": [
                            "array([1, 1, 1, 1, 1, 1, 1, 1, 1, 1, 1, 1, 1, 1, 1, 1, 1, 1, 1, 1, 1, 1,\n",
                            "       1, 1, 1, 1, 1, 1, 1, 1, 1, 1, 1, 1, 1, 1, 1, 1, 1, 1, 1, 1, 1, 1,\n",
                            "       1, 1, 1, 1, 1, 1, 1, 1, 1, 1, 1, 1, 1, 1, 1, 1, 1, 1, 1, 1, 1, 1,\n",
                            "       1, 1, 1, 1, 1, 1, 1, 1, 1, 1, 1, 1, 1, 1, 1, 1, 1, 1, 1, 1, 1, 1,\n",
                            "       1, 1, 1, 1, 1, 1, 1, 1, 1, 1, 1, 1, 1, 1, 1, 1, 1, 1, 1, 1, 1, 1,\n",
                            "       1, 1, 1, 1, 1, 1, 1, 1, 1, 1, 1, 1, 1, 2, 0, 2, 0, 2, 0, 2, 0, 2,\n",
                            "       0, 2, 0, 2, 0, 2, 0, 2, 0, 2, 0, 2, 0, 2, 0, 2, 0, 2, 0, 2, 0, 2,\n",
                            "       0, 2, 0, 2, 0, 2, 0, 2, 0, 2, 0, 2, 0, 2, 0, 2, 0, 2, 0, 2, 0, 2,\n",
                            "       0, 2, 0, 2, 0, 2, 0, 2, 0, 2, 0, 2, 0, 2, 0, 2, 0, 2, 0, 2, 0, 2,\n",
                            "       0, 2])"
                        ]
                    },
                    "metadata": {},
                    "execution_count": 42
                }
            ],
            "metadata": {}
        },
        {
            "cell_type": "code",
            "execution_count": 43,
            "source": [
                "result_df = data.copy()"
            ],
            "outputs": [],
            "metadata": {}
        },
        {
            "cell_type": "code",
            "execution_count": 44,
            "source": [
                "result_df['label'] = model.labels_"
            ],
            "outputs": [],
            "metadata": {}
        },
        {
            "cell_type": "code",
            "execution_count": 45,
            "source": [
                "result_df.head()"
            ],
            "outputs": [
                {
                    "output_type": "execute_result",
                    "data": {
                        "text/plain": [
                            "            Age  Annual Income (k$)  Spending Score (1-100)  Gender_Male  \\\n",
                            "CustomerID                                                                 \n",
                            "1            19                  15                      39            1   \n",
                            "2            21                  15                      81            1   \n",
                            "3            20                  16                       6            0   \n",
                            "4            23                  16                      77            0   \n",
                            "5            31                  17                      40            0   \n",
                            "\n",
                            "            label  \n",
                            "CustomerID         \n",
                            "1               1  \n",
                            "2               1  \n",
                            "3               1  \n",
                            "4               1  \n",
                            "5               1  "
                        ],
                        "text/html": [
                            "<div>\n",
                            "<style scoped>\n",
                            "    .dataframe tbody tr th:only-of-type {\n",
                            "        vertical-align: middle;\n",
                            "    }\n",
                            "\n",
                            "    .dataframe tbody tr th {\n",
                            "        vertical-align: top;\n",
                            "    }\n",
                            "\n",
                            "    .dataframe thead th {\n",
                            "        text-align: right;\n",
                            "    }\n",
                            "</style>\n",
                            "<table border=\"1\" class=\"dataframe\">\n",
                            "  <thead>\n",
                            "    <tr style=\"text-align: right;\">\n",
                            "      <th></th>\n",
                            "      <th>Age</th>\n",
                            "      <th>Annual Income (k$)</th>\n",
                            "      <th>Spending Score (1-100)</th>\n",
                            "      <th>Gender_Male</th>\n",
                            "      <th>label</th>\n",
                            "    </tr>\n",
                            "    <tr>\n",
                            "      <th>CustomerID</th>\n",
                            "      <th></th>\n",
                            "      <th></th>\n",
                            "      <th></th>\n",
                            "      <th></th>\n",
                            "      <th></th>\n",
                            "    </tr>\n",
                            "  </thead>\n",
                            "  <tbody>\n",
                            "    <tr>\n",
                            "      <th>1</th>\n",
                            "      <td>19</td>\n",
                            "      <td>15</td>\n",
                            "      <td>39</td>\n",
                            "      <td>1</td>\n",
                            "      <td>1</td>\n",
                            "    </tr>\n",
                            "    <tr>\n",
                            "      <th>2</th>\n",
                            "      <td>21</td>\n",
                            "      <td>15</td>\n",
                            "      <td>81</td>\n",
                            "      <td>1</td>\n",
                            "      <td>1</td>\n",
                            "    </tr>\n",
                            "    <tr>\n",
                            "      <th>3</th>\n",
                            "      <td>20</td>\n",
                            "      <td>16</td>\n",
                            "      <td>6</td>\n",
                            "      <td>0</td>\n",
                            "      <td>1</td>\n",
                            "    </tr>\n",
                            "    <tr>\n",
                            "      <th>4</th>\n",
                            "      <td>23</td>\n",
                            "      <td>16</td>\n",
                            "      <td>77</td>\n",
                            "      <td>0</td>\n",
                            "      <td>1</td>\n",
                            "    </tr>\n",
                            "    <tr>\n",
                            "      <th>5</th>\n",
                            "      <td>31</td>\n",
                            "      <td>17</td>\n",
                            "      <td>40</td>\n",
                            "      <td>0</td>\n",
                            "      <td>1</td>\n",
                            "    </tr>\n",
                            "  </tbody>\n",
                            "</table>\n",
                            "</div>"
                        ]
                    },
                    "metadata": {},
                    "execution_count": 45
                }
            ],
            "metadata": {}
        },
        {
            "cell_type": "code",
            "execution_count": 46,
            "source": [
                "# Groupby를 통해 각 클러스트별 통계량을 확인\r\n",
                "result_df.groupby('label').mean()"
            ],
            "outputs": [
                {
                    "output_type": "execute_result",
                    "data": {
                        "text/plain": [
                            "             Age  Annual Income (k$)  Spending Score (1-100)  Gender_Male\n",
                            "label                                                                    \n",
                            "0      40.394737           87.000000               18.631579     0.526316\n",
                            "1      40.325203           44.154472               49.829268     0.406504\n",
                            "2      32.692308           86.538462               82.128205     0.461538"
                        ],
                        "text/html": [
                            "<div>\n",
                            "<style scoped>\n",
                            "    .dataframe tbody tr th:only-of-type {\n",
                            "        vertical-align: middle;\n",
                            "    }\n",
                            "\n",
                            "    .dataframe tbody tr th {\n",
                            "        vertical-align: top;\n",
                            "    }\n",
                            "\n",
                            "    .dataframe thead th {\n",
                            "        text-align: right;\n",
                            "    }\n",
                            "</style>\n",
                            "<table border=\"1\" class=\"dataframe\">\n",
                            "  <thead>\n",
                            "    <tr style=\"text-align: right;\">\n",
                            "      <th></th>\n",
                            "      <th>Age</th>\n",
                            "      <th>Annual Income (k$)</th>\n",
                            "      <th>Spending Score (1-100)</th>\n",
                            "      <th>Gender_Male</th>\n",
                            "    </tr>\n",
                            "    <tr>\n",
                            "      <th>label</th>\n",
                            "      <th></th>\n",
                            "      <th></th>\n",
                            "      <th></th>\n",
                            "      <th></th>\n",
                            "    </tr>\n",
                            "  </thead>\n",
                            "  <tbody>\n",
                            "    <tr>\n",
                            "      <th>0</th>\n",
                            "      <td>40.394737</td>\n",
                            "      <td>87.000000</td>\n",
                            "      <td>18.631579</td>\n",
                            "      <td>0.526316</td>\n",
                            "    </tr>\n",
                            "    <tr>\n",
                            "      <th>1</th>\n",
                            "      <td>40.325203</td>\n",
                            "      <td>44.154472</td>\n",
                            "      <td>49.829268</td>\n",
                            "      <td>0.406504</td>\n",
                            "    </tr>\n",
                            "    <tr>\n",
                            "      <th>2</th>\n",
                            "      <td>32.692308</td>\n",
                            "      <td>86.538462</td>\n",
                            "      <td>82.128205</td>\n",
                            "      <td>0.461538</td>\n",
                            "    </tr>\n",
                            "  </tbody>\n",
                            "</table>\n",
                            "</div>"
                        ]
                    },
                    "metadata": {},
                    "execution_count": 46
                }
            ],
            "metadata": {}
        },
        {
            "cell_type": "code",
            "execution_count": 47,
            "source": [
                "# Cluster별 관측치 갯수\r\n",
                "result_df['label'].value_counts()"
            ],
            "outputs": [
                {
                    "output_type": "execute_result",
                    "data": {
                        "text/plain": [
                            "1    123\n",
                            "2     39\n",
                            "0     38\n",
                            "Name: label, dtype: int64"
                        ]
                    },
                    "metadata": {},
                    "execution_count": 47
                }
            ],
            "metadata": {}
        },
        {
            "cell_type": "markdown",
            "source": [
                "## STEP3. K값 조정하기"
            ],
            "metadata": {}
        },
        {
            "cell_type": "markdown",
            "source": [
                "### 3-1) Elbow Method\r\n",
                "- 최적의 군집 수 구하기 위해서 실행\r\n",
                "- Cluster 간의 거리의 합을 나타내는 inertia가 급격히 떨어지는 구간이 생김\r\n",
                "    - 그 지점의 k값을 군집의 갯수로 사용 \r\n",
                "- inertia_ 속성으로 확인할 것!"
            ],
            "metadata": {}
        },
        {
            "cell_type": "code",
            "execution_count": 48,
            "source": [
                "distance = []\r\n",
                "for i in range(2, 11):\r\n",
                "    model = KMeans(n_clusters=i)\r\n",
                "    model.fit(data)\r\n",
                "    distance.append(model.inertia_)\r\n"
            ],
            "outputs": [],
            "metadata": {}
        },
        {
            "cell_type": "code",
            "execution_count": 49,
            "source": [
                "sns.lineplot(x=list(range(2, 11)), y=distance)"
            ],
            "outputs": [
                {
                    "output_type": "execute_result",
                    "data": {
                        "text/plain": [
                            "<AxesSubplot:>"
                        ]
                    },
                    "metadata": {},
                    "execution_count": 49
                },
                {
                    "output_type": "display_data",
                    "data": {
                        "text/plain": [
                            "<Figure size 432x288 with 1 Axes>"
                        ],
                        "image/png": "[encoded data removed]"
                    },
                    "metadata": {
                        "needs_background": "light"
                    }
                }
            ],
            "metadata": {}
        },
        {
            "cell_type": "markdown",
            "source": [
                "### 3-2) Silhoutte Score \r\n",
                "- Elbow Method로 최적 값을 찾기 어려울 때 확인\r\n",
                "- 실루엣 점수(군집타당성지표) 이용\r\n",
                "- 1에 가까울수록 적절한 군집화가 되어있다고 판단 "
            ],
            "metadata": {}
        },
        {
            "cell_type": "code",
            "execution_count": 50,
            "source": [
                "from sklearn.metrics import silhouette_score"
            ],
            "outputs": [],
            "metadata": {}
        },
        {
            "cell_type": "code",
            "execution_count": 51,
            "source": [
                "silhouette_score(data, model.labels_)"
            ],
            "outputs": [
                {
                    "output_type": "execute_result",
                    "data": {
                        "text/plain": [
                            "0.38615477907479345"
                        ]
                    },
                    "metadata": {},
                    "execution_count": 51
                }
            ],
            "metadata": {}
        },
        {
            "cell_type": "code",
            "execution_count": 52,
            "source": [
                "sil = []\r\n",
                "for i in range(2, 11):\r\n",
                "    model = KMeans(n_clusters=i)\r\n",
                "    model.fit(data)\r\n",
                "    sil.append(silhouette_score(data, model.labels_))"
            ],
            "outputs": [],
            "metadata": {}
        },
        {
            "cell_type": "code",
            "execution_count": 53,
            "source": [
                "sns.lineplot(x=list(range(2, 11)), y=sil)"
            ],
            "outputs": [
                {
                    "output_type": "execute_result",
                    "data": {
                        "text/plain": [
                            "<AxesSubplot:>"
                        ]
                    },
                    "metadata": {},
                    "execution_count": 53
                },
                {
                    "output_type": "display_data",
                    "data": {
                        "text/plain": [
                            "<Figure size 432x288 with 1 Axes>"
                        ],
                        "image/png": "[encoded data removed]"
                    },
                    "metadata": {
                        "needs_background": "light"
                    }
                }
            ],
            "metadata": {}
        },
        {
            "cell_type": "code",
            "execution_count": 58,
            "source": [
                "model = KMeans(n_clusters=6)\r\n",
                "model.fit(data)\r\n",
                "data['label'] = model.labels_"
            ],
            "outputs": [],
            "metadata": {}
        },
        {
            "cell_type": "code",
            "execution_count": 59,
            "source": [
                "data.groupby('label').mean()"
            ],
            "outputs": [
                {
                    "output_type": "execute_result",
                    "data": {
                        "text/plain": [
                            "             Age  Annual Income (k$)  Spending Score (1-100)  Gender_Male\n",
                            "label                                                                    \n",
                            "0      32.692308           86.538462               82.128205     0.461538\n",
                            "1      25.272727           25.727273               79.363636     0.409091\n",
                            "2      56.155556           53.377778               49.088889     0.444444\n",
                            "3      44.142857           25.142857               19.523810     0.380952\n",
                            "4      41.685714           88.228571               17.285714     0.571429\n",
                            "5      27.000000           56.657895               49.131579     0.342105"
                        ],
                        "text/html": [
                            "<div>\n",
                            "<style scoped>\n",
                            "    .dataframe tbody tr th:only-of-type {\n",
                            "        vertical-align: middle;\n",
                            "    }\n",
                            "\n",
                            "    .dataframe tbody tr th {\n",
                            "        vertical-align: top;\n",
                            "    }\n",
                            "\n",
                            "    .dataframe thead th {\n",
                            "        text-align: right;\n",
                            "    }\n",
                            "</style>\n",
                            "<table border=\"1\" class=\"dataframe\">\n",
                            "  <thead>\n",
                            "    <tr style=\"text-align: right;\">\n",
                            "      <th></th>\n",
                            "      <th>Age</th>\n",
                            "      <th>Annual Income (k$)</th>\n",
                            "      <th>Spending Score (1-100)</th>\n",
                            "      <th>Gender_Male</th>\n",
                            "    </tr>\n",
                            "    <tr>\n",
                            "      <th>label</th>\n",
                            "      <th></th>\n",
                            "      <th></th>\n",
                            "      <th></th>\n",
                            "      <th></th>\n",
                            "    </tr>\n",
                            "  </thead>\n",
                            "  <tbody>\n",
                            "    <tr>\n",
                            "      <th>0</th>\n",
                            "      <td>32.692308</td>\n",
                            "      <td>86.538462</td>\n",
                            "      <td>82.128205</td>\n",
                            "      <td>0.461538</td>\n",
                            "    </tr>\n",
                            "    <tr>\n",
                            "      <th>1</th>\n",
                            "      <td>25.272727</td>\n",
                            "      <td>25.727273</td>\n",
                            "      <td>79.363636</td>\n",
                            "      <td>0.409091</td>\n",
                            "    </tr>\n",
                            "    <tr>\n",
                            "      <th>2</th>\n",
                            "      <td>56.155556</td>\n",
                            "      <td>53.377778</td>\n",
                            "      <td>49.088889</td>\n",
                            "      <td>0.444444</td>\n",
                            "    </tr>\n",
                            "    <tr>\n",
                            "      <th>3</th>\n",
                            "      <td>44.142857</td>\n",
                            "      <td>25.142857</td>\n",
                            "      <td>19.523810</td>\n",
                            "      <td>0.380952</td>\n",
                            "    </tr>\n",
                            "    <tr>\n",
                            "      <th>4</th>\n",
                            "      <td>41.685714</td>\n",
                            "      <td>88.228571</td>\n",
                            "      <td>17.285714</td>\n",
                            "      <td>0.571429</td>\n",
                            "    </tr>\n",
                            "    <tr>\n",
                            "      <th>5</th>\n",
                            "      <td>27.000000</td>\n",
                            "      <td>56.657895</td>\n",
                            "      <td>49.131579</td>\n",
                            "      <td>0.342105</td>\n",
                            "    </tr>\n",
                            "  </tbody>\n",
                            "</table>\n",
                            "</div>"
                        ]
                    },
                    "metadata": {},
                    "execution_count": 59
                }
            ],
            "metadata": {}
        },
        {
            "cell_type": "code",
            "execution_count": 60,
            "source": [
                "sns.boxplot(x='label', y='Age', data=data)"
            ],
            "outputs": [
                {
                    "output_type": "execute_result",
                    "data": {
                        "text/plain": [
                            "<AxesSubplot:xlabel='label', ylabel='Age'>"
                        ]
                    },
                    "metadata": {},
                    "execution_count": 60
                },
                {
                    "output_type": "display_data",
                    "data": {
                        "text/plain": [
                            "<Figure size 432x288 with 1 Axes>"
                        ],
                        "image/png": "[encoded data removed]"
                    },
                    "metadata": {
                        "needs_background": "light"
                    }
                }
            ],
            "metadata": {}
        },
        {
            "cell_type": "code",
            "execution_count": 61,
            "source": [
                "sns.boxplot(x='label', y='Annual Income (k$)', data=data)"
            ],
            "outputs": [
                {
                    "output_type": "execute_result",
                    "data": {
                        "text/plain": [
                            "<AxesSubplot:xlabel='label', ylabel='Annual Income (k$)'>"
                        ]
                    },
                    "metadata": {},
                    "execution_count": 61
                },
                {
                    "output_type": "display_data",
                    "data": {
                        "text/plain": [
                            "<Figure size 432x288 with 1 Axes>"
                        ],
                        "image/png": "[encoded data removed]"
                    },
                    "metadata": {
                        "needs_background": "light"
                    }
                }
            ],
            "metadata": {}
        },
        {
            "cell_type": "markdown",
            "source": [
                "## STEP4. PCA를 활용해 변수 줄임 & scatter plot"
            ],
            "metadata": {}
        },
        {
            "cell_type": "code",
            "execution_count": 63,
            "source": [
                "data.drop('label', axis=1, inplace=True)"
            ],
            "outputs": [],
            "metadata": {}
        },
        {
            "cell_type": "code",
            "execution_count": 64,
            "source": [
                "from sklearn.decomposition import PCA"
            ],
            "outputs": [],
            "metadata": {}
        },
        {
            "cell_type": "code",
            "execution_count": 65,
            "source": [
                "pca = PCA(n_components=2)\r\n",
                "pca.fit(data)\r\n",
                "pca_df = pca.transform(data)"
            ],
            "outputs": [],
            "metadata": {}
        },
        {
            "cell_type": "code",
            "execution_count": null,
            "source": [
                "pca_df"
            ],
            "outputs": [],
            "metadata": {}
        },
        {
            "cell_type": "code",
            "execution_count": 67,
            "source": [
                "pca_df = pd.DataFrame(pca_df, columns=['PC1', 'PC2'])"
            ],
            "outputs": [],
            "metadata": {}
        },
        {
            "cell_type": "code",
            "execution_count": 68,
            "source": [
                "plt.figure(figsize=(20., 10))\r\n",
                "sns.scatterplot(x=pca_df['PC1'], y=pca_df['PC2'], hue=model.labels_, palette='Set2', s=100)"
            ],
            "outputs": [
                {
                    "output_type": "execute_result",
                    "data": {
                        "text/plain": [
                            "<AxesSubplot:xlabel='PC1', ylabel='PC2'>"
                        ]
                    },
                    "metadata": {},
                    "execution_count": 68
                },
                {
                    "output_type": "display_data",
                    "data": {
                        "text/plain": [
                            "<Figure size 1440x720 with 1 Axes>"
                        ],
                        "image/png": "[encoded data removed]"
                    },
                    "metadata": {
                        "needs_background": "light"
                    }
                }
            ],
            "metadata": {}
        }
    ],
    "metadata": {
        "orig_nbformat": 4,
        "language_info": {
            "name": "python"
        }
    },
    "nbformat": 4,
    "nbformat_minor": 2
}