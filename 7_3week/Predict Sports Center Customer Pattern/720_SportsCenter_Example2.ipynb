{
 "cells": [
  {
   "cell_type": "markdown",
   "source": [
    "# 💪 Sports Center 고객 정보 분석 - 2\r\n",
    "## II. 고객의 행동을 예측!"
   ],
   "metadata": {}
  },
  {
   "cell_type": "markdown",
   "source": [
    "## ✔ 문제 상황 \r\n",
    "### VOC (Voice of Customer)\r\n",
    "- 고객별 이용 횟수를 예측할 수 있을까?"
   ],
   "metadata": {}
  },
  {
   "cell_type": "markdown",
   "source": [
    "### 사용 할 데이터\r\n",
    "- use_log.csv\r\n",
    "- customer_join.csv"
   ],
   "metadata": {}
  },
  {
   "cell_type": "markdown",
   "source": [
    "## ✔ Solution"
   ],
   "metadata": {}
  },
  {
   "cell_type": "markdown",
   "source": [
    "## STEP1. 데이터 읽어오기"
   ],
   "metadata": {}
  },
  {
   "cell_type": "code",
   "execution_count": 1,
   "source": [
    "import pandas as pd"
   ],
   "outputs": [],
   "metadata": {}
  },
  {
   "cell_type": "code",
   "execution_count": 2,
   "source": [
    "uselog = pd.read_csv('./use_log.csv')\r\n",
    "uselog.isnull().sum() / len(uselog)"
   ],
   "outputs": [
    {
     "output_type": "execute_result",
     "data": {
      "text/plain": [
       "log_id         0.0\n",
       "customer_id    0.0\n",
       "usedate        0.0\n",
       "dtype: float64"
      ]
     },
     "metadata": {},
     "execution_count": 2
    }
   ],
   "metadata": {}
  },
  {
   "cell_type": "code",
   "execution_count": 3,
   "source": [
    "uselog.info()"
   ],
   "outputs": [
    {
     "output_type": "stream",
     "name": "stdout",
     "text": [
      "<class 'pandas.core.frame.DataFrame'>\n",
      "RangeIndex: 197428 entries, 0 to 197427\n",
      "Data columns (total 3 columns):\n",
      " #   Column       Non-Null Count   Dtype \n",
      "---  ------       --------------   ----- \n",
      " 0   log_id       197428 non-null  object\n",
      " 1   customer_id  197428 non-null  object\n",
      " 2   usedate      197428 non-null  object\n",
      "dtypes: object(3)\n",
      "memory usage: 4.5+ MB\n"
     ]
    }
   ],
   "metadata": {}
  },
  {
   "cell_type": "code",
   "execution_count": 4,
   "source": [
    "customer = pd.read_csv('./customer_join.csv')\r\n",
    "customer.isnull().sum() / len(customer)"
   ],
   "outputs": [
    {
     "output_type": "execute_result",
     "data": {
      "text/plain": [
       "customer_id          0.000000\n",
       "name                 0.000000\n",
       "class                0.000000\n",
       "gender               0.000000\n",
       "start_date           0.000000\n",
       "end_date             0.677958\n",
       "campaign_id          0.000000\n",
       "is_deleted           0.000000\n",
       "class_name           0.000000\n",
       "price                0.000000\n",
       "campaign_name        0.000000\n",
       "mean                 0.000000\n",
       "median               0.000000\n",
       "max                  0.000000\n",
       "min                  0.000000\n",
       "routine_flg          0.000000\n",
       "calc_date            0.000000\n",
       "membership_period    0.000000\n",
       "dtype: float64"
      ]
     },
     "metadata": {},
     "execution_count": 4
    }
   ],
   "metadata": {}
  },
  {
   "cell_type": "code",
   "execution_count": 5,
   "source": [
    "customer.info()"
   ],
   "outputs": [
    {
     "output_type": "stream",
     "name": "stdout",
     "text": [
      "<class 'pandas.core.frame.DataFrame'>\n",
      "RangeIndex: 4192 entries, 0 to 4191\n",
      "Data columns (total 18 columns):\n",
      " #   Column             Non-Null Count  Dtype  \n",
      "---  ------             --------------  -----  \n",
      " 0   customer_id        4192 non-null   object \n",
      " 1   name               4192 non-null   object \n",
      " 2   class              4192 non-null   object \n",
      " 3   gender             4192 non-null   object \n",
      " 4   start_date         4192 non-null   object \n",
      " 5   end_date           1350 non-null   object \n",
      " 6   campaign_id        4192 non-null   object \n",
      " 7   is_deleted         4192 non-null   int64  \n",
      " 8   class_name         4192 non-null   object \n",
      " 9   price              4192 non-null   int64  \n",
      " 10  campaign_name      4192 non-null   object \n",
      " 11  mean               4192 non-null   float64\n",
      " 12  median             4192 non-null   float64\n",
      " 13  max                4192 non-null   int64  \n",
      " 14  min                4192 non-null   int64  \n",
      " 15  routine_flg        4192 non-null   int64  \n",
      " 16  calc_date          4192 non-null   object \n",
      " 17  membership_period  4192 non-null   int64  \n",
      "dtypes: float64(2), int64(6), object(10)\n",
      "memory usage: 589.6+ KB\n"
     ]
    }
   ],
   "metadata": {}
  },
  {
   "cell_type": "markdown",
   "source": [
    "## STEP2. 클러스터링으로 회원을 그룹화\r\n",
    "- 탈퇴 여부로 분류x,  이용 이력을 통해 그룹화\r\n",
    "- 진짜 결측인지, 탈퇴 하지 않은 것인지 부정확하기 때문"
   ],
   "metadata": {}
  },
  {
   "cell_type": "code",
   "execution_count": 6,
   "source": [
    "customer_clustering = customer[['mean', 'median', 'max', 'min', 'membership_period']]\r\n",
    "customer_clustering.head(3)"
   ],
   "outputs": [
    {
     "output_type": "execute_result",
     "data": {
      "text/plain": [
       "       mean  median  max  min  membership_period\n",
       "0  4.833333     5.0    8    2                 47\n",
       "1  5.083333     5.0    7    3                 47\n",
       "2  4.583333     5.0    6    3                 47"
      ],
      "text/html": [
       "<div>\n",
       "<style scoped>\n",
       "    .dataframe tbody tr th:only-of-type {\n",
       "        vertical-align: middle;\n",
       "    }\n",
       "\n",
       "    .dataframe tbody tr th {\n",
       "        vertical-align: top;\n",
       "    }\n",
       "\n",
       "    .dataframe thead th {\n",
       "        text-align: right;\n",
       "    }\n",
       "</style>\n",
       "<table border=\"1\" class=\"dataframe\">\n",
       "  <thead>\n",
       "    <tr style=\"text-align: right;\">\n",
       "      <th></th>\n",
       "      <th>mean</th>\n",
       "      <th>median</th>\n",
       "      <th>max</th>\n",
       "      <th>min</th>\n",
       "      <th>membership_period</th>\n",
       "    </tr>\n",
       "  </thead>\n",
       "  <tbody>\n",
       "    <tr>\n",
       "      <th>0</th>\n",
       "      <td>4.833333</td>\n",
       "      <td>5.0</td>\n",
       "      <td>8</td>\n",
       "      <td>2</td>\n",
       "      <td>47</td>\n",
       "    </tr>\n",
       "    <tr>\n",
       "      <th>1</th>\n",
       "      <td>5.083333</td>\n",
       "      <td>5.0</td>\n",
       "      <td>7</td>\n",
       "      <td>3</td>\n",
       "      <td>47</td>\n",
       "    </tr>\n",
       "    <tr>\n",
       "      <th>2</th>\n",
       "      <td>4.583333</td>\n",
       "      <td>5.0</td>\n",
       "      <td>6</td>\n",
       "      <td>3</td>\n",
       "      <td>47</td>\n",
       "    </tr>\n",
       "  </tbody>\n",
       "</table>\n",
       "</div>"
      ]
     },
     "metadata": {},
     "execution_count": 6
    }
   ],
   "metadata": {}
  },
  {
   "cell_type": "code",
   "execution_count": 7,
   "source": [
    "!conda list scikit-learn"
   ],
   "outputs": [
    {
     "output_type": "stream",
     "name": "stdout",
     "text": [
      "# packages in environment at C:\\Users\\admin\\anaconda3:\n",
      "#\n",
      "# Name                    Version                   Build  Channel\n",
      "scikit-learn              0.24.1           py38hf11a4ad_0  \n"
     ]
    }
   ],
   "metadata": {}
  },
  {
   "cell_type": "code",
   "execution_count": 8,
   "source": [
    "!conda install -c anaconda scikit-learn -y"
   ],
   "outputs": [
    {
     "output_type": "stream",
     "name": "stdout",
     "text": [
      "Collecting package metadata (current_repodata.json): ...working... done\n",
      "Solving environment: ...working... done\n",
      "\n",
      "# All requested packages already installed.\n",
      "\n"
     ]
    }
   ],
   "metadata": {}
  },
  {
   "cell_type": "code",
   "execution_count": 14,
   "source": [
    "import warnings\r\n",
    "warnings.filterwarnings(\"ignore\")"
   ],
   "outputs": [],
   "metadata": {}
  },
  {
   "cell_type": "code",
   "execution_count": 9,
   "source": [
    "from sklearn.cluster import KMeans\r\n",
    "from sklearn.preprocessing import StandardScaler"
   ],
   "outputs": [],
   "metadata": {}
  },
  {
   "cell_type": "code",
   "execution_count": 10,
   "source": [
    "sc = StandardScaler()\r\n",
    "customer_clustering_sc = sc.fit_transform(customer_clustering)"
   ],
   "outputs": [],
   "metadata": {}
  },
  {
   "cell_type": "code",
   "execution_count": 11,
   "source": [
    "kmeans = KMeans(n_clusters=4, random_state=0)\r\n",
    "clusters = kmeans.fit(customer_clustering_sc)"
   ],
   "outputs": [],
   "metadata": {}
  },
  {
   "cell_type": "code",
   "execution_count": 15,
   "source": [
    "customer_clustering['cluster'] = clusters.labels_"
   ],
   "outputs": [],
   "metadata": {}
  },
  {
   "cell_type": "code",
   "execution_count": 16,
   "source": [
    "customer_clustering['cluster'].unique()"
   ],
   "outputs": [
    {
     "output_type": "execute_result",
     "data": {
      "text/plain": [
       "array([1, 2, 3, 0])"
      ]
     },
     "metadata": {},
     "execution_count": 16
    }
   ],
   "metadata": {}
  },
  {
   "cell_type": "code",
   "execution_count": 17,
   "source": [
    "customer_clustering.head(3)"
   ],
   "outputs": [
    {
     "output_type": "execute_result",
     "data": {
      "text/plain": [
       "       mean  median  max  min  membership_period  cluster\n",
       "0  4.833333     5.0    8    2                 47        1\n",
       "1  5.083333     5.0    7    3                 47        1\n",
       "2  4.583333     5.0    6    3                 47        1"
      ],
      "text/html": [
       "<div>\n",
       "<style scoped>\n",
       "    .dataframe tbody tr th:only-of-type {\n",
       "        vertical-align: middle;\n",
       "    }\n",
       "\n",
       "    .dataframe tbody tr th {\n",
       "        vertical-align: top;\n",
       "    }\n",
       "\n",
       "    .dataframe thead th {\n",
       "        text-align: right;\n",
       "    }\n",
       "</style>\n",
       "<table border=\"1\" class=\"dataframe\">\n",
       "  <thead>\n",
       "    <tr style=\"text-align: right;\">\n",
       "      <th></th>\n",
       "      <th>mean</th>\n",
       "      <th>median</th>\n",
       "      <th>max</th>\n",
       "      <th>min</th>\n",
       "      <th>membership_period</th>\n",
       "      <th>cluster</th>\n",
       "    </tr>\n",
       "  </thead>\n",
       "  <tbody>\n",
       "    <tr>\n",
       "      <th>0</th>\n",
       "      <td>4.833333</td>\n",
       "      <td>5.0</td>\n",
       "      <td>8</td>\n",
       "      <td>2</td>\n",
       "      <td>47</td>\n",
       "      <td>1</td>\n",
       "    </tr>\n",
       "    <tr>\n",
       "      <th>1</th>\n",
       "      <td>5.083333</td>\n",
       "      <td>5.0</td>\n",
       "      <td>7</td>\n",
       "      <td>3</td>\n",
       "      <td>47</td>\n",
       "      <td>1</td>\n",
       "    </tr>\n",
       "    <tr>\n",
       "      <th>2</th>\n",
       "      <td>4.583333</td>\n",
       "      <td>5.0</td>\n",
       "      <td>6</td>\n",
       "      <td>3</td>\n",
       "      <td>47</td>\n",
       "      <td>1</td>\n",
       "    </tr>\n",
       "  </tbody>\n",
       "</table>\n",
       "</div>"
      ]
     },
     "metadata": {},
     "execution_count": 17
    }
   ],
   "metadata": {}
  },
  {
   "cell_type": "code",
   "execution_count": 18,
   "source": [
    "customer_clustering.columns = ['월평균값', '월중앙값', '월최댓값', '월최솟값', '회원기간', 'cluster']\r\n",
    "customer_clustering.groupby('cluster').count()"
   ],
   "outputs": [
    {
     "output_type": "execute_result",
     "data": {
      "text/plain": [
       "         월평균값  월중앙값  월최댓값  월최솟값  회원기간\n",
       "cluster                              \n",
       "0         840   840   840   840   840\n",
       "1        1249  1249  1249  1249  1249\n",
       "2         771   771   771   771   771\n",
       "3        1332  1332  1332  1332  1332"
      ],
      "text/html": [
       "<div>\n",
       "<style scoped>\n",
       "    .dataframe tbody tr th:only-of-type {\n",
       "        vertical-align: middle;\n",
       "    }\n",
       "\n",
       "    .dataframe tbody tr th {\n",
       "        vertical-align: top;\n",
       "    }\n",
       "\n",
       "    .dataframe thead th {\n",
       "        text-align: right;\n",
       "    }\n",
       "</style>\n",
       "<table border=\"1\" class=\"dataframe\">\n",
       "  <thead>\n",
       "    <tr style=\"text-align: right;\">\n",
       "      <th></th>\n",
       "      <th>월평균값</th>\n",
       "      <th>월중앙값</th>\n",
       "      <th>월최댓값</th>\n",
       "      <th>월최솟값</th>\n",
       "      <th>회원기간</th>\n",
       "    </tr>\n",
       "    <tr>\n",
       "      <th>cluster</th>\n",
       "      <th></th>\n",
       "      <th></th>\n",
       "      <th></th>\n",
       "      <th></th>\n",
       "      <th></th>\n",
       "    </tr>\n",
       "  </thead>\n",
       "  <tbody>\n",
       "    <tr>\n",
       "      <th>0</th>\n",
       "      <td>840</td>\n",
       "      <td>840</td>\n",
       "      <td>840</td>\n",
       "      <td>840</td>\n",
       "      <td>840</td>\n",
       "    </tr>\n",
       "    <tr>\n",
       "      <th>1</th>\n",
       "      <td>1249</td>\n",
       "      <td>1249</td>\n",
       "      <td>1249</td>\n",
       "      <td>1249</td>\n",
       "      <td>1249</td>\n",
       "    </tr>\n",
       "    <tr>\n",
       "      <th>2</th>\n",
       "      <td>771</td>\n",
       "      <td>771</td>\n",
       "      <td>771</td>\n",
       "      <td>771</td>\n",
       "      <td>771</td>\n",
       "    </tr>\n",
       "    <tr>\n",
       "      <th>3</th>\n",
       "      <td>1332</td>\n",
       "      <td>1332</td>\n",
       "      <td>1332</td>\n",
       "      <td>1332</td>\n",
       "      <td>1332</td>\n",
       "    </tr>\n",
       "  </tbody>\n",
       "</table>\n",
       "</div>"
      ]
     },
     "metadata": {},
     "execution_count": 18
    }
   ],
   "metadata": {}
  },
  {
   "cell_type": "code",
   "execution_count": 19,
   "source": [
    "# 그룹 0 : 평균 이용 횟수가 높고 기간이 짧다. -> 막 가입 한 회원\r\n",
    "# 그룹 1 : 평균 이용 횟수가 적고 기간이 길다. -> 꾸준이 나오는 안정적인 회원\r\n",
    "# 그룹 2 : 평균 이용 횟수가 적고 기간이 잛다. -> 번아웃 상태 회원\r\n",
    "# 그룹 3 : 평균 이용 횟수가 보통이고 기간이 길다. -> 꾸준이 나오는 회원\r\n",
    "customer_clustering.groupby('cluster').mean()"
   ],
   "outputs": [
    {
     "output_type": "execute_result",
     "data": {
      "text/plain": [
       "             월평균값      월중앙값       월최댓값      월최솟값       회원기간\n",
       "cluster                                                    \n",
       "0        8.061942  8.047024  10.014286  6.175000   7.019048\n",
       "1        4.677561  4.670937   7.233787  2.153723  36.915933\n",
       "2        3.065504  2.900130   4.783398  1.649805   9.276265\n",
       "3        5.539535  5.391141   8.756006  2.702703  14.867868"
      ],
      "text/html": [
       "<div>\n",
       "<style scoped>\n",
       "    .dataframe tbody tr th:only-of-type {\n",
       "        vertical-align: middle;\n",
       "    }\n",
       "\n",
       "    .dataframe tbody tr th {\n",
       "        vertical-align: top;\n",
       "    }\n",
       "\n",
       "    .dataframe thead th {\n",
       "        text-align: right;\n",
       "    }\n",
       "</style>\n",
       "<table border=\"1\" class=\"dataframe\">\n",
       "  <thead>\n",
       "    <tr style=\"text-align: right;\">\n",
       "      <th></th>\n",
       "      <th>월평균값</th>\n",
       "      <th>월중앙값</th>\n",
       "      <th>월최댓값</th>\n",
       "      <th>월최솟값</th>\n",
       "      <th>회원기간</th>\n",
       "    </tr>\n",
       "    <tr>\n",
       "      <th>cluster</th>\n",
       "      <th></th>\n",
       "      <th></th>\n",
       "      <th></th>\n",
       "      <th></th>\n",
       "      <th></th>\n",
       "    </tr>\n",
       "  </thead>\n",
       "  <tbody>\n",
       "    <tr>\n",
       "      <th>0</th>\n",
       "      <td>8.061942</td>\n",
       "      <td>8.047024</td>\n",
       "      <td>10.014286</td>\n",
       "      <td>6.175000</td>\n",
       "      <td>7.019048</td>\n",
       "    </tr>\n",
       "    <tr>\n",
       "      <th>1</th>\n",
       "      <td>4.677561</td>\n",
       "      <td>4.670937</td>\n",
       "      <td>7.233787</td>\n",
       "      <td>2.153723</td>\n",
       "      <td>36.915933</td>\n",
       "    </tr>\n",
       "    <tr>\n",
       "      <th>2</th>\n",
       "      <td>3.065504</td>\n",
       "      <td>2.900130</td>\n",
       "      <td>4.783398</td>\n",
       "      <td>1.649805</td>\n",
       "      <td>9.276265</td>\n",
       "    </tr>\n",
       "    <tr>\n",
       "      <th>3</th>\n",
       "      <td>5.539535</td>\n",
       "      <td>5.391141</td>\n",
       "      <td>8.756006</td>\n",
       "      <td>2.702703</td>\n",
       "      <td>14.867868</td>\n",
       "    </tr>\n",
       "  </tbody>\n",
       "</table>\n",
       "</div>"
      ]
     },
     "metadata": {},
     "execution_count": 19
    }
   ],
   "metadata": {}
  },
  {
   "cell_type": "markdown",
   "source": [
    "## STEP3. 클러스터링 결과를 시각화\r\n",
    "- 5개의 변수를 2차원으로 차원 축소"
   ],
   "metadata": {}
  },
  {
   "cell_type": "code",
   "execution_count": 20,
   "source": [
    "from sklearn.decomposition import PCA"
   ],
   "outputs": [],
   "metadata": {}
  },
  {
   "cell_type": "code",
   "execution_count": 21,
   "source": [
    "X = customer_clustering_sc\r\n",
    "pca = PCA(n_components=2)\r\n",
    "x_pca = pca.fit_transform(X)\r\n",
    "x_pca"
   ],
   "outputs": [
    {
     "output_type": "execute_result",
     "data": {
      "text/plain": [
       "array([[-0.81998232, -1.95909657],\n",
       "       [-0.70792183, -1.79985685],\n",
       "       [-1.06149902, -1.65982605],\n",
       "       ...,\n",
       "       [ 3.02793307,  1.13963534],\n",
       "       [ 6.08311415,  0.58470806],\n",
       "       [ 5.06472045,  0.76968382]])"
      ]
     },
     "metadata": {},
     "execution_count": 21
    }
   ],
   "metadata": {}
  },
  {
   "cell_type": "code",
   "execution_count": 23,
   "source": [
    "pca_df = pd.DataFrame(x_pca)"
   ],
   "outputs": [],
   "metadata": {}
  },
  {
   "cell_type": "code",
   "execution_count": 24,
   "source": [
    "pca_df['cluster'] = customer_clustering['cluster']"
   ],
   "outputs": [],
   "metadata": {}
  },
  {
   "cell_type": "code",
   "execution_count": 25,
   "source": [
    "pca_df.head()"
   ],
   "outputs": [
    {
     "output_type": "execute_result",
     "data": {
      "text/plain": [
       "          0         1  cluster\n",
       "0 -0.819982 -1.959097        1\n",
       "1 -0.707922 -1.799857        1\n",
       "2 -1.061499 -1.659826        1\n",
       "3 -1.160764 -1.810139        1\n",
       "4 -2.017132 -1.670101        1"
      ],
      "text/html": [
       "<div>\n",
       "<style scoped>\n",
       "    .dataframe tbody tr th:only-of-type {\n",
       "        vertical-align: middle;\n",
       "    }\n",
       "\n",
       "    .dataframe tbody tr th {\n",
       "        vertical-align: top;\n",
       "    }\n",
       "\n",
       "    .dataframe thead th {\n",
       "        text-align: right;\n",
       "    }\n",
       "</style>\n",
       "<table border=\"1\" class=\"dataframe\">\n",
       "  <thead>\n",
       "    <tr style=\"text-align: right;\">\n",
       "      <th></th>\n",
       "      <th>0</th>\n",
       "      <th>1</th>\n",
       "      <th>cluster</th>\n",
       "    </tr>\n",
       "  </thead>\n",
       "  <tbody>\n",
       "    <tr>\n",
       "      <th>0</th>\n",
       "      <td>-0.819982</td>\n",
       "      <td>-1.959097</td>\n",
       "      <td>1</td>\n",
       "    </tr>\n",
       "    <tr>\n",
       "      <th>1</th>\n",
       "      <td>-0.707922</td>\n",
       "      <td>-1.799857</td>\n",
       "      <td>1</td>\n",
       "    </tr>\n",
       "    <tr>\n",
       "      <th>2</th>\n",
       "      <td>-1.061499</td>\n",
       "      <td>-1.659826</td>\n",
       "      <td>1</td>\n",
       "    </tr>\n",
       "    <tr>\n",
       "      <th>3</th>\n",
       "      <td>-1.160764</td>\n",
       "      <td>-1.810139</td>\n",
       "      <td>1</td>\n",
       "    </tr>\n",
       "    <tr>\n",
       "      <th>4</th>\n",
       "      <td>-2.017132</td>\n",
       "      <td>-1.670101</td>\n",
       "      <td>1</td>\n",
       "    </tr>\n",
       "  </tbody>\n",
       "</table>\n",
       "</div>"
      ]
     },
     "metadata": {},
     "execution_count": 25
    }
   ],
   "metadata": {}
  },
  {
   "cell_type": "code",
   "execution_count": 26,
   "source": [
    "import matplotlib.pyplot as plt\r\n",
    "%matplotlib inline"
   ],
   "outputs": [],
   "metadata": {}
  },
  {
   "cell_type": "code",
   "execution_count": 27,
   "source": [
    "for i in customer_clustering['cluster'].unique():\r\n",
    "    tmp = pca_df.loc[pca_df['cluster'] == i]\r\n",
    "    plt.scatter(tmp[0], tmp[1])"
   ],
   "outputs": [
    {
     "output_type": "display_data",
     "data": {
      "text/plain": [
       "<Figure size 432x288 with 1 Axes>"
      ],
      "image/png": "[encoded data removed]"
     },
     "metadata": {
      "needs_background": "light"
     }
    }
   ],
   "metadata": {}
  },
  {
   "cell_type": "markdown",
   "source": [
    "## STEP4. Clustering 결과 바탕으로 탈퇴회원의 경향 분석\r\n",
    "- 지속회원과 탈퇴회원을 집계"
   ],
   "metadata": {}
  },
  {
   "cell_type": "code",
   "execution_count": 28,
   "source": [
    "customer_clustering = pd.concat([customer_clustering, customer], axis=1)"
   ],
   "outputs": [],
   "metadata": {}
  },
  {
   "cell_type": "code",
   "execution_count": 29,
   "source": [
    "customer_clustering.head(3)"
   ],
   "outputs": [
    {
     "output_type": "execute_result",
     "data": {
      "text/plain": [
       "       월평균값  월중앙값  월최댓값  월최솟값  회원기간  cluster customer_id   name class gender  \\\n",
       "0  4.833333   5.0     8     2    47        1    OA832399   XXXX   C01      F   \n",
       "1  5.083333   5.0     7     3    47        1    PL270116  XXXXX   C01      M   \n",
       "2  4.583333   5.0     6     3    47        1    OA974876  XXXXX   C01      M   \n",
       "\n",
       "   ... class_name  price campaign_name      mean median  max min  routine_flg  \\\n",
       "0  ...       0_종일  10500          2_일반  4.833333    5.0    8   2            1   \n",
       "1  ...       0_종일  10500          2_일반  5.083333    5.0    7   3            1   \n",
       "2  ...       0_종일  10500          2_일반  4.583333    5.0    6   3            1   \n",
       "\n",
       "    calc_date  membership_period  \n",
       "0  2019-04-30                 47  \n",
       "1  2019-04-30                 47  \n",
       "2  2019-04-30                 47  \n",
       "\n",
       "[3 rows x 24 columns]"
      ],
      "text/html": [
       "<div>\n",
       "<style scoped>\n",
       "    .dataframe tbody tr th:only-of-type {\n",
       "        vertical-align: middle;\n",
       "    }\n",
       "\n",
       "    .dataframe tbody tr th {\n",
       "        vertical-align: top;\n",
       "    }\n",
       "\n",
       "    .dataframe thead th {\n",
       "        text-align: right;\n",
       "    }\n",
       "</style>\n",
       "<table border=\"1\" class=\"dataframe\">\n",
       "  <thead>\n",
       "    <tr style=\"text-align: right;\">\n",
       "      <th></th>\n",
       "      <th>월평균값</th>\n",
       "      <th>월중앙값</th>\n",
       "      <th>월최댓값</th>\n",
       "      <th>월최솟값</th>\n",
       "      <th>회원기간</th>\n",
       "      <th>cluster</th>\n",
       "      <th>customer_id</th>\n",
       "      <th>name</th>\n",
       "      <th>class</th>\n",
       "      <th>gender</th>\n",
       "      <th>...</th>\n",
       "      <th>class_name</th>\n",
       "      <th>price</th>\n",
       "      <th>campaign_name</th>\n",
       "      <th>mean</th>\n",
       "      <th>median</th>\n",
       "      <th>max</th>\n",
       "      <th>min</th>\n",
       "      <th>routine_flg</th>\n",
       "      <th>calc_date</th>\n",
       "      <th>membership_period</th>\n",
       "    </tr>\n",
       "  </thead>\n",
       "  <tbody>\n",
       "    <tr>\n",
       "      <th>0</th>\n",
       "      <td>4.833333</td>\n",
       "      <td>5.0</td>\n",
       "      <td>8</td>\n",
       "      <td>2</td>\n",
       "      <td>47</td>\n",
       "      <td>1</td>\n",
       "      <td>OA832399</td>\n",
       "      <td>XXXX</td>\n",
       "      <td>C01</td>\n",
       "      <td>F</td>\n",
       "      <td>...</td>\n",
       "      <td>0_종일</td>\n",
       "      <td>10500</td>\n",
       "      <td>2_일반</td>\n",
       "      <td>4.833333</td>\n",
       "      <td>5.0</td>\n",
       "      <td>8</td>\n",
       "      <td>2</td>\n",
       "      <td>1</td>\n",
       "      <td>2019-04-30</td>\n",
       "      <td>47</td>\n",
       "    </tr>\n",
       "    <tr>\n",
       "      <th>1</th>\n",
       "      <td>5.083333</td>\n",
       "      <td>5.0</td>\n",
       "      <td>7</td>\n",
       "      <td>3</td>\n",
       "      <td>47</td>\n",
       "      <td>1</td>\n",
       "      <td>PL270116</td>\n",
       "      <td>XXXXX</td>\n",
       "      <td>C01</td>\n",
       "      <td>M</td>\n",
       "      <td>...</td>\n",
       "      <td>0_종일</td>\n",
       "      <td>10500</td>\n",
       "      <td>2_일반</td>\n",
       "      <td>5.083333</td>\n",
       "      <td>5.0</td>\n",
       "      <td>7</td>\n",
       "      <td>3</td>\n",
       "      <td>1</td>\n",
       "      <td>2019-04-30</td>\n",
       "      <td>47</td>\n",
       "    </tr>\n",
       "    <tr>\n",
       "      <th>2</th>\n",
       "      <td>4.583333</td>\n",
       "      <td>5.0</td>\n",
       "      <td>6</td>\n",
       "      <td>3</td>\n",
       "      <td>47</td>\n",
       "      <td>1</td>\n",
       "      <td>OA974876</td>\n",
       "      <td>XXXXX</td>\n",
       "      <td>C01</td>\n",
       "      <td>M</td>\n",
       "      <td>...</td>\n",
       "      <td>0_종일</td>\n",
       "      <td>10500</td>\n",
       "      <td>2_일반</td>\n",
       "      <td>4.583333</td>\n",
       "      <td>5.0</td>\n",
       "      <td>6</td>\n",
       "      <td>3</td>\n",
       "      <td>1</td>\n",
       "      <td>2019-04-30</td>\n",
       "      <td>47</td>\n",
       "    </tr>\n",
       "  </tbody>\n",
       "</table>\n",
       "<p>3 rows × 24 columns</p>\n",
       "</div>"
      ]
     },
     "metadata": {},
     "execution_count": 29
    }
   ],
   "metadata": {}
  },
  {
   "cell_type": "code",
   "execution_count": 30,
   "source": [
    "# 탈퇴, 일반 회원 집계\r\n",
    "customer_clustering.groupby(['cluster', 'is_deleted'], as_index=False).count()[['cluster', 'is_deleted', 'customer_id']]"
   ],
   "outputs": [
    {
     "output_type": "execute_result",
     "data": {
      "text/plain": [
       "   cluster  is_deleted  customer_id\n",
       "0        0           0          821\n",
       "1        0           1           19\n",
       "2        1           0         1231\n",
       "3        1           1           18\n",
       "4        2           1          771\n",
       "5        3           0          790\n",
       "6        3           1          542"
      ],
      "text/html": [
       "<div>\n",
       "<style scoped>\n",
       "    .dataframe tbody tr th:only-of-type {\n",
       "        vertical-align: middle;\n",
       "    }\n",
       "\n",
       "    .dataframe tbody tr th {\n",
       "        vertical-align: top;\n",
       "    }\n",
       "\n",
       "    .dataframe thead th {\n",
       "        text-align: right;\n",
       "    }\n",
       "</style>\n",
       "<table border=\"1\" class=\"dataframe\">\n",
       "  <thead>\n",
       "    <tr style=\"text-align: right;\">\n",
       "      <th></th>\n",
       "      <th>cluster</th>\n",
       "      <th>is_deleted</th>\n",
       "      <th>customer_id</th>\n",
       "    </tr>\n",
       "  </thead>\n",
       "  <tbody>\n",
       "    <tr>\n",
       "      <th>0</th>\n",
       "      <td>0</td>\n",
       "      <td>0</td>\n",
       "      <td>821</td>\n",
       "    </tr>\n",
       "    <tr>\n",
       "      <th>1</th>\n",
       "      <td>0</td>\n",
       "      <td>1</td>\n",
       "      <td>19</td>\n",
       "    </tr>\n",
       "    <tr>\n",
       "      <th>2</th>\n",
       "      <td>1</td>\n",
       "      <td>0</td>\n",
       "      <td>1231</td>\n",
       "    </tr>\n",
       "    <tr>\n",
       "      <th>3</th>\n",
       "      <td>1</td>\n",
       "      <td>1</td>\n",
       "      <td>18</td>\n",
       "    </tr>\n",
       "    <tr>\n",
       "      <th>4</th>\n",
       "      <td>2</td>\n",
       "      <td>1</td>\n",
       "      <td>771</td>\n",
       "    </tr>\n",
       "    <tr>\n",
       "      <th>5</th>\n",
       "      <td>3</td>\n",
       "      <td>0</td>\n",
       "      <td>790</td>\n",
       "    </tr>\n",
       "    <tr>\n",
       "      <th>6</th>\n",
       "      <td>3</td>\n",
       "      <td>1</td>\n",
       "      <td>542</td>\n",
       "    </tr>\n",
       "  </tbody>\n",
       "</table>\n",
       "</div>"
      ]
     },
     "metadata": {},
     "execution_count": 30
    }
   ],
   "metadata": {}
  },
  {
   "cell_type": "code",
   "execution_count": null,
   "source": [
    "# 그룹 0 : 평균 이용 횟수가 높고 기간이 짧다. -> 막 가입 한 회원\r\n",
    "# 그룹 1 : 평균 이용 횟수가 적고 기간이 길다. -> 꾸준이 나오는 안정적인 회원\r\n",
    "# 그룹 2 : 평균 이용 횟수가 적고 기간이 잛다. -> 번아웃 상태 회원\r\n",
    "# 그룹 3 : 평균 이용 횟수가 보통이고 기간이 길다. -> 꾸준이 나오는 회원"
   ],
   "outputs": [],
   "metadata": {}
  },
  {
   "cell_type": "code",
   "execution_count": 31,
   "source": [
    "# 정기, 비정기 회원 집계\r\n",
    "# 그룹 1, 3은 정기적으로 이용하는 회원 수가 많다는 것을 할 수 있다.\r\n",
    "customer_clustering.groupby(['cluster', 'routine_flg'], as_index=False).count()[['cluster', 'routine_flg', 'customer_id']]"
   ],
   "outputs": [
    {
     "output_type": "execute_result",
     "data": {
      "text/plain": [
       "   cluster  routine_flg  customer_id\n",
       "0        0            0           52\n",
       "1        0            1          788\n",
       "2        1            0            2\n",
       "3        1            1         1247\n",
       "4        2            0          499\n",
       "5        2            1          272\n",
       "6        3            0          226\n",
       "7        3            1         1106"
      ],
      "text/html": [
       "<div>\n",
       "<style scoped>\n",
       "    .dataframe tbody tr th:only-of-type {\n",
       "        vertical-align: middle;\n",
       "    }\n",
       "\n",
       "    .dataframe tbody tr th {\n",
       "        vertical-align: top;\n",
       "    }\n",
       "\n",
       "    .dataframe thead th {\n",
       "        text-align: right;\n",
       "    }\n",
       "</style>\n",
       "<table border=\"1\" class=\"dataframe\">\n",
       "  <thead>\n",
       "    <tr style=\"text-align: right;\">\n",
       "      <th></th>\n",
       "      <th>cluster</th>\n",
       "      <th>routine_flg</th>\n",
       "      <th>customer_id</th>\n",
       "    </tr>\n",
       "  </thead>\n",
       "  <tbody>\n",
       "    <tr>\n",
       "      <th>0</th>\n",
       "      <td>0</td>\n",
       "      <td>0</td>\n",
       "      <td>52</td>\n",
       "    </tr>\n",
       "    <tr>\n",
       "      <th>1</th>\n",
       "      <td>0</td>\n",
       "      <td>1</td>\n",
       "      <td>788</td>\n",
       "    </tr>\n",
       "    <tr>\n",
       "      <th>2</th>\n",
       "      <td>1</td>\n",
       "      <td>0</td>\n",
       "      <td>2</td>\n",
       "    </tr>\n",
       "    <tr>\n",
       "      <th>3</th>\n",
       "      <td>1</td>\n",
       "      <td>1</td>\n",
       "      <td>1247</td>\n",
       "    </tr>\n",
       "    <tr>\n",
       "      <th>4</th>\n",
       "      <td>2</td>\n",
       "      <td>0</td>\n",
       "      <td>499</td>\n",
       "    </tr>\n",
       "    <tr>\n",
       "      <th>5</th>\n",
       "      <td>2</td>\n",
       "      <td>1</td>\n",
       "      <td>272</td>\n",
       "    </tr>\n",
       "    <tr>\n",
       "      <th>6</th>\n",
       "      <td>3</td>\n",
       "      <td>0</td>\n",
       "      <td>226</td>\n",
       "    </tr>\n",
       "    <tr>\n",
       "      <th>7</th>\n",
       "      <td>3</td>\n",
       "      <td>1</td>\n",
       "      <td>1106</td>\n",
       "    </tr>\n",
       "  </tbody>\n",
       "</table>\n",
       "</div>"
      ]
     },
     "metadata": {},
     "execution_count": 31
    }
   ],
   "metadata": {}
  },
  {
   "cell_type": "markdown",
   "source": [
    "## STEP5. 다음달의 이용횟수 예측을 위해 데이터 전처리\r\n",
    "- 2018년 10월이고, 2018년 11월 이용 횟수를 예측한다고 하면, 2018년 11월 이후에 데이타 의미 X\r\n",
    "- 2018년 05월 ~ 10월까 6개월의 이용 데이터와 2018년 11월의 이용 횟수 데이터가 필요\r\n",
    "- 특정 월별 데이터가 필요"
   ],
   "metadata": {}
  },
  {
   "cell_type": "code",
   "execution_count": 32,
   "source": [
    "uselog['usedate'] = pd.to_datetime(uselog['usedate'])\r\n",
    "uselog['연월'] = uselog['usedate'].dt.strftime('%Y%m')\r\n",
    "uselog_months = uselog.groupby(['연월', 'customer_id'], as_index=False).count()\r\n",
    "uselog_months.rename(columns={'log_id':'count'}, inplace=True)\r\n",
    "del uselog_months['usedate']\r\n",
    "uselog_months.head(3)"
   ],
   "outputs": [
    {
     "output_type": "execute_result",
     "data": {
      "text/plain": [
       "       연월 customer_id  count\n",
       "0  201804    AS002855      4\n",
       "1  201804    AS009013      2\n",
       "2  201804    AS009373      3"
      ],
      "text/html": [
       "<div>\n",
       "<style scoped>\n",
       "    .dataframe tbody tr th:only-of-type {\n",
       "        vertical-align: middle;\n",
       "    }\n",
       "\n",
       "    .dataframe tbody tr th {\n",
       "        vertical-align: top;\n",
       "    }\n",
       "\n",
       "    .dataframe thead th {\n",
       "        text-align: right;\n",
       "    }\n",
       "</style>\n",
       "<table border=\"1\" class=\"dataframe\">\n",
       "  <thead>\n",
       "    <tr style=\"text-align: right;\">\n",
       "      <th></th>\n",
       "      <th>연월</th>\n",
       "      <th>customer_id</th>\n",
       "      <th>count</th>\n",
       "    </tr>\n",
       "  </thead>\n",
       "  <tbody>\n",
       "    <tr>\n",
       "      <th>0</th>\n",
       "      <td>201804</td>\n",
       "      <td>AS002855</td>\n",
       "      <td>4</td>\n",
       "    </tr>\n",
       "    <tr>\n",
       "      <th>1</th>\n",
       "      <td>201804</td>\n",
       "      <td>AS009013</td>\n",
       "      <td>2</td>\n",
       "    </tr>\n",
       "    <tr>\n",
       "      <th>2</th>\n",
       "      <td>201804</td>\n",
       "      <td>AS009373</td>\n",
       "      <td>3</td>\n",
       "    </tr>\n",
       "  </tbody>\n",
       "</table>\n",
       "</div>"
      ]
     },
     "metadata": {},
     "execution_count": 32
    }
   ],
   "metadata": {}
  },
  {
   "cell_type": "code",
   "execution_count": 34,
   "source": [
    "# 이번달 기준으로 과거 5개월치 이용 횟수와 다음달 이용 횟수 데이터 정리\r\n",
    "year_months = list(uselog_months['연월'].unique())\r\n",
    "year_months"
   ],
   "outputs": [
    {
     "output_type": "execute_result",
     "data": {
      "text/plain": [
       "['201804',\n",
       " '201805',\n",
       " '201806',\n",
       " '201807',\n",
       " '201808',\n",
       " '201809',\n",
       " '201810',\n",
       " '201811',\n",
       " '201812',\n",
       " '201901',\n",
       " '201902',\n",
       " '201903']"
      ]
     },
     "metadata": {},
     "execution_count": 34
    }
   ],
   "metadata": {}
  },
  {
   "cell_type": "code",
   "execution_count": 41,
   "source": [
    "predict_data = pd.DataFrame()\r\n",
    "for i in range(6, len(year_months)):\r\n",
    "    tmp = uselog_months.loc[uselog_months['연월']==year_months[i]]\r\n",
    "    tmp.rename(columns={'count':'count_pred'}, inplace=True)\r\n",
    "    for j in range(1, 7):\r\n",
    "        tmp_before = uselog_months.loc[uselog_months['연월'] == year_months[i-j]]\r\n",
    "        del tmp_before['연월']\r\n",
    "        tmp_before.rename(columns={'count':'count_{}'.format(j-1)}, inplace=True)\r\n",
    "        tmp = pd.merge(tmp, tmp_before, on = 'customer_id', how = 'left')\r\n",
    "    predict_data = pd.concat([predict_data, tmp], ignore_index=True)"
   ],
   "outputs": [],
   "metadata": {}
  },
  {
   "cell_type": "code",
   "execution_count": 42,
   "source": [
    "predict_data.head(3)"
   ],
   "outputs": [
    {
     "output_type": "execute_result",
     "data": {
      "text/plain": [
       "       연월 customer_id  count_pred  count_0  count_1  count_2  count_3  \\\n",
       "0  201810    AS002855           3      7.0      3.0      5.0      5.0   \n",
       "1  201810    AS008805           2      2.0      5.0      7.0      8.0   \n",
       "2  201810    AS009373           5      6.0      6.0      7.0      4.0   \n",
       "\n",
       "   count_4  count_5  \n",
       "0      5.0      4.0  \n",
       "1      NaN      NaN  \n",
       "2      4.0      3.0  "
      ],
      "text/html": [
       "<div>\n",
       "<style scoped>\n",
       "    .dataframe tbody tr th:only-of-type {\n",
       "        vertical-align: middle;\n",
       "    }\n",
       "\n",
       "    .dataframe tbody tr th {\n",
       "        vertical-align: top;\n",
       "    }\n",
       "\n",
       "    .dataframe thead th {\n",
       "        text-align: right;\n",
       "    }\n",
       "</style>\n",
       "<table border=\"1\" class=\"dataframe\">\n",
       "  <thead>\n",
       "    <tr style=\"text-align: right;\">\n",
       "      <th></th>\n",
       "      <th>연월</th>\n",
       "      <th>customer_id</th>\n",
       "      <th>count_pred</th>\n",
       "      <th>count_0</th>\n",
       "      <th>count_1</th>\n",
       "      <th>count_2</th>\n",
       "      <th>count_3</th>\n",
       "      <th>count_4</th>\n",
       "      <th>count_5</th>\n",
       "    </tr>\n",
       "  </thead>\n",
       "  <tbody>\n",
       "    <tr>\n",
       "      <th>0</th>\n",
       "      <td>201810</td>\n",
       "      <td>AS002855</td>\n",
       "      <td>3</td>\n",
       "      <td>7.0</td>\n",
       "      <td>3.0</td>\n",
       "      <td>5.0</td>\n",
       "      <td>5.0</td>\n",
       "      <td>5.0</td>\n",
       "      <td>4.0</td>\n",
       "    </tr>\n",
       "    <tr>\n",
       "      <th>1</th>\n",
       "      <td>201810</td>\n",
       "      <td>AS008805</td>\n",
       "      <td>2</td>\n",
       "      <td>2.0</td>\n",
       "      <td>5.0</td>\n",
       "      <td>7.0</td>\n",
       "      <td>8.0</td>\n",
       "      <td>NaN</td>\n",
       "      <td>NaN</td>\n",
       "    </tr>\n",
       "    <tr>\n",
       "      <th>2</th>\n",
       "      <td>201810</td>\n",
       "      <td>AS009373</td>\n",
       "      <td>5</td>\n",
       "      <td>6.0</td>\n",
       "      <td>6.0</td>\n",
       "      <td>7.0</td>\n",
       "      <td>4.0</td>\n",
       "      <td>4.0</td>\n",
       "      <td>3.0</td>\n",
       "    </tr>\n",
       "  </tbody>\n",
       "</table>\n",
       "</div>"
      ]
     },
     "metadata": {},
     "execution_count": 42
    }
   ],
   "metadata": {}
  },
  {
   "cell_type": "code",
   "execution_count": 43,
   "source": [
    "predict_data.tail()"
   ],
   "outputs": [
    {
     "output_type": "execute_result",
     "data": {
      "text/plain": [
       "           연월 customer_id  count_pred  count_0  count_1  count_2  count_3  \\\n",
       "18305  201903    TS995853           8     11.0      NaN      NaN      NaN   \n",
       "18306  201903    TS998593           8      7.0      8.0      7.0      9.0   \n",
       "18307  201903    TS999079           3      2.0      6.0      9.0      6.0   \n",
       "18308  201903    TS999231           6      6.0      3.0      8.0      5.0   \n",
       "18309  201903    TS999855           4      4.0      7.0      5.0      4.0   \n",
       "\n",
       "       count_4  count_5  \n",
       "18305      NaN      NaN  \n",
       "18306      9.0      9.0  \n",
       "18307      6.0      4.0  \n",
       "18308      5.0      4.0  \n",
       "18309      4.0      5.0  "
      ],
      "text/html": [
       "<div>\n",
       "<style scoped>\n",
       "    .dataframe tbody tr th:only-of-type {\n",
       "        vertical-align: middle;\n",
       "    }\n",
       "\n",
       "    .dataframe tbody tr th {\n",
       "        vertical-align: top;\n",
       "    }\n",
       "\n",
       "    .dataframe thead th {\n",
       "        text-align: right;\n",
       "    }\n",
       "</style>\n",
       "<table border=\"1\" class=\"dataframe\">\n",
       "  <thead>\n",
       "    <tr style=\"text-align: right;\">\n",
       "      <th></th>\n",
       "      <th>연월</th>\n",
       "      <th>customer_id</th>\n",
       "      <th>count_pred</th>\n",
       "      <th>count_0</th>\n",
       "      <th>count_1</th>\n",
       "      <th>count_2</th>\n",
       "      <th>count_3</th>\n",
       "      <th>count_4</th>\n",
       "      <th>count_5</th>\n",
       "    </tr>\n",
       "  </thead>\n",
       "  <tbody>\n",
       "    <tr>\n",
       "      <th>18305</th>\n",
       "      <td>201903</td>\n",
       "      <td>TS995853</td>\n",
       "      <td>8</td>\n",
       "      <td>11.0</td>\n",
       "      <td>NaN</td>\n",
       "      <td>NaN</td>\n",
       "      <td>NaN</td>\n",
       "      <td>NaN</td>\n",
       "      <td>NaN</td>\n",
       "    </tr>\n",
       "    <tr>\n",
       "      <th>18306</th>\n",
       "      <td>201903</td>\n",
       "      <td>TS998593</td>\n",
       "      <td>8</td>\n",
       "      <td>7.0</td>\n",
       "      <td>8.0</td>\n",
       "      <td>7.0</td>\n",
       "      <td>9.0</td>\n",
       "      <td>9.0</td>\n",
       "      <td>9.0</td>\n",
       "    </tr>\n",
       "    <tr>\n",
       "      <th>18307</th>\n",
       "      <td>201903</td>\n",
       "      <td>TS999079</td>\n",
       "      <td>3</td>\n",
       "      <td>2.0</td>\n",
       "      <td>6.0</td>\n",
       "      <td>9.0</td>\n",
       "      <td>6.0</td>\n",
       "      <td>6.0</td>\n",
       "      <td>4.0</td>\n",
       "    </tr>\n",
       "    <tr>\n",
       "      <th>18308</th>\n",
       "      <td>201903</td>\n",
       "      <td>TS999231</td>\n",
       "      <td>6</td>\n",
       "      <td>6.0</td>\n",
       "      <td>3.0</td>\n",
       "      <td>8.0</td>\n",
       "      <td>5.0</td>\n",
       "      <td>5.0</td>\n",
       "      <td>4.0</td>\n",
       "    </tr>\n",
       "    <tr>\n",
       "      <th>18309</th>\n",
       "      <td>201903</td>\n",
       "      <td>TS999855</td>\n",
       "      <td>4</td>\n",
       "      <td>4.0</td>\n",
       "      <td>7.0</td>\n",
       "      <td>5.0</td>\n",
       "      <td>4.0</td>\n",
       "      <td>4.0</td>\n",
       "      <td>5.0</td>\n",
       "    </tr>\n",
       "  </tbody>\n",
       "</table>\n",
       "</div>"
      ]
     },
     "metadata": {},
     "execution_count": 43
    }
   ],
   "metadata": {}
  },
  {
   "cell_type": "code",
   "execution_count": 44,
   "source": [
    "predict_data = predict_data.dropna()\r\n",
    "predict_data = predict_data.reset_index(drop=True)\r\n",
    "predict_data.head()"
   ],
   "outputs": [
    {
     "output_type": "execute_result",
     "data": {
      "text/plain": [
       "       연월 customer_id  count_pred  count_0  count_1  count_2  count_3  \\\n",
       "0  201810    AS002855           3      7.0      3.0      5.0      5.0   \n",
       "1  201810    AS009373           5      6.0      6.0      7.0      4.0   \n",
       "2  201810    AS015315           4      7.0      3.0      6.0      3.0   \n",
       "3  201810    AS015739           5      6.0      5.0      8.0      6.0   \n",
       "4  201810    AS019860           7      5.0      7.0      4.0      6.0   \n",
       "\n",
       "   count_4  count_5  \n",
       "0      5.0      4.0  \n",
       "1      4.0      3.0  \n",
       "2      3.0      6.0  \n",
       "3      5.0      7.0  \n",
       "4      8.0      6.0  "
      ],
      "text/html": [
       "<div>\n",
       "<style scoped>\n",
       "    .dataframe tbody tr th:only-of-type {\n",
       "        vertical-align: middle;\n",
       "    }\n",
       "\n",
       "    .dataframe tbody tr th {\n",
       "        vertical-align: top;\n",
       "    }\n",
       "\n",
       "    .dataframe thead th {\n",
       "        text-align: right;\n",
       "    }\n",
       "</style>\n",
       "<table border=\"1\" class=\"dataframe\">\n",
       "  <thead>\n",
       "    <tr style=\"text-align: right;\">\n",
       "      <th></th>\n",
       "      <th>연월</th>\n",
       "      <th>customer_id</th>\n",
       "      <th>count_pred</th>\n",
       "      <th>count_0</th>\n",
       "      <th>count_1</th>\n",
       "      <th>count_2</th>\n",
       "      <th>count_3</th>\n",
       "      <th>count_4</th>\n",
       "      <th>count_5</th>\n",
       "    </tr>\n",
       "  </thead>\n",
       "  <tbody>\n",
       "    <tr>\n",
       "      <th>0</th>\n",
       "      <td>201810</td>\n",
       "      <td>AS002855</td>\n",
       "      <td>3</td>\n",
       "      <td>7.0</td>\n",
       "      <td>3.0</td>\n",
       "      <td>5.0</td>\n",
       "      <td>5.0</td>\n",
       "      <td>5.0</td>\n",
       "      <td>4.0</td>\n",
       "    </tr>\n",
       "    <tr>\n",
       "      <th>1</th>\n",
       "      <td>201810</td>\n",
       "      <td>AS009373</td>\n",
       "      <td>5</td>\n",
       "      <td>6.0</td>\n",
       "      <td>6.0</td>\n",
       "      <td>7.0</td>\n",
       "      <td>4.0</td>\n",
       "      <td>4.0</td>\n",
       "      <td>3.0</td>\n",
       "    </tr>\n",
       "    <tr>\n",
       "      <th>2</th>\n",
       "      <td>201810</td>\n",
       "      <td>AS015315</td>\n",
       "      <td>4</td>\n",
       "      <td>7.0</td>\n",
       "      <td>3.0</td>\n",
       "      <td>6.0</td>\n",
       "      <td>3.0</td>\n",
       "      <td>3.0</td>\n",
       "      <td>6.0</td>\n",
       "    </tr>\n",
       "    <tr>\n",
       "      <th>3</th>\n",
       "      <td>201810</td>\n",
       "      <td>AS015739</td>\n",
       "      <td>5</td>\n",
       "      <td>6.0</td>\n",
       "      <td>5.0</td>\n",
       "      <td>8.0</td>\n",
       "      <td>6.0</td>\n",
       "      <td>5.0</td>\n",
       "      <td>7.0</td>\n",
       "    </tr>\n",
       "    <tr>\n",
       "      <th>4</th>\n",
       "      <td>201810</td>\n",
       "      <td>AS019860</td>\n",
       "      <td>7</td>\n",
       "      <td>5.0</td>\n",
       "      <td>7.0</td>\n",
       "      <td>4.0</td>\n",
       "      <td>6.0</td>\n",
       "      <td>8.0</td>\n",
       "      <td>6.0</td>\n",
       "    </tr>\n",
       "  </tbody>\n",
       "</table>\n",
       "</div>"
      ]
     },
     "metadata": {},
     "execution_count": 44
    }
   ],
   "metadata": {}
  },
  {
   "cell_type": "markdown",
   "source": [
    "### 5-1) 특징이 되는 변수를 추가\r\n",
    "- 시계열 변화를 볼 수 있는 회원 기간\r\n",
    "- 현재 계속 다니고 있는 회원들의 회원 가입 일자"
   ],
   "metadata": {}
  },
  {
   "cell_type": "code",
   "execution_count": 45,
   "source": [
    "predict_data = pd.merge(predict_data, customer[['customer_id', 'start_date']], on = 'customer_id', how = 'left')\r\n",
    "predict_data.head()"
   ],
   "outputs": [
    {
     "output_type": "execute_result",
     "data": {
      "text/plain": [
       "       연월 customer_id  count_pred  count_0  count_1  count_2  count_3  \\\n",
       "0  201810    AS002855           3      7.0      3.0      5.0      5.0   \n",
       "1  201810    AS009373           5      6.0      6.0      7.0      4.0   \n",
       "2  201810    AS015315           4      7.0      3.0      6.0      3.0   \n",
       "3  201810    AS015739           5      6.0      5.0      8.0      6.0   \n",
       "4  201810    AS019860           7      5.0      7.0      4.0      6.0   \n",
       "\n",
       "   count_4  count_5  start_date  \n",
       "0      5.0      4.0  2016-11-01  \n",
       "1      4.0      3.0  2015-11-01  \n",
       "2      3.0      6.0  2015-07-01  \n",
       "3      5.0      7.0  2017-06-01  \n",
       "4      8.0      6.0  2017-10-01  "
      ],
      "text/html": [
       "<div>\n",
       "<style scoped>\n",
       "    .dataframe tbody tr th:only-of-type {\n",
       "        vertical-align: middle;\n",
       "    }\n",
       "\n",
       "    .dataframe tbody tr th {\n",
       "        vertical-align: top;\n",
       "    }\n",
       "\n",
       "    .dataframe thead th {\n",
       "        text-align: right;\n",
       "    }\n",
       "</style>\n",
       "<table border=\"1\" class=\"dataframe\">\n",
       "  <thead>\n",
       "    <tr style=\"text-align: right;\">\n",
       "      <th></th>\n",
       "      <th>연월</th>\n",
       "      <th>customer_id</th>\n",
       "      <th>count_pred</th>\n",
       "      <th>count_0</th>\n",
       "      <th>count_1</th>\n",
       "      <th>count_2</th>\n",
       "      <th>count_3</th>\n",
       "      <th>count_4</th>\n",
       "      <th>count_5</th>\n",
       "      <th>start_date</th>\n",
       "    </tr>\n",
       "  </thead>\n",
       "  <tbody>\n",
       "    <tr>\n",
       "      <th>0</th>\n",
       "      <td>201810</td>\n",
       "      <td>AS002855</td>\n",
       "      <td>3</td>\n",
       "      <td>7.0</td>\n",
       "      <td>3.0</td>\n",
       "      <td>5.0</td>\n",
       "      <td>5.0</td>\n",
       "      <td>5.0</td>\n",
       "      <td>4.0</td>\n",
       "      <td>2016-11-01</td>\n",
       "    </tr>\n",
       "    <tr>\n",
       "      <th>1</th>\n",
       "      <td>201810</td>\n",
       "      <td>AS009373</td>\n",
       "      <td>5</td>\n",
       "      <td>6.0</td>\n",
       "      <td>6.0</td>\n",
       "      <td>7.0</td>\n",
       "      <td>4.0</td>\n",
       "      <td>4.0</td>\n",
       "      <td>3.0</td>\n",
       "      <td>2015-11-01</td>\n",
       "    </tr>\n",
       "    <tr>\n",
       "      <th>2</th>\n",
       "      <td>201810</td>\n",
       "      <td>AS015315</td>\n",
       "      <td>4</td>\n",
       "      <td>7.0</td>\n",
       "      <td>3.0</td>\n",
       "      <td>6.0</td>\n",
       "      <td>3.0</td>\n",
       "      <td>3.0</td>\n",
       "      <td>6.0</td>\n",
       "      <td>2015-07-01</td>\n",
       "    </tr>\n",
       "    <tr>\n",
       "      <th>3</th>\n",
       "      <td>201810</td>\n",
       "      <td>AS015739</td>\n",
       "      <td>5</td>\n",
       "      <td>6.0</td>\n",
       "      <td>5.0</td>\n",
       "      <td>8.0</td>\n",
       "      <td>6.0</td>\n",
       "      <td>5.0</td>\n",
       "      <td>7.0</td>\n",
       "      <td>2017-06-01</td>\n",
       "    </tr>\n",
       "    <tr>\n",
       "      <th>4</th>\n",
       "      <td>201810</td>\n",
       "      <td>AS019860</td>\n",
       "      <td>7</td>\n",
       "      <td>5.0</td>\n",
       "      <td>7.0</td>\n",
       "      <td>4.0</td>\n",
       "      <td>6.0</td>\n",
       "      <td>8.0</td>\n",
       "      <td>6.0</td>\n",
       "      <td>2017-10-01</td>\n",
       "    </tr>\n",
       "  </tbody>\n",
       "</table>\n",
       "</div>"
      ]
     },
     "metadata": {},
     "execution_count": 45
    }
   ],
   "metadata": {}
  },
  {
   "cell_type": "code",
   "execution_count": 46,
   "source": [
    "predict_data['now_date'] = pd.to_datetime(predict_data['연월'], format='%Y%m')\r\n",
    "predict_data['start_date'] = pd.to_datetime(predict_data['start_date'])"
   ],
   "outputs": [],
   "metadata": {}
  },
  {
   "cell_type": "code",
   "execution_count": 47,
   "source": [
    "from dateutil.relativedelta import relativedelta"
   ],
   "outputs": [],
   "metadata": {}
  },
  {
   "cell_type": "code",
   "execution_count": 48,
   "source": [
    "predict_data['period'] = None\r\n",
    "for i in range(len(predict_data)):\r\n",
    "    delta = relativedelta(predict_data['now_date'][i], predict_data['start_date'][i])\r\n",
    "    predict_data['period'][i] = delta.years*12 + delta.months\r\n",
    "predict_data.head()"
   ],
   "outputs": [
    {
     "output_type": "execute_result",
     "data": {
      "text/plain": [
       "       연월 customer_id  count_pred  count_0  count_1  count_2  count_3  \\\n",
       "0  201810    AS002855           3      7.0      3.0      5.0      5.0   \n",
       "1  201810    AS009373           5      6.0      6.0      7.0      4.0   \n",
       "2  201810    AS015315           4      7.0      3.0      6.0      3.0   \n",
       "3  201810    AS015739           5      6.0      5.0      8.0      6.0   \n",
       "4  201810    AS019860           7      5.0      7.0      4.0      6.0   \n",
       "\n",
       "   count_4  count_5 start_date   now_date period  \n",
       "0      5.0      4.0 2016-11-01 2018-10-01     23  \n",
       "1      4.0      3.0 2015-11-01 2018-10-01     35  \n",
       "2      3.0      6.0 2015-07-01 2018-10-01     39  \n",
       "3      5.0      7.0 2017-06-01 2018-10-01     16  \n",
       "4      8.0      6.0 2017-10-01 2018-10-01     12  "
      ],
      "text/html": [
       "<div>\n",
       "<style scoped>\n",
       "    .dataframe tbody tr th:only-of-type {\n",
       "        vertical-align: middle;\n",
       "    }\n",
       "\n",
       "    .dataframe tbody tr th {\n",
       "        vertical-align: top;\n",
       "    }\n",
       "\n",
       "    .dataframe thead th {\n",
       "        text-align: right;\n",
       "    }\n",
       "</style>\n",
       "<table border=\"1\" class=\"dataframe\">\n",
       "  <thead>\n",
       "    <tr style=\"text-align: right;\">\n",
       "      <th></th>\n",
       "      <th>연월</th>\n",
       "      <th>customer_id</th>\n",
       "      <th>count_pred</th>\n",
       "      <th>count_0</th>\n",
       "      <th>count_1</th>\n",
       "      <th>count_2</th>\n",
       "      <th>count_3</th>\n",
       "      <th>count_4</th>\n",
       "      <th>count_5</th>\n",
       "      <th>start_date</th>\n",
       "      <th>now_date</th>\n",
       "      <th>period</th>\n",
       "    </tr>\n",
       "  </thead>\n",
       "  <tbody>\n",
       "    <tr>\n",
       "      <th>0</th>\n",
       "      <td>201810</td>\n",
       "      <td>AS002855</td>\n",
       "      <td>3</td>\n",
       "      <td>7.0</td>\n",
       "      <td>3.0</td>\n",
       "      <td>5.0</td>\n",
       "      <td>5.0</td>\n",
       "      <td>5.0</td>\n",
       "      <td>4.0</td>\n",
       "      <td>2016-11-01</td>\n",
       "      <td>2018-10-01</td>\n",
       "      <td>23</td>\n",
       "    </tr>\n",
       "    <tr>\n",
       "      <th>1</th>\n",
       "      <td>201810</td>\n",
       "      <td>AS009373</td>\n",
       "      <td>5</td>\n",
       "      <td>6.0</td>\n",
       "      <td>6.0</td>\n",
       "      <td>7.0</td>\n",
       "      <td>4.0</td>\n",
       "      <td>4.0</td>\n",
       "      <td>3.0</td>\n",
       "      <td>2015-11-01</td>\n",
       "      <td>2018-10-01</td>\n",
       "      <td>35</td>\n",
       "    </tr>\n",
       "    <tr>\n",
       "      <th>2</th>\n",
       "      <td>201810</td>\n",
       "      <td>AS015315</td>\n",
       "      <td>4</td>\n",
       "      <td>7.0</td>\n",
       "      <td>3.0</td>\n",
       "      <td>6.0</td>\n",
       "      <td>3.0</td>\n",
       "      <td>3.0</td>\n",
       "      <td>6.0</td>\n",
       "      <td>2015-07-01</td>\n",
       "      <td>2018-10-01</td>\n",
       "      <td>39</td>\n",
       "    </tr>\n",
       "    <tr>\n",
       "      <th>3</th>\n",
       "      <td>201810</td>\n",
       "      <td>AS015739</td>\n",
       "      <td>5</td>\n",
       "      <td>6.0</td>\n",
       "      <td>5.0</td>\n",
       "      <td>8.0</td>\n",
       "      <td>6.0</td>\n",
       "      <td>5.0</td>\n",
       "      <td>7.0</td>\n",
       "      <td>2017-06-01</td>\n",
       "      <td>2018-10-01</td>\n",
       "      <td>16</td>\n",
       "    </tr>\n",
       "    <tr>\n",
       "      <th>4</th>\n",
       "      <td>201810</td>\n",
       "      <td>AS019860</td>\n",
       "      <td>7</td>\n",
       "      <td>5.0</td>\n",
       "      <td>7.0</td>\n",
       "      <td>4.0</td>\n",
       "      <td>6.0</td>\n",
       "      <td>8.0</td>\n",
       "      <td>6.0</td>\n",
       "      <td>2017-10-01</td>\n",
       "      <td>2018-10-01</td>\n",
       "      <td>12</td>\n",
       "    </tr>\n",
       "  </tbody>\n",
       "</table>\n",
       "</div>"
      ]
     },
     "metadata": {},
     "execution_count": 48
    }
   ],
   "metadata": {}
  },
  {
   "cell_type": "markdown",
   "source": [
    "## STEP6. 다음달 이용횟수를 예측 하는 모델\r\n",
    "- LinearRegression을 이용"
   ],
   "metadata": {}
  },
  {
   "cell_type": "code",
   "execution_count": 49,
   "source": [
    "from sklearn.linear_model import LinearRegression\r\n",
    "from sklearn.model_selection import train_test_split"
   ],
   "outputs": [],
   "metadata": {}
  },
  {
   "cell_type": "code",
   "execution_count": 50,
   "source": [
    "predict_data.shape"
   ],
   "outputs": [
    {
     "output_type": "execute_result",
     "data": {
      "text/plain": [
       "(15113, 12)"
      ]
     },
     "metadata": {},
     "execution_count": 50
    }
   ],
   "metadata": {}
  },
  {
   "cell_type": "code",
   "execution_count": 51,
   "source": [
    "predict_data = predict_data.loc[predict_data['start_date'] >= pd.to_datetime('20180401')]"
   ],
   "outputs": [],
   "metadata": {}
  },
  {
   "cell_type": "code",
   "execution_count": 52,
   "source": [
    "predict_data.shape"
   ],
   "outputs": [
    {
     "output_type": "execute_result",
     "data": {
      "text/plain": [
       "(1702, 12)"
      ]
     },
     "metadata": {},
     "execution_count": 52
    }
   ],
   "metadata": {}
  },
  {
   "cell_type": "code",
   "execution_count": 53,
   "source": [
    "predict_data.columns"
   ],
   "outputs": [
    {
     "output_type": "execute_result",
     "data": {
      "text/plain": [
       "Index(['연월', 'customer_id', 'count_pred', 'count_0', 'count_1', 'count_2',\n",
       "       'count_3', 'count_4', 'count_5', 'start_date', 'now_date', 'period'],\n",
       "      dtype='object')"
      ]
     },
     "metadata": {},
     "execution_count": 53
    }
   ],
   "metadata": {}
  },
  {
   "cell_type": "code",
   "execution_count": 54,
   "source": [
    "X = predict_data[['count_0', 'count_1', 'count_2', 'count_3', 'count_4', 'count_5', 'period']]\r\n",
    "y = predict_data['count_pred']"
   ],
   "outputs": [],
   "metadata": {}
  },
  {
   "cell_type": "code",
   "execution_count": 55,
   "source": [
    "X_train, X_test, y_train, y_test = train_test_split(X, y, test_size=0.2, random_state=0)"
   ],
   "outputs": [],
   "metadata": {}
  },
  {
   "cell_type": "code",
   "execution_count": 56,
   "source": [
    "model = LinearRegression()\r\n",
    "model.fit(X_train, y_train)"
   ],
   "outputs": [
    {
     "output_type": "execute_result",
     "data": {
      "text/plain": [
       "LinearRegression()"
      ]
     },
     "metadata": {},
     "execution_count": 56
    }
   ],
   "metadata": {}
  },
  {
   "cell_type": "code",
   "execution_count": 57,
   "source": [
    "print(model.score(X_train, y_train))\r\n",
    "print(model.score(X_test, y_test))"
   ],
   "outputs": [
    {
     "output_type": "stream",
     "name": "stdout",
     "text": [
      "0.6157377864034498\n",
      "0.5726641097091973\n"
     ]
    }
   ],
   "metadata": {}
  },
  {
   "cell_type": "code",
   "execution_count": 61,
   "source": [
    "from sklearn.metrics import mean_squared_error, r2_score"
   ],
   "outputs": [],
   "metadata": {}
  },
  {
   "cell_type": "code",
   "execution_count": 59,
   "source": [
    "pred = model.predict(X_test)"
   ],
   "outputs": [],
   "metadata": {}
  },
  {
   "cell_type": "code",
   "execution_count": 60,
   "source": [
    "mean_squared_error(y_test, pred)"
   ],
   "outputs": [
    {
     "output_type": "execute_result",
     "data": {
      "text/plain": [
       "2.930026045622682"
      ]
     },
     "metadata": {},
     "execution_count": 60
    }
   ],
   "metadata": {}
  },
  {
   "cell_type": "code",
   "execution_count": 62,
   "source": [
    "r2_score(y_test, pred)"
   ],
   "outputs": [
    {
     "output_type": "execute_result",
     "data": {
      "text/plain": [
       "0.5726641097091973"
      ]
     },
     "metadata": {},
     "execution_count": 62
    }
   ],
   "metadata": {}
  },
  {
   "cell_type": "markdown",
   "source": [
    "## STEP7. 모델에 기여하는 변수 확인\r\n",
    "- 계수의 기여도를 확인count_0 가장 큰고 멀어질수록 기여도가 작아 디는 것을 확인\r\n",
    "- count_0이 가장 최근 1개월 전 데이터라 기여도가 높다는 것을 짐작"
   ],
   "metadata": {}
  },
  {
   "cell_type": "code",
   "execution_count": 64,
   "source": [
    "coef = pd.DataFrame({'feature_names': X.columns, 'coefficient': model.coef_})\r\n",
    "coef"
   ],
   "outputs": [
    {
     "output_type": "execute_result",
     "data": {
      "text/plain": [
       "  feature_names  coefficient\n",
       "0       count_0     0.355381\n",
       "1       count_1     0.192135\n",
       "2       count_2     0.154370\n",
       "3       count_3     0.179053\n",
       "4       count_4     0.085051\n",
       "5       count_5     0.057630\n",
       "6        period     0.035421"
      ],
      "text/html": [
       "<div>\n",
       "<style scoped>\n",
       "    .dataframe tbody tr th:only-of-type {\n",
       "        vertical-align: middle;\n",
       "    }\n",
       "\n",
       "    .dataframe tbody tr th {\n",
       "        vertical-align: top;\n",
       "    }\n",
       "\n",
       "    .dataframe thead th {\n",
       "        text-align: right;\n",
       "    }\n",
       "</style>\n",
       "<table border=\"1\" class=\"dataframe\">\n",
       "  <thead>\n",
       "    <tr style=\"text-align: right;\">\n",
       "      <th></th>\n",
       "      <th>feature_names</th>\n",
       "      <th>coefficient</th>\n",
       "    </tr>\n",
       "  </thead>\n",
       "  <tbody>\n",
       "    <tr>\n",
       "      <th>0</th>\n",
       "      <td>count_0</td>\n",
       "      <td>0.355381</td>\n",
       "    </tr>\n",
       "    <tr>\n",
       "      <th>1</th>\n",
       "      <td>count_1</td>\n",
       "      <td>0.192135</td>\n",
       "    </tr>\n",
       "    <tr>\n",
       "      <th>2</th>\n",
       "      <td>count_2</td>\n",
       "      <td>0.154370</td>\n",
       "    </tr>\n",
       "    <tr>\n",
       "      <th>3</th>\n",
       "      <td>count_3</td>\n",
       "      <td>0.179053</td>\n",
       "    </tr>\n",
       "    <tr>\n",
       "      <th>4</th>\n",
       "      <td>count_4</td>\n",
       "      <td>0.085051</td>\n",
       "    </tr>\n",
       "    <tr>\n",
       "      <th>5</th>\n",
       "      <td>count_5</td>\n",
       "      <td>0.057630</td>\n",
       "    </tr>\n",
       "    <tr>\n",
       "      <th>6</th>\n",
       "      <td>period</td>\n",
       "      <td>0.035421</td>\n",
       "    </tr>\n",
       "  </tbody>\n",
       "</table>\n",
       "</div>"
      ]
     },
     "metadata": {},
     "execution_count": 64
    }
   ],
   "metadata": {}
  },
  {
   "cell_type": "markdown",
   "source": [
    "### 다음달의 이용 횟수 예측\r\n",
    "- yang(X1)회원의 경우 6개월동안 달마다 7,8,6,4,4,3번의 방문 이력이 있으면\r\n",
    "- park(X2)회원이 6, 4, 3, 3, 2, 2번의 방문 획수가 있을 경우 다음 달 이용 횟 수 예측.\r\n",
    "- 두 회원의 가입 기간은 8개월 이다"
   ],
   "metadata": {}
  },
  {
   "cell_type": "code",
   "execution_count": 67,
   "source": [
    "X1 = [3, 4, 4, 6, 8, 7, 8]\r\n",
    "X2 = [2, 2, 3, 3, 5, 6, 8]\r\n",
    "x_pred = [X1, X2]\r\n",
    "x_pred"
   ],
   "outputs": [
    {
     "output_type": "execute_result",
     "data": {
      "text/plain": [
       "[[3, 4, 4, 6, 8, 7, 8], [2, 2, 3, 3, 5, 6, 8]]"
      ]
     },
     "metadata": {},
     "execution_count": 67
    }
   ],
   "metadata": {}
  },
  {
   "cell_type": "code",
   "execution_count": 68,
   "source": [
    "model.predict(x_pred)"
   ],
   "outputs": [
    {
     "output_type": "execute_result",
     "data": {
      "text/plain": [
       "array([3.7546966 , 2.01073309])"
      ]
     },
     "metadata": {},
     "execution_count": 68
    }
   ],
   "metadata": {}
  },
  {
   "cell_type": "code",
   "execution_count": 69,
   "source": [
    "uselog_months.to_csv('use_log_months.csv', index=False)"
   ],
   "outputs": [],
   "metadata": {}
  },
  {
   "cell_type": "code",
   "execution_count": 70,
   "source": [
    "import pickle"
   ],
   "outputs": [],
   "metadata": {}
  },
  {
   "cell_type": "code",
   "execution_count": 71,
   "source": [
    "with open('model.pickel', 'wb') as fp:\r\n",
    "    pickle.dump(model, fp)"
   ],
   "outputs": [],
   "metadata": {}
  }
 ],
 "metadata": {
  "kernelspec": {
   "display_name": "Python 3",
   "language": "python",
   "name": "python3"
  },
  "language_info": {
   "codemirror_mode": {
    "name": "ipython",
    "version": 3
   },
   "file_extension": ".py",
   "mimetype": "text/x-python",
   "name": "python",
   "nbconvert_exporter": "python",
   "pygments_lexer": "ipython3",
   "version": "3.8.8"
  }
 },
 "nbformat": 4,
 "nbformat_minor": 5
}