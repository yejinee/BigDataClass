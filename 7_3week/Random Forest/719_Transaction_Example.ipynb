{
    "cells": [
        {
            "cell_type": "markdown",
            "source": [
                "# Transaction Dataset 분석 & 모델링\r\n",
                "- Random Forest Modeling \r\n",
                "- Dataset 설명\r\n",
                "    - 거래내역 & 고객 dataset"
            ],
            "metadata": {}
        },
        {
            "cell_type": "markdown",
            "source": [
                "## STEP1. 모듈 & DATASET "
            ],
            "metadata": {}
        },
        {
            "cell_type": "code",
            "execution_count": 1,
            "source": [
                "import pandas as pd\r\n",
                "import numpy as np\r\n",
                "import matplotlib.pyplot as plt\r\n",
                "import seaborn as sns"
            ],
            "outputs": [],
            "metadata": {}
        },
        {
            "cell_type": "code",
            "execution_count": 2,
            "source": [
                "mem = pd.read_csv('./member.csv')\r\n",
                "tran = pd.read_csv('./transaction.csv')"
            ],
            "outputs": [],
            "metadata": {}
        },
        {
            "cell_type": "code",
            "execution_count": 3,
            "source": [
                "mem.shape, tran.shape"
            ],
            "outputs": [
                {
                    "output_type": "execute_result",
                    "data": {
                        "text/plain": [
                            "((64000, 6), (196836, 3))"
                        ]
                    },
                    "metadata": {},
                    "execution_count": 3
                }
            ],
            "metadata": {}
        },
        {
            "cell_type": "code",
            "execution_count": 4,
            "source": [
                "mem.head()"
            ],
            "outputs": [
                {
                    "output_type": "execute_result",
                    "data": {
                        "text/plain": [
                            "       id  recency   zip_code  is_referral channel  conversion\n",
                            "0  906145       10  Surburban            0   Phone           0\n",
                            "1  184478        6      Rural            1     Web           0\n",
                            "2  394235        7  Surburban            1     Web           0\n",
                            "3  130152        9      Rural            1     Web           0\n",
                            "4  940352        2      Urban            0     Web           0"
                        ],
                        "text/html": [
                            "<div>\n",
                            "<style scoped>\n",
                            "    .dataframe tbody tr th:only-of-type {\n",
                            "        vertical-align: middle;\n",
                            "    }\n",
                            "\n",
                            "    .dataframe tbody tr th {\n",
                            "        vertical-align: top;\n",
                            "    }\n",
                            "\n",
                            "    .dataframe thead th {\n",
                            "        text-align: right;\n",
                            "    }\n",
                            "</style>\n",
                            "<table border=\"1\" class=\"dataframe\">\n",
                            "  <thead>\n",
                            "    <tr style=\"text-align: right;\">\n",
                            "      <th></th>\n",
                            "      <th>id</th>\n",
                            "      <th>recency</th>\n",
                            "      <th>zip_code</th>\n",
                            "      <th>is_referral</th>\n",
                            "      <th>channel</th>\n",
                            "      <th>conversion</th>\n",
                            "    </tr>\n",
                            "  </thead>\n",
                            "  <tbody>\n",
                            "    <tr>\n",
                            "      <th>0</th>\n",
                            "      <td>906145</td>\n",
                            "      <td>10</td>\n",
                            "      <td>Surburban</td>\n",
                            "      <td>0</td>\n",
                            "      <td>Phone</td>\n",
                            "      <td>0</td>\n",
                            "    </tr>\n",
                            "    <tr>\n",
                            "      <th>1</th>\n",
                            "      <td>184478</td>\n",
                            "      <td>6</td>\n",
                            "      <td>Rural</td>\n",
                            "      <td>1</td>\n",
                            "      <td>Web</td>\n",
                            "      <td>0</td>\n",
                            "    </tr>\n",
                            "    <tr>\n",
                            "      <th>2</th>\n",
                            "      <td>394235</td>\n",
                            "      <td>7</td>\n",
                            "      <td>Surburban</td>\n",
                            "      <td>1</td>\n",
                            "      <td>Web</td>\n",
                            "      <td>0</td>\n",
                            "    </tr>\n",
                            "    <tr>\n",
                            "      <th>3</th>\n",
                            "      <td>130152</td>\n",
                            "      <td>9</td>\n",
                            "      <td>Rural</td>\n",
                            "      <td>1</td>\n",
                            "      <td>Web</td>\n",
                            "      <td>0</td>\n",
                            "    </tr>\n",
                            "    <tr>\n",
                            "      <th>4</th>\n",
                            "      <td>940352</td>\n",
                            "      <td>2</td>\n",
                            "      <td>Urban</td>\n",
                            "      <td>0</td>\n",
                            "      <td>Web</td>\n",
                            "      <td>0</td>\n",
                            "    </tr>\n",
                            "  </tbody>\n",
                            "</table>\n",
                            "</div>"
                        ]
                    },
                    "metadata": {},
                    "execution_count": 4
                }
            ],
            "metadata": {}
        },
        {
            "cell_type": "code",
            "execution_count": 5,
            "source": [
                "mem.info()"
            ],
            "outputs": [
                {
                    "output_type": "stream",
                    "name": "stdout",
                    "text": [
                        "<class 'pandas.core.frame.DataFrame'>\n",
                        "RangeIndex: 64000 entries, 0 to 63999\n",
                        "Data columns (total 6 columns):\n",
                        " #   Column       Non-Null Count  Dtype \n",
                        "---  ------       --------------  ----- \n",
                        " 0   id           64000 non-null  int64 \n",
                        " 1   recency      64000 non-null  int64 \n",
                        " 2   zip_code     64000 non-null  object\n",
                        " 3   is_referral  64000 non-null  int64 \n",
                        " 4   channel      64000 non-null  object\n",
                        " 5   conversion   64000 non-null  int64 \n",
                        "dtypes: int64(4), object(2)\n",
                        "memory usage: 2.9+ MB\n"
                    ]
                }
            ],
            "metadata": {}
        },
        {
            "cell_type": "code",
            "execution_count": 6,
            "source": [
                "mem.describe()"
            ],
            "outputs": [
                {
                    "output_type": "execute_result",
                    "data": {
                        "text/plain": [
                            "                  id       recency   is_referral    conversion\n",
                            "count   64000.000000  64000.000000  64000.000000  64000.000000\n",
                            "mean   550694.137797      5.763734      0.502250      0.146781\n",
                            "std    259105.689773      3.507592      0.499999      0.353890\n",
                            "min    100001.000000      1.000000      0.000000      0.000000\n",
                            "25%    326772.000000      2.000000      0.000000      0.000000\n",
                            "50%    551300.000000      6.000000      1.000000      0.000000\n",
                            "75%    774914.500000      9.000000      1.000000      0.000000\n",
                            "max    999997.000000     12.000000      1.000000      1.000000"
                        ],
                        "text/html": [
                            "<div>\n",
                            "<style scoped>\n",
                            "    .dataframe tbody tr th:only-of-type {\n",
                            "        vertical-align: middle;\n",
                            "    }\n",
                            "\n",
                            "    .dataframe tbody tr th {\n",
                            "        vertical-align: top;\n",
                            "    }\n",
                            "\n",
                            "    .dataframe thead th {\n",
                            "        text-align: right;\n",
                            "    }\n",
                            "</style>\n",
                            "<table border=\"1\" class=\"dataframe\">\n",
                            "  <thead>\n",
                            "    <tr style=\"text-align: right;\">\n",
                            "      <th></th>\n",
                            "      <th>id</th>\n",
                            "      <th>recency</th>\n",
                            "      <th>is_referral</th>\n",
                            "      <th>conversion</th>\n",
                            "    </tr>\n",
                            "  </thead>\n",
                            "  <tbody>\n",
                            "    <tr>\n",
                            "      <th>count</th>\n",
                            "      <td>64000.000000</td>\n",
                            "      <td>64000.000000</td>\n",
                            "      <td>64000.000000</td>\n",
                            "      <td>64000.000000</td>\n",
                            "    </tr>\n",
                            "    <tr>\n",
                            "      <th>mean</th>\n",
                            "      <td>550694.137797</td>\n",
                            "      <td>5.763734</td>\n",
                            "      <td>0.502250</td>\n",
                            "      <td>0.146781</td>\n",
                            "    </tr>\n",
                            "    <tr>\n",
                            "      <th>std</th>\n",
                            "      <td>259105.689773</td>\n",
                            "      <td>3.507592</td>\n",
                            "      <td>0.499999</td>\n",
                            "      <td>0.353890</td>\n",
                            "    </tr>\n",
                            "    <tr>\n",
                            "      <th>min</th>\n",
                            "      <td>100001.000000</td>\n",
                            "      <td>1.000000</td>\n",
                            "      <td>0.000000</td>\n",
                            "      <td>0.000000</td>\n",
                            "    </tr>\n",
                            "    <tr>\n",
                            "      <th>25%</th>\n",
                            "      <td>326772.000000</td>\n",
                            "      <td>2.000000</td>\n",
                            "      <td>0.000000</td>\n",
                            "      <td>0.000000</td>\n",
                            "    </tr>\n",
                            "    <tr>\n",
                            "      <th>50%</th>\n",
                            "      <td>551300.000000</td>\n",
                            "      <td>6.000000</td>\n",
                            "      <td>1.000000</td>\n",
                            "      <td>0.000000</td>\n",
                            "    </tr>\n",
                            "    <tr>\n",
                            "      <th>75%</th>\n",
                            "      <td>774914.500000</td>\n",
                            "      <td>9.000000</td>\n",
                            "      <td>1.000000</td>\n",
                            "      <td>0.000000</td>\n",
                            "    </tr>\n",
                            "    <tr>\n",
                            "      <th>max</th>\n",
                            "      <td>999997.000000</td>\n",
                            "      <td>12.000000</td>\n",
                            "      <td>1.000000</td>\n",
                            "      <td>1.000000</td>\n",
                            "    </tr>\n",
                            "  </tbody>\n",
                            "</table>\n",
                            "</div>"
                        ]
                    },
                    "metadata": {},
                    "execution_count": 6
                }
            ],
            "metadata": {}
        },
        {
            "cell_type": "code",
            "execution_count": 8,
            "source": [
                "tran.head()"
            ],
            "outputs": [
                {
                    "output_type": "execute_result",
                    "data": {
                        "text/plain": [
                            "       id  num_item  total_amount\n",
                            "0  906145         5         34000\n",
                            "1  906145         1         27000\n",
                            "2  906145         4         33000\n",
                            "3  184478         4         29000\n",
                            "4  394235         4         33000"
                        ],
                        "text/html": [
                            "<div>\n",
                            "<style scoped>\n",
                            "    .dataframe tbody tr th:only-of-type {\n",
                            "        vertical-align: middle;\n",
                            "    }\n",
                            "\n",
                            "    .dataframe tbody tr th {\n",
                            "        vertical-align: top;\n",
                            "    }\n",
                            "\n",
                            "    .dataframe thead th {\n",
                            "        text-align: right;\n",
                            "    }\n",
                            "</style>\n",
                            "<table border=\"1\" class=\"dataframe\">\n",
                            "  <thead>\n",
                            "    <tr style=\"text-align: right;\">\n",
                            "      <th></th>\n",
                            "      <th>id</th>\n",
                            "      <th>num_item</th>\n",
                            "      <th>total_amount</th>\n",
                            "    </tr>\n",
                            "  </thead>\n",
                            "  <tbody>\n",
                            "    <tr>\n",
                            "      <th>0</th>\n",
                            "      <td>906145</td>\n",
                            "      <td>5</td>\n",
                            "      <td>34000</td>\n",
                            "    </tr>\n",
                            "    <tr>\n",
                            "      <th>1</th>\n",
                            "      <td>906145</td>\n",
                            "      <td>1</td>\n",
                            "      <td>27000</td>\n",
                            "    </tr>\n",
                            "    <tr>\n",
                            "      <th>2</th>\n",
                            "      <td>906145</td>\n",
                            "      <td>4</td>\n",
                            "      <td>33000</td>\n",
                            "    </tr>\n",
                            "    <tr>\n",
                            "      <th>3</th>\n",
                            "      <td>184478</td>\n",
                            "      <td>4</td>\n",
                            "      <td>29000</td>\n",
                            "    </tr>\n",
                            "    <tr>\n",
                            "      <th>4</th>\n",
                            "      <td>394235</td>\n",
                            "      <td>4</td>\n",
                            "      <td>33000</td>\n",
                            "    </tr>\n",
                            "  </tbody>\n",
                            "</table>\n",
                            "</div>"
                        ]
                    },
                    "metadata": {},
                    "execution_count": 8
                }
            ],
            "metadata": {}
        },
        {
            "cell_type": "code",
            "execution_count": 9,
            "source": [
                "tran.info()"
            ],
            "outputs": [
                {
                    "output_type": "stream",
                    "name": "stdout",
                    "text": [
                        "<class 'pandas.core.frame.DataFrame'>\n",
                        "RangeIndex: 196836 entries, 0 to 196835\n",
                        "Data columns (total 3 columns):\n",
                        " #   Column        Non-Null Count   Dtype\n",
                        "---  ------        --------------   -----\n",
                        " 0   id            196836 non-null  int64\n",
                        " 1   num_item      196836 non-null  int64\n",
                        " 2   total_amount  196836 non-null  int64\n",
                        "dtypes: int64(3)\n",
                        "memory usage: 4.5 MB\n"
                    ]
                }
            ],
            "metadata": {}
        },
        {
            "cell_type": "code",
            "execution_count": 10,
            "source": [
                "tran.describe()"
            ],
            "outputs": [
                {
                    "output_type": "execute_result",
                    "data": {
                        "text/plain": [
                            "                  id       num_item   total_amount\n",
                            "count  196836.000000  196836.000000  196836.000000\n",
                            "mean   550557.552932       3.078365   21837.102969\n",
                            "std    259254.795613       1.478408    8218.005565\n",
                            "min    100001.000000       1.000000    8000.000000\n",
                            "25%    326719.000000       2.000000   15000.000000\n",
                            "50%    550918.000000       3.000000   22000.000000\n",
                            "75%    774916.000000       4.000000   29000.000000\n",
                            "max    999997.000000       6.000000   38000.000000"
                        ],
                        "text/html": [
                            "<div>\n",
                            "<style scoped>\n",
                            "    .dataframe tbody tr th:only-of-type {\n",
                            "        vertical-align: middle;\n",
                            "    }\n",
                            "\n",
                            "    .dataframe tbody tr th {\n",
                            "        vertical-align: top;\n",
                            "    }\n",
                            "\n",
                            "    .dataframe thead th {\n",
                            "        text-align: right;\n",
                            "    }\n",
                            "</style>\n",
                            "<table border=\"1\" class=\"dataframe\">\n",
                            "  <thead>\n",
                            "    <tr style=\"text-align: right;\">\n",
                            "      <th></th>\n",
                            "      <th>id</th>\n",
                            "      <th>num_item</th>\n",
                            "      <th>total_amount</th>\n",
                            "    </tr>\n",
                            "  </thead>\n",
                            "  <tbody>\n",
                            "    <tr>\n",
                            "      <th>count</th>\n",
                            "      <td>196836.000000</td>\n",
                            "      <td>196836.000000</td>\n",
                            "      <td>196836.000000</td>\n",
                            "    </tr>\n",
                            "    <tr>\n",
                            "      <th>mean</th>\n",
                            "      <td>550557.552932</td>\n",
                            "      <td>3.078365</td>\n",
                            "      <td>21837.102969</td>\n",
                            "    </tr>\n",
                            "    <tr>\n",
                            "      <th>std</th>\n",
                            "      <td>259254.795613</td>\n",
                            "      <td>1.478408</td>\n",
                            "      <td>8218.005565</td>\n",
                            "    </tr>\n",
                            "    <tr>\n",
                            "      <th>min</th>\n",
                            "      <td>100001.000000</td>\n",
                            "      <td>1.000000</td>\n",
                            "      <td>8000.000000</td>\n",
                            "    </tr>\n",
                            "    <tr>\n",
                            "      <th>25%</th>\n",
                            "      <td>326719.000000</td>\n",
                            "      <td>2.000000</td>\n",
                            "      <td>15000.000000</td>\n",
                            "    </tr>\n",
                            "    <tr>\n",
                            "      <th>50%</th>\n",
                            "      <td>550918.000000</td>\n",
                            "      <td>3.000000</td>\n",
                            "      <td>22000.000000</td>\n",
                            "    </tr>\n",
                            "    <tr>\n",
                            "      <th>75%</th>\n",
                            "      <td>774916.000000</td>\n",
                            "      <td>4.000000</td>\n",
                            "      <td>29000.000000</td>\n",
                            "    </tr>\n",
                            "    <tr>\n",
                            "      <th>max</th>\n",
                            "      <td>999997.000000</td>\n",
                            "      <td>6.000000</td>\n",
                            "      <td>38000.000000</td>\n",
                            "    </tr>\n",
                            "  </tbody>\n",
                            "</table>\n",
                            "</div>"
                        ]
                    },
                    "metadata": {},
                    "execution_count": 10
                }
            ],
            "metadata": {}
        },
        {
            "cell_type": "code",
            "execution_count": 11,
            "source": [
                "# 아이템별 평균 가격 확인\r\n",
                "tran['total_amount'] / tran['num_item']"
            ],
            "outputs": [
                {
                    "output_type": "execute_result",
                    "data": {
                        "text/plain": [
                            "0          6800.000000\n",
                            "1         27000.000000\n",
                            "2          8250.000000\n",
                            "3          7250.000000\n",
                            "4          8250.000000\n",
                            "              ...     \n",
                            "196831     4800.000000\n",
                            "196832     5200.000000\n",
                            "196833     7333.333333\n",
                            "196834     6000.000000\n",
                            "196835     6666.666667\n",
                            "Length: 196836, dtype: float64"
                        ]
                    },
                    "metadata": {},
                    "execution_count": 11
                }
            ],
            "metadata": {}
        },
        {
            "cell_type": "code",
            "execution_count": 12,
            "source": [
                "tran['avg_price'] = tran['total_amount'] / tran['num_item']"
            ],
            "outputs": [],
            "metadata": {}
        },
        {
            "cell_type": "code",
            "execution_count": 13,
            "source": [
                "tran.head()"
            ],
            "outputs": [
                {
                    "output_type": "execute_result",
                    "data": {
                        "text/plain": [
                            "       id  num_item  total_amount  avg_price\n",
                            "0  906145         5         34000     6800.0\n",
                            "1  906145         1         27000    27000.0\n",
                            "2  906145         4         33000     8250.0\n",
                            "3  184478         4         29000     7250.0\n",
                            "4  394235         4         33000     8250.0"
                        ],
                        "text/html": [
                            "<div>\n",
                            "<style scoped>\n",
                            "    .dataframe tbody tr th:only-of-type {\n",
                            "        vertical-align: middle;\n",
                            "    }\n",
                            "\n",
                            "    .dataframe tbody tr th {\n",
                            "        vertical-align: top;\n",
                            "    }\n",
                            "\n",
                            "    .dataframe thead th {\n",
                            "        text-align: right;\n",
                            "    }\n",
                            "</style>\n",
                            "<table border=\"1\" class=\"dataframe\">\n",
                            "  <thead>\n",
                            "    <tr style=\"text-align: right;\">\n",
                            "      <th></th>\n",
                            "      <th>id</th>\n",
                            "      <th>num_item</th>\n",
                            "      <th>total_amount</th>\n",
                            "      <th>avg_price</th>\n",
                            "    </tr>\n",
                            "  </thead>\n",
                            "  <tbody>\n",
                            "    <tr>\n",
                            "      <th>0</th>\n",
                            "      <td>906145</td>\n",
                            "      <td>5</td>\n",
                            "      <td>34000</td>\n",
                            "      <td>6800.0</td>\n",
                            "    </tr>\n",
                            "    <tr>\n",
                            "      <th>1</th>\n",
                            "      <td>906145</td>\n",
                            "      <td>1</td>\n",
                            "      <td>27000</td>\n",
                            "      <td>27000.0</td>\n",
                            "    </tr>\n",
                            "    <tr>\n",
                            "      <th>2</th>\n",
                            "      <td>906145</td>\n",
                            "      <td>4</td>\n",
                            "      <td>33000</td>\n",
                            "      <td>8250.0</td>\n",
                            "    </tr>\n",
                            "    <tr>\n",
                            "      <th>3</th>\n",
                            "      <td>184478</td>\n",
                            "      <td>4</td>\n",
                            "      <td>29000</td>\n",
                            "      <td>7250.0</td>\n",
                            "    </tr>\n",
                            "    <tr>\n",
                            "      <th>4</th>\n",
                            "      <td>394235</td>\n",
                            "      <td>4</td>\n",
                            "      <td>33000</td>\n",
                            "      <td>8250.0</td>\n",
                            "    </tr>\n",
                            "  </tbody>\n",
                            "</table>\n",
                            "</div>"
                        ]
                    },
                    "metadata": {},
                    "execution_count": 13
                }
            ],
            "metadata": {}
        },
        {
            "cell_type": "markdown",
            "source": [
                "## STEP2. Merge Data"
            ],
            "metadata": {}
        },
        {
            "cell_type": "code",
            "execution_count": 15,
            "source": [
                "# GroupBy를 활용하여 id별로 1줄 데이터 요약\r\n",
                "train_mean = tran.groupby('id').mean()"
            ],
            "outputs": [],
            "metadata": {}
        },
        {
            "cell_type": "code",
            "execution_count": 16,
            "source": [
                "tran_cnt = tran['id'].value_counts()"
            ],
            "outputs": [],
            "metadata": {}
        },
        {
            "cell_type": "code",
            "execution_count": 17,
            "source": [
                "tran_cnt"
            ],
            "outputs": [
                {
                    "output_type": "execute_result",
                    "data": {
                        "text/plain": [
                            "940317    5\n",
                            "754878    5\n",
                            "808126    5\n",
                            "876005    5\n",
                            "538399    5\n",
                            "         ..\n",
                            "781792    1\n",
                            "579795    1\n",
                            "806627    1\n",
                            "803008    1\n",
                            "586290    1\n",
                            "Name: id, Length: 64000, dtype: int64"
                        ]
                    },
                    "metadata": {},
                    "execution_count": 17
                }
            ],
            "metadata": {}
        },
        {
            "cell_type": "code",
            "execution_count": 18,
            "source": [
                "tran_df = pd.concat([train_mean, tran_cnt], axis=1)"
            ],
            "outputs": [],
            "metadata": {}
        },
        {
            "cell_type": "code",
            "execution_count": 19,
            "source": [
                "tran_df"
            ],
            "outputs": [
                {
                    "output_type": "execute_result",
                    "data": {
                        "text/plain": [
                            "        num_item  total_amount     avg_price  id\n",
                            "100001  3.500000  26000.000000   7500.000000   2\n",
                            "100008  5.000000  26000.000000   5200.000000   1\n",
                            "100032  2.666667  20666.666667   9366.666667   3\n",
                            "100036  3.000000  25800.000000  13273.333333   5\n",
                            "100070  3.250000  21250.000000   8537.500000   4\n",
                            "...          ...           ...           ...  ..\n",
                            "999932  5.000000  32000.000000   6400.000000   1\n",
                            "999981  2.000000  22750.000000  12875.000000   4\n",
                            "999990  3.000000  28000.000000  10388.888889   3\n",
                            "999995  2.000000  27000.000000  13500.000000   1\n",
                            "999997  2.000000  13000.000000   6500.000000   1\n",
                            "\n",
                            "[64000 rows x 4 columns]"
                        ],
                        "text/html": [
                            "<div>\n",
                            "<style scoped>\n",
                            "    .dataframe tbody tr th:only-of-type {\n",
                            "        vertical-align: middle;\n",
                            "    }\n",
                            "\n",
                            "    .dataframe tbody tr th {\n",
                            "        vertical-align: top;\n",
                            "    }\n",
                            "\n",
                            "    .dataframe thead th {\n",
                            "        text-align: right;\n",
                            "    }\n",
                            "</style>\n",
                            "<table border=\"1\" class=\"dataframe\">\n",
                            "  <thead>\n",
                            "    <tr style=\"text-align: right;\">\n",
                            "      <th></th>\n",
                            "      <th>num_item</th>\n",
                            "      <th>total_amount</th>\n",
                            "      <th>avg_price</th>\n",
                            "      <th>id</th>\n",
                            "    </tr>\n",
                            "  </thead>\n",
                            "  <tbody>\n",
                            "    <tr>\n",
                            "      <th>100001</th>\n",
                            "      <td>3.500000</td>\n",
                            "      <td>26000.000000</td>\n",
                            "      <td>7500.000000</td>\n",
                            "      <td>2</td>\n",
                            "    </tr>\n",
                            "    <tr>\n",
                            "      <th>100008</th>\n",
                            "      <td>5.000000</td>\n",
                            "      <td>26000.000000</td>\n",
                            "      <td>5200.000000</td>\n",
                            "      <td>1</td>\n",
                            "    </tr>\n",
                            "    <tr>\n",
                            "      <th>100032</th>\n",
                            "      <td>2.666667</td>\n",
                            "      <td>20666.666667</td>\n",
                            "      <td>9366.666667</td>\n",
                            "      <td>3</td>\n",
                            "    </tr>\n",
                            "    <tr>\n",
                            "      <th>100036</th>\n",
                            "      <td>3.000000</td>\n",
                            "      <td>25800.000000</td>\n",
                            "      <td>13273.333333</td>\n",
                            "      <td>5</td>\n",
                            "    </tr>\n",
                            "    <tr>\n",
                            "      <th>100070</th>\n",
                            "      <td>3.250000</td>\n",
                            "      <td>21250.000000</td>\n",
                            "      <td>8537.500000</td>\n",
                            "      <td>4</td>\n",
                            "    </tr>\n",
                            "    <tr>\n",
                            "      <th>...</th>\n",
                            "      <td>...</td>\n",
                            "      <td>...</td>\n",
                            "      <td>...</td>\n",
                            "      <td>...</td>\n",
                            "    </tr>\n",
                            "    <tr>\n",
                            "      <th>999932</th>\n",
                            "      <td>5.000000</td>\n",
                            "      <td>32000.000000</td>\n",
                            "      <td>6400.000000</td>\n",
                            "      <td>1</td>\n",
                            "    </tr>\n",
                            "    <tr>\n",
                            "      <th>999981</th>\n",
                            "      <td>2.000000</td>\n",
                            "      <td>22750.000000</td>\n",
                            "      <td>12875.000000</td>\n",
                            "      <td>4</td>\n",
                            "    </tr>\n",
                            "    <tr>\n",
                            "      <th>999990</th>\n",
                            "      <td>3.000000</td>\n",
                            "      <td>28000.000000</td>\n",
                            "      <td>10388.888889</td>\n",
                            "      <td>3</td>\n",
                            "    </tr>\n",
                            "    <tr>\n",
                            "      <th>999995</th>\n",
                            "      <td>2.000000</td>\n",
                            "      <td>27000.000000</td>\n",
                            "      <td>13500.000000</td>\n",
                            "      <td>1</td>\n",
                            "    </tr>\n",
                            "    <tr>\n",
                            "      <th>999997</th>\n",
                            "      <td>2.000000</td>\n",
                            "      <td>13000.000000</td>\n",
                            "      <td>6500.000000</td>\n",
                            "      <td>1</td>\n",
                            "    </tr>\n",
                            "  </tbody>\n",
                            "</table>\n",
                            "<p>64000 rows × 4 columns</p>\n",
                            "</div>"
                        ]
                    },
                    "metadata": {},
                    "execution_count": 19
                }
            ],
            "metadata": {}
        },
        {
            "cell_type": "code",
            "execution_count": 20,
            "source": [
                "tran_df.columns = ['num_item', 'total_amount', 'avg_price', 'count']"
            ],
            "outputs": [],
            "metadata": {}
        },
        {
            "cell_type": "code",
            "execution_count": 22,
            "source": [
                "tran_df"
            ],
            "outputs": [
                {
                    "output_type": "execute_result",
                    "data": {
                        "text/plain": [
                            "        num_item  total_amount     avg_price  count\n",
                            "100001  3.500000  26000.000000   7500.000000      2\n",
                            "100008  5.000000  26000.000000   5200.000000      1\n",
                            "100032  2.666667  20666.666667   9366.666667      3\n",
                            "100036  3.000000  25800.000000  13273.333333      5\n",
                            "100070  3.250000  21250.000000   8537.500000      4\n",
                            "...          ...           ...           ...    ...\n",
                            "999932  5.000000  32000.000000   6400.000000      1\n",
                            "999981  2.000000  22750.000000  12875.000000      4\n",
                            "999990  3.000000  28000.000000  10388.888889      3\n",
                            "999995  2.000000  27000.000000  13500.000000      1\n",
                            "999997  2.000000  13000.000000   6500.000000      1\n",
                            "\n",
                            "[64000 rows x 4 columns]"
                        ],
                        "text/html": [
                            "<div>\n",
                            "<style scoped>\n",
                            "    .dataframe tbody tr th:only-of-type {\n",
                            "        vertical-align: middle;\n",
                            "    }\n",
                            "\n",
                            "    .dataframe tbody tr th {\n",
                            "        vertical-align: top;\n",
                            "    }\n",
                            "\n",
                            "    .dataframe thead th {\n",
                            "        text-align: right;\n",
                            "    }\n",
                            "</style>\n",
                            "<table border=\"1\" class=\"dataframe\">\n",
                            "  <thead>\n",
                            "    <tr style=\"text-align: right;\">\n",
                            "      <th></th>\n",
                            "      <th>num_item</th>\n",
                            "      <th>total_amount</th>\n",
                            "      <th>avg_price</th>\n",
                            "      <th>count</th>\n",
                            "    </tr>\n",
                            "  </thead>\n",
                            "  <tbody>\n",
                            "    <tr>\n",
                            "      <th>100001</th>\n",
                            "      <td>3.500000</td>\n",
                            "      <td>26000.000000</td>\n",
                            "      <td>7500.000000</td>\n",
                            "      <td>2</td>\n",
                            "    </tr>\n",
                            "    <tr>\n",
                            "      <th>100008</th>\n",
                            "      <td>5.000000</td>\n",
                            "      <td>26000.000000</td>\n",
                            "      <td>5200.000000</td>\n",
                            "      <td>1</td>\n",
                            "    </tr>\n",
                            "    <tr>\n",
                            "      <th>100032</th>\n",
                            "      <td>2.666667</td>\n",
                            "      <td>20666.666667</td>\n",
                            "      <td>9366.666667</td>\n",
                            "      <td>3</td>\n",
                            "    </tr>\n",
                            "    <tr>\n",
                            "      <th>100036</th>\n",
                            "      <td>3.000000</td>\n",
                            "      <td>25800.000000</td>\n",
                            "      <td>13273.333333</td>\n",
                            "      <td>5</td>\n",
                            "    </tr>\n",
                            "    <tr>\n",
                            "      <th>100070</th>\n",
                            "      <td>3.250000</td>\n",
                            "      <td>21250.000000</td>\n",
                            "      <td>8537.500000</td>\n",
                            "      <td>4</td>\n",
                            "    </tr>\n",
                            "    <tr>\n",
                            "      <th>...</th>\n",
                            "      <td>...</td>\n",
                            "      <td>...</td>\n",
                            "      <td>...</td>\n",
                            "      <td>...</td>\n",
                            "    </tr>\n",
                            "    <tr>\n",
                            "      <th>999932</th>\n",
                            "      <td>5.000000</td>\n",
                            "      <td>32000.000000</td>\n",
                            "      <td>6400.000000</td>\n",
                            "      <td>1</td>\n",
                            "    </tr>\n",
                            "    <tr>\n",
                            "      <th>999981</th>\n",
                            "      <td>2.000000</td>\n",
                            "      <td>22750.000000</td>\n",
                            "      <td>12875.000000</td>\n",
                            "      <td>4</td>\n",
                            "    </tr>\n",
                            "    <tr>\n",
                            "      <th>999990</th>\n",
                            "      <td>3.000000</td>\n",
                            "      <td>28000.000000</td>\n",
                            "      <td>10388.888889</td>\n",
                            "      <td>3</td>\n",
                            "    </tr>\n",
                            "    <tr>\n",
                            "      <th>999995</th>\n",
                            "      <td>2.000000</td>\n",
                            "      <td>27000.000000</td>\n",
                            "      <td>13500.000000</td>\n",
                            "      <td>1</td>\n",
                            "    </tr>\n",
                            "    <tr>\n",
                            "      <th>999997</th>\n",
                            "      <td>2.000000</td>\n",
                            "      <td>13000.000000</td>\n",
                            "      <td>6500.000000</td>\n",
                            "      <td>1</td>\n",
                            "    </tr>\n",
                            "  </tbody>\n",
                            "</table>\n",
                            "<p>64000 rows × 4 columns</p>\n",
                            "</div>"
                        ]
                    },
                    "metadata": {},
                    "execution_count": 22
                }
            ],
            "metadata": {}
        },
        {
            "cell_type": "code",
            "execution_count": 23,
            "source": [
                "mem"
            ],
            "outputs": [
                {
                    "output_type": "execute_result",
                    "data": {
                        "text/plain": [
                            "           id  recency   zip_code  is_referral       channel  conversion\n",
                            "0      906145       10  Surburban            0         Phone           0\n",
                            "1      184478        6      Rural            1           Web           0\n",
                            "2      394235        7  Surburban            1           Web           0\n",
                            "3      130152        9      Rural            1           Web           0\n",
                            "4      940352        2      Urban            0           Web           0\n",
                            "...       ...      ...        ...          ...           ...         ...\n",
                            "63995  838295       10      Urban            0           Web           0\n",
                            "63996  547316        5      Urban            1         Phone           0\n",
                            "63997  131575        6      Urban            1         Phone           0\n",
                            "63998  603659        1  Surburban            1  Multichannel           0\n",
                            "63999  254229        1  Surburban            0           Web           0\n",
                            "\n",
                            "[64000 rows x 6 columns]"
                        ],
                        "text/html": [
                            "<div>\n",
                            "<style scoped>\n",
                            "    .dataframe tbody tr th:only-of-type {\n",
                            "        vertical-align: middle;\n",
                            "    }\n",
                            "\n",
                            "    .dataframe tbody tr th {\n",
                            "        vertical-align: top;\n",
                            "    }\n",
                            "\n",
                            "    .dataframe thead th {\n",
                            "        text-align: right;\n",
                            "    }\n",
                            "</style>\n",
                            "<table border=\"1\" class=\"dataframe\">\n",
                            "  <thead>\n",
                            "    <tr style=\"text-align: right;\">\n",
                            "      <th></th>\n",
                            "      <th>id</th>\n",
                            "      <th>recency</th>\n",
                            "      <th>zip_code</th>\n",
                            "      <th>is_referral</th>\n",
                            "      <th>channel</th>\n",
                            "      <th>conversion</th>\n",
                            "    </tr>\n",
                            "  </thead>\n",
                            "  <tbody>\n",
                            "    <tr>\n",
                            "      <th>0</th>\n",
                            "      <td>906145</td>\n",
                            "      <td>10</td>\n",
                            "      <td>Surburban</td>\n",
                            "      <td>0</td>\n",
                            "      <td>Phone</td>\n",
                            "      <td>0</td>\n",
                            "    </tr>\n",
                            "    <tr>\n",
                            "      <th>1</th>\n",
                            "      <td>184478</td>\n",
                            "      <td>6</td>\n",
                            "      <td>Rural</td>\n",
                            "      <td>1</td>\n",
                            "      <td>Web</td>\n",
                            "      <td>0</td>\n",
                            "    </tr>\n",
                            "    <tr>\n",
                            "      <th>2</th>\n",
                            "      <td>394235</td>\n",
                            "      <td>7</td>\n",
                            "      <td>Surburban</td>\n",
                            "      <td>1</td>\n",
                            "      <td>Web</td>\n",
                            "      <td>0</td>\n",
                            "    </tr>\n",
                            "    <tr>\n",
                            "      <th>3</th>\n",
                            "      <td>130152</td>\n",
                            "      <td>9</td>\n",
                            "      <td>Rural</td>\n",
                            "      <td>1</td>\n",
                            "      <td>Web</td>\n",
                            "      <td>0</td>\n",
                            "    </tr>\n",
                            "    <tr>\n",
                            "      <th>4</th>\n",
                            "      <td>940352</td>\n",
                            "      <td>2</td>\n",
                            "      <td>Urban</td>\n",
                            "      <td>0</td>\n",
                            "      <td>Web</td>\n",
                            "      <td>0</td>\n",
                            "    </tr>\n",
                            "    <tr>\n",
                            "      <th>...</th>\n",
                            "      <td>...</td>\n",
                            "      <td>...</td>\n",
                            "      <td>...</td>\n",
                            "      <td>...</td>\n",
                            "      <td>...</td>\n",
                            "      <td>...</td>\n",
                            "    </tr>\n",
                            "    <tr>\n",
                            "      <th>63995</th>\n",
                            "      <td>838295</td>\n",
                            "      <td>10</td>\n",
                            "      <td>Urban</td>\n",
                            "      <td>0</td>\n",
                            "      <td>Web</td>\n",
                            "      <td>0</td>\n",
                            "    </tr>\n",
                            "    <tr>\n",
                            "      <th>63996</th>\n",
                            "      <td>547316</td>\n",
                            "      <td>5</td>\n",
                            "      <td>Urban</td>\n",
                            "      <td>1</td>\n",
                            "      <td>Phone</td>\n",
                            "      <td>0</td>\n",
                            "    </tr>\n",
                            "    <tr>\n",
                            "      <th>63997</th>\n",
                            "      <td>131575</td>\n",
                            "      <td>6</td>\n",
                            "      <td>Urban</td>\n",
                            "      <td>1</td>\n",
                            "      <td>Phone</td>\n",
                            "      <td>0</td>\n",
                            "    </tr>\n",
                            "    <tr>\n",
                            "      <th>63998</th>\n",
                            "      <td>603659</td>\n",
                            "      <td>1</td>\n",
                            "      <td>Surburban</td>\n",
                            "      <td>1</td>\n",
                            "      <td>Multichannel</td>\n",
                            "      <td>0</td>\n",
                            "    </tr>\n",
                            "    <tr>\n",
                            "      <th>63999</th>\n",
                            "      <td>254229</td>\n",
                            "      <td>1</td>\n",
                            "      <td>Surburban</td>\n",
                            "      <td>0</td>\n",
                            "      <td>Web</td>\n",
                            "      <td>0</td>\n",
                            "    </tr>\n",
                            "  </tbody>\n",
                            "</table>\n",
                            "<p>64000 rows × 6 columns</p>\n",
                            "</div>"
                        ]
                    },
                    "metadata": {},
                    "execution_count": 23
                }
            ],
            "metadata": {}
        },
        {
            "cell_type": "code",
            "execution_count": 24,
            "source": [
                "mem.set_index('id', inplace=True)"
            ],
            "outputs": [],
            "metadata": {}
        },
        {
            "cell_type": "code",
            "execution_count": 25,
            "source": [
                "mem"
            ],
            "outputs": [
                {
                    "output_type": "execute_result",
                    "data": {
                        "text/plain": [
                            "        recency   zip_code  is_referral       channel  conversion\n",
                            "id                                                               \n",
                            "906145       10  Surburban            0         Phone           0\n",
                            "184478        6      Rural            1           Web           0\n",
                            "394235        7  Surburban            1           Web           0\n",
                            "130152        9      Rural            1           Web           0\n",
                            "940352        2      Urban            0           Web           0\n",
                            "...         ...        ...          ...           ...         ...\n",
                            "838295       10      Urban            0           Web           0\n",
                            "547316        5      Urban            1         Phone           0\n",
                            "131575        6      Urban            1         Phone           0\n",
                            "603659        1  Surburban            1  Multichannel           0\n",
                            "254229        1  Surburban            0           Web           0\n",
                            "\n",
                            "[64000 rows x 5 columns]"
                        ],
                        "text/html": [
                            "<div>\n",
                            "<style scoped>\n",
                            "    .dataframe tbody tr th:only-of-type {\n",
                            "        vertical-align: middle;\n",
                            "    }\n",
                            "\n",
                            "    .dataframe tbody tr th {\n",
                            "        vertical-align: top;\n",
                            "    }\n",
                            "\n",
                            "    .dataframe thead th {\n",
                            "        text-align: right;\n",
                            "    }\n",
                            "</style>\n",
                            "<table border=\"1\" class=\"dataframe\">\n",
                            "  <thead>\n",
                            "    <tr style=\"text-align: right;\">\n",
                            "      <th></th>\n",
                            "      <th>recency</th>\n",
                            "      <th>zip_code</th>\n",
                            "      <th>is_referral</th>\n",
                            "      <th>channel</th>\n",
                            "      <th>conversion</th>\n",
                            "    </tr>\n",
                            "    <tr>\n",
                            "      <th>id</th>\n",
                            "      <th></th>\n",
                            "      <th></th>\n",
                            "      <th></th>\n",
                            "      <th></th>\n",
                            "      <th></th>\n",
                            "    </tr>\n",
                            "  </thead>\n",
                            "  <tbody>\n",
                            "    <tr>\n",
                            "      <th>906145</th>\n",
                            "      <td>10</td>\n",
                            "      <td>Surburban</td>\n",
                            "      <td>0</td>\n",
                            "      <td>Phone</td>\n",
                            "      <td>0</td>\n",
                            "    </tr>\n",
                            "    <tr>\n",
                            "      <th>184478</th>\n",
                            "      <td>6</td>\n",
                            "      <td>Rural</td>\n",
                            "      <td>1</td>\n",
                            "      <td>Web</td>\n",
                            "      <td>0</td>\n",
                            "    </tr>\n",
                            "    <tr>\n",
                            "      <th>394235</th>\n",
                            "      <td>7</td>\n",
                            "      <td>Surburban</td>\n",
                            "      <td>1</td>\n",
                            "      <td>Web</td>\n",
                            "      <td>0</td>\n",
                            "    </tr>\n",
                            "    <tr>\n",
                            "      <th>130152</th>\n",
                            "      <td>9</td>\n",
                            "      <td>Rural</td>\n",
                            "      <td>1</td>\n",
                            "      <td>Web</td>\n",
                            "      <td>0</td>\n",
                            "    </tr>\n",
                            "    <tr>\n",
                            "      <th>940352</th>\n",
                            "      <td>2</td>\n",
                            "      <td>Urban</td>\n",
                            "      <td>0</td>\n",
                            "      <td>Web</td>\n",
                            "      <td>0</td>\n",
                            "    </tr>\n",
                            "    <tr>\n",
                            "      <th>...</th>\n",
                            "      <td>...</td>\n",
                            "      <td>...</td>\n",
                            "      <td>...</td>\n",
                            "      <td>...</td>\n",
                            "      <td>...</td>\n",
                            "    </tr>\n",
                            "    <tr>\n",
                            "      <th>838295</th>\n",
                            "      <td>10</td>\n",
                            "      <td>Urban</td>\n",
                            "      <td>0</td>\n",
                            "      <td>Web</td>\n",
                            "      <td>0</td>\n",
                            "    </tr>\n",
                            "    <tr>\n",
                            "      <th>547316</th>\n",
                            "      <td>5</td>\n",
                            "      <td>Urban</td>\n",
                            "      <td>1</td>\n",
                            "      <td>Phone</td>\n",
                            "      <td>0</td>\n",
                            "    </tr>\n",
                            "    <tr>\n",
                            "      <th>131575</th>\n",
                            "      <td>6</td>\n",
                            "      <td>Urban</td>\n",
                            "      <td>1</td>\n",
                            "      <td>Phone</td>\n",
                            "      <td>0</td>\n",
                            "    </tr>\n",
                            "    <tr>\n",
                            "      <th>603659</th>\n",
                            "      <td>1</td>\n",
                            "      <td>Surburban</td>\n",
                            "      <td>1</td>\n",
                            "      <td>Multichannel</td>\n",
                            "      <td>0</td>\n",
                            "    </tr>\n",
                            "    <tr>\n",
                            "      <th>254229</th>\n",
                            "      <td>1</td>\n",
                            "      <td>Surburban</td>\n",
                            "      <td>0</td>\n",
                            "      <td>Web</td>\n",
                            "      <td>0</td>\n",
                            "    </tr>\n",
                            "  </tbody>\n",
                            "</table>\n",
                            "<p>64000 rows × 5 columns</p>\n",
                            "</div>"
                        ]
                    },
                    "metadata": {},
                    "execution_count": 25
                }
            ],
            "metadata": {}
        },
        {
            "cell_type": "code",
            "execution_count": 26,
            "source": [
                "mem.join(tran_df)"
            ],
            "outputs": [
                {
                    "output_type": "execute_result",
                    "data": {
                        "text/plain": [
                            "        recency   zip_code  is_referral       channel  conversion  num_item  \\\n",
                            "id                                                                            \n",
                            "906145       10  Surburban            0         Phone           0  3.333333   \n",
                            "184478        6      Rural            1           Web           0  4.000000   \n",
                            "394235        7  Surburban            1           Web           0  4.000000   \n",
                            "130152        9      Rural            1           Web           0  1.750000   \n",
                            "940352        2      Urban            0           Web           0  3.000000   \n",
                            "...         ...        ...          ...           ...         ...       ...   \n",
                            "838295       10      Urban            0           Web           0  3.500000   \n",
                            "547316        5      Urban            1         Phone           0  1.800000   \n",
                            "131575        6      Urban            1         Phone           0  4.000000   \n",
                            "603659        1  Surburban            1  Multichannel           0  3.200000   \n",
                            "254229        1  Surburban            0           Web           0  3.400000   \n",
                            "\n",
                            "        total_amount     avg_price  count  \n",
                            "id                                         \n",
                            "906145  31333.333333  14016.666667      3  \n",
                            "184478  29000.000000   7250.000000      1  \n",
                            "394235  20500.000000   5125.000000      2  \n",
                            "130152  20750.000000  14875.000000      4  \n",
                            "940352  31000.000000  10333.333333      1  \n",
                            "...              ...           ...    ...  \n",
                            "838295  26000.000000   8012.500000      4  \n",
                            "547316  17800.000000  11300.000000      5  \n",
                            "131575  30500.000000   7833.333333      2  \n",
                            "603659  21600.000000   7583.333333      5  \n",
                            "254229  24400.000000   9280.000000      5  \n",
                            "\n",
                            "[64000 rows x 9 columns]"
                        ],
                        "text/html": [
                            "<div>\n",
                            "<style scoped>\n",
                            "    .dataframe tbody tr th:only-of-type {\n",
                            "        vertical-align: middle;\n",
                            "    }\n",
                            "\n",
                            "    .dataframe tbody tr th {\n",
                            "        vertical-align: top;\n",
                            "    }\n",
                            "\n",
                            "    .dataframe thead th {\n",
                            "        text-align: right;\n",
                            "    }\n",
                            "</style>\n",
                            "<table border=\"1\" class=\"dataframe\">\n",
                            "  <thead>\n",
                            "    <tr style=\"text-align: right;\">\n",
                            "      <th></th>\n",
                            "      <th>recency</th>\n",
                            "      <th>zip_code</th>\n",
                            "      <th>is_referral</th>\n",
                            "      <th>channel</th>\n",
                            "      <th>conversion</th>\n",
                            "      <th>num_item</th>\n",
                            "      <th>total_amount</th>\n",
                            "      <th>avg_price</th>\n",
                            "      <th>count</th>\n",
                            "    </tr>\n",
                            "    <tr>\n",
                            "      <th>id</th>\n",
                            "      <th></th>\n",
                            "      <th></th>\n",
                            "      <th></th>\n",
                            "      <th></th>\n",
                            "      <th></th>\n",
                            "      <th></th>\n",
                            "      <th></th>\n",
                            "      <th></th>\n",
                            "      <th></th>\n",
                            "    </tr>\n",
                            "  </thead>\n",
                            "  <tbody>\n",
                            "    <tr>\n",
                            "      <th>906145</th>\n",
                            "      <td>10</td>\n",
                            "      <td>Surburban</td>\n",
                            "      <td>0</td>\n",
                            "      <td>Phone</td>\n",
                            "      <td>0</td>\n",
                            "      <td>3.333333</td>\n",
                            "      <td>31333.333333</td>\n",
                            "      <td>14016.666667</td>\n",
                            "      <td>3</td>\n",
                            "    </tr>\n",
                            "    <tr>\n",
                            "      <th>184478</th>\n",
                            "      <td>6</td>\n",
                            "      <td>Rural</td>\n",
                            "      <td>1</td>\n",
                            "      <td>Web</td>\n",
                            "      <td>0</td>\n",
                            "      <td>4.000000</td>\n",
                            "      <td>29000.000000</td>\n",
                            "      <td>7250.000000</td>\n",
                            "      <td>1</td>\n",
                            "    </tr>\n",
                            "    <tr>\n",
                            "      <th>394235</th>\n",
                            "      <td>7</td>\n",
                            "      <td>Surburban</td>\n",
                            "      <td>1</td>\n",
                            "      <td>Web</td>\n",
                            "      <td>0</td>\n",
                            "      <td>4.000000</td>\n",
                            "      <td>20500.000000</td>\n",
                            "      <td>5125.000000</td>\n",
                            "      <td>2</td>\n",
                            "    </tr>\n",
                            "    <tr>\n",
                            "      <th>130152</th>\n",
                            "      <td>9</td>\n",
                            "      <td>Rural</td>\n",
                            "      <td>1</td>\n",
                            "      <td>Web</td>\n",
                            "      <td>0</td>\n",
                            "      <td>1.750000</td>\n",
                            "      <td>20750.000000</td>\n",
                            "      <td>14875.000000</td>\n",
                            "      <td>4</td>\n",
                            "    </tr>\n",
                            "    <tr>\n",
                            "      <th>940352</th>\n",
                            "      <td>2</td>\n",
                            "      <td>Urban</td>\n",
                            "      <td>0</td>\n",
                            "      <td>Web</td>\n",
                            "      <td>0</td>\n",
                            "      <td>3.000000</td>\n",
                            "      <td>31000.000000</td>\n",
                            "      <td>10333.333333</td>\n",
                            "      <td>1</td>\n",
                            "    </tr>\n",
                            "    <tr>\n",
                            "      <th>...</th>\n",
                            "      <td>...</td>\n",
                            "      <td>...</td>\n",
                            "      <td>...</td>\n",
                            "      <td>...</td>\n",
                            "      <td>...</td>\n",
                            "      <td>...</td>\n",
                            "      <td>...</td>\n",
                            "      <td>...</td>\n",
                            "      <td>...</td>\n",
                            "    </tr>\n",
                            "    <tr>\n",
                            "      <th>838295</th>\n",
                            "      <td>10</td>\n",
                            "      <td>Urban</td>\n",
                            "      <td>0</td>\n",
                            "      <td>Web</td>\n",
                            "      <td>0</td>\n",
                            "      <td>3.500000</td>\n",
                            "      <td>26000.000000</td>\n",
                            "      <td>8012.500000</td>\n",
                            "      <td>4</td>\n",
                            "    </tr>\n",
                            "    <tr>\n",
                            "      <th>547316</th>\n",
                            "      <td>5</td>\n",
                            "      <td>Urban</td>\n",
                            "      <td>1</td>\n",
                            "      <td>Phone</td>\n",
                            "      <td>0</td>\n",
                            "      <td>1.800000</td>\n",
                            "      <td>17800.000000</td>\n",
                            "      <td>11300.000000</td>\n",
                            "      <td>5</td>\n",
                            "    </tr>\n",
                            "    <tr>\n",
                            "      <th>131575</th>\n",
                            "      <td>6</td>\n",
                            "      <td>Urban</td>\n",
                            "      <td>1</td>\n",
                            "      <td>Phone</td>\n",
                            "      <td>0</td>\n",
                            "      <td>4.000000</td>\n",
                            "      <td>30500.000000</td>\n",
                            "      <td>7833.333333</td>\n",
                            "      <td>2</td>\n",
                            "    </tr>\n",
                            "    <tr>\n",
                            "      <th>603659</th>\n",
                            "      <td>1</td>\n",
                            "      <td>Surburban</td>\n",
                            "      <td>1</td>\n",
                            "      <td>Multichannel</td>\n",
                            "      <td>0</td>\n",
                            "      <td>3.200000</td>\n",
                            "      <td>21600.000000</td>\n",
                            "      <td>7583.333333</td>\n",
                            "      <td>5</td>\n",
                            "    </tr>\n",
                            "    <tr>\n",
                            "      <th>254229</th>\n",
                            "      <td>1</td>\n",
                            "      <td>Surburban</td>\n",
                            "      <td>0</td>\n",
                            "      <td>Web</td>\n",
                            "      <td>0</td>\n",
                            "      <td>3.400000</td>\n",
                            "      <td>24400.000000</td>\n",
                            "      <td>9280.000000</td>\n",
                            "      <td>5</td>\n",
                            "    </tr>\n",
                            "  </tbody>\n",
                            "</table>\n",
                            "<p>64000 rows × 9 columns</p>\n",
                            "</div>"
                        ]
                    },
                    "metadata": {},
                    "execution_count": 26
                }
            ],
            "metadata": {}
        },
        {
            "cell_type": "code",
            "execution_count": 27,
            "source": [
                "data = mem.join(tran_df)"
            ],
            "outputs": [],
            "metadata": {}
        },
        {
            "cell_type": "markdown",
            "source": [
                "## STEP3. Missing Value 확인"
            ],
            "metadata": {}
        },
        {
            "cell_type": "code",
            "execution_count": 28,
            "source": [
                "data.isna().sum() / len(data)"
            ],
            "outputs": [
                {
                    "output_type": "execute_result",
                    "data": {
                        "text/plain": [
                            "recency         0.0\n",
                            "zip_code        0.0\n",
                            "is_referral     0.0\n",
                            "channel         0.0\n",
                            "conversion      0.0\n",
                            "num_item        0.0\n",
                            "total_amount    0.0\n",
                            "avg_price       0.0\n",
                            "count           0.0\n",
                            "dtype: float64"
                        ]
                    },
                    "metadata": {},
                    "execution_count": 28
                }
            ],
            "metadata": {}
        },
        {
            "cell_type": "markdown",
            "source": [
                "## STEP4. 카테고리 데이터 처리"
            ],
            "metadata": {}
        },
        {
            "cell_type": "code",
            "execution_count": 29,
            "source": [
                "data['zip_code'].nunique()"
            ],
            "outputs": [
                {
                    "output_type": "execute_result",
                    "data": {
                        "text/plain": [
                            "3"
                        ]
                    },
                    "metadata": {},
                    "execution_count": 29
                }
            ],
            "metadata": {}
        },
        {
            "cell_type": "code",
            "execution_count": 30,
            "source": [
                "data['zip_code'].unique()"
            ],
            "outputs": [
                {
                    "output_type": "execute_result",
                    "data": {
                        "text/plain": [
                            "array(['Surburban', 'Rural', 'Urban'], dtype=object)"
                        ]
                    },
                    "metadata": {},
                    "execution_count": 30
                }
            ],
            "metadata": {}
        },
        {
            "cell_type": "code",
            "execution_count": 31,
            "source": [
                "data['channel'].nunique()"
            ],
            "outputs": [
                {
                    "output_type": "execute_result",
                    "data": {
                        "text/plain": [
                            "3"
                        ]
                    },
                    "metadata": {},
                    "execution_count": 31
                }
            ],
            "metadata": {}
        },
        {
            "cell_type": "code",
            "execution_count": 32,
            "source": [
                "data['channel'].unique()"
            ],
            "outputs": [
                {
                    "output_type": "execute_result",
                    "data": {
                        "text/plain": [
                            "array(['Phone', 'Web', 'Multichannel'], dtype=object)"
                        ]
                    },
                    "metadata": {},
                    "execution_count": 32
                }
            ],
            "metadata": {}
        },
        {
            "cell_type": "code",
            "execution_count": 33,
            "source": [
                "data = pd.get_dummies(data, columns=['zip_code', 'channel'], drop_first=True)"
            ],
            "outputs": [],
            "metadata": {}
        },
        {
            "cell_type": "code",
            "execution_count": 34,
            "source": [
                "data.head()"
            ],
            "outputs": [
                {
                    "output_type": "execute_result",
                    "data": {
                        "text/plain": [
                            "        recency  is_referral  conversion  num_item  total_amount  \\\n",
                            "id                                                                 \n",
                            "906145       10            0           0  3.333333  31333.333333   \n",
                            "184478        6            1           0  4.000000  29000.000000   \n",
                            "394235        7            1           0  4.000000  20500.000000   \n",
                            "130152        9            1           0  1.750000  20750.000000   \n",
                            "940352        2            0           0  3.000000  31000.000000   \n",
                            "\n",
                            "           avg_price  count  zip_code_Surburban  zip_code_Urban  \\\n",
                            "id                                                                \n",
                            "906145  14016.666667      3                   1               0   \n",
                            "184478   7250.000000      1                   0               0   \n",
                            "394235   5125.000000      2                   1               0   \n",
                            "130152  14875.000000      4                   0               0   \n",
                            "940352  10333.333333      1                   0               1   \n",
                            "\n",
                            "        channel_Phone  channel_Web  \n",
                            "id                                  \n",
                            "906145              1            0  \n",
                            "184478              0            1  \n",
                            "394235              0            1  \n",
                            "130152              0            1  \n",
                            "940352              0            1  "
                        ],
                        "text/html": [
                            "<div>\n",
                            "<style scoped>\n",
                            "    .dataframe tbody tr th:only-of-type {\n",
                            "        vertical-align: middle;\n",
                            "    }\n",
                            "\n",
                            "    .dataframe tbody tr th {\n",
                            "        vertical-align: top;\n",
                            "    }\n",
                            "\n",
                            "    .dataframe thead th {\n",
                            "        text-align: right;\n",
                            "    }\n",
                            "</style>\n",
                            "<table border=\"1\" class=\"dataframe\">\n",
                            "  <thead>\n",
                            "    <tr style=\"text-align: right;\">\n",
                            "      <th></th>\n",
                            "      <th>recency</th>\n",
                            "      <th>is_referral</th>\n",
                            "      <th>conversion</th>\n",
                            "      <th>num_item</th>\n",
                            "      <th>total_amount</th>\n",
                            "      <th>avg_price</th>\n",
                            "      <th>count</th>\n",
                            "      <th>zip_code_Surburban</th>\n",
                            "      <th>zip_code_Urban</th>\n",
                            "      <th>channel_Phone</th>\n",
                            "      <th>channel_Web</th>\n",
                            "    </tr>\n",
                            "    <tr>\n",
                            "      <th>id</th>\n",
                            "      <th></th>\n",
                            "      <th></th>\n",
                            "      <th></th>\n",
                            "      <th></th>\n",
                            "      <th></th>\n",
                            "      <th></th>\n",
                            "      <th></th>\n",
                            "      <th></th>\n",
                            "      <th></th>\n",
                            "      <th></th>\n",
                            "      <th></th>\n",
                            "    </tr>\n",
                            "  </thead>\n",
                            "  <tbody>\n",
                            "    <tr>\n",
                            "      <th>906145</th>\n",
                            "      <td>10</td>\n",
                            "      <td>0</td>\n",
                            "      <td>0</td>\n",
                            "      <td>3.333333</td>\n",
                            "      <td>31333.333333</td>\n",
                            "      <td>14016.666667</td>\n",
                            "      <td>3</td>\n",
                            "      <td>1</td>\n",
                            "      <td>0</td>\n",
                            "      <td>1</td>\n",
                            "      <td>0</td>\n",
                            "    </tr>\n",
                            "    <tr>\n",
                            "      <th>184478</th>\n",
                            "      <td>6</td>\n",
                            "      <td>1</td>\n",
                            "      <td>0</td>\n",
                            "      <td>4.000000</td>\n",
                            "      <td>29000.000000</td>\n",
                            "      <td>7250.000000</td>\n",
                            "      <td>1</td>\n",
                            "      <td>0</td>\n",
                            "      <td>0</td>\n",
                            "      <td>0</td>\n",
                            "      <td>1</td>\n",
                            "    </tr>\n",
                            "    <tr>\n",
                            "      <th>394235</th>\n",
                            "      <td>7</td>\n",
                            "      <td>1</td>\n",
                            "      <td>0</td>\n",
                            "      <td>4.000000</td>\n",
                            "      <td>20500.000000</td>\n",
                            "      <td>5125.000000</td>\n",
                            "      <td>2</td>\n",
                            "      <td>1</td>\n",
                            "      <td>0</td>\n",
                            "      <td>0</td>\n",
                            "      <td>1</td>\n",
                            "    </tr>\n",
                            "    <tr>\n",
                            "      <th>130152</th>\n",
                            "      <td>9</td>\n",
                            "      <td>1</td>\n",
                            "      <td>0</td>\n",
                            "      <td>1.750000</td>\n",
                            "      <td>20750.000000</td>\n",
                            "      <td>14875.000000</td>\n",
                            "      <td>4</td>\n",
                            "      <td>0</td>\n",
                            "      <td>0</td>\n",
                            "      <td>0</td>\n",
                            "      <td>1</td>\n",
                            "    </tr>\n",
                            "    <tr>\n",
                            "      <th>940352</th>\n",
                            "      <td>2</td>\n",
                            "      <td>0</td>\n",
                            "      <td>0</td>\n",
                            "      <td>3.000000</td>\n",
                            "      <td>31000.000000</td>\n",
                            "      <td>10333.333333</td>\n",
                            "      <td>1</td>\n",
                            "      <td>0</td>\n",
                            "      <td>1</td>\n",
                            "      <td>0</td>\n",
                            "      <td>1</td>\n",
                            "    </tr>\n",
                            "  </tbody>\n",
                            "</table>\n",
                            "</div>"
                        ]
                    },
                    "metadata": {},
                    "execution_count": 34
                }
            ],
            "metadata": {}
        },
        {
            "cell_type": "markdown",
            "source": [
                "## STEP5. Random Forest Modeling"
            ],
            "metadata": {}
        },
        {
            "cell_type": "code",
            "execution_count": 35,
            "source": [
                "from sklearn.model_selection import train_test_split\r\n",
                "from sklearn.ensemble import RandomForestClassifier"
            ],
            "outputs": [],
            "metadata": {}
        },
        {
            "cell_type": "code",
            "execution_count": 36,
            "source": [
                "X_train, X_test, y_train, y_test = train_test_split(data.drop('conversion', axis=1), data['conversion'], test_size=0.3, random_state=100)"
            ],
            "outputs": [],
            "metadata": {}
        },
        {
            "cell_type": "code",
            "execution_count": 37,
            "source": [
                "model = RandomForestClassifier(max_depth=10, random_state = 100)\r\n",
                "model.fit(X_train, y_train)"
            ],
            "outputs": [
                {
                    "output_type": "execute_result",
                    "data": {
                        "text/plain": [
                            "RandomForestClassifier(max_depth=10, random_state=100)"
                        ]
                    },
                    "metadata": {},
                    "execution_count": 37
                }
            ],
            "metadata": {}
        },
        {
            "cell_type": "markdown",
            "source": [
                "## STEP6. 예측 및 평가"
            ],
            "metadata": {}
        },
        {
            "cell_type": "code",
            "execution_count": 38,
            "source": [
                "pred = model.predict(X_test)"
            ],
            "outputs": [],
            "metadata": {}
        },
        {
            "cell_type": "code",
            "execution_count": 39,
            "source": [
                "from sklearn.metrics import accuracy_score, confusion_matrix"
            ],
            "outputs": [],
            "metadata": {}
        },
        {
            "cell_type": "code",
            "execution_count": 41,
            "source": [
                "accuracy_score(y_test, pred), confusion_matrix(y_test, pred)"
            ],
            "outputs": [
                {
                    "output_type": "execute_result",
                    "data": {
                        "text/plain": [
                            "(0.87515625,\n",
                            " array([[16403,    60],\n",
                            "        [ 2337,   400]], dtype=int64))"
                        ]
                    },
                    "metadata": {},
                    "execution_count": 41
                }
            ],
            "metadata": {}
        },
        {
            "cell_type": "code",
            "execution_count": 42,
            "source": [
                "from sklearn.metrics import classification_report"
            ],
            "outputs": [],
            "metadata": {}
        },
        {
            "cell_type": "code",
            "execution_count": 43,
            "source": [
                "print(classification_report(y_test, pred))"
            ],
            "outputs": [
                {
                    "output_type": "stream",
                    "name": "stdout",
                    "text": [
                        "              precision    recall  f1-score   support\n",
                        "\n",
                        "           0       0.88      1.00      0.93     16463\n",
                        "           1       0.87      0.15      0.25      2737\n",
                        "\n",
                        "    accuracy                           0.88     19200\n",
                        "   macro avg       0.87      0.57      0.59     19200\n",
                        "weighted avg       0.87      0.88      0.83     19200\n",
                        "\n"
                    ]
                }
            ],
            "metadata": {}
        },
        {
            "cell_type": "markdown",
            "source": [
                "## STEP7. Random Forest Regressor로 확률 예측"
            ],
            "metadata": {}
        },
        {
            "cell_type": "code",
            "execution_count": 44,
            "source": [
                "from sklearn.ensemble import RandomForestRegressor"
            ],
            "outputs": [],
            "metadata": {}
        },
        {
            "cell_type": "code",
            "execution_count": 45,
            "source": [
                "rf = RandomForestRegressor(max_depth=10, random_state=100)"
            ],
            "outputs": [],
            "metadata": {}
        },
        {
            "cell_type": "code",
            "execution_count": 46,
            "source": [
                "rf.fit(X_train, y_train)"
            ],
            "outputs": [
                {
                    "output_type": "execute_result",
                    "data": {
                        "text/plain": [
                            "RandomForestRegressor(max_depth=10, random_state=100)"
                        ]
                    },
                    "metadata": {},
                    "execution_count": 46
                }
            ],
            "metadata": {}
        },
        {
            "cell_type": "code",
            "execution_count": 47,
            "source": [
                "pred = rf.predict(X_test)"
            ],
            "outputs": [],
            "metadata": {}
        },
        {
            "cell_type": "code",
            "execution_count": 48,
            "source": [
                "pred"
            ],
            "outputs": [
                {
                    "output_type": "execute_result",
                    "data": {
                        "text/plain": [
                            "array([0.        , 0.05858361, 0.        , ..., 0.11632305, 0.        ,\n",
                            "       0.05458311])"
                        ]
                    },
                    "metadata": {},
                    "execution_count": 48
                }
            ],
            "metadata": {}
        },
        {
            "cell_type": "markdown",
            "source": [
                "## STEP8. 0~1 사이의 연속형 변수(확률값)를 0과 1로 변환"
            ],
            "metadata": {}
        },
        {
            "cell_type": "code",
            "execution_count": 49,
            "source": [
                "def conv(x):\r\n",
                "    if x >= 0.5:\r\n",
                "         return 1\r\n",
                "    else:\r\n",
                "        return 0"
            ],
            "outputs": [],
            "metadata": {}
        },
        {
            "cell_type": "code",
            "execution_count": 50,
            "source": [
                "pd_result = pd.Series(pred).apply(lambda x: conv(x))"
            ],
            "outputs": [],
            "metadata": {}
        },
        {
            "cell_type": "code",
            "execution_count": 51,
            "source": [
                "pd_result"
            ],
            "outputs": [
                {
                    "output_type": "execute_result",
                    "data": {
                        "text/plain": [
                            "0        0\n",
                            "1        0\n",
                            "2        0\n",
                            "3        1\n",
                            "4        0\n",
                            "        ..\n",
                            "19195    0\n",
                            "19196    0\n",
                            "19197    0\n",
                            "19198    0\n",
                            "19199    0\n",
                            "Length: 19200, dtype: int64"
                        ]
                    },
                    "metadata": {},
                    "execution_count": 51
                }
            ],
            "metadata": {}
        },
        {
            "cell_type": "code",
            "execution_count": 60,
            "source": [
                "result_comp = [1 if x >= 0.15 else 0 for x in pred]"
            ],
            "outputs": [],
            "metadata": {}
        },
        {
            "cell_type": "code",
            "execution_count": null,
            "source": [
                "result_comp"
            ],
            "outputs": [],
            "metadata": {}
        },
        {
            "cell_type": "code",
            "execution_count": 61,
            "source": [
                "accuracy_score(y_test, result_comp)"
            ],
            "outputs": [
                {
                    "output_type": "execute_result",
                    "data": {
                        "text/plain": [
                            "0.70078125"
                        ]
                    },
                    "metadata": {},
                    "execution_count": 61
                }
            ],
            "metadata": {}
        },
        {
            "cell_type": "code",
            "execution_count": 56,
            "source": [
                "print(classification_report(y_test, result_comp))"
            ],
            "outputs": [
                {
                    "output_type": "stream",
                    "name": "stdout",
                    "text": [
                        "              precision    recall  f1-score   support\n",
                        "\n",
                        "           0       0.88      0.99      0.93     16463\n",
                        "           1       0.80      0.21      0.34      2737\n",
                        "\n",
                        "    accuracy                           0.88     19200\n",
                        "   macro avg       0.84      0.60      0.63     19200\n",
                        "weighted avg       0.87      0.88      0.85     19200\n",
                        "\n"
                    ]
                }
            ],
            "metadata": {}
        },
        {
            "cell_type": "code",
            "execution_count": 62,
            "source": [
                "print(classification_report(y_test, result_comp))"
            ],
            "outputs": [
                {
                    "output_type": "stream",
                    "name": "stdout",
                    "text": [
                        "              precision    recall  f1-score   support\n",
                        "\n",
                        "           0       0.93      0.70      0.80     16463\n",
                        "           1       0.28      0.69      0.40      2737\n",
                        "\n",
                        "    accuracy                           0.70     19200\n",
                        "   macro avg       0.61      0.70      0.60     19200\n",
                        "weighted avg       0.84      0.70      0.74     19200\n",
                        "\n"
                    ]
                }
            ],
            "metadata": {}
        },
        {
            "cell_type": "markdown",
            "source": [
                "## STEP9. 변수 중요성(Feature importances)"
            ],
            "metadata": {}
        },
        {
            "cell_type": "code",
            "execution_count": 63,
            "source": [
                "rf.feature_importances_"
            ],
            "outputs": [
                {
                    "output_type": "execute_result",
                    "data": {
                        "text/plain": [
                            "array([0.04990395, 0.02138491, 0.37591972, 0.1396865 , 0.23017582,\n",
                            "       0.16508618, 0.00303231, 0.00371579, 0.00697822, 0.0041166 ])"
                        ]
                    },
                    "metadata": {},
                    "execution_count": 63
                }
            ],
            "metadata": {}
        },
        {
            "cell_type": "code",
            "execution_count": 64,
            "source": [
                "X_train.columns"
            ],
            "outputs": [
                {
                    "output_type": "execute_result",
                    "data": {
                        "text/plain": [
                            "Index(['recency', 'is_referral', 'num_item', 'total_amount', 'avg_price',\n",
                            "       'count', 'zip_code_Surburban', 'zip_code_Urban', 'channel_Phone',\n",
                            "       'channel_Web'],\n",
                            "      dtype='object')"
                        ]
                    },
                    "metadata": {},
                    "execution_count": 64
                }
            ],
            "metadata": {}
        },
        {
            "cell_type": "code",
            "execution_count": 65,
            "source": [
                "plt.figure(figsize=(20, 15))\r\n",
                "sns.barplot(x = X_train.columns, y = rf.feature_importances_)"
            ],
            "outputs": [
                {
                    "output_type": "execute_result",
                    "data": {
                        "text/plain": [
                            "<AxesSubplot:>"
                        ]
                    },
                    "metadata": {},
                    "execution_count": 65
                },
                {
                    "output_type": "display_data",
                    "data": {
                        "text/plain": [
                            "<Figure size 1440x1080 with 1 Axes>"
                        ],
                        "image/png": "[encoded data removed]"
                    },
                    "metadata": {
                        "needs_background": "light"
                    }
                }
            ],
            "metadata": {}
        }
    ],
    "metadata": {
        "orig_nbformat": 4,
        "language_info": {
            "name": "python"
        }
    },
    "nbformat": 4,
    "nbformat_minor": 2
}