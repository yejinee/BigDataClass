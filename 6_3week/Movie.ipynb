{
 "metadata": {
  "language_info": {
   "codemirror_mode": {
    "name": "ipython",
    "version": 3
   },
   "file_extension": ".py",
   "mimetype": "text/x-python",
   "name": "python",
   "nbconvert_exporter": "python",
   "pygments_lexer": "ipython3",
   "version": "3.7.4"
  },
  "orig_nbformat": 4,
  "kernelspec": {
   "name": "python3",
   "display_name": "Python 3.7.4 64-bit ('base': conda)"
  },
  "interpreter": {
   "hash": "aad7fa43305c5ed1fb127d263f3083b3588cd5af60f171b45496a79879bf8414"
  }
 },
 "nbformat": 4,
 "nbformat_minor": 2,
 "cells": [
  {
   "source": [
    "# 천문 영화 크롤링하기"
   ],
   "cell_type": "markdown",
   "metadata": {}
  },
  {
   "cell_type": "code",
   "execution_count": 82,
   "metadata": {},
   "outputs": [],
   "source": [
    "import pandas as pd\n",
    "from selenium import webdriver\n",
    "from bs4 import BeautifulSoup\n",
    "import time"
   ]
  },
  {
   "cell_type": "code",
   "execution_count": 76,
   "metadata": {},
   "outputs": [],
   "source": [
    "driver = webdriver.Chrome('C:/Users/admin/realproject/chromedriver.exe')"
   ]
  },
  {
   "cell_type": "code",
   "execution_count": 77,
   "metadata": {},
   "outputs": [],
   "source": [
    "base=\"https://movie.naver.com/movie/bi/mi/pointWriteFormList.nhn?code=181381&type=after&isActualPointWriteExecute=false&isMileageSubscriptionAlready=false&isMileageSubscriptionReject=false&page=\"\n",
    "page_num  = 1\n",
    "pageid=\"pagerTagAnchor\""
   ]
  },
  {
   "cell_type": "code",
   "execution_count": 78,
   "metadata": {},
   "outputs": [
    {
     "output_type": "execute_result",
     "data": {
      "text/plain": [
       "Empty DataFrame\n",
       "Columns: [review, id, date, score]\n",
       "Index: []"
      ],
      "text/html": "<div>\n<style scoped>\n    .dataframe tbody tr th:only-of-type {\n        vertical-align: middle;\n    }\n\n    .dataframe tbody tr th {\n        vertical-align: top;\n    }\n\n    .dataframe thead th {\n        text-align: right;\n    }\n</style>\n<table border=\"1\" class=\"dataframe\">\n  <thead>\n    <tr style=\"text-align: right;\">\n      <th></th>\n      <th>review</th>\n      <th>id</th>\n      <th>date</th>\n      <th>score</th>\n    </tr>\n  </thead>\n  <tbody>\n  </tbody>\n</table>\n</div>"
     },
     "metadata": {},
     "execution_count": 78
    }
   ],
   "source": [
    "movie=pd.DataFrame(columns=['review','id','date','score'])\n",
    "movie"
   ]
  },
  {
   "cell_type": "code",
   "execution_count": 79,
   "metadata": {},
   "outputs": [
    {
     "output_type": "error",
     "ename": "NoSuchElementException",
     "evalue": "Message: no such element: Unable to locate element: {\"method\":\"css selector\",\"selector\":\"body > div > div > div.score_result > ul > li:nth-child(4) > div.score_reple > dl > dt > em:nth-child(1) > a > span\"}\n  (Session info: chrome=91.0.4472.77)\n",
     "traceback": [
      "\u001b[1;31m---------------------------------------------------------------------------\u001b[0m",
      "\u001b[1;31mNoSuchElementException\u001b[0m                    Traceback (most recent call last)",
      "\u001b[1;32m<ipython-input-79-2a10566a9646>\u001b[0m in \u001b[0;36m<module>\u001b[1;34m\u001b[0m\n\u001b[0;32m      7\u001b[0m         \u001b[1;31m# id\u001b[0m\u001b[1;33m\u001b[0m\u001b[1;33m\u001b[0m\u001b[1;33m\u001b[0m\u001b[0m\n\u001b[0;32m      8\u001b[0m         \u001b[0mclient\u001b[0m\u001b[1;33m=\u001b[0m\u001b[1;34m'body > div > div > div.score_result > ul > li:nth-child('\u001b[0m\u001b[1;33m+\u001b[0m\u001b[0mstr\u001b[0m\u001b[1;33m(\u001b[0m\u001b[0mn\u001b[0m\u001b[1;33m+\u001b[0m\u001b[1;36m1\u001b[0m\u001b[1;33m)\u001b[0m\u001b[1;33m+\u001b[0m\u001b[1;34m') > div.score_reple > dl > dt > em:nth-child(1) > a > span'\u001b[0m\u001b[1;33m\u001b[0m\u001b[1;33m\u001b[0m\u001b[0m\n\u001b[1;32m----> 9\u001b[1;33m         \u001b[0mpid\u001b[0m\u001b[1;33m=\u001b[0m\u001b[0mdriver\u001b[0m\u001b[1;33m.\u001b[0m\u001b[0mfind_element_by_css_selector\u001b[0m\u001b[1;33m(\u001b[0m\u001b[0mclient\u001b[0m\u001b[1;33m)\u001b[0m\u001b[1;33m.\u001b[0m\u001b[0mtext\u001b[0m\u001b[1;33m\u001b[0m\u001b[1;33m\u001b[0m\u001b[0m\n\u001b[0m\u001b[0;32m     10\u001b[0m         \u001b[1;31m# date\u001b[0m\u001b[1;33m\u001b[0m\u001b[1;33m\u001b[0m\u001b[1;33m\u001b[0m\u001b[0m\n\u001b[0;32m     11\u001b[0m         \u001b[0mday\u001b[0m\u001b[1;33m=\u001b[0m\u001b[1;34m'body > div > div > div.score_result > ul > li:nth-child('\u001b[0m\u001b[1;33m+\u001b[0m\u001b[0mstr\u001b[0m\u001b[1;33m(\u001b[0m\u001b[0mn\u001b[0m\u001b[1;33m+\u001b[0m\u001b[1;36m1\u001b[0m\u001b[1;33m)\u001b[0m\u001b[1;33m+\u001b[0m\u001b[1;34m') > div.score_reple > dl > dt > em:nth-child(2)'\u001b[0m\u001b[1;33m\u001b[0m\u001b[1;33m\u001b[0m\u001b[0m\n",
      "\u001b[1;32m~\\Anaconda3\\lib\\site-packages\\selenium\\webdriver\\remote\\webdriver.py\u001b[0m in \u001b[0;36mfind_element_by_css_selector\u001b[1;34m(self, css_selector)\u001b[0m\n\u001b[0;32m    596\u001b[0m             \u001b[0melement\u001b[0m \u001b[1;33m=\u001b[0m \u001b[0mdriver\u001b[0m\u001b[1;33m.\u001b[0m\u001b[0mfind_element_by_css_selector\u001b[0m\u001b[1;33m(\u001b[0m\u001b[1;34m'#foo'\u001b[0m\u001b[1;33m)\u001b[0m\u001b[1;33m\u001b[0m\u001b[1;33m\u001b[0m\u001b[0m\n\u001b[0;32m    597\u001b[0m         \"\"\"\n\u001b[1;32m--> 598\u001b[1;33m         \u001b[1;32mreturn\u001b[0m \u001b[0mself\u001b[0m\u001b[1;33m.\u001b[0m\u001b[0mfind_element\u001b[0m\u001b[1;33m(\u001b[0m\u001b[0mby\u001b[0m\u001b[1;33m=\u001b[0m\u001b[0mBy\u001b[0m\u001b[1;33m.\u001b[0m\u001b[0mCSS_SELECTOR\u001b[0m\u001b[1;33m,\u001b[0m \u001b[0mvalue\u001b[0m\u001b[1;33m=\u001b[0m\u001b[0mcss_selector\u001b[0m\u001b[1;33m)\u001b[0m\u001b[1;33m\u001b[0m\u001b[1;33m\u001b[0m\u001b[0m\n\u001b[0m\u001b[0;32m    599\u001b[0m \u001b[1;33m\u001b[0m\u001b[0m\n\u001b[0;32m    600\u001b[0m     \u001b[1;32mdef\u001b[0m \u001b[0mfind_elements_by_css_selector\u001b[0m\u001b[1;33m(\u001b[0m\u001b[0mself\u001b[0m\u001b[1;33m,\u001b[0m \u001b[0mcss_selector\u001b[0m\u001b[1;33m)\u001b[0m\u001b[1;33m:\u001b[0m\u001b[1;33m\u001b[0m\u001b[1;33m\u001b[0m\u001b[0m\n",
      "\u001b[1;32m~\\Anaconda3\\lib\\site-packages\\selenium\\webdriver\\remote\\webdriver.py\u001b[0m in \u001b[0;36mfind_element\u001b[1;34m(self, by, value)\u001b[0m\n\u001b[0;32m    976\u001b[0m         return self.execute(Command.FIND_ELEMENT, {\n\u001b[0;32m    977\u001b[0m             \u001b[1;34m'using'\u001b[0m\u001b[1;33m:\u001b[0m \u001b[0mby\u001b[0m\u001b[1;33m,\u001b[0m\u001b[1;33m\u001b[0m\u001b[1;33m\u001b[0m\u001b[0m\n\u001b[1;32m--> 978\u001b[1;33m             'value': value})['value']\n\u001b[0m\u001b[0;32m    979\u001b[0m \u001b[1;33m\u001b[0m\u001b[0m\n\u001b[0;32m    980\u001b[0m     \u001b[1;32mdef\u001b[0m \u001b[0mfind_elements\u001b[0m\u001b[1;33m(\u001b[0m\u001b[0mself\u001b[0m\u001b[1;33m,\u001b[0m \u001b[0mby\u001b[0m\u001b[1;33m=\u001b[0m\u001b[0mBy\u001b[0m\u001b[1;33m.\u001b[0m\u001b[0mID\u001b[0m\u001b[1;33m,\u001b[0m \u001b[0mvalue\u001b[0m\u001b[1;33m=\u001b[0m\u001b[1;32mNone\u001b[0m\u001b[1;33m)\u001b[0m\u001b[1;33m:\u001b[0m\u001b[1;33m\u001b[0m\u001b[1;33m\u001b[0m\u001b[0m\n",
      "\u001b[1;32m~\\Anaconda3\\lib\\site-packages\\selenium\\webdriver\\remote\\webdriver.py\u001b[0m in \u001b[0;36mexecute\u001b[1;34m(self, driver_command, params)\u001b[0m\n\u001b[0;32m    319\u001b[0m         \u001b[0mresponse\u001b[0m \u001b[1;33m=\u001b[0m \u001b[0mself\u001b[0m\u001b[1;33m.\u001b[0m\u001b[0mcommand_executor\u001b[0m\u001b[1;33m.\u001b[0m\u001b[0mexecute\u001b[0m\u001b[1;33m(\u001b[0m\u001b[0mdriver_command\u001b[0m\u001b[1;33m,\u001b[0m \u001b[0mparams\u001b[0m\u001b[1;33m)\u001b[0m\u001b[1;33m\u001b[0m\u001b[1;33m\u001b[0m\u001b[0m\n\u001b[0;32m    320\u001b[0m         \u001b[1;32mif\u001b[0m \u001b[0mresponse\u001b[0m\u001b[1;33m:\u001b[0m\u001b[1;33m\u001b[0m\u001b[1;33m\u001b[0m\u001b[0m\n\u001b[1;32m--> 321\u001b[1;33m             \u001b[0mself\u001b[0m\u001b[1;33m.\u001b[0m\u001b[0merror_handler\u001b[0m\u001b[1;33m.\u001b[0m\u001b[0mcheck_response\u001b[0m\u001b[1;33m(\u001b[0m\u001b[0mresponse\u001b[0m\u001b[1;33m)\u001b[0m\u001b[1;33m\u001b[0m\u001b[1;33m\u001b[0m\u001b[0m\n\u001b[0m\u001b[0;32m    322\u001b[0m             response['value'] = self._unwrap_value(\n\u001b[0;32m    323\u001b[0m                 response.get('value', None))\n",
      "\u001b[1;32m~\\Anaconda3\\lib\\site-packages\\selenium\\webdriver\\remote\\errorhandler.py\u001b[0m in \u001b[0;36mcheck_response\u001b[1;34m(self, response)\u001b[0m\n\u001b[0;32m    240\u001b[0m                 \u001b[0malert_text\u001b[0m \u001b[1;33m=\u001b[0m \u001b[0mvalue\u001b[0m\u001b[1;33m[\u001b[0m\u001b[1;34m'alert'\u001b[0m\u001b[1;33m]\u001b[0m\u001b[1;33m.\u001b[0m\u001b[0mget\u001b[0m\u001b[1;33m(\u001b[0m\u001b[1;34m'text'\u001b[0m\u001b[1;33m)\u001b[0m\u001b[1;33m\u001b[0m\u001b[1;33m\u001b[0m\u001b[0m\n\u001b[0;32m    241\u001b[0m             \u001b[1;32mraise\u001b[0m \u001b[0mexception_class\u001b[0m\u001b[1;33m(\u001b[0m\u001b[0mmessage\u001b[0m\u001b[1;33m,\u001b[0m \u001b[0mscreen\u001b[0m\u001b[1;33m,\u001b[0m \u001b[0mstacktrace\u001b[0m\u001b[1;33m,\u001b[0m \u001b[0malert_text\u001b[0m\u001b[1;33m)\u001b[0m\u001b[1;33m\u001b[0m\u001b[1;33m\u001b[0m\u001b[0m\n\u001b[1;32m--> 242\u001b[1;33m         \u001b[1;32mraise\u001b[0m \u001b[0mexception_class\u001b[0m\u001b[1;33m(\u001b[0m\u001b[0mmessage\u001b[0m\u001b[1;33m,\u001b[0m \u001b[0mscreen\u001b[0m\u001b[1;33m,\u001b[0m \u001b[0mstacktrace\u001b[0m\u001b[1;33m)\u001b[0m\u001b[1;33m\u001b[0m\u001b[1;33m\u001b[0m\u001b[0m\n\u001b[0m\u001b[0;32m    243\u001b[0m \u001b[1;33m\u001b[0m\u001b[0m\n\u001b[0;32m    244\u001b[0m     \u001b[1;32mdef\u001b[0m \u001b[0m_value_or_default\u001b[0m\u001b[1;33m(\u001b[0m\u001b[0mself\u001b[0m\u001b[1;33m,\u001b[0m \u001b[0mobj\u001b[0m\u001b[1;33m,\u001b[0m \u001b[0mkey\u001b[0m\u001b[1;33m,\u001b[0m \u001b[0mdefault\u001b[0m\u001b[1;33m)\u001b[0m\u001b[1;33m:\u001b[0m\u001b[1;33m\u001b[0m\u001b[1;33m\u001b[0m\u001b[0m\n",
      "\u001b[1;31mNoSuchElementException\u001b[0m: Message: no such element: Unable to locate element: {\"method\":\"css selector\",\"selector\":\"body > div > div > div.score_result > ul > li:nth-child(4) > div.score_reple > dl > dt > em:nth-child(1) > a > span\"}\n  (Session info: chrome=91.0.4472.77)\n"
     ]
    }
   ],
   "source": [
    "\n",
    "while True:\n",
    "    url=base+str(page_num)\n",
    "    driver.get(url)\n",
    "    buttonid=pageid+str(page_num)\n",
    "    # review,id,date,score,like,dislike\n",
    "    for n in range(10):\n",
    "        # id\n",
    "        client='body > div > div > div.score_result > ul > li:nth-child('+str(n+1)+') > div.score_reple > dl > dt > em:nth-child(1) > a > span'\n",
    "        pid=driver.find_element_by_css_selector(client).text\n",
    "        # date\n",
    "        day='body > div > div > div.score_result > ul > li:nth-child('+str(n+1)+') > div.score_reple > dl > dt > em:nth-child(2)'\n",
    "        date=driver.find_element_by_css_selector(day).text\n",
    "        \n",
    "        \n",
    "        # review\n",
    "        commentid=\"_filtered_ment_\"+str(n)\n",
    "        comment=driver.find_element_by_id(commentid).text\n",
    "        # 별점\n",
    "        slink='body > div > div > div.score_result > ul > li:nth-child('+str(n+1)+') > div.star_score > em'\n",
    "        score=driver.find_element_by_css_selector(slink).text\n",
    "\n",
    "        #print(comment,pid,date,score)\n",
    "        movie=movie.append({'review':comment,'id': pid,'date':date,'score': score}, ignore_index=True)\n",
    "\n",
    "    page_num+=1\n"
   ]
  },
  {
   "cell_type": "code",
   "execution_count": 80,
   "metadata": {},
   "outputs": [
    {
     "output_type": "execute_result",
     "data": {
      "text/plain": [
       "                                                  review                id  \\\n",
       "0      한석규의 세종은 어떻게 해야 저런 연기가 가능한지 의문을 남긴다. 세종대왕 연기의 ...    Neuj(trym****)   \n",
       "1      천문, 천만될 가능성이 높습니다.다만 백두산에 상영관 밀리는 게 아쉽네요.정말 재미...    해바라기(assu****)   \n",
       "2      최민식과 한석규라를 두 배우만으로도 볼 이유가 충분했던 영화지만, 역사 책에서 볼 ...          goo1****   \n",
       "3         백두산에서 온 알바들아~~평점테러 하지마라!! 백두산에 비하면 천문은 에레스트급이다      태태(atta****)   \n",
       "4                                      간만에 본 대작입니다. 꼭보세요    쓰리디짱(ykjh****)   \n",
       "...                                                  ...               ...   \n",
       "12458                             생각보다 좀 허술한 구성. 연기력은 출중          trus****   \n",
       "12459                                   머그냥저냥볼만함그래도나쁘지않음     이정진(khmw****)   \n",
       "12460  약간 지루해서 내용이 기억이 잘 안나요.내용이 영화에서 본건지 꿈에서 본건지 애들 ...    Jess(giss****)   \n",
       "12461  세종대왕과 장영실이라는 훌륭한 소재로 이렇게 재미없게 영화를 만들 수 있다니 놀랍습...  maxkim(maxk****)   \n",
       "12462                                  어색한 브로맨스 질질끄는 지루함     Yim(kawa****)   \n",
       "\n",
       "                   date score  \n",
       "0      2019.12.26 09:19     9  \n",
       "1      2019.12.26 09:14    10  \n",
       "2      2019.12.26 10:37    10  \n",
       "3      2019.12.26 10:25    10  \n",
       "4      2019.12.26 09:26    10  \n",
       "...                 ...   ...  \n",
       "12458  2020.03.05 16:23     6  \n",
       "12459  2020.03.06 12:01     6  \n",
       "12460  2020.03.05 07:39     6  \n",
       "12461  2020.02.29 13:27     4  \n",
       "12462  2020.02.28 20:33     2  \n",
       "\n",
       "[12463 rows x 4 columns]"
      ],
      "text/html": "<div>\n<style scoped>\n    .dataframe tbody tr th:only-of-type {\n        vertical-align: middle;\n    }\n\n    .dataframe tbody tr th {\n        vertical-align: top;\n    }\n\n    .dataframe thead th {\n        text-align: right;\n    }\n</style>\n<table border=\"1\" class=\"dataframe\">\n  <thead>\n    <tr style=\"text-align: right;\">\n      <th></th>\n      <th>review</th>\n      <th>id</th>\n      <th>date</th>\n      <th>score</th>\n    </tr>\n  </thead>\n  <tbody>\n    <tr>\n      <td>0</td>\n      <td>한석규의 세종은 어떻게 해야 저런 연기가 가능한지 의문을 남긴다. 세종대왕 연기의 ...</td>\n      <td>Neuj(trym****)</td>\n      <td>2019.12.26 09:19</td>\n      <td>9</td>\n    </tr>\n    <tr>\n      <td>1</td>\n      <td>천문, 천만될 가능성이 높습니다.다만 백두산에 상영관 밀리는 게 아쉽네요.정말 재미...</td>\n      <td>해바라기(assu****)</td>\n      <td>2019.12.26 09:14</td>\n      <td>10</td>\n    </tr>\n    <tr>\n      <td>2</td>\n      <td>최민식과 한석규라를 두 배우만으로도 볼 이유가 충분했던 영화지만, 역사 책에서 볼 ...</td>\n      <td>goo1****</td>\n      <td>2019.12.26 10:37</td>\n      <td>10</td>\n    </tr>\n    <tr>\n      <td>3</td>\n      <td>백두산에서 온 알바들아~~평점테러 하지마라!! 백두산에 비하면 천문은 에레스트급이다</td>\n      <td>태태(atta****)</td>\n      <td>2019.12.26 10:25</td>\n      <td>10</td>\n    </tr>\n    <tr>\n      <td>4</td>\n      <td>간만에 본 대작입니다. 꼭보세요</td>\n      <td>쓰리디짱(ykjh****)</td>\n      <td>2019.12.26 09:26</td>\n      <td>10</td>\n    </tr>\n    <tr>\n      <td>...</td>\n      <td>...</td>\n      <td>...</td>\n      <td>...</td>\n      <td>...</td>\n    </tr>\n    <tr>\n      <td>12458</td>\n      <td>생각보다 좀 허술한 구성. 연기력은 출중</td>\n      <td>trus****</td>\n      <td>2020.03.05 16:23</td>\n      <td>6</td>\n    </tr>\n    <tr>\n      <td>12459</td>\n      <td>머그냥저냥볼만함그래도나쁘지않음</td>\n      <td>이정진(khmw****)</td>\n      <td>2020.03.06 12:01</td>\n      <td>6</td>\n    </tr>\n    <tr>\n      <td>12460</td>\n      <td>약간 지루해서 내용이 기억이 잘 안나요.내용이 영화에서 본건지 꿈에서 본건지 애들 ...</td>\n      <td>Jess(giss****)</td>\n      <td>2020.03.05 07:39</td>\n      <td>6</td>\n    </tr>\n    <tr>\n      <td>12461</td>\n      <td>세종대왕과 장영실이라는 훌륭한 소재로 이렇게 재미없게 영화를 만들 수 있다니 놀랍습...</td>\n      <td>maxkim(maxk****)</td>\n      <td>2020.02.29 13:27</td>\n      <td>4</td>\n    </tr>\n    <tr>\n      <td>12462</td>\n      <td>어색한 브로맨스 질질끄는 지루함</td>\n      <td>Yim(kawa****)</td>\n      <td>2020.02.28 20:33</td>\n      <td>2</td>\n    </tr>\n  </tbody>\n</table>\n<p>12463 rows × 4 columns</p>\n</div>"
     },
     "metadata": {},
     "execution_count": 80
    }
   ],
   "source": [
    "movie"
   ]
  },
  {
   "cell_type": "code",
   "execution_count": 81,
   "metadata": {},
   "outputs": [],
   "source": [
    "movie.to_csv(\"moviedata.csv\", mode='w')"
   ]
  },
  {
   "cell_type": "code",
   "execution_count": null,
   "metadata": {},
   "outputs": [],
   "source": []
  }
 ]
}