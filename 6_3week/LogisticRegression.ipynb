{
 "metadata": {
  "language_info": {
   "codemirror_mode": {
    "name": "ipython",
    "version": 3
   },
   "file_extension": ".py",
   "mimetype": "text/x-python",
   "name": "python",
   "nbconvert_exporter": "python",
   "pygments_lexer": "ipython3",
   "version": "3.7.4"
  },
  "orig_nbformat": 4,
  "kernelspec": {
   "name": "python3",
   "display_name": "Python 3.7.4 64-bit ('base': conda)"
  },
  "interpreter": {
   "hash": "aad7fa43305c5ed1fb127d263f3083b3588cd5af60f171b45496a79879bf8414"
  }
 },
 "nbformat": 4,
 "nbformat_minor": 2,
 "cells": [
  {
   "source": [
    "# 2.1 Logistic Regression\n",
    "- Parameter C를 조정해 과대적합 혹은 과소적합 문제를 해결\n",
    "- C (cost function)값이 크면 (높은 cost) -> 훈련을 더 복잡하게 -> 약한 규제 -> 과대적합\n",
    "- C 값이 작으면 (낮은 cost) -> 훈련을 덜 복잡하게 -> 강한 규제 -> 과소적합"
   ],
   "cell_type": "markdown",
   "metadata": {}
  },
  {
   "cell_type": "code",
   "execution_count": 1,
   "metadata": {},
   "outputs": [
    {
     "output_type": "stream",
     "name": "stderr",
     "text": [
      "C:\\Users\\admin\\Anaconda3\\lib\\importlib\\_bootstrap.py:219: RuntimeWarning: numpy.ufunc size changed, may indicate binary incompatibility. Expected 192 from C header, got 216 from PyObject\n",
      "  return f(*args, **kwds)\n",
      "C:\\Users\\admin\\Anaconda3\\lib\\importlib\\_bootstrap.py:219: RuntimeWarning: numpy.ufunc size changed, may indicate binary incompatibility. Expected 192 from C header, got 216 from PyObject\n",
      "  return f(*args, **kwds)\n"
     ]
    }
   ],
   "source": [
    "from sklearn.linear_model import LogisticRegression\n",
    "from sklearn import datasets\n",
    "from sklearn.model_selection import train_test_split\n",
    "import matplotlib.pyplot as plt\n",
    "import numpy as np\n",
    "import pandas as pd"
   ]
  },
  {
   "cell_type": "code",
   "execution_count": 2,
   "metadata": {},
   "outputs": [],
   "source": [
    "iris=datasets.load_iris()"
   ]
  },
  {
   "cell_type": "code",
   "execution_count": 4,
   "metadata": {},
   "outputs": [],
   "source": [
    "# data 분할 (이항분류를 위해)\n",
    "X=iris.data[50:,:]\n",
    "y=iris.target[50:]\n",
    "X_train, X_test, y_train, y_test=train_test_split(X,y,test_size=0.3, random_state=58)"
   ]
  },
  {
   "cell_type": "code",
   "execution_count": 5,
   "metadata": {},
   "outputs": [
    {
     "output_type": "execute_result",
     "data": {
      "text/plain": [
       "(70, 4)"
      ]
     },
     "metadata": {},
     "execution_count": 5
    }
   ],
   "source": [
    "X_train.shape"
   ]
  },
  {
   "cell_type": "code",
   "execution_count": 6,
   "metadata": {},
   "outputs": [
    {
     "output_type": "stream",
     "name": "stderr",
     "text": [
      "C:\\Users\\admin\\Anaconda3\\lib\\site-packages\\sklearn\\linear_model\\logistic.py:432: FutureWarning: Default solver will be changed to 'lbfgs' in 0.22. Specify a solver to silence this warning.\n  FutureWarning)\n"
     ]
    }
   ],
   "source": [
    "# Modeling\n",
    "logreg=LogisticRegression().fit(X_train,y_train)"
   ]
  },
  {
   "cell_type": "code",
   "execution_count": 7,
   "metadata": {},
   "outputs": [
    {
     "output_type": "execute_result",
     "data": {
      "text/plain": [
       "0.9857142857142858"
      ]
     },
     "metadata": {},
     "execution_count": 7
    }
   ],
   "source": [
    "logreg.score(X_train,y_train)"
   ]
  },
  {
   "cell_type": "code",
   "execution_count": 8,
   "metadata": {},
   "outputs": [
    {
     "output_type": "execute_result",
     "data": {
      "text/plain": [
       "0.9333333333333333"
      ]
     },
     "metadata": {},
     "execution_count": 8
    }
   ],
   "source": [
    "logreg.score(X_test,y_test)"
   ]
  },
  {
   "cell_type": "code",
   "execution_count": 23,
   "metadata": {},
   "outputs": [
    {
     "output_type": "execute_result",
     "data": {
      "text/plain": [
       "LogisticRegression(C=0.01, class_weight=None, dual=False, fit_intercept=True,\n",
       "                   intercept_scaling=1, l1_ratio=None, max_iter=100,\n",
       "                   multi_class='warn', n_jobs=None, penalty='l2',\n",
       "                   random_state=None, solver='lbfgs', tol=0.0001, verbose=0,\n",
       "                   warm_start=False)"
      ]
     },
     "metadata": {},
     "execution_count": 23
    }
   ],
   "source": [
    "# parameter tuning\n",
    "logreg001=LogisticRegression(solver='lbfgs', C=0.01).fit(X_train,y_train)\n",
    "logreg001"
   ]
  },
  {
   "cell_type": "code",
   "execution_count": 24,
   "metadata": {},
   "outputs": [
    {
     "output_type": "execute_result",
     "data": {
      "text/plain": [
       "LogisticRegression(C=100, class_weight=None, dual=False, fit_intercept=True,\n",
       "                   intercept_scaling=1, l1_ratio=None, max_iter=100,\n",
       "                   multi_class='warn', n_jobs=None, penalty='l2',\n",
       "                   random_state=None, solver='lbfgs', tol=0.0001, verbose=0,\n",
       "                   warm_start=False)"
      ]
     },
     "metadata": {},
     "execution_count": 24
    }
   ],
   "source": [
    "# parameter tuning\n",
    "logreg100=LogisticRegression(solver='lbfgs', C=100).fit(X_train,y_train)\n",
    "logreg100"
   ]
  },
  {
   "cell_type": "code",
   "execution_count": 25,
   "metadata": {},
   "outputs": [
    {
     "output_type": "stream",
     "name": "stdout",
     "text": [
      "train set score 0.9142857142857143\ntest set score 0.9\n"
     ]
    }
   ],
   "source": [
    "# 결과 비교 \n",
    "print(\"train set score\",logreg001.score(X_train,y_train))\n",
    "print(\"test set score\", logreg001.score(X_test,y_test))"
   ]
  },
  {
   "cell_type": "code",
   "execution_count": 26,
   "metadata": {},
   "outputs": [
    {
     "output_type": "stream",
     "name": "stdout",
     "text": [
      "train set score 0.9857142857142858\ntest set score 0.9\n"
     ]
    }
   ],
   "source": [
    "# 결과 비교 \n",
    "print(\"train set score\",logreg100.score(X_train,y_train))\n",
    "print(\"test set score\", logreg100.score(X_test,y_test))"
   ]
  },
  {
   "source": [
    "## 역으로 계산해서 predict_proba()와 비교"
   ],
   "cell_type": "markdown",
   "metadata": {}
  },
  {
   "cell_type": "code",
   "execution_count": 16,
   "metadata": {},
   "outputs": [
    {
     "output_type": "execute_result",
     "data": {
      "text/plain": [
       "array([[-1.51169047, -1.34432386,  2.12855352,  2.31350688]])"
      ]
     },
     "metadata": {},
     "execution_count": 16
    }
   ],
   "source": [
    "logreg.coef_ # iris data의 4개의 feature에 대한 회귀 계수 "
   ]
  },
  {
   "cell_type": "code",
   "execution_count": 17,
   "metadata": {},
   "outputs": [
    {
     "output_type": "execute_result",
     "data": {
      "text/plain": [
       "array([ -7.55845235, -10.12832615,  -9.97715711,  -8.31429759,\n",
       "       -10.43066425,  -8.61663568,  -9.07014282, -10.12832615,\n",
       "        -9.52364996,  -9.82598806,  -8.91897378,  -8.76780473,\n",
       "       -11.94235472,  -9.52364996,  -7.40728331,  -8.31429759,\n",
       "        -9.37248092,  -9.82598806,  -8.76780473,  -9.52364996,\n",
       "        -8.46546664, -10.88417139, -10.2794952 , -10.12832615,\n",
       "        -9.52364996,  -9.67481901,  -9.52364996,  -8.46546664,\n",
       "        -7.40728331, -11.03534044])"
      ]
     },
     "metadata": {},
     "execution_count": 17
    }
   ],
   "source": [
    "logreg.coef_[0][0]*X_test[:,0]"
   ]
  },
  {
   "cell_type": "code",
   "execution_count": 20,
   "metadata": {},
   "outputs": [],
   "source": [
    "ans= logreg.coef_[0][0]*X_test[:,np.newaxis,0]+logreg.coef_[0][1]*X_test[:,np.newaxis,1]+logreg.coef_[0][2]*X_test[:,np.newaxis,2]+logreg.coef_[0][3]*X_test[:,np.newaxis,3]+logreg.intercept_"
   ]
  },
  {
   "cell_type": "code",
   "execution_count": 21,
   "metadata": {},
   "outputs": [],
   "source": [
    "odds=np.exp(ans)"
   ]
  },
  {
   "cell_type": "code",
   "execution_count": 22,
   "metadata": {},
   "outputs": [
    {
     "output_type": "execute_result",
     "data": {
      "text/plain": [
       "array([[0.09269978],\n",
       "       [0.8861842 ],\n",
       "       [0.11453478],\n",
       "       [0.08948304],\n",
       "       [0.85231528],\n",
       "       [0.12989158],\n",
       "       [0.75341865],\n",
       "       [0.77899217],\n",
       "       [0.97408625],\n",
       "       [0.21468183],\n",
       "       [0.54788173],\n",
       "       [0.12553058],\n",
       "       [0.55737797],\n",
       "       [0.84469431],\n",
       "       [0.85506797],\n",
       "       [0.13287694],\n",
       "       [0.56864822],\n",
       "       [0.59540825],\n",
       "       [0.08904543],\n",
       "       [0.9175505 ],\n",
       "       [0.39696417],\n",
       "       [0.68593486],\n",
       "       [0.17421001],\n",
       "       [0.06539804],\n",
       "       [0.5174137 ],\n",
       "       [0.83987531],\n",
       "       [0.51181516],\n",
       "       [0.12471663],\n",
       "       [0.09411707],\n",
       "       [0.84182584]])"
      ]
     },
     "metadata": {},
     "execution_count": 22
    }
   ],
   "source": [
    "finalvalues=odds/(1+odds)\n",
    "finalvalues"
   ]
  },
  {
   "cell_type": "code",
   "execution_count": null,
   "metadata": {},
   "outputs": [],
   "source": []
  }
 ]
}