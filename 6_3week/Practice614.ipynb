{
 "metadata": {
  "language_info": {
   "codemirror_mode": {
    "name": "ipython",
    "version": 3
   },
   "file_extension": ".py",
   "mimetype": "text/x-python",
   "name": "python",
   "nbconvert_exporter": "python",
   "pygments_lexer": "ipython3",
   "version": "3.7.4"
  },
  "orig_nbformat": 4,
  "kernelspec": {
   "name": "python3",
   "display_name": "Python 3.7.4 64-bit ('base': conda)"
  },
  "interpreter": {
   "hash": "aad7fa43305c5ed1fb127d263f3083b3588cd5af60f171b45496a79879bf8414"
  }
 },
 "nbformat": 4,
 "nbformat_minor": 2,
 "cells": [
  {
   "source": [
    "# 6/14 Practice\n",
    "### Q1 ) 부모의 학력과 자녀의 대학진학여부 관계 검토\n",
    "\n",
    "- cleanDescriptive.csv 파일을 읽어와 level2와 pass2 변수를 이용해\n",
    "- 부모의 학력과 자녀의 대학진학여부가 관계가 있는지 검토 실시"
   ],
   "cell_type": "markdown",
   "metadata": {}
  },
  {
   "cell_type": "code",
   "execution_count": 2,
   "metadata": {},
   "outputs": [],
   "source": [
    "import numpy as np\n",
    "import pandas as pd\n",
    "from scipy import stats"
   ]
  },
  {
   "cell_type": "code",
   "execution_count": 6,
   "metadata": {},
   "outputs": [],
   "source": [
    "df=pd.read_csv('cleanDescriptive.csv', encoding='euc-kr')"
   ]
  },
  {
   "cell_type": "code",
   "execution_count": 8,
   "metadata": {},
   "outputs": [
    {
     "output_type": "execute_result",
     "data": {
      "text/plain": [
       "   resident  gender  age  level  cost  type  survey  pass  cost2 resident2  \\\n",
       "0       1.0       1   50    1.0   5.1   1.0     1.0   2.0    2.0       특별시   \n",
       "1       2.0       1   54    2.0   4.2   1.0     2.0   2.0    2.0       광역시   \n",
       "2       NaN       1   62    2.0   4.7   1.0     1.0   1.0    2.0       NaN   \n",
       "3       4.0       2   50    NaN   3.5   1.0     4.0   1.0    NaN       광역시   \n",
       "4       5.0       1   51    1.0   5.0   1.0     3.0   1.0    2.0       시구군   \n",
       "\n",
       "  gender2 age2 level2 pass2  \n",
       "0      남자  장년층     고졸    실패  \n",
       "1      남자  장년층     대졸    실패  \n",
       "2      남자  노년층     대졸    합격  \n",
       "3      여자  장년층    NaN    합격  \n",
       "4      남자  장년층     고졸    합격  "
      ],
      "text/html": "<div>\n<style scoped>\n    .dataframe tbody tr th:only-of-type {\n        vertical-align: middle;\n    }\n\n    .dataframe tbody tr th {\n        vertical-align: top;\n    }\n\n    .dataframe thead th {\n        text-align: right;\n    }\n</style>\n<table border=\"1\" class=\"dataframe\">\n  <thead>\n    <tr style=\"text-align: right;\">\n      <th></th>\n      <th>resident</th>\n      <th>gender</th>\n      <th>age</th>\n      <th>level</th>\n      <th>cost</th>\n      <th>type</th>\n      <th>survey</th>\n      <th>pass</th>\n      <th>cost2</th>\n      <th>resident2</th>\n      <th>gender2</th>\n      <th>age2</th>\n      <th>level2</th>\n      <th>pass2</th>\n    </tr>\n  </thead>\n  <tbody>\n    <tr>\n      <td>0</td>\n      <td>1.0</td>\n      <td>1</td>\n      <td>50</td>\n      <td>1.0</td>\n      <td>5.1</td>\n      <td>1.0</td>\n      <td>1.0</td>\n      <td>2.0</td>\n      <td>2.0</td>\n      <td>특별시</td>\n      <td>남자</td>\n      <td>장년층</td>\n      <td>고졸</td>\n      <td>실패</td>\n    </tr>\n    <tr>\n      <td>1</td>\n      <td>2.0</td>\n      <td>1</td>\n      <td>54</td>\n      <td>2.0</td>\n      <td>4.2</td>\n      <td>1.0</td>\n      <td>2.0</td>\n      <td>2.0</td>\n      <td>2.0</td>\n      <td>광역시</td>\n      <td>남자</td>\n      <td>장년층</td>\n      <td>대졸</td>\n      <td>실패</td>\n    </tr>\n    <tr>\n      <td>2</td>\n      <td>NaN</td>\n      <td>1</td>\n      <td>62</td>\n      <td>2.0</td>\n      <td>4.7</td>\n      <td>1.0</td>\n      <td>1.0</td>\n      <td>1.0</td>\n      <td>2.0</td>\n      <td>NaN</td>\n      <td>남자</td>\n      <td>노년층</td>\n      <td>대졸</td>\n      <td>합격</td>\n    </tr>\n    <tr>\n      <td>3</td>\n      <td>4.0</td>\n      <td>2</td>\n      <td>50</td>\n      <td>NaN</td>\n      <td>3.5</td>\n      <td>1.0</td>\n      <td>4.0</td>\n      <td>1.0</td>\n      <td>NaN</td>\n      <td>광역시</td>\n      <td>여자</td>\n      <td>장년층</td>\n      <td>NaN</td>\n      <td>합격</td>\n    </tr>\n    <tr>\n      <td>4</td>\n      <td>5.0</td>\n      <td>1</td>\n      <td>51</td>\n      <td>1.0</td>\n      <td>5.0</td>\n      <td>1.0</td>\n      <td>3.0</td>\n      <td>1.0</td>\n      <td>2.0</td>\n      <td>시구군</td>\n      <td>남자</td>\n      <td>장년층</td>\n      <td>고졸</td>\n      <td>합격</td>\n    </tr>\n  </tbody>\n</table>\n</div>"
     },
     "metadata": {},
     "execution_count": 8
    }
   ],
   "source": [
    "df.head()"
   ]
  },
  {
   "cell_type": "code",
   "execution_count": 10,
   "metadata": {},
   "outputs": [
    {
     "output_type": "stream",
     "name": "stdout",
     "text": [
      "<class 'pandas.core.frame.DataFrame'>\nRangeIndex: 248 entries, 0 to 247\nData columns (total 14 columns):\nresident     231 non-null float64\ngender       248 non-null int64\nage          248 non-null int64\nlevel        236 non-null float64\ncost         248 non-null float64\ntype         235 non-null float64\nsurvey       160 non-null float64\npass         235 non-null float64\ncost2        165 non-null float64\nresident2    231 non-null object\ngender2      248 non-null object\nage2         248 non-null object\nlevel2       236 non-null object\npass2        235 non-null object\ndtypes: float64(7), int64(2), object(5)\nmemory usage: 27.2+ KB\n"
     ]
    }
   ],
   "source": [
    "df.info()"
   ]
  },
  {
   "cell_type": "code",
   "execution_count": 11,
   "metadata": {},
   "outputs": [],
   "source": [
    "df_cross=pd.crosstab(df['level2'], df['pass2'])"
   ]
  },
  {
   "cell_type": "code",
   "execution_count": 12,
   "metadata": {},
   "outputs": [
    {
     "output_type": "execute_result",
     "data": {
      "text/plain": [
       "pass2   실패  합격\n",
       "level2        \n",
       "고졸      40  49\n",
       "대졸      27  55\n",
       "대학원졸    23  31"
      ],
      "text/html": "<div>\n<style scoped>\n    .dataframe tbody tr th:only-of-type {\n        vertical-align: middle;\n    }\n\n    .dataframe tbody tr th {\n        vertical-align: top;\n    }\n\n    .dataframe thead th {\n        text-align: right;\n    }\n</style>\n<table border=\"1\" class=\"dataframe\">\n  <thead>\n    <tr style=\"text-align: right;\">\n      <th>pass2</th>\n      <th>실패</th>\n      <th>합격</th>\n    </tr>\n    <tr>\n      <th>level2</th>\n      <th></th>\n      <th></th>\n    </tr>\n  </thead>\n  <tbody>\n    <tr>\n      <td>고졸</td>\n      <td>40</td>\n      <td>49</td>\n    </tr>\n    <tr>\n      <td>대졸</td>\n      <td>27</td>\n      <td>55</td>\n    </tr>\n    <tr>\n      <td>대학원졸</td>\n      <td>23</td>\n      <td>31</td>\n    </tr>\n  </tbody>\n</table>\n</div>"
     },
     "metadata": {},
     "execution_count": 12
    }
   ],
   "source": [
    "df_cross"
   ]
  },
  {
   "source": [
    "## 가설 \n",
    "H0 : 부모의 학력과 자녀의 대학진학 여부는 관계가 없다  \n",
    "H1 : 부모의 학력과 자녀의 대학진학 여부는 관계가 있다"
   ],
   "cell_type": "markdown",
   "metadata": {}
  },
  {
   "cell_type": "code",
   "execution_count": 14,
   "metadata": {},
   "outputs": [],
   "source": [
    "chic2, p,dof,ef=stats.chi2_contingency(df_cross, correction=False) # correction =False : p-value더 낮게 생성해줌 "
   ]
  },
  {
   "cell_type": "code",
   "execution_count": 15,
   "metadata": {},
   "outputs": [
    {
     "output_type": "execute_result",
     "data": {
      "text/plain": [
       "0.25070568406521354"
      ]
     },
     "metadata": {},
     "execution_count": 15
    }
   ],
   "source": [
    "p #p-value"
   ]
  },
  {
   "source": [
    "### Result\n",
    "p-value=0.2507 > 0.05이므로 유의수준 0.05에 대해 귀무가설을 채택  \n",
    "그러므로 부모의 학력과 자녀의 대학진학 여부는 관계 없음"
   ],
   "cell_type": "markdown",
   "metadata": {}
  },
  {
   "source": [
    "## Q2. diamonds 분석\n",
    "\n",
    "seaborn 라이브러리의 diamonds 데이터셋을 활용해 아래를 수행해보세요\n",
    "\n",
    "- 데이터 로드 방법\n",
    "\n",
    "sns.load_dataset('diamonds')\n",
    "\n",
    "​\n",
    "\n",
    "2-1) price와 상관성이 높은 변수는? \n",
    "\n",
    "2-2) price 변수의 확률밀도함수로 분포 확인 \n",
    "\n",
    "2-3) 아래의 조건에 따라 price2변수를 범주형 변수로 생성 \n",
    "\n",
    "- 1분위수 미만: 'low'\n",
    "\n",
    "- iqr : 'mid'\n",
    "\n",
    "- 윗 극단치 경계 이하 : 'high'\n",
    "\n",
    "- 15000미만 : 'vh' (very high)\n",
    "\n",
    "- 그 이상 : 'sp' (special)\n",
    "\n",
    "2-4) cut 변수와 price2변수는 서로 관련이 있는지 판단"
   ],
   "cell_type": "markdown",
   "metadata": {}
  },
  {
   "cell_type": "code",
   "execution_count": 17,
   "metadata": {},
   "outputs": [],
   "source": [
    "import seaborn as sns"
   ]
  },
  {
   "cell_type": "code",
   "execution_count": 18,
   "metadata": {},
   "outputs": [],
   "source": [
    "dt=sns.load_dataset('diamonds')"
   ]
  },
  {
   "cell_type": "code",
   "execution_count": 19,
   "metadata": {},
   "outputs": [
    {
     "output_type": "execute_result",
     "data": {
      "text/plain": [
       "   carat      cut color clarity  depth  table  price     x     y     z\n",
       "0   0.23    Ideal     E     SI2   61.5   55.0    326  3.95  3.98  2.43\n",
       "1   0.21  Premium     E     SI1   59.8   61.0    326  3.89  3.84  2.31\n",
       "2   0.23     Good     E     VS1   56.9   65.0    327  4.05  4.07  2.31"
      ],
      "text/html": "<div>\n<style scoped>\n    .dataframe tbody tr th:only-of-type {\n        vertical-align: middle;\n    }\n\n    .dataframe tbody tr th {\n        vertical-align: top;\n    }\n\n    .dataframe thead th {\n        text-align: right;\n    }\n</style>\n<table border=\"1\" class=\"dataframe\">\n  <thead>\n    <tr style=\"text-align: right;\">\n      <th></th>\n      <th>carat</th>\n      <th>cut</th>\n      <th>color</th>\n      <th>clarity</th>\n      <th>depth</th>\n      <th>table</th>\n      <th>price</th>\n      <th>x</th>\n      <th>y</th>\n      <th>z</th>\n    </tr>\n  </thead>\n  <tbody>\n    <tr>\n      <td>0</td>\n      <td>0.23</td>\n      <td>Ideal</td>\n      <td>E</td>\n      <td>SI2</td>\n      <td>61.5</td>\n      <td>55.0</td>\n      <td>326</td>\n      <td>3.95</td>\n      <td>3.98</td>\n      <td>2.43</td>\n    </tr>\n    <tr>\n      <td>1</td>\n      <td>0.21</td>\n      <td>Premium</td>\n      <td>E</td>\n      <td>SI1</td>\n      <td>59.8</td>\n      <td>61.0</td>\n      <td>326</td>\n      <td>3.89</td>\n      <td>3.84</td>\n      <td>2.31</td>\n    </tr>\n    <tr>\n      <td>2</td>\n      <td>0.23</td>\n      <td>Good</td>\n      <td>E</td>\n      <td>VS1</td>\n      <td>56.9</td>\n      <td>65.0</td>\n      <td>327</td>\n      <td>4.05</td>\n      <td>4.07</td>\n      <td>2.31</td>\n    </tr>\n  </tbody>\n</table>\n</div>"
     },
     "metadata": {},
     "execution_count": 19
    }
   ],
   "source": [
    "dt.head(3)"
   ]
  },
  {
   "source": [
    "### 2-1) price와 상관성이 높은 변수는?\n",
    "상관분석 결과 price와 상관성이 제일 높은 변수는 carat임"
   ],
   "cell_type": "markdown",
   "metadata": {}
  },
  {
   "cell_type": "code",
   "execution_count": 28,
   "metadata": {},
   "outputs": [
    {
     "output_type": "execute_result",
     "data": {
      "text/plain": [
       "          carat     depth     table     price         x         y         z\n",
       "carat  1.000000  0.028224  0.181618  0.921591  0.975094  0.951722  0.953387\n",
       "depth  0.028224  1.000000 -0.295779 -0.010647 -0.025289 -0.029341  0.094924\n",
       "table  0.181618 -0.295779  1.000000  0.127134  0.195344  0.183760  0.150929\n",
       "price  0.921591 -0.010647  0.127134  1.000000  0.884435  0.865421  0.861249\n",
       "x      0.975094 -0.025289  0.195344  0.884435  1.000000  0.974701  0.970772\n",
       "y      0.951722 -0.029341  0.183760  0.865421  0.974701  1.000000  0.952006\n",
       "z      0.953387  0.094924  0.150929  0.861249  0.970772  0.952006  1.000000"
      ],
      "text/html": "<div>\n<style scoped>\n    .dataframe tbody tr th:only-of-type {\n        vertical-align: middle;\n    }\n\n    .dataframe tbody tr th {\n        vertical-align: top;\n    }\n\n    .dataframe thead th {\n        text-align: right;\n    }\n</style>\n<table border=\"1\" class=\"dataframe\">\n  <thead>\n    <tr style=\"text-align: right;\">\n      <th></th>\n      <th>carat</th>\n      <th>depth</th>\n      <th>table</th>\n      <th>price</th>\n      <th>x</th>\n      <th>y</th>\n      <th>z</th>\n    </tr>\n  </thead>\n  <tbody>\n    <tr>\n      <td>carat</td>\n      <td>1.000000</td>\n      <td>0.028224</td>\n      <td>0.181618</td>\n      <td>0.921591</td>\n      <td>0.975094</td>\n      <td>0.951722</td>\n      <td>0.953387</td>\n    </tr>\n    <tr>\n      <td>depth</td>\n      <td>0.028224</td>\n      <td>1.000000</td>\n      <td>-0.295779</td>\n      <td>-0.010647</td>\n      <td>-0.025289</td>\n      <td>-0.029341</td>\n      <td>0.094924</td>\n    </tr>\n    <tr>\n      <td>table</td>\n      <td>0.181618</td>\n      <td>-0.295779</td>\n      <td>1.000000</td>\n      <td>0.127134</td>\n      <td>0.195344</td>\n      <td>0.183760</td>\n      <td>0.150929</td>\n    </tr>\n    <tr>\n      <td>price</td>\n      <td>0.921591</td>\n      <td>-0.010647</td>\n      <td>0.127134</td>\n      <td>1.000000</td>\n      <td>0.884435</td>\n      <td>0.865421</td>\n      <td>0.861249</td>\n    </tr>\n    <tr>\n      <td>x</td>\n      <td>0.975094</td>\n      <td>-0.025289</td>\n      <td>0.195344</td>\n      <td>0.884435</td>\n      <td>1.000000</td>\n      <td>0.974701</td>\n      <td>0.970772</td>\n    </tr>\n    <tr>\n      <td>y</td>\n      <td>0.951722</td>\n      <td>-0.029341</td>\n      <td>0.183760</td>\n      <td>0.865421</td>\n      <td>0.974701</td>\n      <td>1.000000</td>\n      <td>0.952006</td>\n    </tr>\n    <tr>\n      <td>z</td>\n      <td>0.953387</td>\n      <td>0.094924</td>\n      <td>0.150929</td>\n      <td>0.861249</td>\n      <td>0.970772</td>\n      <td>0.952006</td>\n      <td>1.000000</td>\n    </tr>\n  </tbody>\n</table>\n</div>"
     },
     "metadata": {},
     "execution_count": 28
    }
   ],
   "source": [
    "dt.corr()"
   ]
  },
  {
   "source": [
    "### 2-2) price 변수의 확률밀도함수로 분포 확인"
   ],
   "cell_type": "markdown",
   "metadata": {}
  },
  {
   "cell_type": "code",
   "execution_count": 36,
   "metadata": {},
   "outputs": [
    {
     "output_type": "execute_result",
     "data": {
      "text/plain": [
       "[<matplotlib.lines.Line2D at 0x11e9dbfd588>]"
      ]
     },
     "metadata": {},
     "execution_count": 36
    },
    {
     "output_type": "display_data",
     "data": {
      "text/plain": "<Figure size 432x288 with 1 Axes>",
      "image/svg+xml": "<?xml version=\"1.0\" encoding=\"utf-8\" standalone=\"no\"?>\r\n<!DOCTYPE svg PUBLIC \"-//W3C//DTD SVG 1.1//EN\"\r\n  \"http://www.w3.org/Graphics/SVG/1.1/DTD/svg11.dtd\">\r\n<!-- Created with matplotlib (https://matplotlib.org/) -->\r\n<svg height=\"248.518125pt\" version=\"1.1\" viewBox=\"0 0 388.0125 248.518125\" width=\"388.0125pt\" xmlns=\"http://www.w3.org/2000/svg\" xmlns:xlink=\"http://www.w3.org/1999/xlink\">\r\n <defs>\r\n  <style type=\"text/css\">\r\n*{stroke-linecap:butt;stroke-linejoin:round;}\r\n  </style>\r\n </defs>\r\n <g id=\"figure_1\">\r\n  <g id=\"patch_1\">\r\n   <path d=\"M 0 248.518125 \r\nL 388.0125 248.518125 \r\nL 388.0125 0 \r\nL 0 0 \r\nz\r\n\" style=\"fill:none;\"/>\r\n  </g>\r\n  <g id=\"axes_1\">\r\n   <g id=\"patch_2\">\r\n    <path d=\"M 46.0125 224.64 \r\nL 380.8125 224.64 \r\nL 380.8125 7.2 \r\nL 46.0125 7.2 \r\nz\r\n\" style=\"fill:#ffffff;\"/>\r\n   </g>\r\n   <g id=\"matplotlib.axis_1\">\r\n    <g id=\"xtick_1\">\r\n     <g id=\"line2d_1\">\r\n      <defs>\r\n       <path d=\"M 0 0 \r\nL 0 3.5 \r\n\" id=\"m0263901834\" style=\"stroke:#000000;stroke-width:0.8;\"/>\r\n      </defs>\r\n      <g>\r\n       <use style=\"stroke:#000000;stroke-width:0.8;\" x=\"61.230682\" xlink:href=\"#m0263901834\" y=\"224.64\"/>\r\n      </g>\r\n     </g>\r\n     <g id=\"text_1\">\r\n      <!-- 0 -->\r\n      <defs>\r\n       <path d=\"M 31.78125 66.40625 \r\nQ 24.171875 66.40625 20.328125 58.90625 \r\nQ 16.5 51.421875 16.5 36.375 \r\nQ 16.5 21.390625 20.328125 13.890625 \r\nQ 24.171875 6.390625 31.78125 6.390625 \r\nQ 39.453125 6.390625 43.28125 13.890625 \r\nQ 47.125 21.390625 47.125 36.375 \r\nQ 47.125 51.421875 43.28125 58.90625 \r\nQ 39.453125 66.40625 31.78125 66.40625 \r\nz\r\nM 31.78125 74.21875 \r\nQ 44.046875 74.21875 50.515625 64.515625 \r\nQ 56.984375 54.828125 56.984375 36.375 \r\nQ 56.984375 17.96875 50.515625 8.265625 \r\nQ 44.046875 -1.421875 31.78125 -1.421875 \r\nQ 19.53125 -1.421875 13.0625 8.265625 \r\nQ 6.59375 17.96875 6.59375 36.375 \r\nQ 6.59375 54.828125 13.0625 64.515625 \r\nQ 19.53125 74.21875 31.78125 74.21875 \r\nz\r\n\" id=\"DejaVuSans-48\"/>\r\n      </defs>\r\n      <g transform=\"translate(58.049432 239.238438)scale(0.1 -0.1)\">\r\n       <use xlink:href=\"#DejaVuSans-48\"/>\r\n      </g>\r\n     </g>\r\n    </g>\r\n    <g id=\"xtick_2\">\r\n     <g id=\"line2d_2\">\r\n      <g>\r\n       <use style=\"stroke:#000000;stroke-width:0.8;\" x=\"117.65806\" xlink:href=\"#m0263901834\" y=\"224.64\"/>\r\n      </g>\r\n     </g>\r\n     <g id=\"text_2\">\r\n      <!-- 10000 -->\r\n      <defs>\r\n       <path d=\"M 12.40625 8.296875 \r\nL 28.515625 8.296875 \r\nL 28.515625 63.921875 \r\nL 10.984375 60.40625 \r\nL 10.984375 69.390625 \r\nL 28.421875 72.90625 \r\nL 38.28125 72.90625 \r\nL 38.28125 8.296875 \r\nL 54.390625 8.296875 \r\nL 54.390625 0 \r\nL 12.40625 0 \r\nz\r\n\" id=\"DejaVuSans-49\"/>\r\n      </defs>\r\n      <g transform=\"translate(101.75181 239.238438)scale(0.1 -0.1)\">\r\n       <use xlink:href=\"#DejaVuSans-49\"/>\r\n       <use x=\"63.623047\" xlink:href=\"#DejaVuSans-48\"/>\r\n       <use x=\"127.246094\" xlink:href=\"#DejaVuSans-48\"/>\r\n       <use x=\"190.869141\" xlink:href=\"#DejaVuSans-48\"/>\r\n       <use x=\"254.492188\" xlink:href=\"#DejaVuSans-48\"/>\r\n      </g>\r\n     </g>\r\n    </g>\r\n    <g id=\"xtick_3\">\r\n     <g id=\"line2d_3\">\r\n      <g>\r\n       <use style=\"stroke:#000000;stroke-width:0.8;\" x=\"174.085439\" xlink:href=\"#m0263901834\" y=\"224.64\"/>\r\n      </g>\r\n     </g>\r\n     <g id=\"text_3\">\r\n      <!-- 20000 -->\r\n      <defs>\r\n       <path d=\"M 19.1875 8.296875 \r\nL 53.609375 8.296875 \r\nL 53.609375 0 \r\nL 7.328125 0 \r\nL 7.328125 8.296875 \r\nQ 12.9375 14.109375 22.625 23.890625 \r\nQ 32.328125 33.6875 34.8125 36.53125 \r\nQ 39.546875 41.84375 41.421875 45.53125 \r\nQ 43.3125 49.21875 43.3125 52.78125 \r\nQ 43.3125 58.59375 39.234375 62.25 \r\nQ 35.15625 65.921875 28.609375 65.921875 \r\nQ 23.96875 65.921875 18.8125 64.3125 \r\nQ 13.671875 62.703125 7.8125 59.421875 \r\nL 7.8125 69.390625 \r\nQ 13.765625 71.78125 18.9375 73 \r\nQ 24.125 74.21875 28.421875 74.21875 \r\nQ 39.75 74.21875 46.484375 68.546875 \r\nQ 53.21875 62.890625 53.21875 53.421875 \r\nQ 53.21875 48.921875 51.53125 44.890625 \r\nQ 49.859375 40.875 45.40625 35.40625 \r\nQ 44.1875 33.984375 37.640625 27.21875 \r\nQ 31.109375 20.453125 19.1875 8.296875 \r\nz\r\n\" id=\"DejaVuSans-50\"/>\r\n      </defs>\r\n      <g transform=\"translate(158.179189 239.238438)scale(0.1 -0.1)\">\r\n       <use xlink:href=\"#DejaVuSans-50\"/>\r\n       <use x=\"63.623047\" xlink:href=\"#DejaVuSans-48\"/>\r\n       <use x=\"127.246094\" xlink:href=\"#DejaVuSans-48\"/>\r\n       <use x=\"190.869141\" xlink:href=\"#DejaVuSans-48\"/>\r\n       <use x=\"254.492188\" xlink:href=\"#DejaVuSans-48\"/>\r\n      </g>\r\n     </g>\r\n    </g>\r\n    <g id=\"xtick_4\">\r\n     <g id=\"line2d_4\">\r\n      <g>\r\n       <use style=\"stroke:#000000;stroke-width:0.8;\" x=\"230.512817\" xlink:href=\"#m0263901834\" y=\"224.64\"/>\r\n      </g>\r\n     </g>\r\n     <g id=\"text_4\">\r\n      <!-- 30000 -->\r\n      <defs>\r\n       <path d=\"M 40.578125 39.3125 \r\nQ 47.65625 37.796875 51.625 33 \r\nQ 55.609375 28.21875 55.609375 21.1875 \r\nQ 55.609375 10.40625 48.1875 4.484375 \r\nQ 40.765625 -1.421875 27.09375 -1.421875 \r\nQ 22.515625 -1.421875 17.65625 -0.515625 \r\nQ 12.796875 0.390625 7.625 2.203125 \r\nL 7.625 11.71875 \r\nQ 11.71875 9.328125 16.59375 8.109375 \r\nQ 21.484375 6.890625 26.8125 6.890625 \r\nQ 36.078125 6.890625 40.9375 10.546875 \r\nQ 45.796875 14.203125 45.796875 21.1875 \r\nQ 45.796875 27.640625 41.28125 31.265625 \r\nQ 36.765625 34.90625 28.71875 34.90625 \r\nL 20.21875 34.90625 \r\nL 20.21875 43.015625 \r\nL 29.109375 43.015625 \r\nQ 36.375 43.015625 40.234375 45.921875 \r\nQ 44.09375 48.828125 44.09375 54.296875 \r\nQ 44.09375 59.90625 40.109375 62.90625 \r\nQ 36.140625 65.921875 28.71875 65.921875 \r\nQ 24.65625 65.921875 20.015625 65.03125 \r\nQ 15.375 64.15625 9.8125 62.3125 \r\nL 9.8125 71.09375 \r\nQ 15.4375 72.65625 20.34375 73.4375 \r\nQ 25.25 74.21875 29.59375 74.21875 \r\nQ 40.828125 74.21875 47.359375 69.109375 \r\nQ 53.90625 64.015625 53.90625 55.328125 \r\nQ 53.90625 49.265625 50.4375 45.09375 \r\nQ 46.96875 40.921875 40.578125 39.3125 \r\nz\r\n\" id=\"DejaVuSans-51\"/>\r\n      </defs>\r\n      <g transform=\"translate(214.606567 239.238438)scale(0.1 -0.1)\">\r\n       <use xlink:href=\"#DejaVuSans-51\"/>\r\n       <use x=\"63.623047\" xlink:href=\"#DejaVuSans-48\"/>\r\n       <use x=\"127.246094\" xlink:href=\"#DejaVuSans-48\"/>\r\n       <use x=\"190.869141\" xlink:href=\"#DejaVuSans-48\"/>\r\n       <use x=\"254.492188\" xlink:href=\"#DejaVuSans-48\"/>\r\n      </g>\r\n     </g>\r\n    </g>\r\n    <g id=\"xtick_5\">\r\n     <g id=\"line2d_5\">\r\n      <g>\r\n       <use style=\"stroke:#000000;stroke-width:0.8;\" x=\"286.940195\" xlink:href=\"#m0263901834\" y=\"224.64\"/>\r\n      </g>\r\n     </g>\r\n     <g id=\"text_5\">\r\n      <!-- 40000 -->\r\n      <defs>\r\n       <path d=\"M 37.796875 64.3125 \r\nL 12.890625 25.390625 \r\nL 37.796875 25.390625 \r\nz\r\nM 35.203125 72.90625 \r\nL 47.609375 72.90625 \r\nL 47.609375 25.390625 \r\nL 58.015625 25.390625 \r\nL 58.015625 17.1875 \r\nL 47.609375 17.1875 \r\nL 47.609375 0 \r\nL 37.796875 0 \r\nL 37.796875 17.1875 \r\nL 4.890625 17.1875 \r\nL 4.890625 26.703125 \r\nz\r\n\" id=\"DejaVuSans-52\"/>\r\n      </defs>\r\n      <g transform=\"translate(271.033945 239.238438)scale(0.1 -0.1)\">\r\n       <use xlink:href=\"#DejaVuSans-52\"/>\r\n       <use x=\"63.623047\" xlink:href=\"#DejaVuSans-48\"/>\r\n       <use x=\"127.246094\" xlink:href=\"#DejaVuSans-48\"/>\r\n       <use x=\"190.869141\" xlink:href=\"#DejaVuSans-48\"/>\r\n       <use x=\"254.492188\" xlink:href=\"#DejaVuSans-48\"/>\r\n      </g>\r\n     </g>\r\n    </g>\r\n    <g id=\"xtick_6\">\r\n     <g id=\"line2d_6\">\r\n      <g>\r\n       <use style=\"stroke:#000000;stroke-width:0.8;\" x=\"343.367574\" xlink:href=\"#m0263901834\" y=\"224.64\"/>\r\n      </g>\r\n     </g>\r\n     <g id=\"text_6\">\r\n      <!-- 50000 -->\r\n      <defs>\r\n       <path d=\"M 10.796875 72.90625 \r\nL 49.515625 72.90625 \r\nL 49.515625 64.59375 \r\nL 19.828125 64.59375 \r\nL 19.828125 46.734375 \r\nQ 21.96875 47.46875 24.109375 47.828125 \r\nQ 26.265625 48.1875 28.421875 48.1875 \r\nQ 40.625 48.1875 47.75 41.5 \r\nQ 54.890625 34.8125 54.890625 23.390625 \r\nQ 54.890625 11.625 47.5625 5.09375 \r\nQ 40.234375 -1.421875 26.90625 -1.421875 \r\nQ 22.3125 -1.421875 17.546875 -0.640625 \r\nQ 12.796875 0.140625 7.71875 1.703125 \r\nL 7.71875 11.625 \r\nQ 12.109375 9.234375 16.796875 8.0625 \r\nQ 21.484375 6.890625 26.703125 6.890625 \r\nQ 35.15625 6.890625 40.078125 11.328125 \r\nQ 45.015625 15.765625 45.015625 23.390625 \r\nQ 45.015625 31 40.078125 35.4375 \r\nQ 35.15625 39.890625 26.703125 39.890625 \r\nQ 22.75 39.890625 18.8125 39.015625 \r\nQ 14.890625 38.140625 10.796875 36.28125 \r\nz\r\n\" id=\"DejaVuSans-53\"/>\r\n      </defs>\r\n      <g transform=\"translate(327.461324 239.238438)scale(0.1 -0.1)\">\r\n       <use xlink:href=\"#DejaVuSans-53\"/>\r\n       <use x=\"63.623047\" xlink:href=\"#DejaVuSans-48\"/>\r\n       <use x=\"127.246094\" xlink:href=\"#DejaVuSans-48\"/>\r\n       <use x=\"190.869141\" xlink:href=\"#DejaVuSans-48\"/>\r\n       <use x=\"254.492188\" xlink:href=\"#DejaVuSans-48\"/>\r\n      </g>\r\n     </g>\r\n    </g>\r\n   </g>\r\n   <g id=\"matplotlib.axis_2\">\r\n    <g id=\"ytick_1\">\r\n     <g id=\"line2d_7\">\r\n      <defs>\r\n       <path d=\"M 0 0 \r\nL -3.5 0 \r\n\" id=\"m52ffb12a84\" style=\"stroke:#000000;stroke-width:0.8;\"/>\r\n      </defs>\r\n      <g>\r\n       <use style=\"stroke:#000000;stroke-width:0.8;\" x=\"46.0125\" xlink:href=\"#m52ffb12a84\" y=\"218.240243\"/>\r\n      </g>\r\n     </g>\r\n     <g id=\"text_7\">\r\n      <!-- 0 -->\r\n      <g transform=\"translate(32.65 222.039461)scale(0.1 -0.1)\">\r\n       <use xlink:href=\"#DejaVuSans-48\"/>\r\n      </g>\r\n     </g>\r\n    </g>\r\n    <g id=\"ytick_2\">\r\n     <g id=\"line2d_8\">\r\n      <g>\r\n       <use style=\"stroke:#000000;stroke-width:0.8;\" x=\"46.0125\" xlink:href=\"#m52ffb12a84\" y=\"191.523379\"/>\r\n      </g>\r\n     </g>\r\n     <g id=\"text_8\">\r\n      <!-- 2500 -->\r\n      <g transform=\"translate(13.5625 195.322598)scale(0.1 -0.1)\">\r\n       <use xlink:href=\"#DejaVuSans-50\"/>\r\n       <use x=\"63.623047\" xlink:href=\"#DejaVuSans-53\"/>\r\n       <use x=\"127.246094\" xlink:href=\"#DejaVuSans-48\"/>\r\n       <use x=\"190.869141\" xlink:href=\"#DejaVuSans-48\"/>\r\n      </g>\r\n     </g>\r\n    </g>\r\n    <g id=\"ytick_3\">\r\n     <g id=\"line2d_9\">\r\n      <g>\r\n       <use style=\"stroke:#000000;stroke-width:0.8;\" x=\"46.0125\" xlink:href=\"#m52ffb12a84\" y=\"164.806516\"/>\r\n      </g>\r\n     </g>\r\n     <g id=\"text_9\">\r\n      <!-- 5000 -->\r\n      <g transform=\"translate(13.5625 168.605735)scale(0.1 -0.1)\">\r\n       <use xlink:href=\"#DejaVuSans-53\"/>\r\n       <use x=\"63.623047\" xlink:href=\"#DejaVuSans-48\"/>\r\n       <use x=\"127.246094\" xlink:href=\"#DejaVuSans-48\"/>\r\n       <use x=\"190.869141\" xlink:href=\"#DejaVuSans-48\"/>\r\n      </g>\r\n     </g>\r\n    </g>\r\n    <g id=\"ytick_4\">\r\n     <g id=\"line2d_10\">\r\n      <g>\r\n       <use style=\"stroke:#000000;stroke-width:0.8;\" x=\"46.0125\" xlink:href=\"#m52ffb12a84\" y=\"138.089653\"/>\r\n      </g>\r\n     </g>\r\n     <g id=\"text_10\">\r\n      <!-- 7500 -->\r\n      <defs>\r\n       <path d=\"M 8.203125 72.90625 \r\nL 55.078125 72.90625 \r\nL 55.078125 68.703125 \r\nL 28.609375 0 \r\nL 18.3125 0 \r\nL 43.21875 64.59375 \r\nL 8.203125 64.59375 \r\nz\r\n\" id=\"DejaVuSans-55\"/>\r\n      </defs>\r\n      <g transform=\"translate(13.5625 141.888872)scale(0.1 -0.1)\">\r\n       <use xlink:href=\"#DejaVuSans-55\"/>\r\n       <use x=\"63.623047\" xlink:href=\"#DejaVuSans-53\"/>\r\n       <use x=\"127.246094\" xlink:href=\"#DejaVuSans-48\"/>\r\n       <use x=\"190.869141\" xlink:href=\"#DejaVuSans-48\"/>\r\n      </g>\r\n     </g>\r\n    </g>\r\n    <g id=\"ytick_5\">\r\n     <g id=\"line2d_11\">\r\n      <g>\r\n       <use style=\"stroke:#000000;stroke-width:0.8;\" x=\"46.0125\" xlink:href=\"#m52ffb12a84\" y=\"111.37279\"/>\r\n      </g>\r\n     </g>\r\n     <g id=\"text_11\">\r\n      <!-- 10000 -->\r\n      <g transform=\"translate(7.2 115.172009)scale(0.1 -0.1)\">\r\n       <use xlink:href=\"#DejaVuSans-49\"/>\r\n       <use x=\"63.623047\" xlink:href=\"#DejaVuSans-48\"/>\r\n       <use x=\"127.246094\" xlink:href=\"#DejaVuSans-48\"/>\r\n       <use x=\"190.869141\" xlink:href=\"#DejaVuSans-48\"/>\r\n       <use x=\"254.492188\" xlink:href=\"#DejaVuSans-48\"/>\r\n      </g>\r\n     </g>\r\n    </g>\r\n    <g id=\"ytick_6\">\r\n     <g id=\"line2d_12\">\r\n      <g>\r\n       <use style=\"stroke:#000000;stroke-width:0.8;\" x=\"46.0125\" xlink:href=\"#m52ffb12a84\" y=\"84.655927\"/>\r\n      </g>\r\n     </g>\r\n     <g id=\"text_12\">\r\n      <!-- 12500 -->\r\n      <g transform=\"translate(7.2 88.455145)scale(0.1 -0.1)\">\r\n       <use xlink:href=\"#DejaVuSans-49\"/>\r\n       <use x=\"63.623047\" xlink:href=\"#DejaVuSans-50\"/>\r\n       <use x=\"127.246094\" xlink:href=\"#DejaVuSans-53\"/>\r\n       <use x=\"190.869141\" xlink:href=\"#DejaVuSans-48\"/>\r\n       <use x=\"254.492188\" xlink:href=\"#DejaVuSans-48\"/>\r\n      </g>\r\n     </g>\r\n    </g>\r\n    <g id=\"ytick_7\">\r\n     <g id=\"line2d_13\">\r\n      <g>\r\n       <use style=\"stroke:#000000;stroke-width:0.8;\" x=\"46.0125\" xlink:href=\"#m52ffb12a84\" y=\"57.939064\"/>\r\n      </g>\r\n     </g>\r\n     <g id=\"text_13\">\r\n      <!-- 15000 -->\r\n      <g transform=\"translate(7.2 61.738282)scale(0.1 -0.1)\">\r\n       <use xlink:href=\"#DejaVuSans-49\"/>\r\n       <use x=\"63.623047\" xlink:href=\"#DejaVuSans-53\"/>\r\n       <use x=\"127.246094\" xlink:href=\"#DejaVuSans-48\"/>\r\n       <use x=\"190.869141\" xlink:href=\"#DejaVuSans-48\"/>\r\n       <use x=\"254.492188\" xlink:href=\"#DejaVuSans-48\"/>\r\n      </g>\r\n     </g>\r\n    </g>\r\n    <g id=\"ytick_8\">\r\n     <g id=\"line2d_14\">\r\n      <g>\r\n       <use style=\"stroke:#000000;stroke-width:0.8;\" x=\"46.0125\" xlink:href=\"#m52ffb12a84\" y=\"31.2222\"/>\r\n      </g>\r\n     </g>\r\n     <g id=\"text_14\">\r\n      <!-- 17500 -->\r\n      <g transform=\"translate(7.2 35.021419)scale(0.1 -0.1)\">\r\n       <use xlink:href=\"#DejaVuSans-49\"/>\r\n       <use x=\"63.623047\" xlink:href=\"#DejaVuSans-55\"/>\r\n       <use x=\"127.246094\" xlink:href=\"#DejaVuSans-53\"/>\r\n       <use x=\"190.869141\" xlink:href=\"#DejaVuSans-48\"/>\r\n       <use x=\"254.492188\" xlink:href=\"#DejaVuSans-48\"/>\r\n      </g>\r\n     </g>\r\n    </g>\r\n   </g>\r\n   <g id=\"line2d_15\">\r\n    <path clip-path=\"url(#pdfbaa0410f)\" d=\"M 61.230682 214.756364 \r\nL 61.264538 214.649496 \r\nL 61.394321 214.425075 \r\nL 61.507176 213.922798 \r\nL 61.563603 213.912111 \r\nL 61.676458 212.319786 \r\nL 61.732885 212.319786 \r\nL 61.84574 188.734139 \r\nL 62.156091 188.627271 \r\nL 62.314087 188.563151 \r\nL 62.551082 188.456284 \r\nL 62.692151 188.424223 \r\nL 63.002502 188.317356 \r\nL 63.14357 188.285296 \r\nL 63.425707 188.189115 \r\nL 63.510348 212.319786 \r\nL 63.538562 212.309099 \r\nL 63.594989 212.298412 \r\nL 63.707844 188.157055 \r\nL 64.198762 188.050187 \r\nL 64.351116 187.996753 \r\nL 64.763036 187.889886 \r\nL 64.909747 187.847139 \r\nL 65.22574 187.740272 \r\nL 65.28781 187.718898 \r\nL 65.344238 212.298412 \r\nL 65.400665 212.287725 \r\nL 65.457092 212.287725 \r\nL 65.569947 187.697525 \r\nL 65.98751 187.590657 \r\nL 66.134221 187.54791 \r\nL 66.478428 187.441043 \r\nL 66.653353 187.344862 \r\nL 66.958061 187.237995 \r\nL 67.116057 187.173874 \r\nL 67.149914 187.173874 \r\nL 67.155557 212.287725 \r\nL 67.262769 212.277039 \r\nL 67.319196 212.277039 \r\nL 67.432051 187.109754 \r\nL 67.753687 187.002886 \r\nL 67.922969 186.917392 \r\nL 68.182535 186.810525 \r\nL 68.340531 186.746404 \r\nL 68.650882 186.650224 \r\nL 68.775022 186.59679 \r\nL 69.012017 186.532669 \r\nL 69.028946 212.277039 \r\nL 69.124872 212.266352 \r\nL 69.181299 212.244978 \r\nL 69.294154 186.468549 \r\nL 69.536792 186.372368 \r\nL 69.67786 186.265501 \r\nL 69.988211 186.158633 \r\nL 70.140565 186.1052 \r\nL 70.496057 185.998332 \r\nL 70.676625 185.891465 \r\nL 70.874121 185.784597 \r\nL 70.986976 212.244978 \r\nL 71.043403 212.244978 \r\nL 71.156258 185.699103 \r\nL 71.455323 185.592236 \r\nL 71.618962 185.517429 \r\nL 71.793887 185.410561 \r\nL 71.957526 185.335754 \r\nL 72.329947 185.228886 \r\nL 72.510515 185.122019 \r\nL 72.736224 185.036525 \r\nL 72.849079 212.244978 \r\nL 72.905506 212.244978 \r\nL 73.018361 184.983091 \r\nL 73.255356 184.876224 \r\nL 73.424638 184.79073 \r\nL 73.661633 184.683862 \r\nL 73.813987 184.630429 \r\nL 74.056625 184.534248 \r\nL 74.192051 184.448754 \r\nL 74.502401 184.341887 \r\nL 74.598328 184.29914 \r\nL 74.711183 212.244978 \r\nL 74.76761 212.234292 \r\nL 74.880465 184.256393 \r\nL 75.111817 184.149525 \r\nL 75.264171 184.096091 \r\nL 75.557593 183.989224 \r\nL 75.709947 183.93579 \r\nL 75.958228 183.828923 \r\nL 76.093653 183.732742 \r\nL 76.341934 183.625875 \r\nL 76.460431 183.551067 \r\nL 76.505573 212.234292 \r\nL 76.573286 212.212918 \r\nL 76.629713 212.202232 \r\nL 76.742568 183.519007 \r\nL 76.996491 183.41214 \r\nL 77.160131 183.337333 \r\nL 77.464839 183.230465 \r\nL 77.634121 183.144971 \r\nL 77.882401 183.038104 \r\nL 78.034755 182.98467 \r\nL 78.322535 182.877802 \r\nL 78.401533 212.202232 \r\nL 78.435389 212.191545 \r\nL 78.491817 212.191545 \r\nL 78.604672 182.845742 \r\nL 78.751383 182.738875 \r\nL 78.909379 182.674754 \r\nL 79.152017 182.567887 \r\nL 79.2818 182.49308 \r\nL 79.552652 182.386212 \r\nL 79.705006 182.332778 \r\nL 79.908144 182.225911 \r\nL 80.071783 182.151104 \r\nL 80.184638 182.09767 \r\nL 80.195924 213.912111 \r\nL 80.297493 213.880051 \r\nL 80.35392 213.880051 \r\nL 80.466775 212.170171 \r\nL 80.523202 212.170171 \r\nL 80.636057 182.044236 \r\nL 80.873052 181.937369 \r\nL 81.025406 181.883935 \r\nL 81.222902 181.777068 \r\nL 81.386541 181.702261 \r\nL 81.685606 181.595393 \r\nL 81.821032 181.499212 \r\nL 82.080598 181.392345 \r\nL 82.216024 181.328224 \r\nL 82.289379 212.170171 \r\nL 82.328879 212.148798 \r\nL 82.385306 212.138111 \r\nL 82.498161 181.274791 \r\nL 82.780298 181.167923 \r\nL 82.94958 181.082429 \r\nL 83.180932 180.975562 \r\nL 83.3615 180.868694 \r\nL 83.60978 180.761827 \r\nL 83.790348 180.654959 \r\nL 83.982201 180.548092 \r\nL 84.078127 180.516032 \r\nL 84.190982 212.138111 \r\nL 84.247409 212.138111 \r\nL 84.360264 180.462598 \r\nL 84.625473 180.355731 \r\nL 84.811683 180.238176 \r\nL 84.986608 180.131309 \r\nL 85.172818 180.013755 \r\nL 85.44367 179.906887 \r\nL 85.624238 179.80002 \r\nL 85.923303 179.693152 \r\nL 85.940231 179.671779 \r\nL 86.053086 212.138111 \r\nL 86.109513 212.138111 \r\nL 86.222368 179.607658 \r\nL 86.544004 179.500791 \r\nL 86.718929 179.40461 \r\nL 86.98978 179.297743 \r\nL 87.130849 179.180189 \r\nL 87.33963 179.073321 \r\nL 87.486341 179.030574 \r\nL 87.802334 178.923707 \r\nL 87.824905 212.138111 \r\nL 87.915189 212.116738 \r\nL 87.971616 212.116738 \r\nL 88.084471 178.816839 \r\nL 88.34968 178.709972 \r\nL 88.530247 178.603104 \r\nL 88.834955 178.496237 \r\nL 88.998595 178.42143 \r\nL 89.314588 178.314562 \r\nL 89.48387 178.229068 \r\nL 89.664438 178.164948 \r\nL 89.754722 212.116738 \r\nL 89.777293 212.106051 \r\nL 89.83372 212.106051 \r\nL 89.946575 178.122201 \r\nL 90.256925 178.015333 \r\nL 90.437493 177.908466 \r\nL 90.713987 177.801598 \r\nL 90.883269 177.716105 \r\nL 91.171049 177.609237 \r\nL 91.340331 177.523743 \r\nL 91.526541 177.438249 \r\nL 91.639396 212.106051 \r\nL 91.695823 212.106051 \r\nL 91.808678 177.395502 \r\nL 92.023102 177.288635 \r\nL 92.198027 177.192454 \r\nL 92.38988 177.096273 \r\nL 92.519663 177.032153 \r\nL 92.773586 176.925285 \r\nL 92.954154 176.818418 \r\nL 93.309646 176.71155 \r\nL 93.388645 176.67949 \r\nL 93.428144 212.106051 \r\nL 93.5015 212.095364 \r\nL 93.557927 212.095364 \r\nL 93.670782 176.61537 \r\nL 93.913419 176.508502 \r\nL 94.09963 176.390948 \r\nL 94.40998 176.284081 \r\nL 94.590548 176.177213 \r\nL 94.771116 176.070346 \r\nL 94.917827 176.027599 \r\nL 95.132251 175.920731 \r\nL 95.250748 175.867298 \r\nL 95.307176 212.095364 \r\nL 95.363603 212.084677 \r\nL 95.42003 212.084677 \r\nL 95.532885 175.803177 \r\nL 95.758595 175.69631 \r\nL 95.93352 175.600129 \r\nL 96.272084 175.493262 \r\nL 96.435723 175.418454 \r\nL 96.684004 175.311587 \r\nL 96.858929 175.215406 \r\nL 97.112852 175.108539 \r\nL 97.225707 212.084677 \r\nL 97.282134 212.084677 \r\nL 97.394989 175.076478 \r\nL 97.631984 174.969611 \r\nL 97.806908 174.87343 \r\nL 98.094688 174.766563 \r\nL 98.224471 174.702442 \r\nL 98.371182 174.659695 \r\nL 98.67589 174.552828 \r\nL 98.845172 174.467334 \r\nL 98.974955 174.403213 \r\nL 99.02574 213.880051 \r\nL 99.08781 213.837304 \r\nL 99.144237 213.826617 \r\nL 99.257092 212.052617 \r\nL 99.31352 212.052617 \r\nL 99.426374 174.339093 \r\nL 99.708511 174.232226 \r\nL 99.872151 174.157418 \r\nL 100.199429 174.050551 \r\nL 100.351783 173.997117 \r\nL 100.583136 173.89025 \r\nL 100.735489 173.836816 \r\nL 101.006341 173.751322 \r\nL 101.119196 212.052617 \r\nL 101.175623 212.052617 \r\nL 101.288478 173.708575 \r\nL 101.536758 173.601708 \r\nL 101.694755 173.537587 \r\nL 102.010748 173.43072 \r\nL 102.157459 173.387973 \r\nL 102.52988 173.281105 \r\nL 102.682234 173.227672 \r\nL 102.845873 173.120804 \r\nL 102.868444 173.110117 \r\nL 102.981299 212.052617 \r\nL 103.037726 212.052617 \r\nL 103.150581 173.056684 \r\nL 103.308578 172.992563 \r\nL 103.788211 172.885696 \r\nL 103.923636 172.800202 \r\nL 104.256558 172.693334 \r\nL 104.420197 172.618527 \r\nL 104.730548 172.522346 \r\nL 104.758762 212.052617 \r\nL 104.843403 212.031244 \r\nL 104.89983 212.031244 \r\nL 105.012685 172.468913 \r\nL 105.300464 172.362045 \r\nL 105.481032 172.255178 \r\nL 105.836524 172.14831 \r\nL 105.988878 172.094877 \r\nL 106.457226 171.988009 \r\nL 106.592651 171.902515 \r\nL 106.620865 212.031244 \r\nL 106.705506 212.00987 \r\nL 106.761933 212.00987 \r\nL 106.874788 171.859768 \r\nL 107.021499 171.752901 \r\nL 107.173853 171.699467 \r\nL 107.388277 171.592599 \r\nL 107.534989 171.549853 \r\nL 107.839696 171.442985 \r\nL 107.986408 171.400238 \r\nL 108.223403 171.304057 \r\nL 108.353186 171.239937 \r\nL 108.454755 171.218563 \r\nL 108.561967 212.00987 \r\nL 108.56761 211.999183 \r\nL 108.624037 211.988497 \r\nL 108.736892 171.175816 \r\nL 108.911817 171.079636 \r\nL 109.239095 170.972768 \r\nL 109.397092 170.908648 \r\nL 109.7018 170.80178 \r\nL 109.859797 170.73766 \r\nL 110.17579 170.630792 \r\nL 110.316858 170.577359 \r\nL 110.339429 211.988497 \r\nL 110.429713 211.97781 \r\nL 110.48614 211.97781 \r\nL 110.598995 170.523925 \r\nL 110.926274 170.417058 \r\nL 111.067342 170.384997 \r\nL 111.422835 170.27813 \r\nL 111.59776 170.181949 \r\nL 111.90811 170.075082 \r\nL 112.066107 170.010961 \r\nL 112.178962 169.978901 \r\nL 112.184605 211.97781 \r\nL 112.291817 211.956436 \r\nL 112.348244 211.94575 \r\nL 112.461099 169.925467 \r\nL 112.652952 169.8186 \r\nL 112.816591 169.743793 \r\nL 113.132584 169.636925 \r\nL 113.313152 169.530058 \r\nL 113.646074 169.42319 \r\nL 113.832284 169.305636 \r\nL 114.041065 169.230829 \r\nL 114.15392 211.94575 \r\nL 114.210347 211.94575 \r\nL 114.323202 169.209455 \r\nL 114.605339 169.102588 \r\nL 114.735122 169.038467 \r\nL 114.938261 168.942287 \r\nL 115.068044 168.878166 \r\nL 115.231683 168.803359 \r\nL 115.51382 168.696492 \r\nL 115.666174 168.643058 \r\nL 115.874955 168.546877 \r\nL 115.903169 168.525504 \r\nL 116.016024 211.94575 \r\nL 116.072451 211.935063 \r\nL 116.185306 168.47207 \r\nL 116.52387 168.365202 \r\nL 116.676224 168.311769 \r\nL 117.020431 168.204901 \r\nL 117.18407 168.130094 \r\nL 117.415422 168.023227 \r\nL 117.567776 167.969793 \r\nL 117.765272 167.916359 \r\nL 117.776558 213.826617 \r\nL 117.878127 213.78387 \r\nL 117.934554 213.773183 \r\nL 118.047409 211.924376 \r\nL 118.103837 211.913689 \r\nL 118.216691 167.862925 \r\nL 118.369045 167.809492 \r\nL 118.577826 167.702624 \r\nL 118.758394 167.595757 \r\nL 119.08003 167.488889 \r\nL 119.232384 167.435456 \r\nL 119.497593 167.328588 \r\nL 119.655589 167.264468 \r\nL 119.796658 167.178974 \r\nL 119.802301 211.913689 \r\nL 119.909513 211.903003 \r\nL 119.96594 211.903003 \r\nL 120.078795 167.114853 \r\nL 120.225506 167.072106 \r\nL 120.518928 166.965239 \r\nL 120.699496 166.858371 \r\nL 120.885706 166.751504 \r\nL 121.054988 166.66601 \r\nL 121.342768 166.559142 \r\nL 121.506407 166.484335 \r\nL 121.658761 166.420215 \r\nL 121.771616 211.903003 \r\nL 121.828043 211.892316 \r\nL 121.940898 166.377468 \r\nL 122.200464 166.2706 \r\nL 122.369746 166.185106 \r\nL 122.663169 166.088926 \r\nL 122.804237 165.982058 \r\nL 123.052518 165.875191 \r\nL 123.255656 165.725576 \r\nL 123.520865 165.650769 \r\nL 123.53215 211.892316 \r\nL 123.63372 211.870942 \r\nL 123.690147 211.870942 \r\nL 123.803002 165.575962 \r\nL 124.000498 165.469094 \r\nL 124.152851 165.415661 \r\nL 124.322134 165.308793 \r\nL 124.48013 165.244673 \r\nL 124.796124 165.137805 \r\nL 124.982334 165.020251 \r\nL 125.281399 164.913384 \r\nL 125.382968 164.82789 \r\nL 125.495823 211.870942 \r\nL 125.55225 211.870942 \r\nL 125.665105 164.795829 \r\nL 125.924671 164.699649 \r\nL 126.054454 164.635528 \r\nL 126.25195 164.528661 \r\nL 126.404304 164.475227 \r\nL 126.624371 164.36836 \r\nL 126.799296 164.272179 \r\nL 127.132217 164.165312 \r\nL 127.245072 164.079818 \r\nL 127.357927 211.870942 \r\nL 127.414354 211.870942 \r\nL 127.527209 163.983637 \r\nL 127.764204 163.876769 \r\nL 127.9222 163.812649 \r\nL 128.130982 163.705781 \r\nL 128.311549 163.598914 \r\nL 128.469546 163.492047 \r\nL 128.644471 163.395866 \r\nL 128.853252 163.288998 \r\nL 129.028177 163.192818 \r\nL 129.107175 163.160757 \r\nL 129.22003 211.870942 \r\nL 129.276457 211.860256 \r\nL 129.389312 163.107324 \r\nL 129.660164 163.000456 \r\nL 129.823803 162.925649 \r\nL 130.015656 162.818782 \r\nL 130.201866 162.701227 \r\nL 130.427576 162.59436 \r\nL 130.613786 162.476806 \r\nL 130.918494 162.369938 \r\nL 130.969279 162.337878 \r\nL 131.082134 211.860256 \r\nL 131.138561 211.849569 \r\nL 131.251416 162.295131 \r\nL 131.415055 162.220324 \r\nL 131.657693 162.113456 \r\nL 131.826975 162.027962 \r\nL 132.024471 161.921095 \r\nL 132.205038 161.814228 \r\nL 132.391249 161.70736 \r\nL 132.526674 161.685987 \r\nL 132.707242 161.579119 \r\nL 132.831382 161.482938 \r\nL 132.837025 211.849569 \r\nL 132.944237 211.838882 \r\nL 133.000664 211.828195 \r\nL 133.113519 161.429505 \r\nL 133.271516 161.322637 \r\nL 133.463369 161.194396 \r\nL 133.615723 161.098216 \r\nL 133.745506 160.980661 \r\nL 133.931716 160.873794 \r\nL 134.100998 160.7883 \r\nL 134.292851 160.681433 \r\nL 134.467776 160.585252 \r\nL 134.614487 160.478384 \r\nL 134.693486 160.446324 \r\nL 134.806341 211.828195 \r\nL 134.862768 211.817509 \r\nL 134.975623 160.403577 \r\nL 135.144905 160.29671 \r\nL 135.331115 160.179156 \r\nL 135.50604 160.072288 \r\nL 135.697893 159.944047 \r\nL 135.895389 159.83718 \r\nL 136.138027 159.612758 \r\nL 136.307309 159.505891 \r\nL 136.476591 159.420397 \r\nL 136.555589 159.37765 \r\nL 136.668444 213.762496 \r\nL 136.724871 213.75181 \r\nL 136.837726 211.806822 \r\nL 136.894154 211.796135 \r\nL 137.007008 159.292156 \r\nL 137.17629 159.185288 \r\nL 137.373786 159.046361 \r\nL 137.667209 158.939493 \r\nL 137.830848 158.864686 \r\nL 137.988845 158.768505 \r\nL 138.135556 158.640264 \r\nL 138.361265 158.447903 \r\nL 138.586975 158.373096 \r\nL 138.69983 211.796135 \r\nL 138.756257 211.785448 \r\nL 138.869112 158.308975 \r\nL 139.07225 158.159361 \r\nL 139.230247 158.052493 \r\nL 139.427743 157.913566 \r\nL 139.636524 157.806698 \r\nL 139.828377 157.678457 \r\nL 139.969446 157.57159 \r\nL 140.212083 157.347168 \r\nL 140.449078 157.250987 \r\nL 140.561933 211.774762 \r\nL 140.61836 211.774762 \r\nL 140.731215 157.165493 \r\nL 140.90614 157.058626 \r\nL 141.148778 156.834204 \r\nL 141.278561 156.727337 \r\nL 141.430915 156.673903 \r\nL 141.628411 156.567036 \r\nL 141.763836 156.481542 \r\nL 141.910547 156.374674 \r\nL 142.062901 156.22506 \r\nL 142.249112 156.107506 \r\nL 142.311182 156.086132 \r\nL 142.424037 211.774762 \r\nL 142.480464 211.774762 \r\nL 142.593319 156.022012 \r\nL 142.768244 155.915144 \r\nL 143.016524 155.680036 \r\nL 143.208377 155.573168 \r\nL 143.434087 155.380807 \r\nL 143.642868 155.273939 \r\nL 143.891148 155.038831 \r\nL 144.083002 154.931964 \r\nL 144.173285 154.867843 \r\nL 144.28614 211.774762 \r\nL 144.342567 211.774762 \r\nL 144.455422 154.793036 \r\nL 144.647275 154.664795 \r\nL 144.765773 154.568614 \r\nL 144.923769 154.397626 \r\nL 145.126908 154.248012 \r\nL 145.318761 154.141144 \r\nL 145.561399 153.916723 \r\nL 145.696825 153.820542 \r\nL 145.843536 153.692301 \r\nL 146.035389 153.606807 \r\nL 146.148244 211.774762 \r\nL 146.204671 211.774762 \r\nL 146.317526 153.46788 \r\nL 146.46988 153.361012 \r\nL 146.689946 153.179337 \r\nL 146.938227 153.07247 \r\nL 147.147008 152.912169 \r\nL 147.271148 152.805301 \r\nL 147.446073 152.709121 \r\nL 147.575856 152.61294 \r\nL 147.722567 152.484699 \r\nL 147.897492 152.356458 \r\nL 147.965205 211.774762 \r\nL 148.010347 211.764075 \r\nL 148.066774 211.753388 \r\nL 148.179629 152.292338 \r\nL 148.343269 152.18547 \r\nL 148.568978 151.993109 \r\nL 148.710047 151.886241 \r\nL 148.992183 151.587012 \r\nL 149.110681 151.480145 \r\nL 149.31382 151.33053 \r\nL 149.471816 151.223663 \r\nL 149.691883 151.041988 \r\nL 149.759596 151.020615 \r\nL 149.832951 211.753388 \r\nL 149.872451 211.742701 \r\nL 149.928878 211.742701 \r\nL 150.041733 150.967181 \r\nL 150.278728 150.753446 \r\nL 150.436724 150.646579 \r\nL 150.645506 150.486278 \r\nL 150.826073 150.37941 \r\nL 151.023569 150.240482 \r\nL 151.158995 150.133615 \r\nL 151.316991 149.962627 \r\nL 151.486274 149.85576 \r\nL 151.621699 149.727519 \r\nL 151.734554 211.742701 \r\nL 151.790981 211.742701 \r\nL 151.903836 149.674085 \r\nL 152.005405 149.567217 \r\nL 152.140831 149.417603 \r\nL 152.327042 149.300049 \r\nL 152.451182 149.203868 \r\nL 152.59225 149.086314 \r\nL 152.733319 148.990133 \r\nL 152.896958 148.787085 \r\nL 153.06624 148.680218 \r\nL 153.212951 148.54129 \r\nL 153.365305 148.434422 \r\nL 153.483803 148.348929 \r\nL 153.596658 211.742701 \r\nL 153.653085 211.732015 \r\nL 153.76594 148.284808 \r\nL 153.844938 148.199314 \r\nL 153.969078 148.103133 \r\nL 154.087576 147.996266 \r\nL 154.217359 147.857338 \r\nL 154.341499 147.750471 \r\nL 154.522067 147.643603 \r\nL 154.663135 147.536736 \r\nL 154.854988 147.408495 \r\nL 154.9622 147.301627 \r\nL 155.204838 147.077206 \r\nL 155.345906 147.002399 \r\nL 155.357192 213.75181 \r\nL 155.458761 213.741123 \r\nL 155.515188 213.741123 \r\nL 155.628043 211.721328 \r\nL 155.684471 211.699954 \r\nL 155.797325 146.927591 \r\nL 155.91018 146.820724 \r\nL 156.203602 146.500122 \r\nL 156.333385 146.403941 \r\nL 156.457526 146.286387 \r\nL 156.57038 146.179519 \r\nL 156.717092 146.051278 \r\nL 156.824304 145.944411 \r\nL 157.050013 145.752049 \r\nL 157.247509 145.645182 \r\nL 157.377292 145.506254 \r\nL 157.490147 211.699954 \r\nL 157.546574 211.699954 \r\nL 157.659429 145.42076 \r\nL 157.777926 145.32458 \r\nL 157.93028 145.164278 \r\nL 158.020564 145.057411 \r\nL 158.274487 144.811616 \r\nL 158.347843 144.704748 \r\nL 158.641265 144.384146 \r\nL 158.737192 144.277279 \r\nL 159.06447 143.892556 \r\nL 159.182968 143.796375 \r\nL 159.239395 143.764315 \r\nL 159.35225 211.699954 \r\nL 159.408678 211.699954 \r\nL 159.521532 143.646761 \r\nL 159.792384 143.368905 \r\nL 159.843168 143.262038 \r\nL 160.193018 142.834568 \r\nL 160.288945 142.727701 \r\nL 160.435656 142.588773 \r\nL 160.565439 142.481905 \r\nL 160.796791 142.278857 \r\nL 160.892718 142.17199 \r\nL 161.101499 141.968942 \r\nL 161.135355 211.699954 \r\nL 161.214354 211.689268 \r\nL 161.270781 211.678581 \r\nL 161.383636 141.872761 \r\nL 161.507776 141.77658 \r\nL 161.682701 141.541472 \r\nL 161.812484 141.434604 \r\nL 162.088978 141.146062 \r\nL 162.201833 141.049882 \r\nL 162.359829 140.878894 \r\nL 162.461399 140.7934 \r\nL 162.596824 140.654472 \r\nL 162.658894 140.547604 \r\nL 162.79432 140.451424 \r\nL 162.895889 140.344556 \r\nL 162.963602 140.312496 \r\nL 163.070814 211.678581 \r\nL 163.076457 211.667894 \r\nL 163.132884 211.657208 \r\nL 163.245739 140.173568 \r\nL 163.663302 139.617858 \r\nL 163.781799 139.51099 \r\nL 164.114721 139.115581 \r\nL 164.227576 139.008713 \r\nL 164.487142 138.752231 \r\nL 164.571783 138.645364 \r\nL 164.729779 138.474376 \r\nL 164.825706 138.388882 \r\nL 164.904704 211.657208 \r\nL 164.938561 211.646521 \r\nL 164.994988 211.625147 \r\nL 165.107843 138.271328 \r\nL 165.373051 138.004159 \r\nL 165.440764 137.897292 \r\nL 165.745472 137.555316 \r\nL 165.892183 137.448448 \r\nL 166.05018 137.266774 \r\nL 166.163035 137.159906 \r\nL 166.371816 136.999605 \r\nL 166.445172 136.903424 \r\nL 166.631382 136.625569 \r\nL 166.687809 136.550762 \r\nL 166.761165 211.625147 \r\nL 166.800664 211.614461 \r\nL 166.857091 211.614461 \r\nL 166.969946 136.433208 \r\nL 167.319796 136.005738 \r\nL 167.41008 135.920244 \r\nL 167.562434 135.685135 \r\nL 167.793786 135.482087 \r\nL 167.878427 135.37522 \r\nL 168.329846 134.755389 \r\nL 168.448344 134.648521 \r\nL 168.549913 134.509593 \r\nL 168.600697 211.614461 \r\nL 168.662768 211.603774 \r\nL 168.719195 211.593087 \r\nL 168.83205 134.370666 \r\nL 168.916691 134.263798 \r\nL 169.469679 133.451606 \r\nL 169.531749 133.355425 \r\nL 169.701031 133.131003 \r\nL 169.785672 133.024136 \r\nL 170.169379 132.532546 \r\nL 170.242734 132.425678 \r\nL 170.406374 132.233317 \r\nL 170.412016 132.22263 \r\nL 170.524871 211.593087 \r\nL 170.581298 211.593087 \r\nL 170.694153 132.083702 \r\nL 170.795722 131.976835 \r\nL 171.26407 131.324943 \r\nL 171.314854 131.260823 \r\nL 171.455923 130.961594 \r\nL 172.133051 129.914293 \r\nL 172.195121 129.807425 \r\nL 172.27412 129.700558 \r\nL 172.285405 211.593087 \r\nL 172.386975 211.571714 \r\nL 172.443402 211.561027 \r\nL 172.556257 129.550944 \r\nL 172.607041 129.486823 \r\nL 172.742467 129.187594 \r\nL 172.804537 129.091414 \r\nL 173.007676 128.749438 \r\nL 174.012083 127.082305 \r\nL 174.085439 126.975438 \r\nL 174.136223 126.889944 \r\nL 174.249078 213.741123 \r\nL 174.305505 213.741123 \r\nL 174.41836 211.561027 \r\nL 174.474788 211.561027 \r\nL 174.587642 126.697583 \r\nL 174.914921 126.31286 \r\nL 174.965706 126.205992 \r\nL 175.134988 125.981571 \r\nL 175.230914 125.874703 \r\nL 175.710547 125.201438 \r\nL 175.795188 125.094571 \r\nL 175.96447 124.880836 \r\nL 176.054754 124.784655 \r\nL 176.167609 124.592294 \r\nL 176.280464 211.561027 \r\nL 176.336891 211.561027 \r\nL 176.449746 124.442679 \r\nL 176.816524 123.983149 \r\nL 176.895522 123.876282 \r\nL 177.296156 123.352631 \r\nL 177.363869 123.245764 \r\nL 177.538794 122.999969 \r\nL 177.617793 122.893101 \r\nL 178.029712 122.326704 \r\nL 178.142567 211.561027 \r\nL 178.198995 211.561027 \r\nL 178.311849 122.177089 \r\nL 179.03412 121.044294 \r\nL 179.073619 120.937427 \r\nL 179.891816 119.537463 \r\nL 180.004671 211.561027 \r\nL 180.061098 211.561027 \r\nL 180.173953 119.355789 \r\nL 180.76644 118.468789 \r\nL 180.879295 118.361921 \r\nL 181.753919 116.662729 \r\nL 181.770848 211.561027 \r\nL 181.866774 211.55034 \r\nL 181.923201 211.55034 \r\nL 182.036056 116.470367 \r\nL 183.19846 114.504006 \r\nL 183.26053 114.407826 \r\nL 183.553953 113.713187 \r\nL 183.616023 113.63838 \r\nL 183.67245 211.55034 \r\nL 183.728878 211.539653 \r\nL 183.785305 211.528967 \r\nL 183.89816 113.424645 \r\nL 183.954587 113.317778 \r\nL 185.478126 110.51785 \r\nL 185.590981 211.528967 \r\nL 185.647408 211.528967 \r\nL 185.760263 110.400296 \r\nL 186.025472 109.823212 \r\nL 186.076257 109.716344 \r\nL 186.211682 109.406429 \r\nL 186.584103 108.476682 \r\nL 186.753385 108.145393 \r\nL 186.821098 108.038525 \r\nL 187.34023 107.087405 \r\nL 187.453085 211.528967 \r\nL 187.509512 211.51828 \r\nL 187.622367 106.84161 \r\nL 187.786006 106.531694 \r\nL 188.491348 104.960743 \r\nL 188.756557 104.372972 \r\nL 188.829913 104.276791 \r\nL 189.033051 103.934815 \r\nL 189.089479 103.827948 \r\nL 189.202333 103.592839 \r\nL 189.270046 211.51828 \r\nL 189.315188 211.507593 \r\nL 189.371615 211.507593 \r\nL 189.48447 103.368418 \r\nL 190.240597 101.701285 \r\nL 190.449378 101.337936 \r\nL 191.064437 99.959346 \r\nL 191.143435 211.507593 \r\nL 191.177292 211.496906 \r\nL 191.233719 211.496906 \r\nL 191.346574 99.745611 \r\nL 192.136557 98.484575 \r\nL 192.187342 98.377708 \r\nL 192.650046 97.330407 \r\nL 192.791115 96.838816 \r\nL 192.853185 96.731949 \r\nL 192.92654 96.550274 \r\nL 192.937826 213.741123 \r\nL 193.039395 213.730436 \r\nL 193.095822 213.698376 \r\nL 193.208677 211.496906 \r\nL 193.265105 211.496906 \r\nL 193.377959 96.315166 \r\nL 193.52467 96.03731 \r\nL 193.569812 95.962503 \r\nL 193.722166 95.556407 \r\nL 194.382367 94.10301 \r\nL 194.529078 93.750347 \r\nL 194.726574 93.151889 \r\nL 194.94664 92.521371 \r\nL 194.957926 92.489311 \r\nL 195.003068 211.496906 \r\nL 195.070781 211.475533 \r\nL 195.127208 211.475533 \r\nL 195.240063 92.190082 \r\nL 195.279562 92.093901 \r\nL 195.403702 91.730552 \r\nL 195.730981 90.886299 \r\nL 195.89462 90.458829 \r\nL 195.939762 90.351962 \r\nL 196.12033 89.774878 \r\nL 196.261398 89.358095 \r\nL 196.549178 88.642083 \r\nL 196.678961 88.182553 \r\nL 196.820029 87.840577 \r\nL 196.932884 211.475533 \r\nL 196.989312 211.454159 \r\nL 197.102166 87.605468 \r\nL 197.389946 86.825336 \r\nL 197.576156 86.387179 \r\nL 197.942934 85.478806 \r\nL 198.095288 85.008589 \r\nL 198.123502 84.901722 \r\nL 198.281498 84.324638 \r\nL 198.304069 84.21777 \r\nL 198.682133 83.362831 \r\nL 198.687776 211.454159 \r\nL 198.794988 211.422099 \r\nL 198.851415 211.422099 \r\nL 198.96427 83.074288 \r\nL 199.110981 82.646819 \r\nL 199.477759 81.674325 \r\nL 199.528544 81.578144 \r\nL 199.714754 81.139988 \r\nL 199.951749 80.477409 \r\nL 200.137959 79.900325 \r\nL 200.544236 78.671349 \r\nL 200.606306 211.422099 \r\nL 200.657091 211.411412 \r\nL 200.713518 211.400726 \r\nL 200.826373 78.414867 \r\nL 201.04644 77.773663 \r\nL 201.23265 77.185892 \r\nL 201.497859 76.459193 \r\nL 201.638927 75.97829 \r\nL 201.819495 75.433266 \r\nL 201.881565 75.326398 \r\nL 202.40634 73.392097 \r\nL 202.462767 211.400726 \r\nL 202.519195 211.390039 \r\nL 202.575622 211.390039 \r\nL 202.688477 73.028748 \r\nL 202.823902 72.665399 \r\nL 202.885973 72.558531 \r\nL 203.049612 71.928013 \r\nL 203.072183 71.821146 \r\nL 203.348677 71.073073 \r\nL 203.495388 70.645604 \r\nL 203.70417 70.025772 \r\nL 203.969378 69.149459 \r\nL 204.268443 67.909797 \r\nL 204.274086 211.390039 \r\nL 204.381298 211.379352 \r\nL 204.437725 211.379352 \r\nL 204.55058 67.493014 \r\nL 204.629579 67.140351 \r\nL 204.781932 66.55258 \r\nL 205.43649 64.500725 \r\nL 205.470346 64.404544 \r\nL 205.628343 64.030508 \r\nL 205.645271 63.945014 \r\nL 205.808911 63.346557 \r\nL 205.921766 62.919087 \r\nL 206.085405 62.288569 \r\nL 206.119261 62.181701 \r\nL 206.130547 62.096207 \r\nL 206.153118 211.379352 \r\nL 206.243402 211.357979 \r\nL 206.299829 211.357979 \r\nL 206.412684 61.658051 \r\nL 207.304236 57.864256 \r\nL 207.51866 57.073437 \r\nL 207.541231 56.96657 \r\nL 207.721799 56.389485 \r\nL 207.99265 55.384931 \r\nL 208.020864 211.357979 \r\nL 208.105505 211.347292 \r\nL 208.161932 211.347292 \r\nL 208.274787 55.107076 \r\nL 208.427141 54.508618 \r\nL 208.506139 54.155956 \r\nL 208.641565 53.685739 \r\nL 208.822133 52.89492 \r\nL 209.296123 50.672077 \r\nL 209.634687 49.378981 \r\nL 209.691114 49.272113 \r\nL 209.854754 48.88739 \r\nL 209.967609 211.347292 \r\nL 210.024036 211.347292 \r\nL 210.136891 48.438547 \r\nL 210.277959 47.90421 \r\nL 210.334387 47.797342 \r\nL 210.701164 46.333258 \r\nL 210.723735 46.269138 \r\nL 210.943802 45.21115 \r\nL 211.017158 44.858487 \r\nL 211.169512 44.26003 \r\nL 211.203368 44.153162 \r\nL 211.327508 43.736379 \r\nL 211.491148 43.00968 \r\nL 211.604003 42.560837 \r\nL 211.716857 41.919632 \r\nL 211.728143 213.698376 \r\nL 211.829712 213.655629 \r\nL 211.886139 213.655629 \r\nL 211.998994 211.347292 \r\nL 212.055422 211.347292 \r\nL 212.168276 41.406669 \r\nL 212.4222 40.305934 \r\nL 212.439128 40.231127 \r\nL 212.591482 39.579235 \r\nL 212.614053 39.472368 \r\nL 212.862333 38.692235 \r\nL 213.009044 37.751802 \r\nL 213.172684 37.025103 \r\nL 213.488677 35.838874 \r\nL 213.522533 35.732007 \r\nL 213.590246 35.379344 \r\nL 213.748243 34.727453 \r\nL 213.855455 211.347292 \r\nL 213.861098 211.336605 \r\nL 213.917525 211.336605 \r\nL 214.03038 34.364103 \r\nL 214.645438 31.489369 \r\nL 214.696223 31.179453 \r\nL 214.921932 30.078719 \r\nL 214.955789 29.971851 \r\nL 215.096857 28.977984 \r\nL 215.418493 27.332225 \r\nL 215.610346 26.562779 \r\nL 215.672417 211.336605 \r\nL 215.723201 211.325918 \r\nL 215.779629 211.325918 \r\nL 215.892483 25.857454 \r\nL 216.016624 25.440671 \r\nL 216.168977 24.649852 \r\nL 216.225405 24.542985 \r\nL 216.693752 22.405636 \r\nL 216.834821 21.550696 \r\nL 217.241098 19.701889 \r\nL 217.393452 18.4836 \r\nL 217.461164 18.205745 \r\nL 217.47245 18.077504 \r\nL 217.585305 211.315232 \r\nL 217.641732 211.315232 \r\nL 217.754587 17.457672 \r\nL 217.811014 17.083636 \r\nL 217.923869 211.315232 \r\nL 218.826707 211.208364 \r\nL 218.83235 213.655629 \r\nL 218.939562 213.623569 \r\nL 218.995989 213.623569 \r\nL 219.108844 211.208364 \r\nL 220.68881 211.12287 \r\nL 220.717024 214.425075 \r\nL 220.801665 214.360954 \r\nL 220.858093 214.318207 \r\nL 220.970947 213.623569 \r\nL 221.027375 213.623569 \r\nL 221.140229 211.12287 \r\nL 222.720196 211.02669 \r\nL 222.731482 213.623569 \r\nL 222.833051 213.602195 \r\nL 222.889478 213.591508 \r\nL 223.002333 210.994629 \r\nL 224.5823 210.919822 \r\nL 224.695154 213.591508 \r\nL 224.751582 213.580822 \r\nL 224.864436 210.909135 \r\nL 226.25255 210.802268 \r\nL 226.387976 210.780894 \r\nL 226.444403 210.780894 \r\nL 226.54033 213.580822 \r\nL 226.557258 213.559448 \r\nL 226.613685 213.559448 \r\nL 226.72654 210.780894 \r\nL 228.306507 210.6954 \r\nL 228.312149 213.559448 \r\nL 228.419361 213.516701 \r\nL 228.475789 213.506014 \r\nL 228.588643 210.6954 \r\nL 230.16861 210.59922 \r\nL 230.174253 213.506014 \r\nL 230.281465 213.473954 \r\nL 230.337892 213.473954 \r\nL 230.450747 210.588533 \r\nL 232.030714 210.492352 \r\nL 232.047642 213.473954 \r\nL 232.143568 213.463267 \r\nL 232.199996 213.463267 \r\nL 232.31285 210.481666 \r\nL 233.892817 210.396172 \r\nL 234.005672 213.463267 \r\nL 234.062099 213.452581 \r\nL 234.174954 210.374798 \r\nL 235.75492 210.278617 \r\nL 235.766206 213.452581 \r\nL 235.867775 213.441894 \r\nL 235.924203 213.441894 \r\nL 236.037057 210.267931 \r\nL 237.498526 210.161063 \r\nL 237.617024 210.13969 \r\nL 237.729879 213.441894 \r\nL 237.786306 213.431207 \r\nL 237.899161 210.13969 \r\nL 239.479127 210.043509 \r\nL 239.552483 214.318207 \r\nL 239.591982 214.296834 \r\nL 239.64841 214.254087 \r\nL 239.761264 213.431207 \r\nL 239.817692 213.409834 \r\nL 239.930546 210.022135 \r\nL 241.510513 209.947328 \r\nL 241.623368 213.409834 \r\nL 241.679795 213.399147 \r\nL 241.79265 209.947328 \r\nL 241.928076 209.925955 \r\nL 242.983268 209.819087 \r\nL 243.113051 209.808401 \r\nL 243.372617 209.808401 \r\nL 243.440329 213.399147 \r\nL 243.485471 213.38846 \r\nL 243.541899 213.367087 \r\nL 243.654753 209.808401 \r\nL 244.913084 209.701533 \r\nL 245.04851 209.68016 \r\nL 245.23472 209.669473 \r\nL 245.257291 213.367087 \r\nL 245.347575 213.345713 \r\nL 245.404002 213.335027 \r\nL 245.516857 209.669473 \r\nL 247.096824 209.573292 \r\nL 247.141965 213.335027 \r\nL 247.209678 213.313653 \r\nL 247.266106 213.313653 \r\nL 247.37896 209.562605 \r\nL 248.733218 209.455738 \r\nL 248.874286 209.423678 \r\nL 248.958927 209.412991 \r\nL 248.981498 213.313653 \r\nL 249.071782 213.302966 \r\nL 249.128209 213.302966 \r\nL 249.241064 209.402304 \r\nL 250.821031 209.338184 \r\nL 250.933885 213.302966 \r\nL 250.990313 213.29228 \r\nL 251.103167 209.327497 \r\nL 252.683134 209.22063 \r\nL 252.71699 213.29228 \r\nL 252.795989 213.270906 \r\nL 252.852416 213.270906 \r\nL 252.965271 209.188569 \r\nL 254.545237 209.081702 \r\nL 254.584737 213.270906 \r\nL 254.658092 213.238846 \r\nL 254.71452 213.238846 \r\nL 254.827374 209.071015 \r\nL 256.142132 208.964148 \r\nL 256.283201 208.932087 \r\nL 256.407341 208.921401 \r\nL 256.429912 213.228159 \r\nL 256.520196 213.217472 \r\nL 256.576623 213.217472 \r\nL 256.689478 208.921401 \r\nL 258.269444 208.835907 \r\nL 258.314586 214.254087 \r\nL 258.382299 214.21134 \r\nL 258.438727 214.189966 \r\nL 258.551581 213.196099 \r\nL 258.608009 213.196099 \r\nL 258.720863 208.814533 \r\nL 259.956623 208.707666 \r\nL 260.097692 208.675606 \r\nL 260.30083 208.675606 \r\nL 260.306473 213.196099 \r\nL 260.413685 213.185412 \r\nL 260.470112 213.185412 \r\nL 260.582967 208.643545 \r\nL 262.162934 208.547365 \r\nL 262.275788 213.185412 \r\nL 262.332216 213.164039 \r\nL 262.44507 208.547365 \r\nL 263.613117 208.440497 \r\nL 263.7429 208.42981 \r\nL 264.025037 208.408437 \r\nL 264.137892 213.164039 \r\nL 264.194319 213.142665 \r\nL 264.307174 208.39775 \r\nL 265.509077 208.290883 \r\nL 265.644503 208.269509 \r\nL 265.887141 208.237449 \r\nL 265.999995 213.142665 \r\nL 266.056423 213.142665 \r\nL 266.169277 208.237449 \r\nL 267.698459 208.130582 \r\nL 267.749244 208.119895 \r\nL 267.856456 213.142665 \r\nL 267.862099 213.131978 \r\nL 267.918526 213.131978 \r\nL 268.031381 208.109208 \r\nL 269.346139 208.002341 \r\nL 269.487207 207.97028 \r\nL 269.611348 207.97028 \r\nL 269.701631 213.131978 \r\nL 269.724202 213.110605 \r\nL 269.78063 213.110605 \r\nL 269.893484 207.948907 \r\nL 271.10103 207.842039 \r\nL 271.236456 207.820666 \r\nL 271.473451 207.799292 \r\nL 271.496022 213.110605 \r\nL 271.586306 213.067858 \r\nL 271.642733 213.057171 \r\nL 271.755588 207.777919 \r\nL 273.228342 207.671052 \r\nL 273.335554 207.660365 \r\nL 273.448409 213.057171 \r\nL 273.504837 213.057171 \r\nL 273.617691 207.660365 \r\nL 274.5431 207.553497 \r\nL 274.678526 207.532124 \r\nL 275.197658 207.47869 \r\nL 275.259728 213.057171 \r\nL 275.310513 213.046484 \r\nL 275.36694 213.035798 \r\nL 275.479795 207.47869 \r\nL 276.980763 207.371823 \r\nL 277.059761 207.361136 \r\nL 277.065404 214.189966 \r\nL 277.172616 214.136532 \r\nL 277.229044 214.115159 \r\nL 277.341898 213.035798 \r\nL 277.398326 213.025111 \r\nL 277.51118 207.339762 \r\nL 278.306807 207.232895 \r\nL 278.43659 207.222208 \r\nL 279.091147 207.126028 \r\nL 279.108075 213.025111 \r\nL 279.204002 213.014424 \r\nL 279.260429 213.014424 \r\nL 279.373284 207.126028 \r\nL 280.671114 207.01916 \r\nL 280.806539 206.997787 \r\nL 280.953251 206.9871 \r\nL 281.066105 213.014424 \r\nL 281.122533 213.003737 \r\nL 281.235387 206.9871 \r\nL 282.363935 206.880232 \r\nL 282.505003 206.848172 \r\nL 282.815354 206.816112 \r\nL 282.871781 213.003737 \r\nL 282.928209 212.993051 \r\nL 282.984636 212.993051 \r\nL 283.097491 206.794738 \r\nL 284.553317 206.687871 \r\nL 284.677458 206.655811 \r\nL 284.790312 212.993051 \r\nL 284.84674 212.993051 \r\nL 284.959594 206.62375 \r\nL 285.986573 206.516883 \r\nL 286.127641 206.484823 \r\nL 286.539561 206.431389 \r\nL 286.562132 212.993051 \r\nL 286.652416 212.982364 \r\nL 286.708843 212.982364 \r\nL 286.821698 206.410016 \r\nL 287.927675 206.303148 \r\nL 288.080028 206.249714 \r\nL 288.401665 206.217654 \r\nL 288.458092 212.982364 \r\nL 288.514519 212.96099 \r\nL 288.570947 212.939617 \r\nL 288.683801 206.217654 \r\nL 289.355287 206.110787 \r\nL 289.507641 206.057353 \r\nL 290.038059 205.950486 \r\nL 290.173484 205.929112 \r\nL 290.263768 205.918425 \r\nL 290.275053 212.939617 \r\nL 290.376623 212.918243 \r\nL 290.43305 212.907557 \r\nL 290.545905 205.918425 \r\nL 291.223033 205.811558 \r\nL 291.375387 205.758124 \r\nL 292.046873 205.651257 \r\nL 292.125872 205.64057 \r\nL 292.233084 212.907557 \r\nL 292.238726 212.89687 \r\nL 292.295154 212.89687 \r\nL 292.408008 205.629883 \r\nL 292.938426 205.523016 \r\nL 293.073851 205.501642 \r\nL 293.671982 205.394775 \r\nL 293.824336 205.341341 \r\nL 293.987975 205.319968 \r\nL 294.03876 212.89687 \r\nL 294.10083 212.875496 \r\nL 294.157257 212.854123 \r\nL 294.270112 205.298594 \r\nL 294.794887 205.191727 \r\nL 294.94724 205.138293 \r\nL 295.703367 205.031425 \r\nL 295.838793 205.010052 \r\nL 295.850078 205.010052 \r\nL 295.878292 214.093785 \r\nL 295.962933 214.061725 \r\nL 296.019361 214.040352 \r\nL 296.132215 212.854123 \r\nL 296.188643 212.854123 \r\nL 296.301498 204.999365 \r\nL 297.06891 204.892498 \r\nL 297.198693 204.881811 \r\nL 297.661397 204.774944 \r\nL 297.802466 204.742883 \r\nL 297.881464 204.742883 \r\nL 297.932249 212.854123 \r\nL 297.994319 212.843436 \r\nL 298.050746 212.843436 \r\nL 298.163601 204.732197 \r\nL 298.812516 204.625329 \r\nL 298.936656 204.571895 \r\nL 299.472716 204.465028 \r\nL 299.613785 204.432968 \r\nL 299.743568 204.411594 \r\nL 299.856422 212.843436 \r\nL 299.91285 212.843436 \r\nL 300.025704 204.400907 \r\nL 300.381197 204.29404 \r\nL 300.533551 204.240606 \r\nL 301.052683 204.133739 \r\nL 301.193751 204.101679 \r\nL 301.605671 204.016185 \r\nL 301.718526 212.843436 \r\nL 301.774953 212.843436 \r\nL 301.887808 203.994811 \r\nL 302.485938 203.887944 \r\nL 302.643935 203.823823 \r\nL 303.270279 203.716956 \r\nL 303.41699 203.674209 \r\nL 303.467775 203.663522 \r\nL 303.518559 212.843436 \r\nL 303.580629 212.832749 \r\nL 303.637057 212.832749 \r\nL 303.749911 203.631462 \r\nL 304.246472 203.524594 \r\nL 304.398826 203.471161 \r\nL 304.917958 203.364293 \r\nL 305.070312 203.310859 \r\nL 305.329878 203.278799 \r\nL 305.442733 212.832749 \r\nL 305.49916 212.822063 \r\nL 305.612015 203.257426 \r\nL 306.193217 203.150558 \r\nL 306.334285 203.118498 \r\nL 306.830846 203.011631 \r\nL 306.977557 202.968884 \r\nL 307.191982 202.936823 \r\nL 307.304836 212.822063 \r\nL 307.361264 212.811376 \r\nL 307.474118 202.926137 \r\nL 308.534953 202.819269 \r\nL 308.687307 202.765835 \r\nL 308.884803 202.701715 \r\nL 308.907374 212.811376 \r\nL 308.997658 212.768629 \r\nL 309.392649 212.704509 \r\nL 309.409578 214.040352 \r\nL 309.505504 214.029665 \r\nL 309.561931 214.029665 \r\nL 309.674786 201.718534 \r\nL 310.103634 201.611667 \r\nL 310.255988 201.558233 \r\nL 310.780763 201.451366 \r\nL 310.921831 201.419306 \r\nL 311.254753 201.365872 \r\nL 311.271681 212.683135 \r\nL 311.367608 212.672448 \r\nL 311.424035 212.672448 \r\nL 311.53689 201.355185 \r\nL 312.005237 201.248318 \r\nL 312.146305 201.216257 \r\nL 312.541297 201.10939 \r\nL 312.676723 201.088016 \r\nL 313.116856 201.045269 \r\nL 313.139427 212.672448 \r\nL 313.229711 212.661762 \r\nL 313.286138 212.651075 \r\nL 313.398993 201.013209 \r\nL 313.918125 200.906342 \r\nL 314.053551 200.884968 \r\nL 314.849177 200.778101 \r\nL 314.97896 200.746041 \r\nL 315.091815 212.651075 \r\nL 315.148242 212.651075 \r\nL 315.261097 200.746041 \r\nL 315.695587 200.639173 \r\nL 315.842299 200.596426 \r\nL 316.609711 200.489559 \r\nL 316.739494 200.478872 \r\nL 316.841063 200.478872 \r\nL 316.852349 212.651075 \r\nL 316.953918 212.640388 \r\nL 317.010345 212.640388 \r\nL 317.1232 200.457498 \r\nL 317.693117 200.350631 \r\nL 317.828542 200.329258 \r\nL 318.161464 200.22239 \r\nL 318.29689 200.201017 \r\nL 318.703167 200.147583 \r\nL 318.708809 212.640388 \r\nL 318.816021 212.629701 \r\nL 318.872449 212.619015 \r\nL 318.985304 200.126209 \r\nL 319.436723 200.019342 \r\nL 319.577791 199.987282 \r\nL 320.130779 199.880414 \r\nL 320.266205 199.859041 \r\nL 320.56527 199.82698 \r\nL 320.678125 212.619015 \r\nL 320.734552 212.619015 \r\nL 320.847407 199.79492 \r\nL 321.219828 199.688053 \r\nL 321.377824 199.623932 \r\nL 322.128309 199.517065 \r\nL 322.263734 199.495691 \r\nL 322.427374 199.485005 \r\nL 322.540228 212.619015 \r\nL 322.596656 212.619015 \r\nL 322.709511 199.452944 \r\nL 323.166572 199.346077 \r\nL 323.318926 199.292643 \r\nL 324.001698 199.185776 \r\nL 324.142766 199.153716 \r\nL 324.289477 199.143029 \r\nL 324.402332 212.619015 \r\nL 324.458759 212.619015 \r\nL 324.571614 199.132342 \r\nL 324.712683 199.100282 \r\nL 325.11896 198.993414 \r\nL 325.271314 198.939981 \r\nL 326.151581 198.8438 \r\nL 326.185437 212.619015 \r\nL 326.264435 212.586954 \r\nL 326.320863 212.576268 \r\nL 326.433718 198.81174 \r\nL 327.150345 198.704872 \r\nL 327.302699 198.651439 \r\nL 327.934686 198.544571 \r\nL 328.013684 198.523198 \r\nL 328.126539 214.029665 \r\nL 328.182966 213.997605 \r\nL 328.295821 212.576268 \r\nL 328.352248 212.576268 \r\nL 328.465103 198.512511 \r\nL 328.939093 198.405643 \r\nL 329.074519 198.38427 \r\nL 329.413083 198.277402 \r\nL 329.57108 198.213282 \r\nL 330.04507 198.127788 \r\nL 330.157925 212.576268 \r\nL 330.214352 212.565581 \r\nL 330.327207 198.117101 \r\nL 330.761697 198.010234 \r\nL 330.919694 197.946113 \r\nL 331.280829 197.839246 \r\nL 331.421898 197.807186 \r\nL 331.907173 197.732378 \r\nL 331.980529 212.554894 \r\nL 332.020028 212.544207 \r\nL 332.076455 212.544207 \r\nL 332.18931 197.700318 \r\nL 332.60123 197.593451 \r\nL 332.759227 197.52933 \r\nL 333.250145 197.422463 \r\nL 333.379928 197.411776 \r\nL 333.769277 197.304909 \r\nL 333.791848 212.544207 \r\nL 333.882132 212.512147 \r\nL 333.938559 212.512147 \r\nL 334.051414 197.272848 \r\nL 334.491547 197.165981 \r\nL 334.632616 197.133921 \r\nL 335.055821 197.027053 \r\nL 335.208175 196.97362 \r\nL 335.614452 196.866752 \r\nL 335.63138 196.856065 \r\nL 335.659594 212.512147 \r\nL 335.744235 212.50146 \r\nL 335.800662 212.50146 \r\nL 335.913517 196.813318 \r\nL 336.280295 196.706451 \r\nL 336.427006 196.663704 \r\nL 336.771213 196.556836 \r\nL 336.923567 196.503403 \r\nL 337.369344 196.396535 \r\nL 337.493484 196.353788 \r\nL 337.606338 212.50146 \r\nL 337.662766 212.490774 \r\nL 337.775621 196.321728 \r\nL 337.916689 196.289668 \r\nL 338.339894 196.1828 \r\nL 338.47532 196.161427 \r\nL 338.813884 196.054559 \r\nL 338.966238 196.001126 \r\nL 339.310445 195.894258 \r\nL 339.355587 195.872885 \r\nL 339.417657 212.480087 \r\nL 339.468442 212.4694 \r\nL 339.524869 212.4694 \r\nL 339.637724 195.851511 \r\nL 340.004502 195.744644 \r\nL 340.139928 195.72327 \r\nL 340.523634 195.616403 \r\nL 340.681631 195.552282 \r\nL 341.003267 195.445415 \r\nL 341.155621 195.391981 \r\nL 341.217691 195.381294 \r\nL 341.330545 212.4694 \r\nL 341.386973 212.4694 \r\nL 341.499828 195.349234 \r\nL 341.821464 195.242367 \r\nL 341.985103 195.16756 \r\nL 342.487307 195.060692 \r\nL 342.645303 194.996572 \r\nL 343.006439 194.889704 \r\nL 343.079794 194.846957 \r\nL 343.192649 212.4694 \r\nL 343.249076 212.458713 \r\nL 343.361931 194.80421 \r\nL 343.818993 194.697343 \r\nL 343.943133 194.654596 \r\nL 344.089844 194.611849 \r\nL 344.371981 194.504981 \r\nL 344.529978 194.440861 \r\nL 344.857257 194.333993 \r\nL 344.941898 194.31262 \r\nL 344.98704 212.458713 \r\nL 345.054752 212.426653 \r\nL 345.11118 212.426653 \r\nL 345.224035 194.291246 \r\nL 345.556956 194.184379 \r\nL 345.726238 194.098885 \r\nL 346.166372 193.992018 \r\nL 346.318726 193.938584 \r\nL 346.764502 193.842403 \r\nL 346.804001 193.799656 \r\nL 346.815287 213.997605 \r\nL 346.916856 213.944171 \r\nL 346.973283 213.944171 \r\nL 347.086138 212.426653 \r\nL 347.142565 212.426653 \r\nL 347.25542 193.778283 \r\nL 347.402131 193.735536 \r\nL 347.797123 193.628668 \r\nL 347.943834 193.585921 \r\nL 348.434752 193.479054 \r\nL 348.570178 193.45768 \r\nL 348.835387 193.382873 \r\nL 348.948242 212.426653 \r\nL 349.004669 212.426653 \r\nL 349.117524 193.372186 \r\nL 349.642298 193.265319 \r\nL 349.794652 193.211885 \r\nL 350.32507 193.105018 \r\nL 350.477424 193.051584 \r\nL 350.69749 192.99815 \r\nL 350.810345 212.426653 \r\nL 350.866772 212.426653 \r\nL 350.979627 192.987464 \r\nL 351.442332 192.880596 \r\nL 351.5834 192.848536 \r\nL 352.079961 192.741668 \r\nL 352.226672 192.698921 \r\nL 352.559594 192.624114 \r\nL 352.649878 212.426653 \r\nL 352.672449 212.415966 \r\nL 352.728876 212.415966 \r\nL 352.841731 192.613427 \r\nL 353.315721 192.517247 \r\nL 353.451146 192.431753 \r\nL 353.863066 192.324885 \r\nL 354.009777 192.282138 \r\nL 354.252415 192.175271 \r\nL 354.393484 192.143211 \r\nL 354.421697 192.143211 \r\nL 354.48941 212.415966 \r\nL 354.534552 212.394593 \r\nL 354.590979 212.383906 \r\nL 354.703834 192.121837 \r\nL 355.048041 192.01497 \r\nL 355.200395 191.961536 \r\nL 355.465604 191.854669 \r\nL 355.6236 191.790548 \r\nL 356.007307 191.683681 \r\nL 356.165303 191.61956 \r\nL 356.283801 191.576813 \r\nL 356.396656 212.383906 \r\nL 356.453083 212.362533 \r\nL 356.565938 191.544753 \r\nL 356.870645 191.437885 \r\nL 357.017357 191.395138 \r\nL 357.401063 191.288271 \r\nL 357.553417 191.234837 \r\nL 357.925837 191.12797 \r\nL 358.09512 191.042476 \r\nL 358.145904 191.010416 \r\nL 358.162832 212.362533 \r\nL 358.258759 212.341159 \r\nL 358.315186 212.341159 \r\nL 358.428041 190.989042 \r\nL 358.896388 190.882175 \r\nL 359.048742 190.828741 \r\nL 359.438091 190.721874 \r\nL 359.607373 190.63638 \r\nL 360.008008 190.529512 \r\nL 360.120862 212.341159 \r\nL 360.17729 212.341159 \r\nL 360.290145 190.497452 \r\nL 360.572282 190.390584 \r\nL 360.724635 190.337151 \r\nL 361.074485 190.230283 \r\nL 361.243767 190.144789 \r\nL 361.565403 190.037922 \r\nL 361.734685 189.952428 \r\nL 361.870111 189.920368 \r\nL 361.982966 212.341159 \r\nL 362.039393 212.341159 \r\nL 362.152248 189.877621 \r\nL 362.502098 189.770753 \r\nL 362.665737 189.695946 \r\nL 363.009944 189.589079 \r\nL 363.162298 189.535645 \r\nL 363.500862 189.428777 \r\nL 363.641931 189.396717 \r\nL 363.732215 189.35397 \r\nL 363.845069 212.341159 \r\nL 363.901497 212.341159 \r\nL 364.014352 189.311223 \r\nL 364.256989 189.204356 \r\nL 364.409343 189.150922 \r\nL 364.849477 189.044055 \r\nL 365.001831 188.990621 \r\nL 365.272682 188.883753 \r\nL 365.430679 188.819633 \r\nL 365.594318 188.776886 \r\nL 365.594318 188.776886 \r\n\" style=\"fill:none;stroke:#1f77b4;stroke-linecap:square;stroke-width:1.5;\"/>\r\n   </g>\r\n   <g id=\"patch_3\">\r\n    <path d=\"M 46.0125 224.64 \r\nL 46.0125 7.2 \r\n\" style=\"fill:none;stroke:#000000;stroke-linecap:square;stroke-linejoin:miter;stroke-width:0.8;\"/>\r\n   </g>\r\n   <g id=\"patch_4\">\r\n    <path d=\"M 380.8125 224.64 \r\nL 380.8125 7.2 \r\n\" style=\"fill:none;stroke:#000000;stroke-linecap:square;stroke-linejoin:miter;stroke-width:0.8;\"/>\r\n   </g>\r\n   <g id=\"patch_5\">\r\n    <path d=\"M 46.0125 224.64 \r\nL 380.8125 224.64 \r\n\" style=\"fill:none;stroke:#000000;stroke-linecap:square;stroke-linejoin:miter;stroke-width:0.8;\"/>\r\n   </g>\r\n   <g id=\"patch_6\">\r\n    <path d=\"M 46.0125 7.2 \r\nL 380.8125 7.2 \r\n\" style=\"fill:none;stroke:#000000;stroke-linecap:square;stroke-linejoin:miter;stroke-width:0.8;\"/>\r\n   </g>\r\n  </g>\r\n </g>\r\n <defs>\r\n  <clipPath id=\"pdfbaa0410f\">\r\n   <rect height=\"217.44\" width=\"334.8\" x=\"46.0125\" y=\"7.2\"/>\r\n  </clipPath>\r\n </defs>\r\n</svg>\r\n",
      "image/png": "[encoded data removed]"
     },
     "metadata": {
      "needs_background": "light"
     }
    }
   ],
   "source": [
    "import matplotlib.pyplot as plt\n",
    "plt.plot(dt['price'])"
   ]
  },
  {
   "source": [
    "### 2-3) 아래의 조건에 따라 price2변수를 범주형 변수로 생성 \n",
    "\n",
    "- 1분위수 미만: 'low'\n",
    "\n",
    "- iqr : 'mid' (4분위 범위)\n",
    "\n",
    "- 윗 극단치 경계 이하 : 'high'\n",
    "\n",
    "- 15000미만 : 'vh' (very high)\n",
    "\n",
    "- 그 이상 : 'sp' (special)\n",
    "\n",
    "\n",
    "### 풀이\n",
    "1) price< Q1 : low  \n",
    "2) Q1<= price< iqr : mid  \n",
    "3) iqr<= price < outvalue : high  \n",
    "4) outvalue<= price < 15000 : vh  \n",
    "5) 15000 <= price : sp  \n",
    "\n"
   ],
   "cell_type": "markdown",
   "metadata": {}
  },
  {
   "cell_type": "code",
   "execution_count": 38,
   "metadata": {},
   "outputs": [
    {
     "output_type": "execute_result",
     "data": {
      "text/plain": [
       "   carat      cut color clarity  depth  table  price     x     y     z\n",
       "0   0.23    Ideal     E     SI2   61.5   55.0    326  3.95  3.98  2.43\n",
       "1   0.21  Premium     E     SI1   59.8   61.0    326  3.89  3.84  2.31\n",
       "2   0.23     Good     E     VS1   56.9   65.0    327  4.05  4.07  2.31\n",
       "3   0.29  Premium     I     VS2   62.4   58.0    334  4.20  4.23  2.63\n",
       "4   0.31     Good     J     SI2   63.3   58.0    335  4.34  4.35  2.75"
      ],
      "text/html": "<div>\n<style scoped>\n    .dataframe tbody tr th:only-of-type {\n        vertical-align: middle;\n    }\n\n    .dataframe tbody tr th {\n        vertical-align: top;\n    }\n\n    .dataframe thead th {\n        text-align: right;\n    }\n</style>\n<table border=\"1\" class=\"dataframe\">\n  <thead>\n    <tr style=\"text-align: right;\">\n      <th></th>\n      <th>carat</th>\n      <th>cut</th>\n      <th>color</th>\n      <th>clarity</th>\n      <th>depth</th>\n      <th>table</th>\n      <th>price</th>\n      <th>x</th>\n      <th>y</th>\n      <th>z</th>\n    </tr>\n  </thead>\n  <tbody>\n    <tr>\n      <td>0</td>\n      <td>0.23</td>\n      <td>Ideal</td>\n      <td>E</td>\n      <td>SI2</td>\n      <td>61.5</td>\n      <td>55.0</td>\n      <td>326</td>\n      <td>3.95</td>\n      <td>3.98</td>\n      <td>2.43</td>\n    </tr>\n    <tr>\n      <td>1</td>\n      <td>0.21</td>\n      <td>Premium</td>\n      <td>E</td>\n      <td>SI1</td>\n      <td>59.8</td>\n      <td>61.0</td>\n      <td>326</td>\n      <td>3.89</td>\n      <td>3.84</td>\n      <td>2.31</td>\n    </tr>\n    <tr>\n      <td>2</td>\n      <td>0.23</td>\n      <td>Good</td>\n      <td>E</td>\n      <td>VS1</td>\n      <td>56.9</td>\n      <td>65.0</td>\n      <td>327</td>\n      <td>4.05</td>\n      <td>4.07</td>\n      <td>2.31</td>\n    </tr>\n    <tr>\n      <td>3</td>\n      <td>0.29</td>\n      <td>Premium</td>\n      <td>I</td>\n      <td>VS2</td>\n      <td>62.4</td>\n      <td>58.0</td>\n      <td>334</td>\n      <td>4.20</td>\n      <td>4.23</td>\n      <td>2.63</td>\n    </tr>\n    <tr>\n      <td>4</td>\n      <td>0.31</td>\n      <td>Good</td>\n      <td>J</td>\n      <td>SI2</td>\n      <td>63.3</td>\n      <td>58.0</td>\n      <td>335</td>\n      <td>4.34</td>\n      <td>4.35</td>\n      <td>2.75</td>\n    </tr>\n  </tbody>\n</table>\n</div>"
     },
     "metadata": {},
     "execution_count": 38
    }
   ],
   "source": [
    "dt.head()"
   ]
  },
  {
   "cell_type": "code",
   "execution_count": 50,
   "metadata": {},
   "outputs": [],
   "source": [
    "def solve(price):\n",
    "    Q1 = dt['price'].quantile(.25) # 1분위 수\n",
    "    Q3 = dt['price'].quantile(.75) \n",
    "    iqr=Q3-Q1 #4분위 범위\n",
    "    outvalue=iqr*1.5 #극단치\n",
    "    if price<Q1:\n",
    "        price2='low'\n",
    "    elif Q1<=price<iqr:\n",
    "        price2='mid'\n",
    "    elif iqr<=price<outvalue:\n",
    "        price2='high'\n",
    "    elif outvalue<=price<15000:\n",
    "        price2='vh'\n",
    "    else:\n",
    "        price2='sp'\n",
    "\n",
    "    return price2"
   ]
  },
  {
   "cell_type": "code",
   "execution_count": 52,
   "metadata": {},
   "outputs": [],
   "source": [
    "dt['price2']=dt['price'].apply(solve)"
   ]
  },
  {
   "cell_type": "code",
   "execution_count": 55,
   "metadata": {},
   "outputs": [
    {
     "output_type": "execute_result",
     "data": {
      "text/plain": [
       "array(['low', 'mid', 'high', 'vh', 'sp'], dtype=object)"
      ]
     },
     "metadata": {},
     "execution_count": 55
    }
   ],
   "source": [
    "dt.price2.unique()"
   ]
  },
  {
   "source": [
    "### 2-4) cut 변수와 price2변수는 서로 관련이 있는지 판단\n",
    "- H0 : cut과 price2는 서로 관련이 없다\n",
    "- H1 : cut과 price2는 서로 관련이 있다."
   ],
   "cell_type": "markdown",
   "metadata": {}
  },
  {
   "cell_type": "code",
   "execution_count": 57,
   "metadata": {},
   "outputs": [],
   "source": [
    "dt_cross=pd.crosstab(dt['cut'], dt['price2'])"
   ]
  },
  {
   "cell_type": "code",
   "execution_count": 58,
   "metadata": {},
   "outputs": [
    {
     "output_type": "execute_result",
     "data": {
      "text/plain": [
       "price2     high   low   mid   sp    vh\n",
       "cut                                   \n",
       "Ideal      2200  6304  9482  532  3033\n",
       "Premium    2296  2905  5328  587  2675\n",
       "Very Good  1812  3129  4867  367  1907\n",
       "Good        807  1057  2245  129   668\n",
       "Fair        259    88   980   41   242"
      ],
      "text/html": "<div>\n<style scoped>\n    .dataframe tbody tr th:only-of-type {\n        vertical-align: middle;\n    }\n\n    .dataframe tbody tr th {\n        vertical-align: top;\n    }\n\n    .dataframe thead th {\n        text-align: right;\n    }\n</style>\n<table border=\"1\" class=\"dataframe\">\n  <thead>\n    <tr style=\"text-align: right;\">\n      <th>price2</th>\n      <th>high</th>\n      <th>low</th>\n      <th>mid</th>\n      <th>sp</th>\n      <th>vh</th>\n    </tr>\n    <tr>\n      <th>cut</th>\n      <th></th>\n      <th></th>\n      <th></th>\n      <th></th>\n      <th></th>\n    </tr>\n  </thead>\n  <tbody>\n    <tr>\n      <td>Ideal</td>\n      <td>2200</td>\n      <td>6304</td>\n      <td>9482</td>\n      <td>532</td>\n      <td>3033</td>\n    </tr>\n    <tr>\n      <td>Premium</td>\n      <td>2296</td>\n      <td>2905</td>\n      <td>5328</td>\n      <td>587</td>\n      <td>2675</td>\n    </tr>\n    <tr>\n      <td>Very Good</td>\n      <td>1812</td>\n      <td>3129</td>\n      <td>4867</td>\n      <td>367</td>\n      <td>1907</td>\n    </tr>\n    <tr>\n      <td>Good</td>\n      <td>807</td>\n      <td>1057</td>\n      <td>2245</td>\n      <td>129</td>\n      <td>668</td>\n    </tr>\n    <tr>\n      <td>Fair</td>\n      <td>259</td>\n      <td>88</td>\n      <td>980</td>\n      <td>41</td>\n      <td>242</td>\n    </tr>\n  </tbody>\n</table>\n</div>"
     },
     "metadata": {},
     "execution_count": 58
    }
   ],
   "source": [
    "dt_cross"
   ]
  },
  {
   "cell_type": "code",
   "execution_count": 59,
   "metadata": {},
   "outputs": [],
   "source": [
    "chic2, p,dof,ef=stats.chi2_contingency(dt_cross, correction=False) # correction =False : p-value더 낮게 생성해줌 "
   ]
  },
  {
   "cell_type": "code",
   "execution_count": 60,
   "metadata": {},
   "outputs": [
    {
     "output_type": "execute_result",
     "data": {
      "text/plain": [
       "3.6838466075799517e-271"
      ]
     },
     "metadata": {},
     "execution_count": 60
    }
   ],
   "source": [
    "p"
   ]
  },
  {
   "source": [
    "### Result\n",
    "p-value=3.68*e-271<0.05이므로 귀무가설을 기각한다.  \n",
    "그러므로 cut과 price2는 서로 관련이 있다."
   ],
   "cell_type": "markdown",
   "metadata": {}
  },
  {
   "cell_type": "code",
   "execution_count": null,
   "metadata": {},
   "outputs": [],
   "source": []
  }
 ]
}